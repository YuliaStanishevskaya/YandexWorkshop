{
 "cells": [
  {
   "cell_type": "markdown",
   "id": "_E41Wr5fqnFT",
   "metadata": {
    "id": "_E41Wr5fqnFT"
   },
   "source": [
    "# Часть 1. Проверка гипотезы в Python и составление аналитической записки"
   ]
  },
  {
   "cell_type": "markdown",
   "id": "Z5_6nf-FrY7o",
   "metadata": {
    "id": "Z5_6nf-FrY7o"
   },
   "source": [
    "Вы предобработали данные в SQL, и теперь они готовы для проверки гипотезы в Python. Загрузите данные пользователей из Москвы и Санкт-Петербурга c суммой часов их активности из файла yandex_knigi_data.csv. Если работаете локально, скачать файл можно по ссылке.\n",
    "\n",
    "Проверьте наличие дубликатов в идентификаторах пользователей. Сравните размеры групп, их статистики и распределение.\n",
    "\n",
    "Напомним, как выглядит гипотеза: пользователи из Москвы проводят в среднем больше времени за чтением и прослушиванием книг в приложении, чем пользователи из Москвы. Попробуйте статистически это доказать, используя одностороннюю проверку гипотезы с двумя выборками:\n",
    "\n",
    "Нулевая гипотеза $H_0: \\mu_{\\text{СПб}} \\leq \\mu_{\\text{Москва}}$ <br> Среднее время активности пользователей в Санкт-Петербурге не больше, чем в Москве.\n",
    "\n",
    "Альтернативная гипотеза $H_1: \\mu_{\\text{СПб}} > \\mu_{\\text{Москва}}$ <br> Среднее время активности пользователей в Санкт-Петербурге больше, и это различие статистически значимо.\n",
    "\n",
    "По результатам анализа данных подготовьте аналитическую записку, в которой опишите:\n",
    "\n",
    "Выбранный тип t-теста и уровень статистической значимости.\n",
    "\n",
    "Результат теста, или p-value.\n",
    "\n",
    "Вывод на основе полученного p-value, то есть интерпретацию результатов.\n",
    "\n",
    "Одну или две возможные причины, объясняющие полученные результаты."
   ]
  },
  {
   "cell_type": "markdown",
   "id": "e06910dd",
   "metadata": {
    "id": "e06910dd"
   },
   "source": [
    "## Проверка гипотезы: кто читает чаще - жители Спб или Мск\n",
    "\n",
    "- Автор:Станишевская Ю.Л.\n",
    "- Дата:18.05.2025"
   ]
  },
  {
   "cell_type": "markdown",
   "id": "4149134c",
   "metadata": {
    "id": "4149134c"
   },
   "source": [
    "## Цели и задачи проекта\n",
    "\n"
   ]
  },
  {
   "cell_type": "markdown",
   "id": "6d21c607",
   "metadata": {},
   "source": [
    "**Цель:** Проверка статистической гипотезы о том, что жители СПБ чаще читают/слушают книги, чем жители Мск"
   ]
  },
  {
   "cell_type": "markdown",
   "id": "57a495dc",
   "metadata": {},
   "source": [
    "**Задачи:**\n",
    "- 1. Загрузка и предобработка данных\n",
    "- 2. Проанализировать распределение данных\n",
    "- 3. Проверить гипотезу\n",
    "- 4. Сформулировать аналитическую записку и сделать выводы.\n"
   ]
  },
  {
   "cell_type": "markdown",
   "id": "728986ea",
   "metadata": {
    "id": "728986ea"
   },
   "source": [
    "## Описание данных\n",
    "\n"
   ]
  },
  {
   "cell_type": "markdown",
   "id": "3258d013",
   "metadata": {},
   "source": [
    "**Данные**\n",
    "\n",
    "https://code.s3.yandex.net/datasets/ab_test_participants.csv — таблица участников тестов.\n",
    "\n",
    "\n",
    "Структура файла:\n",
    "\n",
    "- user_id — идентификатор пользователя;\n",
    "- group — группа пользователя;\n",
    "- ab_test — название теста;\n",
    "- device — устройство, с которого происходила регистрация.\n",
    "\n",
    "\n",
    "https://code.s3.yandex.net/datasets/ab_test_events.zip — архив с одним csv-файлом, в котором собраны события 2020 года;\n",
    "\n",
    "\n",
    "Структура файла:\n",
    "\n",
    "- user_id — идентификатор пользователя;\n",
    "- event_dt — дата и время события;\n",
    "- event_name — тип события;\n",
    "- details — дополнительные данные о событии.\n",
    "\n",
    "https://code.s3.yandex.net/datasets/yandex_knigi_data.csv - таблица с активностью пользователей из СПБ и Мск:\n",
    "\n",
    "Структура файла:\n",
    "\n",
    "- city - город\n",
    "- puid - идентификатор пользователя\n",
    "- hours - сумма часов проведенных за книгой (любой)"
   ]
  },
  {
   "cell_type": "markdown",
   "id": "4fecaf95",
   "metadata": {
    "id": "4fecaf95"
   },
   "source": [
    "\n"
   ]
  },
  {
   "cell_type": "markdown",
   "id": "e0324e3c",
   "metadata": {},
   "source": [
    "## Содержимое проекта\n",
    "\n",
    "* [1. Загрузка и знакомство с данными](#ch1)\n",
    "\n",
    "* [2. Подготовка данных](#ch2)\n",
    "\n",
    "* [3. Проверка гипотезы в Python](#ch3)\n",
    "\n",
    "* [4. Аналитическая записка](#ch4)\n",
    "\n",
    "* [5. Итоговый вывод и рекомендации](#ch5)\n",
    "\n",
    "* [6. Итоговый вывод и рекомендации](#ch6)"
   ]
  },
  {
   "cell_type": "markdown",
   "id": "6f7d21d6",
   "metadata": {
    "id": "6f7d21d6"
   },
   "source": [
    "<a class='anchor' id=\"ch1\"></a>\n",
    "\n",
    "## 1. Загрузка данных и знакомство с ними\n",
    "\n",
    "Загрузите данные пользователей из Москвы и Санкт-Петербурга c их активностью (суммой часов чтения и прослушивания) из файла `/datasets/yandex_knigi_data.csv`."
   ]
  },
  {
   "cell_type": "code",
   "execution_count": 1,
   "id": "05faf34b",
   "metadata": {
    "id": "05faf34b"
   },
   "outputs": [],
   "source": [
    "import pandas as pd\n",
    "import matplotlib.pyplot as plt\n",
    "import seaborn as sns\n",
    "from scipy import stats\n",
    "import numpy as np\n",
    "import os"
   ]
  },
  {
   "cell_type": "markdown",
   "id": "33e92da0",
   "metadata": {},
   "source": []
  },
  {
   "cell_type": "code",
   "execution_count": 2,
   "id": "1fa639c5",
   "metadata": {},
   "outputs": [],
   "source": [
    "pth1 = '/datasets/yandex_knigi_data.csv'\n",
    "pth2 = 'yandex_knigi_data.csv'\n",
    "\n",
    "if os.path.exists(pth1):\n",
    "    df = pd.read_csv(pth1)\n",
    "elif os.path.exists(pth2):\n",
    "    df = pd.read_csv(pth2)\n",
    "else:\n",
    "    print('Файл с данными не найден')"
   ]
  },
  {
   "cell_type": "code",
   "execution_count": 3,
   "id": "32eecce9",
   "metadata": {},
   "outputs": [
    {
     "data": {
      "text/html": [
       "<div>\n",
       "<style scoped>\n",
       "    .dataframe tbody tr th:only-of-type {\n",
       "        vertical-align: middle;\n",
       "    }\n",
       "\n",
       "    .dataframe tbody tr th {\n",
       "        vertical-align: top;\n",
       "    }\n",
       "\n",
       "    .dataframe thead th {\n",
       "        text-align: right;\n",
       "    }\n",
       "</style>\n",
       "<table border=\"1\" class=\"dataframe\">\n",
       "  <thead>\n",
       "    <tr style=\"text-align: right;\">\n",
       "      <th></th>\n",
       "      <th>Unnamed: 0</th>\n",
       "      <th>city</th>\n",
       "      <th>puid</th>\n",
       "      <th>hours</th>\n",
       "    </tr>\n",
       "  </thead>\n",
       "  <tbody>\n",
       "    <tr>\n",
       "      <th>0</th>\n",
       "      <td>0</td>\n",
       "      <td>Москва</td>\n",
       "      <td>9668</td>\n",
       "      <td>26.167776</td>\n",
       "    </tr>\n",
       "    <tr>\n",
       "      <th>1</th>\n",
       "      <td>1</td>\n",
       "      <td>Москва</td>\n",
       "      <td>16598</td>\n",
       "      <td>82.111217</td>\n",
       "    </tr>\n",
       "    <tr>\n",
       "      <th>2</th>\n",
       "      <td>2</td>\n",
       "      <td>Москва</td>\n",
       "      <td>80401</td>\n",
       "      <td>4.656906</td>\n",
       "    </tr>\n",
       "    <tr>\n",
       "      <th>3</th>\n",
       "      <td>3</td>\n",
       "      <td>Москва</td>\n",
       "      <td>140205</td>\n",
       "      <td>1.840556</td>\n",
       "    </tr>\n",
       "    <tr>\n",
       "      <th>4</th>\n",
       "      <td>4</td>\n",
       "      <td>Москва</td>\n",
       "      <td>248755</td>\n",
       "      <td>151.326434</td>\n",
       "    </tr>\n",
       "  </tbody>\n",
       "</table>\n",
       "</div>"
      ],
      "text/plain": [
       "   Unnamed: 0    city    puid       hours\n",
       "0           0  Москва    9668   26.167776\n",
       "1           1  Москва   16598   82.111217\n",
       "2           2  Москва   80401    4.656906\n",
       "3           3  Москва  140205    1.840556\n",
       "4           4  Москва  248755  151.326434"
      ]
     },
     "execution_count": 3,
     "metadata": {},
     "output_type": "execute_result"
    }
   ],
   "source": [
    "df.head()  # вывод первых строк для проверки"
   ]
  },
  {
   "cell_type": "code",
   "execution_count": 4,
   "id": "f68a7419",
   "metadata": {
    "id": "f68a7419"
   },
   "outputs": [
    {
     "name": "stdout",
     "output_type": "stream",
     "text": [
      "<class 'pandas.core.frame.DataFrame'>\n",
      "RangeIndex: 8784 entries, 0 to 8783\n",
      "Data columns (total 4 columns):\n",
      " #   Column      Non-Null Count  Dtype  \n",
      "---  ------      --------------  -----  \n",
      " 0   Unnamed: 0  8784 non-null   int64  \n",
      " 1   city        8784 non-null   object \n",
      " 2   puid        8784 non-null   int64  \n",
      " 3   hours       8784 non-null   float64\n",
      "dtypes: float64(1), int64(2), object(1)\n",
      "memory usage: 274.6+ KB\n"
     ]
    }
   ],
   "source": [
    "df.info()  # проверка типов и пропусков"
   ]
  },
  {
   "cell_type": "code",
   "execution_count": 5,
   "id": "47c35780",
   "metadata": {
    "scrolled": true
   },
   "outputs": [
    {
     "name": "stdout",
     "output_type": "stream",
     "text": [
      "Количество уникальных дубликатов (puid): 244\n",
      "Общее количество дубликатов (всех записей): 488\n"
     ]
    }
   ],
   "source": [
    "# Проверка дубликатов\n",
    "duplicates = df[df.duplicated(subset=['puid'], keep=False)]  # все дубликаты (не только первые/последние)\n",
    "unique_duplicates_count = duplicates['puid'].nunique()  # количество уникальных дублируемых ID\n",
    "total_duplicates_count = duplicates.shape[0]  # общее количество дубликатов (всех записей)\n",
    "\n",
    "print(f\"Количество уникальных дубликатов (puid): {unique_duplicates_count}\")\n",
    "print(f\"Общее количество дубликатов (всех записей): {total_duplicates_count}\")"
   ]
  },
  {
   "cell_type": "code",
   "execution_count": 6,
   "id": "99de7b6e",
   "metadata": {},
   "outputs": [
    {
     "data": {
      "text/plain": [
       "Санкт-Петербург    244\n",
       "Москва             244\n",
       "Name: city, dtype: int64"
      ]
     },
     "execution_count": 6,
     "metadata": {},
     "output_type": "execute_result"
    }
   ],
   "source": [
    "duplicates['city'].value_counts()"
   ]
  },
  {
   "cell_type": "code",
   "execution_count": 7,
   "id": "6b54c87b",
   "metadata": {},
   "outputs": [
    {
     "data": {
      "text/html": [
       "<div>\n",
       "<style scoped>\n",
       "    .dataframe tbody tr th:only-of-type {\n",
       "        vertical-align: middle;\n",
       "    }\n",
       "\n",
       "    .dataframe tbody tr th {\n",
       "        vertical-align: top;\n",
       "    }\n",
       "\n",
       "    .dataframe thead th {\n",
       "        text-align: right;\n",
       "    }\n",
       "</style>\n",
       "<table border=\"1\" class=\"dataframe\">\n",
       "  <thead>\n",
       "    <tr style=\"text-align: right;\">\n",
       "      <th></th>\n",
       "      <th>Unnamed: 0</th>\n",
       "      <th>city</th>\n",
       "      <th>puid</th>\n",
       "      <th>hours</th>\n",
       "    </tr>\n",
       "  </thead>\n",
       "  <tbody>\n",
       "  </tbody>\n",
       "</table>\n",
       "</div>"
      ],
      "text/plain": [
       "Empty DataFrame\n",
       "Columns: [Unnamed: 0, city, puid, hours]\n",
       "Index: []"
      ]
     },
     "execution_count": 7,
     "metadata": {},
     "output_type": "execute_result"
    }
   ],
   "source": [
    "df[df.duplicated(keep=False)]"
   ]
  },
  {
   "cell_type": "code",
   "execution_count": 8,
   "id": "03e914fe",
   "metadata": {},
   "outputs": [
    {
     "data": {
      "text/plain": [
       "Москва             6234\n",
       "Санкт-Петербург    2550\n",
       "Name: city, dtype: int64"
      ]
     },
     "execution_count": 8,
     "metadata": {},
     "output_type": "execute_result"
    }
   ],
   "source": [
    "df['city'].value_counts() #проверка имеются ли в данных другие города и какое распределение по выборкам"
   ]
  },
  {
   "cell_type": "code",
   "execution_count": 9,
   "id": "33d8afd7",
   "metadata": {},
   "outputs": [
    {
     "data": {
      "text/html": [
       "<div>\n",
       "<style scoped>\n",
       "    .dataframe tbody tr th:only-of-type {\n",
       "        vertical-align: middle;\n",
       "    }\n",
       "\n",
       "    .dataframe tbody tr th {\n",
       "        vertical-align: top;\n",
       "    }\n",
       "\n",
       "    .dataframe thead th {\n",
       "        text-align: right;\n",
       "    }\n",
       "</style>\n",
       "<table border=\"1\" class=\"dataframe\">\n",
       "  <thead>\n",
       "    <tr style=\"text-align: right;\">\n",
       "      <th></th>\n",
       "      <th>count</th>\n",
       "      <th>mean</th>\n",
       "      <th>std</th>\n",
       "      <th>min</th>\n",
       "      <th>25%</th>\n",
       "      <th>50%</th>\n",
       "      <th>75%</th>\n",
       "      <th>max</th>\n",
       "    </tr>\n",
       "    <tr>\n",
       "      <th>city</th>\n",
       "      <th></th>\n",
       "      <th></th>\n",
       "      <th></th>\n",
       "      <th></th>\n",
       "      <th></th>\n",
       "      <th></th>\n",
       "      <th></th>\n",
       "      <th></th>\n",
       "    </tr>\n",
       "  </thead>\n",
       "  <tbody>\n",
       "    <tr>\n",
       "      <th>Москва</th>\n",
       "      <td>6234.0</td>\n",
       "      <td>10.881092</td>\n",
       "      <td>36.851683</td>\n",
       "      <td>0.000018</td>\n",
       "      <td>0.059903</td>\n",
       "      <td>0.924498</td>\n",
       "      <td>5.939972</td>\n",
       "      <td>857.209373</td>\n",
       "    </tr>\n",
       "    <tr>\n",
       "      <th>Санкт-Петербург</th>\n",
       "      <td>2550.0</td>\n",
       "      <td>11.592691</td>\n",
       "      <td>39.704993</td>\n",
       "      <td>0.000025</td>\n",
       "      <td>0.080002</td>\n",
       "      <td>0.984781</td>\n",
       "      <td>6.509072</td>\n",
       "      <td>978.764775</td>\n",
       "    </tr>\n",
       "  </tbody>\n",
       "</table>\n",
       "</div>"
      ],
      "text/plain": [
       "                  count       mean        std       min       25%       50%  \\\n",
       "city                                                                          \n",
       "Москва           6234.0  10.881092  36.851683  0.000018  0.059903  0.924498   \n",
       "Санкт-Петербург  2550.0  11.592691  39.704993  0.000025  0.080002  0.984781   \n",
       "\n",
       "                      75%         max  \n",
       "city                                   \n",
       "Москва           5.939972  857.209373  \n",
       "Санкт-Петербург  6.509072  978.764775  "
      ]
     },
     "execution_count": 9,
     "metadata": {},
     "output_type": "execute_result"
    }
   ],
   "source": [
    "df.groupby('city')['hours'].describe() #проверка как распределяется значение времени по городам"
   ]
  },
  {
   "cell_type": "code",
   "execution_count": 10,
   "id": "ee49a059",
   "metadata": {},
   "outputs": [
    {
     "data": {
      "image/png": "[encoded data removed]",
      "text/plain": [
       "<Figure size 720x1080 with 1 Axes>"
      ]
     },
     "metadata": {
      "needs_background": "light"
     },
     "output_type": "display_data"
    }
   ],
   "source": [
    "plt.figure(figsize=(10, 15))\n",
    "sns.boxplot(x='city', y='hours', data=df)\n",
    "plt.title('Распределение времени активности по городам')\n",
    "plt.show()"
   ]
  },
  {
   "cell_type": "code",
   "execution_count": 11,
   "id": "9f3da42c",
   "metadata": {},
   "outputs": [
    {
     "data": {
      "image/png": "[encoded data removed]",
      "text/plain": [
       "<Figure size 864x432 with 1 Axes>"
      ]
     },
     "metadata": {},
     "output_type": "display_data"
    }
   ],
   "source": [
    "\n",
    "sns.set(style=\"whitegrid\", palette=\"pastel\")\n",
    "plt.figure(figsize=(12, 6))\n",
    "\n",
    "sns.histplot(\n",
    "    data=df,\n",
    "    x='hours',\n",
    "    hue='city',\n",
    "#    kde=True,          # Добавить KDE-линию\n",
    "    element=\"step\",     # Четкие границы столбцов\n",
    "#    stat=\"density\",     # Нормировка по плотности\n",
    "#    common_norm=False,  # Разные шкалы для городов\n",
    "    alpha=0.5,         # Прозрачность\n",
    "    bins=1000            # Число бинов\n",
    ")\n",
    "\n",
    "plt.xlim(0, 50)  \n",
    "plt.title('Распределение времени активности пользователей по городам', fontsize=14)\n",
    "plt.xlabel('Суммарное время активности (часы)', fontsize=12)\n",
    "plt.ylabel('Плотность распределения', fontsize=12)\n",
    "plt.legend(title='Город', labels=['Москва', 'Санкт-Петербург'])\n",
    "\n",
    "\n",
    "plt.show()"
   ]
  },
  {
   "cell_type": "markdown",
   "id": "d5b20d53",
   "metadata": {},
   "source": [
    "**Вывод по главе**\n",
    "\n",
    "Размер выборок в Мск и Спб сильно отличается - 6234 против 2550. Пользователей из Москвы больше более чем в 2 раза. Также в данных встречаются дубликаты по id пользователя - 244 штуки (это пользователи что встречаются в выборке и по Мск и по СПБ) - это довольно значительное количество человек для выборки Спб. По правилу A/B тестов выборки не должны пересекаться, а также должны быть примерно одинакового размера. поэтому хорошо бы почистить данные перед тестированием.\n",
    "\n",
    "Несмотря на отличие в выборках, распределение активности пользователей по городам схожи - оба имеют резко левостороннее смещение. Медианы у данных проктически схожи - МСК (0.924498 ч), СПБ(0.984781 ч). Нижние границы основного разброса данных (25 персентиль), также не сильно отличаются - 0.06ч против 0.08ч, а вот верхние (75 персентиль) отличаются значительно - 5.939972 против 6.509072 (практически пол часа).\n",
    "\n",
    "Ну и важно отметить, что распределения по обеим выборкам не нормальное."
   ]
  },
  {
   "cell_type": "markdown",
   "id": "5f2d6e68",
   "metadata": {},
   "source": [
    "<a class='anchor' id=\"ch2\"></a>\n",
    "## 2. Подготовка данных к  A/B-тесту"
   ]
  },
  {
   "cell_type": "code",
   "execution_count": 12,
   "id": "89061871",
   "metadata": {},
   "outputs": [
    {
     "data": {
      "text/html": [
       "<div>\n",
       "<style scoped>\n",
       "    .dataframe tbody tr th:only-of-type {\n",
       "        vertical-align: middle;\n",
       "    }\n",
       "\n",
       "    .dataframe tbody tr th {\n",
       "        vertical-align: top;\n",
       "    }\n",
       "\n",
       "    .dataframe thead th {\n",
       "        text-align: right;\n",
       "    }\n",
       "</style>\n",
       "<table border=\"1\" class=\"dataframe\">\n",
       "  <thead>\n",
       "    <tr style=\"text-align: right;\">\n",
       "      <th></th>\n",
       "      <th>Unnamed: 0</th>\n",
       "      <th>city</th>\n",
       "      <th>puid</th>\n",
       "      <th>hours</th>\n",
       "    </tr>\n",
       "  </thead>\n",
       "  <tbody>\n",
       "    <tr>\n",
       "      <th>0</th>\n",
       "      <td>0</td>\n",
       "      <td>Москва</td>\n",
       "      <td>9668</td>\n",
       "      <td>26.167776</td>\n",
       "    </tr>\n",
       "    <tr>\n",
       "      <th>1</th>\n",
       "      <td>1</td>\n",
       "      <td>Москва</td>\n",
       "      <td>16598</td>\n",
       "      <td>82.111217</td>\n",
       "    </tr>\n",
       "    <tr>\n",
       "      <th>2</th>\n",
       "      <td>2</td>\n",
       "      <td>Москва</td>\n",
       "      <td>80401</td>\n",
       "      <td>4.656906</td>\n",
       "    </tr>\n",
       "    <tr>\n",
       "      <th>3</th>\n",
       "      <td>3</td>\n",
       "      <td>Москва</td>\n",
       "      <td>140205</td>\n",
       "      <td>1.840556</td>\n",
       "    </tr>\n",
       "    <tr>\n",
       "      <th>4</th>\n",
       "      <td>4</td>\n",
       "      <td>Москва</td>\n",
       "      <td>248755</td>\n",
       "      <td>151.326434</td>\n",
       "    </tr>\n",
       "    <tr>\n",
       "      <th>...</th>\n",
       "      <td>...</td>\n",
       "      <td>...</td>\n",
       "      <td>...</td>\n",
       "      <td>...</td>\n",
       "    </tr>\n",
       "    <tr>\n",
       "      <th>8778</th>\n",
       "      <td>8778</td>\n",
       "      <td>Санкт-Петербург</td>\n",
       "      <td>1130000027468068</td>\n",
       "      <td>5.879444</td>\n",
       "    </tr>\n",
       "    <tr>\n",
       "      <th>8780</th>\n",
       "      <td>8780</td>\n",
       "      <td>Санкт-Петербург</td>\n",
       "      <td>1130000030307246</td>\n",
       "      <td>45.069222</td>\n",
       "    </tr>\n",
       "    <tr>\n",
       "      <th>8781</th>\n",
       "      <td>8781</td>\n",
       "      <td>Санкт-Петербург</td>\n",
       "      <td>1130000038726322</td>\n",
       "      <td>0.211944</td>\n",
       "    </tr>\n",
       "    <tr>\n",
       "      <th>8782</th>\n",
       "      <td>8782</td>\n",
       "      <td>Санкт-Петербург</td>\n",
       "      <td>1130000047892100</td>\n",
       "      <td>4.311841</td>\n",
       "    </tr>\n",
       "    <tr>\n",
       "      <th>8783</th>\n",
       "      <td>8783</td>\n",
       "      <td>Санкт-Петербург</td>\n",
       "      <td>1130000061443598</td>\n",
       "      <td>20.847222</td>\n",
       "    </tr>\n",
       "  </tbody>\n",
       "</table>\n",
       "<p>8296 rows × 4 columns</p>\n",
       "</div>"
      ],
      "text/plain": [
       "      Unnamed: 0             city              puid       hours\n",
       "0              0           Москва              9668   26.167776\n",
       "1              1           Москва             16598   82.111217\n",
       "2              2           Москва             80401    4.656906\n",
       "3              3           Москва            140205    1.840556\n",
       "4              4           Москва            248755  151.326434\n",
       "...          ...              ...               ...         ...\n",
       "8778        8778  Санкт-Петербург  1130000027468068    5.879444\n",
       "8780        8780  Санкт-Петербург  1130000030307246   45.069222\n",
       "8781        8781  Санкт-Петербург  1130000038726322    0.211944\n",
       "8782        8782  Санкт-Петербург  1130000047892100    4.311841\n",
       "8783        8783  Санкт-Петербург  1130000061443598   20.847222\n",
       "\n",
       "[8296 rows x 4 columns]"
      ]
     },
     "execution_count": 12,
     "metadata": {},
     "output_type": "execute_result"
    }
   ],
   "source": [
    "df_clean = df.drop_duplicates(subset=['puid'], keep=False)\n",
    "df_clean"
   ]
  },
  {
   "cell_type": "code",
   "execution_count": 13,
   "id": "4e28afa3",
   "metadata": {},
   "outputs": [
    {
     "name": "stdout",
     "output_type": "stream",
     "text": [
      "Исходное распределение:\n",
      "Москва             5990\n",
      "Санкт-Петербург    2306\n",
      "Name: city, dtype: int64\n"
     ]
    },
    {
     "data": {
      "text/html": [
       "<div>\n",
       "<style scoped>\n",
       "    .dataframe tbody tr th:only-of-type {\n",
       "        vertical-align: middle;\n",
       "    }\n",
       "\n",
       "    .dataframe tbody tr th {\n",
       "        vertical-align: top;\n",
       "    }\n",
       "\n",
       "    .dataframe thead th {\n",
       "        text-align: right;\n",
       "    }\n",
       "</style>\n",
       "<table border=\"1\" class=\"dataframe\">\n",
       "  <thead>\n",
       "    <tr style=\"text-align: right;\">\n",
       "      <th></th>\n",
       "      <th>Unnamed: 0</th>\n",
       "      <th>city</th>\n",
       "      <th>puid</th>\n",
       "      <th>hours</th>\n",
       "    </tr>\n",
       "  </thead>\n",
       "  <tbody>\n",
       "    <tr>\n",
       "      <th>0</th>\n",
       "      <td>0</td>\n",
       "      <td>Москва</td>\n",
       "      <td>9668</td>\n",
       "      <td>26.167776</td>\n",
       "    </tr>\n",
       "    <tr>\n",
       "      <th>1</th>\n",
       "      <td>1</td>\n",
       "      <td>Москва</td>\n",
       "      <td>16598</td>\n",
       "      <td>82.111217</td>\n",
       "    </tr>\n",
       "    <tr>\n",
       "      <th>8</th>\n",
       "      <td>8</td>\n",
       "      <td>Москва</td>\n",
       "      <td>647235</td>\n",
       "      <td>12.000076</td>\n",
       "    </tr>\n",
       "    <tr>\n",
       "      <th>10</th>\n",
       "      <td>10</td>\n",
       "      <td>Москва</td>\n",
       "      <td>778279</td>\n",
       "      <td>3.613502</td>\n",
       "    </tr>\n",
       "    <tr>\n",
       "      <th>11</th>\n",
       "      <td>11</td>\n",
       "      <td>Москва</td>\n",
       "      <td>842936</td>\n",
       "      <td>0.008611</td>\n",
       "    </tr>\n",
       "    <tr>\n",
       "      <th>...</th>\n",
       "      <td>...</td>\n",
       "      <td>...</td>\n",
       "      <td>...</td>\n",
       "      <td>...</td>\n",
       "    </tr>\n",
       "    <tr>\n",
       "      <th>8778</th>\n",
       "      <td>8778</td>\n",
       "      <td>Санкт-Петербург</td>\n",
       "      <td>1130000027468068</td>\n",
       "      <td>5.879444</td>\n",
       "    </tr>\n",
       "    <tr>\n",
       "      <th>8780</th>\n",
       "      <td>8780</td>\n",
       "      <td>Санкт-Петербург</td>\n",
       "      <td>1130000030307246</td>\n",
       "      <td>45.069222</td>\n",
       "    </tr>\n",
       "    <tr>\n",
       "      <th>8781</th>\n",
       "      <td>8781</td>\n",
       "      <td>Санкт-Петербург</td>\n",
       "      <td>1130000038726322</td>\n",
       "      <td>0.211944</td>\n",
       "    </tr>\n",
       "    <tr>\n",
       "      <th>8782</th>\n",
       "      <td>8782</td>\n",
       "      <td>Санкт-Петербург</td>\n",
       "      <td>1130000047892100</td>\n",
       "      <td>4.311841</td>\n",
       "    </tr>\n",
       "    <tr>\n",
       "      <th>8783</th>\n",
       "      <td>8783</td>\n",
       "      <td>Санкт-Петербург</td>\n",
       "      <td>1130000061443598</td>\n",
       "      <td>20.847222</td>\n",
       "    </tr>\n",
       "  </tbody>\n",
       "</table>\n",
       "<p>4612 rows × 4 columns</p>\n",
       "</div>"
      ],
      "text/plain": [
       "      Unnamed: 0             city              puid      hours\n",
       "0              0           Москва              9668  26.167776\n",
       "1              1           Москва             16598  82.111217\n",
       "8              8           Москва            647235  12.000076\n",
       "10            10           Москва            778279   3.613502\n",
       "11            11           Москва            842936   0.008611\n",
       "...          ...              ...               ...        ...\n",
       "8778        8778  Санкт-Петербург  1130000027468068   5.879444\n",
       "8780        8780  Санкт-Петербург  1130000030307246  45.069222\n",
       "8781        8781  Санкт-Петербург  1130000038726322   0.211944\n",
       "8782        8782  Санкт-Петербург  1130000047892100   4.311841\n",
       "8783        8783  Санкт-Петербург  1130000061443598  20.847222\n",
       "\n",
       "[4612 rows x 4 columns]"
      ]
     },
     "execution_count": 13,
     "metadata": {},
     "output_type": "execute_result"
    }
   ],
   "source": [
    "city_counts = df_clean['city'].value_counts()\n",
    "print(\"Исходное распределение:\")\n",
    "print(city_counts)\n",
    "\n",
    "# Определяем город с меньшим количеством записей (целевой размер)\n",
    "target_size = min(city_counts)\n",
    "major_city = city_counts.idxmax()  # город, который нужно уменьшить\n",
    "\n",
    "if city_counts[major_city] > target_size:\n",
    "    # Получаем индексы записей основного города\n",
    "    major_city_indices = df_clean[df_clean['city'] == major_city].index\n",
    "    \n",
    "    # Случайно выбираем записи для удаления\n",
    "    rng = np.random.default_rng(42)  # для воспроизводимости\n",
    "    indices_to_drop = rng.choice(\n",
    "        major_city_indices, \n",
    "        size=len(major_city_indices) - target_size,\n",
    "        replace=False\n",
    "    )\n",
    "    \n",
    "    # Удаляем выбранные строки\n",
    "    df_balanced = df_clean.drop(indices_to_drop)\n",
    "else:\n",
    "    df_balanced = df_clean.copy()\n",
    "df_balanced"
   ]
  },
  {
   "cell_type": "code",
   "execution_count": 14,
   "id": "6e43465d",
   "metadata": {},
   "outputs": [
    {
     "data": {
      "image/png": "[encoded data removed]",
      "text/plain": [
       "<Figure size 864x432 with 1 Axes>"
      ]
     },
     "metadata": {},
     "output_type": "display_data"
    }
   ],
   "source": [
    "\n",
    "sns.set(style=\"whitegrid\", palette=\"pastel\")\n",
    "plt.figure(figsize=(12, 6))\n",
    "\n",
    "sns.histplot(\n",
    "    data=df_balanced,\n",
    "    x='hours',\n",
    "    hue='city',\n",
    "#    kde=True,          # Добавить KDE-линию\n",
    "    element=\"step\",     # Четкие границы столбцов\n",
    "#    stat=\"density\",     # Нормировка по плотности\n",
    "#    common_norm=False,  # Разные шкалы для городов\n",
    "    alpha=0.5,         # Прозрачность\n",
    "    bins=1000            # Число бинов\n",
    ")\n",
    "\n",
    "plt.xlim(0, 50)  \n",
    "plt.title('Распределение времени активности пользователей по городам', fontsize=14)\n",
    "plt.xlabel('Суммарное время активности (часы)', fontsize=12)\n",
    "plt.ylabel('Плотность распределения', fontsize=12)\n",
    "plt.legend(title='Город', labels=['Москва', 'Санкт-Петербург'])\n",
    "\n",
    "\n",
    "plt.show()"
   ]
  },
  {
   "cell_type": "markdown",
   "id": "270fb504",
   "metadata": {},
   "source": [
    "Выводы по главе:\n",
    "\n",
    "Данные исходные были отфильтрованы:\n",
    "-удалены дубликаты, оказалось что имеются пользователи, состоящие в 2х группах одновременно. От таких тестируемых надо избавиться т.к. они видели оба тестируемых варианта, следовательно могут исказить результаты теста.\n",
    "-группы приведены в равновесное состояние, путем рандомного удаления из наибольшей группы участников.\n",
    "-построены гистограммы распределения времени активности в обеих группах. Гистограмма имеет ненормальное распределение, она бимодальна и ассиметрична (вытянута вправо)"
   ]
  },
  {
   "cell_type": "markdown",
   "id": "956e82e2",
   "metadata": {
    "id": "956e82e2"
   },
   "source": [
    "<a class='anchor' id=\"ch3\"></a>\n",
    "## 3. Проверка гипотезы в Python\n",
    "\n",
    "Гипотеза звучит так: пользователи из Санкт-Петербурга проводят в среднем больше времени за чтением и прослушиванием книг в приложении, чем пользователи из Москвы. Попробуйте статистически это доказать, используя одностороннюю проверку гипотезы с двумя выборками:\n",
    "\n",
    "- Нулевая гипотеза H₀: Средняя активность пользователей в часах в двух группах (Москва и Санкт-Петербург) не различается.\n",
    "\n",
    "- Альтернативная гипотеза H₁: Средняя активность пользователей в Санкт-Петербурге больше, и это различие статистически значимо."
   ]
  },
  {
   "cell_type": "code",
   "execution_count": 15,
   "id": "67956690",
   "metadata": {
    "id": "67956690"
   },
   "outputs": [
    {
     "name": "stdout",
     "output_type": "stream",
     "text": [
      "Москва (n=2306): Медиана = 0.9 ч\n",
      "СПб (n=2306): Медиана = 0.9 ч\n"
     ]
    }
   ],
   "source": [
    "\n",
    "moscow = df_balanced[df_balanced['city'] == 'Москва']['hours']\n",
    "spb = df_balanced[df_balanced['city'] == 'Санкт-Петербург']['hours']\n",
    "\n",
    "print(f\"Москва (n={len(moscow)}): Медиана = {moscow.median():.1f} ч\")\n",
    "print(f\"СПб (n={len(spb)}): Медиана = {spb.median():.1f} ч\")"
   ]
  },
  {
   "cell_type": "code",
   "execution_count": 16,
   "id": "86ff94f8",
   "metadata": {},
   "outputs": [
    {
     "name": "stdout",
     "output_type": "stream",
     "text": [
      "Москва (нормальность): p = 0.0\n",
      "СПб (нормальность): p = 0.0\n"
     ]
    }
   ],
   "source": [
    "\n",
    "print(\"Москва (нормальность): p =\", stats.shapiro(moscow)[1])  # >0.05?\n",
    "print(\"СПб (нормальность): p =\", stats.shapiro(spb)[1])        # >0.05?"
   ]
  },
  {
   "cell_type": "code",
   "execution_count": 17,
   "id": "d318f3c9",
   "metadata": {},
   "outputs": [
    {
     "name": "stdout",
     "output_type": "stream",
     "text": [
      "U-тест: p-value = 0.6102\n"
     ]
    }
   ],
   "source": [
    "# U-тест Манна-Уитни (односторонний)\n",
    "u_stat, p_value = stats.mannwhitneyu(spb, moscow, alternative='greater')\n",
    "print(f\"U-тест: p-value = {p_value:.4f}\")"
   ]
  },
  {
   "cell_type": "markdown",
   "id": "3a082075",
   "metadata": {},
   "source": [
    "Вывод по разделу\n",
    "\n",
    "Тип выбранного теста - U-тест Манна-Уитни (непараметрический аналог t-теста). Данный тест был выбран т.к. тест Шапиро-Уилка показал p = 0.0 для обеих групп (p < 0.05), что отвергает гипотезу о нормальности распределения, поэтому и параметрический t-тест неприменим.\n",
    "Выборки сбалансированны (равенство депрессий), выборки имеют не нормальное распределение. Нет оснований отвергать нулевую гипотезу, т.к. p-value больше 0.05."
   ]
  },
  {
   "cell_type": "markdown",
   "id": "6953e84c",
   "metadata": {
    "id": "6953e84c"
   },
   "source": [
    "<a class='anchor' id=\"ch4\"></a>\n",
    "## 4. Аналитическая записка\n",
    "По результатам анализа данных подготовьте аналитическую записку, в которой опишете:\n",
    "\n",
    "- Выбранный тип t-теста и уровень статистической значимости.\n",
    "\n",
    "- Результат теста, или p-value.\n",
    "\n",
    "- Вывод на основе полученного p-value, то есть интерпретацию результатов.\n",
    "\n",
    "- Одну или две возможные причины, объясняющие полученные результаты.\n",
    "\n"
   ]
  },
  {
   "cell_type": "markdown",
   "id": "51764b80",
   "metadata": {},
   "source": [
    "Перед проведением теста выборки были сбалансированны - удалены дубликаты из обоих выборок, а также выборки были приведены к одной размерности путем удаления рандомных пользователей из наибольшей группы.\n",
    "Для теста был выбран стандарнтный уровень значимости - 0.05\n",
    "Тип выбранного теста - U-тест Манна-Уитни (непараметрический аналог t-теста). Данный тест был выбран т.к. тест Шапиро-Уилка показал p = 0.0 для обеих групп (p < 0.05), что отвергает гипотезу о нормальности распределения, поэтому и параметрический t-тест неприменим.\n",
    "\n",
    "Результат теста :\n",
    "p-value=0.6102 -> Различия между группами статистически не значимы (p > 0.05)\n",
    "Медианное время активности одинаково в обеих группах (0.9 часа).\n",
    "\n",
    "Нулевая гипотеза не отвергается -> Нет статистически значимых доказательств, что пользователи из Санкт-Петербурга проводят больше времени в приложении, чем пользователи из Москвы.\n"
   ]
  },
  {
   "cell_type": "markdown",
   "id": "78c84fe0",
   "metadata": {},
   "source": [
    "<a class='anchor' id=\"ch5\"></a>\n",
    "## 5. Итоговый вывод и рекомендации"
   ]
  },
  {
   "cell_type": "markdown",
   "id": "6079a949",
   "metadata": {},
   "source": [
    "На текущих данных гипотеза не подтвердилась. Для более глубоких выводов требуется расширить анализ.\n",
    "\n",
    "Причины:\n",
    "- Использование одинаковых приложений \n",
    "- \"замыливание\" результатов из-за отсутствия детализации \n",
    "\n",
    "Рекомендации:\n",
    "- Возможно, стоит дополнительно разбивать пользователей по возрасту и/или по контенту\n",
    "- Думаю, можно также сегментировать пользователей по наличию/отсутствия подписок в приложениях\n"
   ]
  },
  {
   "cell_type": "markdown",
   "id": "hc1d6jVISegz",
   "metadata": {
    "id": "hc1d6jVISegz"
   },
   "source": [
    "----"
   ]
  },
  {
   "cell_type": "markdown",
   "id": "NqOUIYhbrIfC",
   "metadata": {
    "id": "NqOUIYhbrIfC"
   },
   "source": [
    "# Часть 2. Анализ результатов A/B-тестирования"
   ]
  },
  {
   "cell_type": "markdown",
   "id": "tDwMKFNGsClr",
   "metadata": {
    "id": "tDwMKFNGsClr"
   },
   "source": [
    "Теперь вам нужно проанализировать другие данные. Представьте, что к вам обратились представители интернет-магазина BitMotion Kit, в котором продаются геймифицированные товары для тех, кто ведёт здоровый образ жизни. У него есть своя целевая аудитория, даже появились хиты продаж: эспандер со счётчиком и напоминанием, так и подстольный велотренажёр с Bluetooth.\n",
    "\n",
    "В будущем компания хочет расширить ассортимент товаров. Но перед этим нужно решить одну проблему. Интерфейс онлайн-магазина слишком сложен для пользователей — об этом говорят отзывы.\n",
    "\n",
    "Чтобы привлечь новых клиентов и увеличить число продаж, владельцы магазина разработали новую версию сайта и протестировали его на части пользователей. По задумке, это решение доказуемо повысит количество пользователей, которые совершат покупку.\n",
    "\n",
    "Ваша задача — провести оценку результатов A/B-теста. В вашем распоряжении:\n",
    "\n",
    "* данные о действиях пользователей и распределении их на группы,\n",
    "\n",
    "* техническое задание.\n",
    "\n",
    "Оцените корректность проведения теста и проанализируйте его результаты."
   ]
  },
  {
   "cell_type": "markdown",
   "id": "UNXAAyF5r9Rk",
   "metadata": {
    "id": "UNXAAyF5r9Rk"
   },
   "source": [
    "## 1. Опишите цели исследования.\n",
    "\n"
   ]
  },
  {
   "cell_type": "markdown",
   "id": "kHx-51yES8bd",
   "metadata": {
    "id": "kHx-51yES8bd"
   },
   "source": [
    "**Цели исследования**\n",
    "\n",
    "- Оценить, увеличивает ли новая версия сайта конверсию в покупки по сравнению со старой версией.\n",
    "- Проверить корректность проведения теста (равномерность распределения, отсутствие пересечений).\n",
    "- Определить, есть ли статистически значимые различия между группами.\n",
    "- Выявить потенциальные проблемы в данных.\n",
    "\n"
   ]
  },
  {
   "cell_type": "markdown",
   "id": "_CZryx2OsH-s",
   "metadata": {
    "id": "_CZryx2OsH-s"
   },
   "source": [
    "## 2. Загрузите данные, оцените их целостность.\n"
   ]
  },
  {
   "cell_type": "code",
   "execution_count": 18,
   "id": "DjFcJbeGsTIg",
   "metadata": {
    "id": "DjFcJbeGsTIg"
   },
   "outputs": [],
   "source": [
    "participants = pd.read_csv('https://code.s3.yandex.net/datasets/ab_test_participants.csv')\n",
    "events = pd.read_csv('https://code.s3.yandex.net/datasets/ab_test_events.zip',\n",
    "                     parse_dates=['event_dt'], low_memory=False)"
   ]
  },
  {
   "cell_type": "code",
   "execution_count": 19,
   "id": "9dad9438",
   "metadata": {},
   "outputs": [
    {
     "name": "stdout",
     "output_type": "stream",
     "text": [
      "Участники теста:\n",
      "            user_id group                  ab_test   device\n",
      "0  0002CE61FF2C4011     B        interface_eu_test      Mac\n",
      "1  001064FEAAB631A1     B  recommender_system_test  Android\n",
      "2  001064FEAAB631A1     A        interface_eu_test  Android\n",
      "3  0010A1C096941592     A  recommender_system_test  Android\n",
      "4  001E72F50D1C48FA     A        interface_eu_test      Mac\n"
     ]
    }
   ],
   "source": [
    "print(\"Участники теста:\")\n",
    "print(participants.head())\n"
   ]
  },
  {
   "cell_type": "code",
   "execution_count": 20,
   "id": "0d8c2ce2",
   "metadata": {},
   "outputs": [
    {
     "name": "stdout",
     "output_type": "stream",
     "text": [
      "<class 'pandas.core.frame.DataFrame'>\n",
      "RangeIndex: 14525 entries, 0 to 14524\n",
      "Data columns (total 4 columns):\n",
      " #   Column   Non-Null Count  Dtype \n",
      "---  ------   --------------  ----- \n",
      " 0   user_id  14525 non-null  object\n",
      " 1   group    14525 non-null  object\n",
      " 2   ab_test  14525 non-null  object\n",
      " 3   device   14525 non-null  object\n",
      "dtypes: object(4)\n",
      "memory usage: 454.0+ KB\n",
      "Уникальных пользователей: 13638\n"
     ]
    }
   ],
   "source": [
    "participants.info()  # Проверка на пропуски и типы данных\n",
    "print(\"Уникальных пользователей:\", participants['user_id'].nunique())"
   ]
  },
  {
   "cell_type": "code",
   "execution_count": 21,
   "id": "df89bd0f",
   "metadata": {},
   "outputs": [
    {
     "data": {
      "text/html": [
       "<div>\n",
       "<style scoped>\n",
       "    .dataframe tbody tr th:only-of-type {\n",
       "        vertical-align: middle;\n",
       "    }\n",
       "\n",
       "    .dataframe tbody tr th {\n",
       "        vertical-align: top;\n",
       "    }\n",
       "\n",
       "    .dataframe thead th {\n",
       "        text-align: right;\n",
       "    }\n",
       "</style>\n",
       "<table border=\"1\" class=\"dataframe\">\n",
       "  <thead>\n",
       "    <tr style=\"text-align: right;\">\n",
       "      <th></th>\n",
       "      <th>user_id</th>\n",
       "      <th>group</th>\n",
       "      <th>ab_test</th>\n",
       "      <th>device</th>\n",
       "    </tr>\n",
       "  </thead>\n",
       "  <tbody>\n",
       "    <tr>\n",
       "      <th>0</th>\n",
       "      <td>0002CE61FF2C4011</td>\n",
       "      <td>B</td>\n",
       "      <td>interface_eu_test</td>\n",
       "      <td>Mac</td>\n",
       "    </tr>\n",
       "    <tr>\n",
       "      <th>3</th>\n",
       "      <td>0010A1C096941592</td>\n",
       "      <td>A</td>\n",
       "      <td>recommender_system_test</td>\n",
       "      <td>Android</td>\n",
       "    </tr>\n",
       "    <tr>\n",
       "      <th>4</th>\n",
       "      <td>001E72F50D1C48FA</td>\n",
       "      <td>A</td>\n",
       "      <td>interface_eu_test</td>\n",
       "      <td>Mac</td>\n",
       "    </tr>\n",
       "    <tr>\n",
       "      <th>5</th>\n",
       "      <td>002412F1EB3F6E38</td>\n",
       "      <td>B</td>\n",
       "      <td>interface_eu_test</td>\n",
       "      <td>Mac</td>\n",
       "    </tr>\n",
       "    <tr>\n",
       "      <th>6</th>\n",
       "      <td>002540BE89C930FB</td>\n",
       "      <td>B</td>\n",
       "      <td>interface_eu_test</td>\n",
       "      <td>Android</td>\n",
       "    </tr>\n",
       "    <tr>\n",
       "      <th>...</th>\n",
       "      <td>...</td>\n",
       "      <td>...</td>\n",
       "      <td>...</td>\n",
       "      <td>...</td>\n",
       "    </tr>\n",
       "    <tr>\n",
       "      <th>14518</th>\n",
       "      <td>FFE5B14BD55C1C5C</td>\n",
       "      <td>A</td>\n",
       "      <td>interface_eu_test</td>\n",
       "      <td>PC</td>\n",
       "    </tr>\n",
       "    <tr>\n",
       "      <th>14519</th>\n",
       "      <td>FFE600EEC4BA7685</td>\n",
       "      <td>B</td>\n",
       "      <td>interface_eu_test</td>\n",
       "      <td>Android</td>\n",
       "    </tr>\n",
       "    <tr>\n",
       "      <th>14520</th>\n",
       "      <td>FFE7FC140521F5F6</td>\n",
       "      <td>A</td>\n",
       "      <td>interface_eu_test</td>\n",
       "      <td>PC</td>\n",
       "    </tr>\n",
       "    <tr>\n",
       "      <th>14521</th>\n",
       "      <td>FFEFC0E55C1CCD4F</td>\n",
       "      <td>A</td>\n",
       "      <td>interface_eu_test</td>\n",
       "      <td>PC</td>\n",
       "    </tr>\n",
       "    <tr>\n",
       "      <th>14524</th>\n",
       "      <td>FFF58BC33966EB51</td>\n",
       "      <td>A</td>\n",
       "      <td>interface_eu_test</td>\n",
       "      <td>Android</td>\n",
       "    </tr>\n",
       "  </tbody>\n",
       "</table>\n",
       "<p>12751 rows × 4 columns</p>\n",
       "</div>"
      ],
      "text/plain": [
       "                user_id group                  ab_test   device\n",
       "0      0002CE61FF2C4011     B        interface_eu_test      Mac\n",
       "3      0010A1C096941592     A  recommender_system_test  Android\n",
       "4      001E72F50D1C48FA     A        interface_eu_test      Mac\n",
       "5      002412F1EB3F6E38     B        interface_eu_test      Mac\n",
       "6      002540BE89C930FB     B        interface_eu_test  Android\n",
       "...                 ...   ...                      ...      ...\n",
       "14518  FFE5B14BD55C1C5C     A        interface_eu_test       PC\n",
       "14519  FFE600EEC4BA7685     B        interface_eu_test  Android\n",
       "14520  FFE7FC140521F5F6     A        interface_eu_test       PC\n",
       "14521  FFEFC0E55C1CCD4F     A        interface_eu_test       PC\n",
       "14524  FFF58BC33966EB51     A        interface_eu_test  Android\n",
       "\n",
       "[12751 rows x 4 columns]"
      ]
     },
     "execution_count": 21,
     "metadata": {},
     "output_type": "execute_result"
    }
   ],
   "source": [
    "participants = participants.drop_duplicates(subset=['user_id'], keep=False)\n",
    "participants"
   ]
  },
  {
   "cell_type": "code",
   "execution_count": 22,
   "id": "a23a4905",
   "metadata": {},
   "outputs": [
    {
     "name": "stdout",
     "output_type": "stream",
     "text": [
      "\n",
      "События:\n",
      "            user_id            event_dt                        event_name  \\\n",
      "0            GLOBAL 2020-12-01 00:00:00  End of Black Friday Ads Campaign   \n",
      "1  CCBE9E7E99F94A08 2020-12-01 00:00:11                      registration   \n",
      "2            GLOBAL 2020-12-01 00:00:25                      product_page   \n",
      "3  CCBE9E7E99F94A08 2020-12-01 00:00:33                             login   \n",
      "4  CCBE9E7E99F94A08 2020-12-01 00:00:52                      product_page   \n",
      "\n",
      "       details  \n",
      "0  ZONE_CODE15  \n",
      "1          0.0  \n",
      "2          NaN  \n",
      "3          NaN  \n",
      "4          NaN  \n"
     ]
    }
   ],
   "source": [
    "print(\"\\nСобытия:\")\n",
    "print(events.head())"
   ]
  },
  {
   "cell_type": "code",
   "execution_count": 23,
   "id": "9bee87ca",
   "metadata": {},
   "outputs": [
    {
     "name": "stdout",
     "output_type": "stream",
     "text": [
      "<class 'pandas.core.frame.DataFrame'>\n",
      "RangeIndex: 787286 entries, 0 to 787285\n",
      "Data columns (total 4 columns):\n",
      " #   Column      Non-Null Count   Dtype         \n",
      "---  ------      --------------   -----         \n",
      " 0   user_id     787286 non-null  object        \n",
      " 1   event_dt    787286 non-null  datetime64[ns]\n",
      " 2   event_name  787286 non-null  object        \n",
      " 3   details     249022 non-null  object        \n",
      "dtypes: datetime64[ns](1), object(3)\n",
      "memory usage: 24.0+ MB\n",
      "Уникальных событий: ['End of Black Friday Ads Campaign' 'registration' 'product_page' 'login'\n",
      " 'product_cart' 'purchase' 'Start of Christmas&New Year Promo'\n",
      " 'Start of CIS New Year Gift Lottery']\n"
     ]
    }
   ],
   "source": [
    "events.info()  # Проверка дат и типов событий\n",
    "print(\"Уникальных событий:\", events['event_name'].unique())"
   ]
  },
  {
   "cell_type": "markdown",
   "id": "CnzA-efasUrk",
   "metadata": {
    "id": "CnzA-efasUrk"
   },
   "source": [
    "## 3. По таблице `ab_test_participants` оцените корректность проведения теста:\n",
    "\n",
    "   3\\.1 Выделите пользователей, участвующих в тесте, и проверьте:\n",
    "\n",
    "   - соответствие требованиям технического задания,\n",
    "\n",
    "   - равномерность распределения пользователей по группам теста,\n",
    "\n",
    "   - отсутствие пересечений с конкурирующим тестом (нет пользователей, участвующих одновременно в двух тестовых группах)."
   ]
  },
  {
   "cell_type": "code",
   "execution_count": 24,
   "id": "aNa3zHrKslEN",
   "metadata": {
    "id": "aNa3zHrKslEN"
   },
   "outputs": [
    {
     "name": "stdout",
     "output_type": "stream",
     "text": [
      "Уникальные группы в тесте: ['B' 'A']\n"
     ]
    }
   ],
   "source": [
    "# Фильтрация участников целевого теста (interface_eu_test)\n",
    "target_test_participants = participants[participants['ab_test'] == 'interface_eu_test']\n",
    "\n",
    "print(\"Уникальные группы в тесте:\", target_test_participants['group'].unique())\n",
    "\n"
   ]
  },
  {
   "cell_type": "code",
   "execution_count": 25,
   "id": "fee5da6d",
   "metadata": {},
   "outputs": [
    {
     "name": "stdout",
     "output_type": "stream",
     "text": [
      "Распределение по группам:\n",
      " B    5011\n",
      "A    4952\n",
      "Name: group, dtype: int64\n"
     ]
    },
    {
     "data": {
      "image/png": "[encoded data removed]",
      "text/plain": [
       "<Figure size 432x288 with 1 Axes>"
      ]
     },
     "metadata": {},
     "output_type": "display_data"
    },
    {
     "name": "stdout",
     "output_type": "stream",
     "text": [
      "Тест на равномерность: p-value = 0.554\n"
     ]
    }
   ],
   "source": [
    "\n",
    "\n",
    "# Распределение пользователей по группам\n",
    "group_counts = target_test_participants['group'].value_counts()\n",
    "print(\"Распределение по группам:\\n\", group_counts)\n",
    "\n",
    "\n",
    "plt.figure(figsize=(6, 4))\n",
    "sns.barplot(x=group_counts.index, y=group_counts.values)\n",
    "plt.title(\"Распределение пользователей по группам\")\n",
    "plt.show()\n",
    "\n",
    "# Проверка равномерности (хи-квадрат)\n",
    "chi2_stat, p_value = stats.chisquare(group_counts)\n",
    "print(f\"Тест на равномерность: p-value = {p_value:.3f}\")"
   ]
  },
  {
   "cell_type": "code",
   "execution_count": 26,
   "id": "d4a4bae7",
   "metadata": {},
   "outputs": [
    {
     "name": "stdout",
     "output_type": "stream",
     "text": [
      "Количество пересечений: 0\n"
     ]
    }
   ],
   "source": [
    "# Пользователи, участвующие в нескольких тестах\n",
    "user_test_counts = participants.groupby('user_id')['ab_test'].nunique()\n",
    "dublicated = user_test_counts[user_test_counts > 1].index\n",
    "\n",
    "print(\"Количество пересечений:\", len(dublicated))\n"
   ]
  },
  {
   "cell_type": "markdown",
   "id": "GjulgSrlsqUU",
   "metadata": {
    "id": "GjulgSrlsqUU"
   },
   "source": [
    "3\\.2 Проанализируйте данные о пользовательской активности по таблице `ab_test_events`:\n",
    "\n",
    "- оставьте только события, связанные с участвующими в изучаемом тесте пользователями;"
   ]
  },
  {
   "cell_type": "code",
   "execution_count": 27,
   "id": "QMt0Ybo_swDK",
   "metadata": {
    "id": "QMt0Ybo_swDK"
   },
   "outputs": [
    {
     "name": "stdout",
     "output_type": "stream",
     "text": [
      "Всего событий в тесте: 73815\n",
      "Уникальных пользователей с событиями: 9963\n"
     ]
    }
   ],
   "source": [
    "target_user_ids = participants[participants['ab_test'] == 'interface_eu_test']['user_id'].unique()\n",
    "\n",
    "test_events = events[events['user_id'].isin(target_user_ids)].copy()\n",
    "\n",
    "print(f\"Всего событий в тесте: {len(test_events)}\")\n",
    "print(f\"Уникальных пользователей с событиями: {test_events['user_id'].nunique()}\")"
   ]
  },
  {
   "cell_type": "code",
   "execution_count": 28,
   "id": "b6943e89",
   "metadata": {},
   "outputs": [
    {
     "name": "stdout",
     "output_type": "stream",
     "text": [
      "Период проведения теста:\n",
      "Начало: 2020-12-06\n",
      "Конец: 2020-12-30\n",
      "Дней тестирования: 25\n"
     ]
    }
   ],
   "source": [
    "test_events['event_date'] = test_events['event_dt'].dt.date\n",
    "\n",
    "# Анализ временного охвата\n",
    "print(\"Период проведения теста:\")\n",
    "print(f\"Начало: {test_events['event_date'].min()}\")\n",
    "print(f\"Конец: {test_events['event_date'].max()}\")\n",
    "print(f\"Дней тестирования: {test_events['event_date'].nunique()}\")"
   ]
  },
  {
   "cell_type": "code",
   "execution_count": 29,
   "id": "5f1060ba",
   "metadata": {},
   "outputs": [
    {
     "data": {
      "image/png": "[encoded data removed]",
      "text/plain": [
       "<Figure size 720x360 with 1 Axes>"
      ]
     },
     "metadata": {},
     "output_type": "display_data"
    }
   ],
   "source": [
    "# Распределение событий по типам\n",
    "event_distribution = test_events['event_name'].value_counts(normalize=True) * 100\n",
    "\n",
    "plt.figure(figsize=(10, 5))\n",
    "sns.barplot(\n",
    "    x=event_distribution.index,\n",
    "    y=event_distribution.values,\n",
    "    order=event_distribution.index\n",
    ")\n",
    "plt.title(\"Распределение типов событий (%)\")\n",
    "plt.xticks(rotation=45)\n",
    "plt.show()\n"
   ]
  },
  {
   "cell_type": "code",
   "execution_count": 30,
   "id": "5b3647a2",
   "metadata": {},
   "outputs": [
    {
     "name": "stdout",
     "output_type": "stream",
     "text": [
      "Активность по группам:\n"
     ]
    },
    {
     "data": {
      "text/html": [
       "<div>\n",
       "<style scoped>\n",
       "    .dataframe tbody tr th:only-of-type {\n",
       "        vertical-align: middle;\n",
       "    }\n",
       "\n",
       "    .dataframe tbody tr th {\n",
       "        vertical-align: top;\n",
       "    }\n",
       "\n",
       "    .dataframe thead th {\n",
       "        text-align: right;\n",
       "    }\n",
       "</style>\n",
       "<table border=\"1\" class=\"dataframe\">\n",
       "  <thead>\n",
       "    <tr style=\"text-align: right;\">\n",
       "      <th>group</th>\n",
       "      <th>A</th>\n",
       "      <th>B</th>\n",
       "    </tr>\n",
       "    <tr>\n",
       "      <th>event_name</th>\n",
       "      <th></th>\n",
       "      <th></th>\n",
       "    </tr>\n",
       "  </thead>\n",
       "  <tbody>\n",
       "    <tr>\n",
       "      <th>login</th>\n",
       "      <td>13523</td>\n",
       "      <td>13837</td>\n",
       "    </tr>\n",
       "    <tr>\n",
       "      <th>product_cart</th>\n",
       "      <td>4740</td>\n",
       "      <td>4651</td>\n",
       "    </tr>\n",
       "    <tr>\n",
       "      <th>product_page</th>\n",
       "      <td>8629</td>\n",
       "      <td>8985</td>\n",
       "    </tr>\n",
       "    <tr>\n",
       "      <th>purchase</th>\n",
       "      <td>3856</td>\n",
       "      <td>5631</td>\n",
       "    </tr>\n",
       "    <tr>\n",
       "      <th>registration</th>\n",
       "      <td>4952</td>\n",
       "      <td>5011</td>\n",
       "    </tr>\n",
       "    <tr>\n",
       "      <th>total_events</th>\n",
       "      <td>35700</td>\n",
       "      <td>38115</td>\n",
       "    </tr>\n",
       "  </tbody>\n",
       "</table>\n",
       "</div>"
      ],
      "text/plain": [
       "group             A      B\n",
       "event_name                \n",
       "login         13523  13837\n",
       "product_cart   4740   4651\n",
       "product_page   8629   8985\n",
       "purchase       3856   5631\n",
       "registration   4952   5011\n",
       "total_events  35700  38115"
      ]
     },
     "metadata": {},
     "output_type": "display_data"
    }
   ],
   "source": [
    "# Добавляем информацию о группе\n",
    "test_events = test_events.merge(\n",
    "    participants[['user_id', 'group']],\n",
    "    on='user_id',\n",
    "    how='left'\n",
    ")\n",
    "\n",
    "# Анализ активности по группам\n",
    "group_activity = test_events.groupby(['group', 'event_name']).size().unstack()\n",
    "group_activity['total_events'] = group_activity.sum(axis=1)\n",
    "group_activity = group_activity.T  # Транспонируем для удобства\n",
    "\n",
    "print(\"Активность по группам:\")\n",
    "display(group_activity)"
   ]
  },
  {
   "cell_type": "markdown",
   "id": "2aa1824b",
   "metadata": {},
   "source": [
    "Выводы по главе:\n",
    "\n",
    "Все события отфильтрованы и привязаны к участникам теста.\n",
    "Период тестирования составляет 25 дне.\n",
    "Распределение пользователей по группам практически одинаковое:\n",
    "B    5011\n",
    "A    4952\n",
    "Распределение событий и пользователей между группами A и B практически одинаковое, есть небольшой перевес в группе B по количеству покупок (5631 против 3856).\n",
    "\n"
   ]
  },
  {
   "cell_type": "markdown",
   "id": "fBZ4DC2xswZJ",
   "metadata": {
    "id": "fBZ4DC2xswZJ"
   },
   "source": [
    "- определите горизонт анализа: рассчитайте время (лайфтайм) совершения события пользователем после регистрации и оставьте только те события, которые были выполнены в течение первых семи дней с момента регистрации;"
   ]
  },
  {
   "cell_type": "code",
   "execution_count": 31,
   "id": "73e6279e",
   "metadata": {},
   "outputs": [
    {
     "name": "stdout",
     "output_type": "stream",
     "text": [
      "   user_id            event_dt registration_dt  days_since_reg\n",
      "0   GLOBAL 2020-12-01 00:00:00      2020-12-01               0\n",
      "1   GLOBAL 2020-12-01 00:00:25      2020-12-01               0\n",
      "2   GLOBAL 2020-12-01 00:03:02      2020-12-01               0\n",
      "3   GLOBAL 2020-12-01 00:03:13      2020-12-01               0\n",
      "4   GLOBAL 2020-12-01 00:06:01      2020-12-01               0\n",
      "5   GLOBAL 2020-12-01 00:06:18      2020-12-01               0\n",
      "6   GLOBAL 2020-12-01 00:06:31      2020-12-01               0\n",
      "7   GLOBAL 2020-12-01 00:08:20      2020-12-01               0\n",
      "8   GLOBAL 2020-12-01 00:09:14      2020-12-01               0\n",
      "9   GLOBAL 2020-12-01 00:11:36      2020-12-01               0\n",
      "10  GLOBAL 2020-12-01 00:13:18      2020-12-01               0\n",
      "11  GLOBAL 2020-12-01 00:13:38      2020-12-01               0\n",
      "12  GLOBAL 2020-12-01 00:14:28      2020-12-01               0\n",
      "13  GLOBAL 2020-12-01 00:14:53      2020-12-01               0\n",
      "14  GLOBAL 2020-12-01 00:15:22      2020-12-01               0\n",
      "15  GLOBAL 2020-12-01 00:17:28      2020-12-01               0\n",
      "16  GLOBAL 2020-12-01 00:18:35      2020-12-01               0\n",
      "17  GLOBAL 2020-12-01 00:19:07      2020-12-01               0\n",
      "18  GLOBAL 2020-12-01 00:19:36      2020-12-01               0\n",
      "19  GLOBAL 2020-12-01 00:20:33      2020-12-01               0\n"
     ]
    }
   ],
   "source": [
    "registration_times = events.groupby('user_id')['event_dt'].min().reset_index()\n",
    "registration_times.columns = ['user_id', 'registration_dt']\n",
    "events_with_reg = events.merge(registration_times, on='user_id')\n",
    "events_with_reg['days_since_reg'] = (events_with_reg['event_dt'] - events_with_reg['registration_dt']).dt.days\n",
    "print(events_with_reg[['user_id', 'event_dt', 'registration_dt','days_since_reg']].head(20))"
   ]
  },
  {
   "cell_type": "code",
   "execution_count": 32,
   "id": "24aeb76d",
   "metadata": {},
   "outputs": [
    {
     "name": "stdout",
     "output_type": "stream",
     "text": [
      "Всего событий: 695047\n",
      "Уникальных пользователей: 144184\n",
      "Распределение по дням:\n",
      "0    518049\n",
      "1     48689\n",
      "2     33979\n",
      "3     25809\n",
      "4     20818\n",
      "5     18243\n",
      "6     15913\n",
      "7     13547\n",
      "Name: days_since_reg, dtype: int64\n"
     ]
    }
   ],
   "source": [
    "events_7days = events_with_reg[events_with_reg['days_since_reg'] <= 7].copy()\n",
    "print(f\"Всего событий: {len(events_7days)}\")\n",
    "print(f\"Уникальных пользователей: {events_7days['user_id'].nunique()}\")\n",
    "print(\"Распределение по дням:\")\n",
    "print(events_7days['days_since_reg'].value_counts().sort_index())"
   ]
  },
  {
   "cell_type": "code",
   "execution_count": 33,
   "id": "b82466c1",
   "metadata": {},
   "outputs": [
    {
     "data": {
      "image/png": "[encoded data removed]",
      "text/plain": [
       "<Figure size 720x360 with 1 Axes>"
      ]
     },
     "metadata": {},
     "output_type": "display_data"
    }
   ],
   "source": [
    "plt.figure(figsize=(10, 5))\n",
    "sns.countplot(x='days_since_reg', data=events_7days)\n",
    "plt.title('Активность пользователей по дням после регистрации')\n",
    "plt.xlabel('Дни после регистрации')\n",
    "plt.ylabel('Количество событий')\n",
    "plt.show()"
   ]
  },
  {
   "cell_type": "markdown",
   "id": "8c009037",
   "metadata": {},
   "source": [
    "Вывод по главе:\n",
    "Сильное смещение в распределение данных, многие пользователи снижают активность (значительно) после первого дня. "
   ]
  },
  {
   "cell_type": "markdown",
   "id": "7cf1df48",
   "metadata": {},
   "source": [
    "Оцените достаточность выборки для получения статистически значимых результатов A/B-теста. Заданные параметры:\n",
    "\n",
    "- базовый показатель конверсии — 30%,\n",
    "\n",
    "- мощность теста — 80%,\n",
    "\n",
    "- достоверность теста — 95%."
   ]
  },
  {
   "cell_type": "code",
   "execution_count": 34,
   "id": "7d97b466",
   "metadata": {},
   "outputs": [
    {
     "name": "stdout",
     "output_type": "stream",
     "text": [
      "Требуется пользователей на группу: 3762\n",
      "Общий размер выборки: 7524\n"
     ]
    }
   ],
   "source": [
    "\n",
    "\n",
    "import statsmodels.stats.power as smp\n",
    "from statsmodels.stats.proportion import proportion_effectsize\n",
    "\n",
    "# Параметры теста\n",
    "alpha = 0.05       # Уровень значимости 5%\n",
    "power = 0.8        # Мощность теста 80%\n",
    "cr0 = 0.3          # Базовая конверсия 30%\n",
    "mde = 0.03         # Минимальный детектируемый эффект 1% (абсолютный)\n",
    "\n",
    "# Расчет эффекта (Cohen's h)\n",
    "effect_size = proportion_effectsize(cr0, cr0 + mde)\n",
    "\n",
    "# Расчет требуемого размера выборки на группу\n",
    "required_n = smp.tt_ind_solve_power(\n",
    "    effect_size=effect_size,\n",
    "    alpha=alpha,\n",
    "    power=power,\n",
    "    ratio=1.0       # Равные размеры групп\n",
    ")\n",
    "\n",
    "print(f\"Требуется пользователей на группу: {int(required_n)}\")\n",
    "print(f\"Общий размер выборки: {2 * int(required_n)}\")"
   ]
  },
  {
   "cell_type": "markdown",
   "id": "SadyUDgZs0t3",
   "metadata": {
    "id": "SadyUDgZs0t3"
   },
   "source": [
    "- рассчитайте для каждой группы количество посетителей, сделавших покупку, и общее количество посетителей."
   ]
  },
  {
   "cell_type": "code",
   "execution_count": 35,
   "id": "7ph853Xks4sy",
   "metadata": {
    "id": "7ph853Xks4sy"
   },
   "outputs": [],
   "source": [
    "\n",
    "df = events_7days.merge(participants[['user_id', 'group']], on='user_id', how='inner')"
   ]
  },
  {
   "cell_type": "code",
   "execution_count": 36,
   "id": "47ab23c5",
   "metadata": {},
   "outputs": [
    {
     "name": "stdout",
     "output_type": "stream",
     "text": [
      "       Всего посетителей  Совершили покупку  Конверсия (%)\n",
      "group                                                     \n",
      "A                   7034               2020           28.7\n",
      "B                   5717               1733           30.3\n"
     ]
    }
   ],
   "source": [
    "\n",
    "total_visitors = df.groupby('group')['user_id'].nunique()\n",
    "purchasing_visitors = df[df['event_name'] == 'purchase'].groupby('group')['user_id'].nunique()\n",
    "results = pd.DataFrame({\n",
    "    'Всего посетителей': total_visitors,\n",
    "    'Совершили покупку': purchasing_visitors,\n",
    "    'Конверсия (%)': (purchasing_visitors / total_visitors * 100).round(1)\n",
    "})\n",
    "\n",
    "\n",
    "\n",
    "print(results)"
   ]
  },
  {
   "cell_type": "code",
   "execution_count": 37,
   "id": "394cc0bc",
   "metadata": {
    "scrolled": true
   },
   "outputs": [
    {
     "name": "stdout",
     "output_type": "stream",
     "text": [
      "Z-статистика: 1.966, p-value: 0.0493\n"
     ]
    }
   ],
   "source": [
    "from statsmodels.stats.proportion import proportions_ztest\n",
    "\n",
    "# Данные для теста\n",
    "successes = [purchasing_visitors['B'], purchasing_visitors['A']]\n",
    "nobs = [total_visitors['B'], total_visitors['A']]\n",
    "\n",
    "# Двусторонний Z-тест\n",
    "z_stat, p_value = proportions_ztest(successes, nobs, alternative='two-sided')\n",
    "\n",
    "print(f\"Z-статистика: {z_stat:.3f}, p-value: {p_value:.4f}\")"
   ]
  },
  {
   "cell_type": "code",
   "execution_count": null,
   "id": "2d9837a9",
   "metadata": {},
   "outputs": [],
   "source": []
  },
  {
   "cell_type": "code",
   "execution_count": 38,
   "id": "f6bc994c",
   "metadata": {},
   "outputs": [
    {
     "data": {
      "image/png": "[encoded data removed]",
      "text/plain": [
       "<Figure size 432x288 with 1 Axes>"
      ]
     },
     "metadata": {},
     "output_type": "display_data"
    }
   ],
   "source": [
    "\n",
    "\n",
    "results['Конверсия (%)'].plot(kind='bar', color=['skyblue', 'salmon'])\n",
    "plt.title('Конверсия в покупки по группам')\n",
    "plt.ylabel('Конверсия (%)')\n",
    "plt.xticks(rotation=0)\n",
    "plt.show()"
   ]
  },
  {
   "cell_type": "markdown",
   "id": "sh1JpGvAs5E3",
   "metadata": {
    "id": "sh1JpGvAs5E3"
   },
   "source": [
    "- сделайте предварительный общий вывод об изменении пользовательской активности в тестовой группе по сравнению с контрольной."
   ]
  },
  {
   "cell_type": "markdown",
   "id": "770595a0",
   "metadata": {
    "id": "hHTHPkJYs8mE"
   },
   "source": [
    "Выводы по главе: \n",
    "\n",
    "Z-статистика: 1.966, p-value: 0.0493 (< 0.05), разница статистически значима на уровне 5% (вероятность что результат случайный чуть менее 5%)\n",
    "\n",
    "\n",
    "Тестовая группа B показала увеличение конверсии на 1.6 процентных пункта (с 28.7% до 30.3%). \n",
    "Размер групп различен, мб поэтому и количество покупок по итогу меньше.\n"
   ]
  },
  {
   "cell_type": "code",
   "execution_count": 39,
   "id": "5fae12f4",
   "metadata": {
    "scrolled": true
   },
   "outputs": [
    {
     "name": "stdout",
     "output_type": "stream",
     "text": [
      "Конверсия в контрольной группе: 28.72%\n",
      "Конверсия в тестовой группе: 30.31%\n",
      "\n",
      "Увеличение конверсии: +1.59 п.п.\n"
     ]
    }
   ],
   "source": [
    "conversion_rate = (purchasing_visitors / total_visitors * 100).round(2)\n",
    "lift_pp = (conversion_rate['B'] - conversion_rate['A']).round(2)\n",
    "print(f\"Конверсия в контрольной группе: {conversion_rate['A']}%\")\n",
    "print(f\"Конверсия в тестовой группе: {conversion_rate['B']}%\")\n",
    "print(f\"\\nУвеличение конверсии: +{lift_pp} п.п.\")"
   ]
  },
  {
   "cell_type": "markdown",
   "id": "IKZ1Oo3Ws919",
   "metadata": {
    "id": "IKZ1Oo3Ws919"
   },
   "source": [
    "## 4. Проведите оценку результатов A/B-тестирования:"
   ]
  },
  {
   "cell_type": "markdown",
   "id": "dcUdBSmvtC-E",
   "metadata": {
    "id": "dcUdBSmvtC-E"
   },
   "source": [
    "- Проверьте изменение конверсии подходящим статистическим тестом, учитывая все этапы проверки гипотез."
   ]
  },
  {
   "cell_type": "markdown",
   "id": "eb2569a5",
   "metadata": {},
   "source": [
    "Нулевая гипотеза: конверсия не различается\n",
    "Альтернативная: конверсия в группе В выше, чем в группе А"
   ]
  },
  {
   "cell_type": "markdown",
   "id": "1c3ef063",
   "metadata": {},
   "source": [
    "Цель теста -  Увеличить конверсию пользователей в покупку за счёт нового интерфейса сайта. Компания предполагает, что новый дизайн упростит навигацию и повысит количество завершённых покупок.\n",
    "\n",
    "Группы:\n",
    "\n",
    "- Контрольная группа (А): Пользователи, которые видят старый интерфейс сайта.\n",
    "\n",
    "- Тестовая группа (В): Пользователи, взаимодействующие с новым интерфейсом.\n",
    "\n",
    "Конверсия: В данном контексте — процент пользователей, совершивших хотя бы одну покупку.\n",
    "Проверяем статистическую значимость различий в конверсии между группами. Если различие значимо, можно утверждать, что новый интерфейс действительно повлиял на поведение пользователей."
   ]
  },
  {
   "cell_type": "code",
   "execution_count": 40,
   "id": "l_KOziBQtL3t",
   "metadata": {
    "id": "l_KOziBQtL3t"
   },
   "outputs": [
    {
     "name": "stdout",
     "output_type": "stream",
     "text": [
      "Z-статистика: 1.966\n",
      "p-value: 0.0247\n"
     ]
    }
   ],
   "source": [
    "from statsmodels.stats.proportion import proportions_ztest\n",
    "\n",
    "z_stat, p_value = proportions_ztest(successes, nobs, alternative='larger')\n",
    "\n",
    "print(f\"Z-статистика: {z_stat:.3f}\")\n",
    "print(f\"p-value: {p_value:.4f}\")"
   ]
  },
  {
   "cell_type": "markdown",
   "id": "593f8310",
   "metadata": {},
   "source": [
    "Отвергаем нулевую гипотезу"
   ]
  },
  {
   "cell_type": "markdown",
   "id": "9jkyKOjgtGoc",
   "metadata": {
    "id": "9jkyKOjgtGoc"
   },
   "source": [
    "- Опишите выводы по проведённой оценке результатов A/B-тестирования. Что можно сказать про результаты A/B-тестирования? Был ли достигнут ожидаемый эффект в изменении конверсии?"
   ]
  },
  {
   "cell_type": "markdown",
   "id": "ff913a98",
   "metadata": {},
   "source": [
    "Выводы по главе:\n",
    "\n",
    "Так как p-value < уровня значимости (0.0247 < 0.05), мы отвергаем нулевую гипотезу. Различие в конверсии между тестовой и контрольной группами статистически значимо. Новый интерфейс оказал влияние на поведение пользователей.\n",
    "\n",
    "\n",
    "Новая версия интерфейса увеличила конверсию на 1.59 п.п., что соответствует относительному росту примерно на 5.5%  ((1.59 / 28.72) * 100 ). Это значимое улучшение и при большом трафике улучшение интерфейса окупится за счет дополнительных покупок.\n",
    "\n",
    "Для исключения долгосрочных рисков можно помониторить как изменится  конверсия с течением времени.\n",
    "\n"
   ]
  }
 ],
 "metadata": {
  "ExecuteTimeLog": [
   {
    "duration": 49,
    "start_time": "2025-05-19T14:54:28.865Z"
   },
   {
    "duration": 1465,
    "start_time": "2025-05-19T14:54:31.051Z"
   },
   {
    "duration": 36,
    "start_time": "2025-05-19T14:54:33.676Z"
   },
   {
    "duration": 12,
    "start_time": "2025-05-19T14:54:45.934Z"
   },
   {
    "duration": 1172,
    "start_time": "2025-05-19T14:55:15.130Z"
   },
   {
    "duration": 853,
    "start_time": "2025-05-19T14:55:37.300Z"
   },
   {
    "duration": 1392,
    "start_time": "2025-05-19T19:32:46.271Z"
   },
   {
    "duration": 45,
    "start_time": "2025-05-19T19:32:51.236Z"
   },
   {
    "duration": 12,
    "start_time": "2025-05-19T19:32:52.369Z"
   },
   {
    "duration": 5,
    "start_time": "2025-05-19T19:32:58.719Z"
   },
   {
    "duration": 6,
    "start_time": "2025-05-19T19:33:32.169Z"
   },
   {
    "duration": 9,
    "start_time": "2025-05-19T19:34:08.398Z"
   },
   {
    "duration": 105,
    "start_time": "2025-05-19T19:37:23.611Z"
   },
   {
    "duration": 19,
    "start_time": "2025-05-19T19:37:32.264Z"
   },
   {
    "duration": 148,
    "start_time": "2025-05-19T19:38:32.258Z"
   },
   {
    "duration": 54,
    "start_time": "2025-05-19T19:47:07.355Z"
   },
   {
    "duration": 274,
    "start_time": "2025-05-19T19:47:25.604Z"
   },
   {
    "duration": 272,
    "start_time": "2025-05-19T19:49:42.123Z"
   },
   {
    "duration": 291,
    "start_time": "2025-05-19T19:49:52.474Z"
   },
   {
    "duration": 289,
    "start_time": "2025-05-19T19:50:28.022Z"
   },
   {
    "duration": 280,
    "start_time": "2025-05-19T19:50:38.508Z"
   },
   {
    "duration": 299,
    "start_time": "2025-05-19T19:50:49.518Z"
   },
   {
    "duration": 303,
    "start_time": "2025-05-19T19:50:56.808Z"
   },
   {
    "duration": 408,
    "start_time": "2025-05-19T19:51:07.366Z"
   },
   {
    "duration": 275,
    "start_time": "2025-05-19T19:51:11.624Z"
   },
   {
    "duration": 306,
    "start_time": "2025-05-19T19:51:40.033Z"
   },
   {
    "duration": 275,
    "start_time": "2025-05-19T19:52:02.042Z"
   },
   {
    "duration": 238,
    "start_time": "2025-05-19T19:52:14.583Z"
   },
   {
    "duration": 242,
    "start_time": "2025-05-19T19:52:36.852Z"
   },
   {
    "duration": 147,
    "start_time": "2025-05-19T19:53:19.659Z"
   },
   {
    "duration": 143,
    "start_time": "2025-05-19T19:53:33.488Z"
   },
   {
    "duration": 6,
    "start_time": "2025-05-19T19:56:15.768Z"
   },
   {
    "duration": 13,
    "start_time": "2025-05-19T19:56:34.970Z"
   },
   {
    "duration": 8,
    "start_time": "2025-05-19T19:57:56.626Z"
   },
   {
    "duration": 8,
    "start_time": "2025-05-19T19:58:51.273Z"
   },
   {
    "duration": 9,
    "start_time": "2025-05-19T20:01:05.053Z"
   },
   {
    "duration": 8,
    "start_time": "2025-05-19T20:01:45.052Z"
   },
   {
    "duration": 16,
    "start_time": "2025-05-19T20:04:00.466Z"
   },
   {
    "duration": 26,
    "start_time": "2025-05-19T20:04:14.217Z"
   },
   {
    "duration": 9,
    "start_time": "2025-05-19T20:08:35.819Z"
   },
   {
    "duration": 6,
    "start_time": "2025-05-19T20:09:50.049Z"
   },
   {
    "duration": 16,
    "start_time": "2025-05-19T20:09:53.611Z"
   },
   {
    "duration": 16,
    "start_time": "2025-05-19T20:10:34.296Z"
   },
   {
    "duration": 9,
    "start_time": "2025-05-19T20:10:53.647Z"
   },
   {
    "duration": 12,
    "start_time": "2025-05-19T20:11:07.406Z"
   },
   {
    "duration": 4,
    "start_time": "2025-05-19T20:12:59.151Z"
   },
   {
    "duration": 5,
    "start_time": "2025-05-19T20:13:18.545Z"
   },
   {
    "duration": 12,
    "start_time": "2025-05-19T20:13:59.373Z"
   },
   {
    "duration": 5,
    "start_time": "2025-05-19T20:14:38.206Z"
   },
   {
    "duration": 266,
    "start_time": "2025-05-19T20:19:49.377Z"
   },
   {
    "duration": 246,
    "start_time": "2025-05-19T20:19:59.627Z"
   },
   {
    "duration": 168,
    "start_time": "2025-05-19T20:20:31.009Z"
   },
   {
    "duration": 272,
    "start_time": "2025-05-19T20:20:40.522Z"
   },
   {
    "duration": 712,
    "start_time": "2025-05-19T20:23:56.476Z"
   },
   {
    "duration": 586,
    "start_time": "2025-05-19T20:24:10.106Z"
   },
   {
    "duration": 487,
    "start_time": "2025-05-19T20:24:20.022Z"
   },
   {
    "duration": 511,
    "start_time": "2025-05-19T20:24:39.398Z"
   },
   {
    "duration": 587,
    "start_time": "2025-05-19T20:24:49.252Z"
   },
   {
    "duration": 217,
    "start_time": "2025-05-19T20:40:29.685Z"
   },
   {
    "duration": 19,
    "start_time": "2025-05-19T20:40:40.427Z"
   },
   {
    "duration": 20,
    "start_time": "2025-05-19T20:47:09.998Z"
   },
   {
    "duration": 20,
    "start_time": "2025-05-19T20:47:35.051Z"
   },
   {
    "duration": 272,
    "start_time": "2025-05-19T20:48:24.598Z"
   },
   {
    "duration": 148,
    "start_time": "2025-05-19T20:53:40.258Z"
   },
   {
    "duration": 57,
    "start_time": "2025-05-19T20:54:41.367Z"
   },
   {
    "duration": 11,
    "start_time": "2025-05-19T20:54:46.741Z"
   },
   {
    "duration": 9,
    "start_time": "2025-05-19T20:55:14.050Z"
   },
   {
    "duration": 24,
    "start_time": "2025-05-19T20:55:51.111Z"
   },
   {
    "duration": 21,
    "start_time": "2025-05-19T20:56:28.223Z"
   },
   {
    "duration": 238,
    "start_time": "2025-05-19T20:56:34.828Z"
   },
   {
    "duration": 9,
    "start_time": "2025-05-19T20:56:39.604Z"
   },
   {
    "duration": 11,
    "start_time": "2025-05-19T20:56:58.105Z"
   },
   {
    "duration": 5,
    "start_time": "2025-05-19T20:58:55.901Z"
   },
   {
    "duration": 6,
    "start_time": "2025-05-19T20:59:42.993Z"
   },
   {
    "duration": 12,
    "start_time": "2025-05-19T21:00:04.298Z"
   },
   {
    "duration": 1694,
    "start_time": "2025-05-19T21:23:16.603Z"
   },
   {
    "duration": 6,
    "start_time": "2025-05-19T21:24:40.941Z"
   },
   {
    "duration": 8,
    "start_time": "2025-05-19T21:24:53.077Z"
   },
   {
    "duration": 17,
    "start_time": "2025-05-19T21:25:19.551Z"
   },
   {
    "duration": 169,
    "start_time": "2025-05-19T21:25:54.674Z"
   },
   {
    "duration": 14,
    "start_time": "2025-05-19T21:28:36.495Z"
   },
   {
    "duration": 10,
    "start_time": "2025-05-19T21:33:57.613Z"
   },
   {
    "duration": 120,
    "start_time": "2025-05-19T21:36:05.562Z"
   },
   {
    "duration": 15,
    "start_time": "2025-05-19T21:37:03.387Z"
   },
   {
    "duration": 14,
    "start_time": "2025-05-19T21:37:58.226Z"
   },
   {
    "duration": 22,
    "start_time": "2025-05-19T21:38:40.731Z"
   },
   {
    "duration": 14,
    "start_time": "2025-05-19T21:38:56.464Z"
   },
   {
    "duration": 98,
    "start_time": "2025-05-19T21:43:12.480Z"
   },
   {
    "duration": 46,
    "start_time": "2025-05-19T21:43:53.999Z"
   },
   {
    "duration": 176,
    "start_time": "2025-05-19T21:44:20.232Z"
   },
   {
    "duration": 22,
    "start_time": "2025-05-19T21:45:07.594Z"
   },
   {
    "duration": 55,
    "start_time": "2025-05-19T21:45:31.386Z"
   },
   {
    "duration": 54,
    "start_time": "2025-05-19T21:46:08.113Z"
   },
   {
    "duration": 29,
    "start_time": "2025-05-19T21:46:31.510Z"
   },
   {
    "duration": 7,
    "start_time": "2025-05-19T21:53:42.353Z"
   },
   {
    "duration": 780,
    "start_time": "2025-05-19T21:57:41.450Z"
   },
   {
    "duration": 39,
    "start_time": "2025-05-19T21:58:30.159Z"
   },
   {
    "duration": 211,
    "start_time": "2025-05-19T21:58:47.345Z"
   },
   {
    "duration": 315,
    "start_time": "2025-05-19T21:58:56.010Z"
   },
   {
    "duration": 241,
    "start_time": "2025-05-19T21:59:08.062Z"
   },
   {
    "duration": 766,
    "start_time": "2025-05-19T22:01:10.889Z"
   },
   {
    "duration": 711,
    "start_time": "2025-05-19T22:01:44.987Z"
   },
   {
    "duration": 719,
    "start_time": "2025-05-19T22:01:52.589Z"
   },
   {
    "duration": 242,
    "start_time": "2025-05-19T22:03:12.890Z"
   },
   {
    "duration": 25,
    "start_time": "2025-05-19T22:08:45.543Z"
   },
   {
    "duration": 11,
    "start_time": "2025-05-19T22:09:11.598Z"
   },
   {
    "duration": 10,
    "start_time": "2025-05-19T22:09:23.214Z"
   },
   {
    "duration": 14,
    "start_time": "2025-05-19T22:10:04.319Z"
   },
   {
    "duration": 22,
    "start_time": "2025-05-19T22:15:56.309Z"
   },
   {
    "duration": 18,
    "start_time": "2025-05-19T22:16:07.401Z"
   },
   {
    "duration": 16,
    "start_time": "2025-05-19T22:16:11.408Z"
   },
   {
    "duration": 11,
    "start_time": "2025-05-19T22:16:14.224Z"
   },
   {
    "duration": 13,
    "start_time": "2025-05-19T22:16:15.272Z"
   },
   {
    "duration": 14,
    "start_time": "2025-05-19T22:16:47.564Z"
   },
   {
    "duration": 24,
    "start_time": "2025-05-19T22:17:24.356Z"
   },
   {
    "duration": 24,
    "start_time": "2025-05-19T22:17:43.694Z"
   },
   {
    "duration": 114,
    "start_time": "2025-05-19T22:19:17.032Z"
   },
   {
    "duration": 39,
    "start_time": "2025-05-19T22:19:43.396Z"
   },
   {
    "duration": 842,
    "start_time": "2025-05-19T22:19:55.022Z"
   },
   {
    "duration": 31,
    "start_time": "2025-05-19T22:19:56.066Z"
   },
   {
    "duration": 114,
    "start_time": "2025-05-19T22:20:11.824Z"
   },
   {
    "duration": 39,
    "start_time": "2025-05-19T22:20:12.866Z"
   },
   {
    "duration": 5,
    "start_time": "2025-05-19T22:21:24.865Z"
   },
   {
    "duration": 124,
    "start_time": "2025-05-19T22:21:45.587Z"
   },
   {
    "duration": 6,
    "start_time": "2025-05-19T22:29:42.929Z"
   },
   {
    "duration": 3,
    "start_time": "2025-05-19T22:36:09.442Z"
   },
   {
    "duration": 35,
    "start_time": "2025-05-19T22:36:09.447Z"
   },
   {
    "duration": 15,
    "start_time": "2025-05-19T22:36:09.483Z"
   },
   {
    "duration": 6,
    "start_time": "2025-05-19T22:36:09.500Z"
   },
   {
    "duration": 5,
    "start_time": "2025-05-19T22:36:09.508Z"
   },
   {
    "duration": 29,
    "start_time": "2025-05-19T22:36:09.515Z"
   },
   {
    "duration": 9,
    "start_time": "2025-05-19T22:36:09.562Z"
   },
   {
    "duration": 20,
    "start_time": "2025-05-19T22:36:09.572Z"
   },
   {
    "duration": 203,
    "start_time": "2025-05-19T22:36:09.595Z"
   },
   {
    "duration": 252,
    "start_time": "2025-05-19T22:36:09.800Z"
   },
   {
    "duration": 19,
    "start_time": "2025-05-19T22:36:10.054Z"
   },
   {
    "duration": 32,
    "start_time": "2025-05-19T22:36:10.075Z"
   },
   {
    "duration": 263,
    "start_time": "2025-05-19T22:36:10.109Z"
   },
   {
    "duration": 8,
    "start_time": "2025-05-19T22:36:10.374Z"
   },
   {
    "duration": 28,
    "start_time": "2025-05-19T22:36:10.384Z"
   },
   {
    "duration": 9,
    "start_time": "2025-05-19T22:36:10.414Z"
   },
   {
    "duration": 1637,
    "start_time": "2025-05-19T22:36:10.426Z"
   },
   {
    "duration": 6,
    "start_time": "2025-05-19T22:36:12.065Z"
   },
   {
    "duration": 19,
    "start_time": "2025-05-19T22:36:12.073Z"
   },
   {
    "duration": 25,
    "start_time": "2025-05-19T22:36:12.095Z"
   },
   {
    "duration": 16,
    "start_time": "2025-05-19T22:36:12.121Z"
   },
   {
    "duration": 182,
    "start_time": "2025-05-19T22:36:12.138Z"
   },
   {
    "duration": 9,
    "start_time": "2025-05-19T22:36:12.322Z"
   },
   {
    "duration": 161,
    "start_time": "2025-05-19T22:36:12.336Z"
   },
   {
    "duration": 13,
    "start_time": "2025-05-19T22:36:12.499Z"
   },
   {
    "duration": 116,
    "start_time": "2025-05-19T22:36:12.514Z"
   },
   {
    "duration": 54,
    "start_time": "2025-05-19T22:36:12.632Z"
   },
   {
    "duration": 179,
    "start_time": "2025-05-19T22:36:12.688Z"
   },
   {
    "duration": 49,
    "start_time": "2025-05-19T22:36:12.869Z"
   },
   {
    "duration": 718,
    "start_time": "2025-05-19T22:36:12.920Z"
   },
   {
    "duration": 145,
    "start_time": "2025-05-19T22:36:13.639Z"
   },
   {
    "duration": 240,
    "start_time": "2025-05-19T22:36:13.786Z"
   },
   {
    "duration": 13,
    "start_time": "2025-05-19T22:36:14.029Z"
   },
   {
    "duration": 143,
    "start_time": "2025-05-19T22:36:14.044Z"
   },
   {
    "duration": 38,
    "start_time": "2025-05-19T22:36:14.188Z"
   },
   {
    "duration": 123,
    "start_time": "2025-05-19T22:36:14.228Z"
   },
   {
    "duration": 124,
    "start_time": "2025-05-19T22:36:14.353Z"
   },
   {
    "duration": 5,
    "start_time": "2025-05-19T22:36:14.479Z"
   },
   {
    "duration": 0,
    "start_time": "2025-05-20T14:05:49.320Z"
   },
   {
    "duration": 0,
    "start_time": "2025-05-20T14:05:49.321Z"
   },
   {
    "duration": 0,
    "start_time": "2025-05-20T14:05:49.322Z"
   },
   {
    "duration": 0,
    "start_time": "2025-05-20T14:05:49.323Z"
   },
   {
    "duration": 0,
    "start_time": "2025-05-20T14:05:49.325Z"
   },
   {
    "duration": 0,
    "start_time": "2025-05-20T14:05:49.325Z"
   },
   {
    "duration": 0,
    "start_time": "2025-05-20T14:05:49.327Z"
   },
   {
    "duration": 0,
    "start_time": "2025-05-20T14:05:49.328Z"
   },
   {
    "duration": 0,
    "start_time": "2025-05-20T14:05:49.329Z"
   },
   {
    "duration": 0,
    "start_time": "2025-05-20T14:05:49.330Z"
   },
   {
    "duration": 0,
    "start_time": "2025-05-20T14:05:49.331Z"
   },
   {
    "duration": 0,
    "start_time": "2025-05-20T14:05:49.332Z"
   },
   {
    "duration": 0,
    "start_time": "2025-05-20T14:05:49.333Z"
   },
   {
    "duration": 0,
    "start_time": "2025-05-20T14:05:49.334Z"
   },
   {
    "duration": 0,
    "start_time": "2025-05-20T14:05:49.335Z"
   },
   {
    "duration": 0,
    "start_time": "2025-05-20T14:05:49.336Z"
   },
   {
    "duration": 0,
    "start_time": "2025-05-20T14:05:49.337Z"
   },
   {
    "duration": 0,
    "start_time": "2025-05-20T14:05:49.338Z"
   },
   {
    "duration": 0,
    "start_time": "2025-05-20T14:05:49.340Z"
   },
   {
    "duration": 0,
    "start_time": "2025-05-20T14:05:49.341Z"
   },
   {
    "duration": 0,
    "start_time": "2025-05-20T14:05:49.341Z"
   },
   {
    "duration": 0,
    "start_time": "2025-05-20T14:05:49.403Z"
   },
   {
    "duration": 0,
    "start_time": "2025-05-20T14:05:49.405Z"
   },
   {
    "duration": 0,
    "start_time": "2025-05-20T14:05:49.406Z"
   },
   {
    "duration": 0,
    "start_time": "2025-05-20T14:05:49.407Z"
   },
   {
    "duration": 0,
    "start_time": "2025-05-20T14:05:49.408Z"
   },
   {
    "duration": 0,
    "start_time": "2025-05-20T14:05:49.409Z"
   },
   {
    "duration": 0,
    "start_time": "2025-05-20T14:05:49.410Z"
   },
   {
    "duration": 1,
    "start_time": "2025-05-20T14:05:49.411Z"
   },
   {
    "duration": 0,
    "start_time": "2025-05-20T14:05:49.413Z"
   },
   {
    "duration": 0,
    "start_time": "2025-05-20T14:05:49.414Z"
   },
   {
    "duration": 0,
    "start_time": "2025-05-20T14:05:49.415Z"
   },
   {
    "duration": 0,
    "start_time": "2025-05-20T14:05:49.416Z"
   },
   {
    "duration": 0,
    "start_time": "2025-05-20T14:05:49.417Z"
   },
   {
    "duration": 0,
    "start_time": "2025-05-20T14:05:49.418Z"
   },
   {
    "duration": 0,
    "start_time": "2025-05-20T14:05:49.419Z"
   },
   {
    "duration": 0,
    "start_time": "2025-05-20T14:05:49.420Z"
   },
   {
    "duration": 0,
    "start_time": "2025-05-20T14:05:49.421Z"
   },
   {
    "duration": 1312,
    "start_time": "2025-05-20T14:07:32.072Z"
   },
   {
    "duration": 49,
    "start_time": "2025-05-20T14:07:33.387Z"
   },
   {
    "duration": 14,
    "start_time": "2025-05-20T14:07:33.438Z"
   },
   {
    "duration": 18,
    "start_time": "2025-05-20T14:07:33.454Z"
   },
   {
    "duration": 45,
    "start_time": "2025-05-20T14:07:33.474Z"
   },
   {
    "duration": 83,
    "start_time": "2025-05-20T14:07:33.521Z"
   },
   {
    "duration": 87,
    "start_time": "2025-05-20T14:07:33.606Z"
   },
   {
    "duration": 48,
    "start_time": "2025-05-20T14:07:33.695Z"
   },
   {
    "duration": 207,
    "start_time": "2025-05-20T14:07:33.745Z"
   },
   {
    "duration": 310,
    "start_time": "2025-05-20T14:07:33.955Z"
   },
   {
    "duration": 14,
    "start_time": "2025-05-20T14:07:34.266Z"
   },
   {
    "duration": 140,
    "start_time": "2025-05-20T14:07:34.281Z"
   },
   {
    "duration": 0,
    "start_time": "2025-05-20T14:07:34.424Z"
   },
   {
    "duration": 1,
    "start_time": "2025-05-20T14:07:34.425Z"
   },
   {
    "duration": 0,
    "start_time": "2025-05-20T14:07:34.427Z"
   },
   {
    "duration": 0,
    "start_time": "2025-05-20T14:07:34.429Z"
   },
   {
    "duration": 0,
    "start_time": "2025-05-20T14:07:34.430Z"
   },
   {
    "duration": 0,
    "start_time": "2025-05-20T14:07:34.432Z"
   },
   {
    "duration": 0,
    "start_time": "2025-05-20T14:07:34.433Z"
   },
   {
    "duration": 0,
    "start_time": "2025-05-20T14:07:34.435Z"
   },
   {
    "duration": 0,
    "start_time": "2025-05-20T14:07:34.436Z"
   },
   {
    "duration": 0,
    "start_time": "2025-05-20T14:07:34.437Z"
   },
   {
    "duration": 0,
    "start_time": "2025-05-20T14:07:34.439Z"
   },
   {
    "duration": 0,
    "start_time": "2025-05-20T14:07:34.440Z"
   },
   {
    "duration": 0,
    "start_time": "2025-05-20T14:07:34.442Z"
   },
   {
    "duration": 0,
    "start_time": "2025-05-20T14:07:34.443Z"
   },
   {
    "duration": 0,
    "start_time": "2025-05-20T14:07:34.444Z"
   },
   {
    "duration": 0,
    "start_time": "2025-05-20T14:07:34.445Z"
   },
   {
    "duration": 0,
    "start_time": "2025-05-20T14:07:34.446Z"
   },
   {
    "duration": 0,
    "start_time": "2025-05-20T14:07:34.447Z"
   },
   {
    "duration": 0,
    "start_time": "2025-05-20T14:07:34.448Z"
   },
   {
    "duration": 0,
    "start_time": "2025-05-20T14:07:34.449Z"
   },
   {
    "duration": 0,
    "start_time": "2025-05-20T14:07:34.450Z"
   },
   {
    "duration": 0,
    "start_time": "2025-05-20T14:07:34.451Z"
   },
   {
    "duration": 0,
    "start_time": "2025-05-20T14:07:34.452Z"
   },
   {
    "duration": 0,
    "start_time": "2025-05-20T14:07:34.505Z"
   },
   {
    "duration": 0,
    "start_time": "2025-05-20T14:07:34.507Z"
   },
   {
    "duration": 0,
    "start_time": "2025-05-20T14:07:34.508Z"
   },
   {
    "duration": 1360,
    "start_time": "2025-05-20T14:08:18.290Z"
   },
   {
    "duration": 35,
    "start_time": "2025-05-20T14:08:19.652Z"
   },
   {
    "duration": 17,
    "start_time": "2025-05-20T14:08:19.688Z"
   },
   {
    "duration": 20,
    "start_time": "2025-05-20T14:08:19.707Z"
   },
   {
    "duration": 6,
    "start_time": "2025-05-20T14:08:19.729Z"
   },
   {
    "duration": 11,
    "start_time": "2025-05-20T14:08:19.736Z"
   },
   {
    "duration": 7,
    "start_time": "2025-05-20T14:08:19.749Z"
   },
   {
    "duration": 19,
    "start_time": "2025-05-20T14:08:19.758Z"
   },
   {
    "duration": 215,
    "start_time": "2025-05-20T14:08:19.779Z"
   },
   {
    "duration": 266,
    "start_time": "2025-05-20T14:08:20.004Z"
   },
   {
    "duration": 14,
    "start_time": "2025-05-20T14:08:20.273Z"
   },
   {
    "duration": 21,
    "start_time": "2025-05-20T14:08:20.303Z"
   },
   {
    "duration": 260,
    "start_time": "2025-05-20T14:08:20.326Z"
   },
   {
    "duration": 17,
    "start_time": "2025-05-20T14:08:20.589Z"
   },
   {
    "duration": 13,
    "start_time": "2025-05-20T14:08:20.608Z"
   },
   {
    "duration": 32,
    "start_time": "2025-05-20T14:08:20.622Z"
   },
   {
    "duration": 1822,
    "start_time": "2025-05-20T14:08:20.656Z"
   },
   {
    "duration": 6,
    "start_time": "2025-05-20T14:08:22.480Z"
   },
   {
    "duration": 107,
    "start_time": "2025-05-20T14:08:22.487Z"
   },
   {
    "duration": 16,
    "start_time": "2025-05-20T14:08:22.597Z"
   },
   {
    "duration": 6,
    "start_time": "2025-05-20T14:08:22.615Z"
   },
   {
    "duration": 182,
    "start_time": "2025-05-20T14:08:22.623Z"
   },
   {
    "duration": 8,
    "start_time": "2025-05-20T14:08:22.807Z"
   },
   {
    "duration": 128,
    "start_time": "2025-05-20T14:08:22.817Z"
   },
   {
    "duration": 16,
    "start_time": "2025-05-20T14:08:22.947Z"
   },
   {
    "duration": 193,
    "start_time": "2025-05-20T14:08:22.965Z"
   },
   {
    "duration": 62,
    "start_time": "2025-05-20T14:08:23.160Z"
   },
   {
    "duration": 188,
    "start_time": "2025-05-20T14:08:23.224Z"
   },
   {
    "duration": 54,
    "start_time": "2025-05-20T14:08:23.414Z"
   },
   {
    "duration": 858,
    "start_time": "2025-05-20T14:08:23.470Z"
   },
   {
    "duration": 177,
    "start_time": "2025-05-20T14:08:24.330Z"
   },
   {
    "duration": 252,
    "start_time": "2025-05-20T14:08:24.509Z"
   },
   {
    "duration": 20,
    "start_time": "2025-05-20T14:08:24.763Z"
   },
   {
    "duration": 151,
    "start_time": "2025-05-20T14:08:24.785Z"
   },
   {
    "duration": 42,
    "start_time": "2025-05-20T14:08:24.938Z"
   },
   {
    "duration": 84,
    "start_time": "2025-05-20T14:08:24.982Z"
   },
   {
    "duration": 136,
    "start_time": "2025-05-20T14:08:25.068Z"
   },
   {
    "duration": 5,
    "start_time": "2025-05-20T14:08:25.206Z"
   },
   {
    "duration": 1473,
    "start_time": "2025-05-21T12:21:14.356Z"
   },
   {
    "duration": 35,
    "start_time": "2025-05-21T12:21:15.832Z"
   },
   {
    "duration": 18,
    "start_time": "2025-05-21T12:21:15.869Z"
   },
   {
    "duration": 24,
    "start_time": "2025-05-21T12:21:59.042Z"
   },
   {
    "duration": 9,
    "start_time": "2025-05-21T12:21:59.337Z"
   },
   {
    "duration": 1281,
    "start_time": "2025-05-21T18:16:48.181Z"
   },
   {
    "duration": 3,
    "start_time": "2025-05-21T18:18:01.161Z"
   },
   {
    "duration": 25,
    "start_time": "2025-05-21T18:18:02.704Z"
   },
   {
    "duration": 95,
    "start_time": "2025-05-21T18:18:11.599Z"
   },
   {
    "duration": 23,
    "start_time": "2025-05-21T18:18:42.383Z"
   },
   {
    "duration": 11,
    "start_time": "2025-05-21T18:18:42.944Z"
   },
   {
    "duration": 3,
    "start_time": "2025-05-21T18:33:33.664Z"
   },
   {
    "duration": 45,
    "start_time": "2025-05-21T18:33:33.668Z"
   },
   {
    "duration": 9,
    "start_time": "2025-05-21T18:33:33.715Z"
   },
   {
    "duration": 25,
    "start_time": "2025-05-21T18:33:33.726Z"
   },
   {
    "duration": 32,
    "start_time": "2025-05-21T18:33:33.754Z"
   },
   {
    "duration": 57,
    "start_time": "2025-05-21T18:33:33.788Z"
   },
   {
    "duration": 11,
    "start_time": "2025-05-21T18:33:33.846Z"
   },
   {
    "duration": 6,
    "start_time": "2025-05-21T18:33:33.858Z"
   },
   {
    "duration": 36,
    "start_time": "2025-05-21T18:33:33.865Z"
   },
   {
    "duration": 192,
    "start_time": "2025-05-21T18:33:33.903Z"
   },
   {
    "duration": 235,
    "start_time": "2025-05-21T18:33:34.099Z"
   },
   {
    "duration": 12,
    "start_time": "2025-05-21T18:33:34.335Z"
   },
   {
    "duration": 25,
    "start_time": "2025-05-21T18:33:34.348Z"
   },
   {
    "duration": 228,
    "start_time": "2025-05-21T18:33:34.375Z"
   },
   {
    "duration": 7,
    "start_time": "2025-05-21T18:33:34.605Z"
   },
   {
    "duration": 8,
    "start_time": "2025-05-21T18:33:34.614Z"
   },
   {
    "duration": 12,
    "start_time": "2025-05-21T18:33:34.623Z"
   },
   {
    "duration": 2319,
    "start_time": "2025-05-21T18:33:34.636Z"
   },
   {
    "duration": 7,
    "start_time": "2025-05-21T18:33:36.957Z"
   },
   {
    "duration": 53,
    "start_time": "2025-05-21T18:33:36.965Z"
   },
   {
    "duration": 43,
    "start_time": "2025-05-21T18:33:37.019Z"
   },
   {
    "duration": 6,
    "start_time": "2025-05-21T18:33:37.064Z"
   },
   {
    "duration": 170,
    "start_time": "2025-05-21T18:33:37.071Z"
   },
   {
    "duration": 6,
    "start_time": "2025-05-21T18:33:37.242Z"
   },
   {
    "duration": 102,
    "start_time": "2025-05-21T18:33:37.249Z"
   },
   {
    "duration": 21,
    "start_time": "2025-05-21T18:33:37.352Z"
   },
   {
    "duration": 93,
    "start_time": "2025-05-21T18:33:37.374Z"
   },
   {
    "duration": 41,
    "start_time": "2025-05-21T18:33:37.468Z"
   },
   {
    "duration": 156,
    "start_time": "2025-05-21T18:33:37.512Z"
   },
   {
    "duration": 43,
    "start_time": "2025-05-21T18:33:37.670Z"
   },
   {
    "duration": 689,
    "start_time": "2025-05-21T18:33:37.715Z"
   },
   {
    "duration": 147,
    "start_time": "2025-05-21T18:33:38.406Z"
   },
   {
    "duration": 207,
    "start_time": "2025-05-21T18:33:38.555Z"
   },
   {
    "duration": 16,
    "start_time": "2025-05-21T18:33:38.764Z"
   },
   {
    "duration": 113,
    "start_time": "2025-05-21T18:33:38.781Z"
   },
   {
    "duration": 69,
    "start_time": "2025-05-21T18:33:38.896Z"
   },
   {
    "duration": 5,
    "start_time": "2025-05-21T18:33:38.966Z"
   },
   {
    "duration": 119,
    "start_time": "2025-05-21T18:33:38.972Z"
   },
   {
    "duration": 57,
    "start_time": "2025-05-21T18:33:41.761Z"
   },
   {
    "duration": 13,
    "start_time": "2025-05-21T18:36:13.432Z"
   },
   {
    "duration": 1238,
    "start_time": "2025-05-21T18:38:45.517Z"
   },
   {
    "duration": 1199,
    "start_time": "2025-05-21T18:39:26.117Z"
   },
   {
    "duration": 5,
    "start_time": "2025-05-21T18:39:41.060Z"
   },
   {
    "duration": 4,
    "start_time": "2025-05-21T18:46:55.029Z"
   },
   {
    "duration": 95,
    "start_time": "2025-05-21T18:47:13.114Z"
   },
   {
    "duration": 3,
    "start_time": "2025-05-21T18:47:33.468Z"
   },
   {
    "duration": 5,
    "start_time": "2025-05-21T18:47:57.544Z"
   },
   {
    "duration": 3,
    "start_time": "2025-05-21T18:58:42.716Z"
   },
   {
    "duration": 33,
    "start_time": "2025-05-21T18:58:42.721Z"
   },
   {
    "duration": 8,
    "start_time": "2025-05-21T18:58:42.755Z"
   },
   {
    "duration": 11,
    "start_time": "2025-05-21T18:58:42.764Z"
   },
   {
    "duration": 9,
    "start_time": "2025-05-21T18:58:42.776Z"
   },
   {
    "duration": 7,
    "start_time": "2025-05-21T18:58:42.786Z"
   },
   {
    "duration": 20,
    "start_time": "2025-05-21T18:58:42.795Z"
   },
   {
    "duration": 9,
    "start_time": "2025-05-21T18:58:42.817Z"
   },
   {
    "duration": 45,
    "start_time": "2025-05-21T18:58:42.828Z"
   },
   {
    "duration": 167,
    "start_time": "2025-05-21T18:58:42.875Z"
   },
   {
    "duration": 302,
    "start_time": "2025-05-21T18:58:43.046Z"
   },
   {
    "duration": 17,
    "start_time": "2025-05-21T18:58:43.350Z"
   },
   {
    "duration": 18,
    "start_time": "2025-05-21T18:58:43.369Z"
   },
   {
    "duration": 240,
    "start_time": "2025-05-21T18:58:43.389Z"
   },
   {
    "duration": 9,
    "start_time": "2025-05-21T18:58:43.631Z"
   },
   {
    "duration": 29,
    "start_time": "2025-05-21T18:58:43.641Z"
   },
   {
    "duration": 18,
    "start_time": "2025-05-21T18:58:43.671Z"
   },
   {
    "duration": 1622,
    "start_time": "2025-05-21T18:58:43.691Z"
   },
   {
    "duration": 5,
    "start_time": "2025-05-21T18:58:45.315Z"
   },
   {
    "duration": 39,
    "start_time": "2025-05-21T18:58:45.322Z"
   },
   {
    "duration": 37,
    "start_time": "2025-05-21T18:58:45.363Z"
   },
   {
    "duration": 8,
    "start_time": "2025-05-21T18:58:45.402Z"
   },
   {
    "duration": 173,
    "start_time": "2025-05-21T18:58:45.412Z"
   },
   {
    "duration": 7,
    "start_time": "2025-05-21T18:58:45.586Z"
   },
   {
    "duration": 118,
    "start_time": "2025-05-21T18:58:45.594Z"
   },
   {
    "duration": 13,
    "start_time": "2025-05-21T18:58:45.713Z"
   },
   {
    "duration": 99,
    "start_time": "2025-05-21T18:58:45.727Z"
   },
   {
    "duration": 51,
    "start_time": "2025-05-21T18:58:45.827Z"
   },
   {
    "duration": 187,
    "start_time": "2025-05-21T18:58:45.880Z"
   },
   {
    "duration": 42,
    "start_time": "2025-05-21T18:58:46.068Z"
   },
   {
    "duration": 595,
    "start_time": "2025-05-21T18:58:46.111Z"
   },
   {
    "duration": 133,
    "start_time": "2025-05-21T18:58:46.708Z"
   },
   {
    "duration": 212,
    "start_time": "2025-05-21T18:58:46.843Z"
   },
   {
    "duration": 12,
    "start_time": "2025-05-21T18:58:47.057Z"
   },
   {
    "duration": 127,
    "start_time": "2025-05-21T18:58:47.070Z"
   },
   {
    "duration": 31,
    "start_time": "2025-05-21T18:58:47.199Z"
   },
   {
    "duration": 5,
    "start_time": "2025-05-21T18:58:47.231Z"
   },
   {
    "duration": 119,
    "start_time": "2025-05-21T18:58:47.237Z"
   },
   {
    "duration": 5,
    "start_time": "2025-05-21T18:58:47.361Z"
   },
   {
    "duration": 12,
    "start_time": "2025-05-21T18:58:47.369Z"
   },
   {
    "duration": 1134,
    "start_time": "2025-05-21T20:31:05.755Z"
   },
   {
    "duration": 25,
    "start_time": "2025-05-21T20:31:06.891Z"
   },
   {
    "duration": 49,
    "start_time": "2025-05-21T20:31:06.918Z"
   },
   {
    "duration": 11,
    "start_time": "2025-05-21T20:31:06.969Z"
   },
   {
    "duration": 18,
    "start_time": "2025-05-21T20:31:06.982Z"
   },
   {
    "duration": 46,
    "start_time": "2025-05-21T20:31:07.002Z"
   },
   {
    "duration": 12,
    "start_time": "2025-05-21T20:31:07.050Z"
   },
   {
    "duration": 5,
    "start_time": "2025-05-21T20:31:07.064Z"
   },
   {
    "duration": 67,
    "start_time": "2025-05-21T20:31:07.070Z"
   },
   {
    "duration": 176,
    "start_time": "2025-05-21T20:31:07.139Z"
   },
   {
    "duration": 243,
    "start_time": "2025-05-21T20:31:07.316Z"
   },
   {
    "duration": 18,
    "start_time": "2025-05-21T20:31:07.561Z"
   },
   {
    "duration": 25,
    "start_time": "2025-05-21T20:31:07.580Z"
   },
   {
    "duration": 246,
    "start_time": "2025-05-21T20:31:07.608Z"
   },
   {
    "duration": 7,
    "start_time": "2025-05-21T20:31:07.856Z"
   },
   {
    "duration": 4,
    "start_time": "2025-05-21T20:31:07.865Z"
   },
   {
    "duration": 7,
    "start_time": "2025-05-21T20:31:07.871Z"
   },
   {
    "duration": 1536,
    "start_time": "2025-05-21T20:31:07.879Z"
   },
   {
    "duration": 5,
    "start_time": "2025-05-21T20:31:09.417Z"
   },
   {
    "duration": 43,
    "start_time": "2025-05-21T20:31:09.423Z"
   },
   {
    "duration": 38,
    "start_time": "2025-05-21T20:31:09.468Z"
   },
   {
    "duration": 18,
    "start_time": "2025-05-21T20:31:09.508Z"
   },
   {
    "duration": 161,
    "start_time": "2025-05-21T20:31:09.527Z"
   },
   {
    "duration": 7,
    "start_time": "2025-05-21T20:31:09.689Z"
   },
   {
    "duration": 108,
    "start_time": "2025-05-21T20:31:09.698Z"
   },
   {
    "duration": 14,
    "start_time": "2025-05-21T20:31:09.808Z"
   },
   {
    "duration": 99,
    "start_time": "2025-05-21T20:31:09.823Z"
   },
   {
    "duration": 55,
    "start_time": "2025-05-21T20:31:09.924Z"
   },
   {
    "duration": 165,
    "start_time": "2025-05-21T20:31:09.981Z"
   },
   {
    "duration": 47,
    "start_time": "2025-05-21T20:31:10.147Z"
   },
   {
    "duration": 734,
    "start_time": "2025-05-21T20:31:10.195Z"
   },
   {
    "duration": 164,
    "start_time": "2025-05-21T20:31:10.931Z"
   },
   {
    "duration": 224,
    "start_time": "2025-05-21T20:31:11.096Z"
   },
   {
    "duration": 25,
    "start_time": "2025-05-21T20:31:11.321Z"
   },
   {
    "duration": 133,
    "start_time": "2025-05-21T20:31:11.348Z"
   },
   {
    "duration": 35,
    "start_time": "2025-05-21T20:31:11.483Z"
   },
   {
    "duration": 4,
    "start_time": "2025-05-21T20:31:11.520Z"
   },
   {
    "duration": 133,
    "start_time": "2025-05-21T20:31:11.540Z"
   },
   {
    "duration": 5,
    "start_time": "2025-05-21T20:31:11.675Z"
   },
   {
    "duration": 26,
    "start_time": "2025-05-21T20:31:11.682Z"
   },
   {
    "duration": 98,
    "start_time": "2025-05-21T20:32:01.267Z"
   },
   {
    "duration": 17,
    "start_time": "2025-05-21T20:32:10.860Z"
   },
   {
    "duration": 4,
    "start_time": "2025-05-21T20:32:26.157Z"
   }
  ],
  "colab": {
   "provenance": [],
   "toc_visible": true
  },
  "kernelspec": {
   "display_name": "Python 3 (ipykernel)",
   "language": "python",
   "name": "python3"
  },
  "language_info": {
   "codemirror_mode": {
    "name": "ipython",
    "version": 3
   },
   "file_extension": ".py",
   "mimetype": "text/x-python",
   "name": "python",
   "nbconvert_exporter": "python",
   "pygments_lexer": "ipython3",
   "version": "3.9.5"
  },
  "toc": {
   "base_numbering": 1,
   "nav_menu": {},
   "number_sections": true,
   "sideBar": true,
   "skip_h1_title": true,
   "title_cell": "Table of Contents",
   "title_sidebar": "Contents",
   "toc_cell": false,
   "toc_position": {},
   "toc_section_display": true,
   "toc_window_display": true
  }
 },
 "nbformat": 4,
 "nbformat_minor": 5
}
