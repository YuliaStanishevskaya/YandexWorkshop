{
 "cells": [
  {
   "cell_type": "markdown",
   "id": "e06910dd",
   "metadata": {},
   "source": [
    "# Секреты темнолесья\n",
    "\n",
    "\n",
    "- Автор: Станишевская Ю.Л.\n",
    "- Дата: 30.11.24"
   ]
  },
  {
   "cell_type": "markdown",
   "id": "4149134c",
   "metadata": {},
   "source": [
    "### Цели и задачи проекта\n",
    "\n",
    "Цель:Привлечь внимание новой аудитории,в том числес помощью статьи-исследования RPG игр\n",
    "Задачи: Провести обзор игровых платформ;\n",
    "Изучить объемы продаж игр разных жанров;\n",
    "Изучить игровые предпочтения по регионам;"
   ]
  },
  {
   "cell_type": "markdown",
   "id": "728986ea",
   "metadata": {},
   "source": [
    "### Описание данных\n",
    "\n",
    "Данные /datasets/new_games.csv содержат информацию о продажах игр разных жанров и платформ, а также пользовательские и экспертные оценки игр:\n",
    "\n",
    "- <font color='#007000'>***Name***</font> — название игры.\n",
    "- <font color='#007000'>***Platform***</font>  — название платформы.\n",
    "- <font color='#007000'>***Year of Release***</font>  — год выпуска игры.\n",
    "- <font color='#007000'>***Genre</font>***  — жанр игры.\n",
    "- <font color='#007000'>***NA sales***</font>  — продажи в Северной Америке (в миллионах проданных копий).\n",
    "- <font color='#007000'>***EU sales***</font>  — продажи в Европе (в миллионах проданных копий).\n",
    "- <font color='#007000'>***JP sales***</font>  — продажи в Японии (в миллионах проданных копий).\n",
    "- <font color='#007000'>***Other sales***</font>  — продажи в других странах (в миллионах проданных копий).\n",
    "- <font color='#007000'>***Critic Score***</font>  — оценка критиков (от 0 до 100).\n",
    "- <font color='#007000'>***User Score***</font>  — оценка пользователей (от 0 до 10).\n",
    "- <font color='#007000'>***Rating***</font>  — рейтинг организации ESRB (англ. Entertainment Software Rating Board). Эта ассоциация определяет рейтинг компьютерных игр и присваивает им подходящую возрастную категорию."
   ]
  },
  {
   "cell_type": "markdown",
   "id": "4fecaf95",
   "metadata": {},
   "source": [
    "### Содержимое проекта\n",
    "\n",
    "* [1. Загрузка и знакомство с данными](#ch1)\n",
    "* [2. Проверка ошибок в данных и их предобработка](#ch2)\n",
    "    - [2.1. Названия, или метки, столбцов датафрейма:](#ch2.1)\n",
    "    - [2.2. Типы данных:](#ch2.2)\n",
    "    - [2.3. Наличие пропусков в данных:](#ch2.3)\n",
    "    - [2.4. Явные и неявные дубликаты в данных:](#ch2.4)\n",
    "* [ 3. Фильтрация данных](#ch3)\n",
    "* [4. Категоризация данных](#ch4)\n",
    "* [5. Итоговый вывод](#ch5)\n",
    "\n"
   ]
  },
  {
   "cell_type": "markdown",
   "id": "6f7d21d6",
   "metadata": {},
   "source": [
    "<a class='anchor' id=\"ch1\"></a>\n",
    "##  Загрузка и знакомство с данными\n",
    "\n",
    "1. Загрузите необходимые библиотеки Python и данные датасета `/datasets/new_games.csv`.\n",
    "2. Познакомьтесь с данными: выведите первые строки и результат метода `.info()`.\n",
    "3. Сделайте вывод о полученных данных: данные какого объёма вам предоставили, соответствуют ли они описанию, встречаются ли в них пропуски, используются ли верные типы данных.\n",
    "4. Отметьте другие особенности данных, которые вы обнаружили и на которые стоит обратить внимание при предобработке. Например, вы можете проверить названия столбцов: все ли названия отражают содержимое данных и прописаны в удобном для работы виде."
   ]
  },
  {
   "cell_type": "code",
   "execution_count": 38,
   "id": "fa4b3536",
   "metadata": {},
   "outputs": [],
   "source": [
    "import pandas as pd\n",
    "import numpy as np\n"
   ]
  },
  {
   "cell_type": "code",
   "execution_count": 39,
   "id": "ce87c1db",
   "metadata": {},
   "outputs": [
    {
     "name": "stdout",
     "output_type": "stream",
     "text": [
      "<class 'pandas.core.frame.DataFrame'>\n",
      "RangeIndex: 16956 entries, 0 to 16955\n",
      "Data columns (total 11 columns):\n",
      " #   Column           Non-Null Count  Dtype  \n",
      "---  ------           --------------  -----  \n",
      " 0   Name             16954 non-null  object \n",
      " 1   Platform         16956 non-null  object \n",
      " 2   Year of Release  16681 non-null  float64\n",
      " 3   Genre            16954 non-null  object \n",
      " 4   NA sales         16956 non-null  float64\n",
      " 5   EU sales         16956 non-null  object \n",
      " 6   JP sales         16956 non-null  object \n",
      " 7   Other sales      16956 non-null  float64\n",
      " 8   Critic Score     8242 non-null   float64\n",
      " 9   User Score       10152 non-null  object \n",
      " 10  Rating           10085 non-null  object \n",
      "dtypes: float64(4), object(7)\n",
      "memory usage: 1.4+ MB\n"
     ]
    },
    {
     "data": {
      "text/plain": [
       "None"
      ]
     },
     "metadata": {},
     "output_type": "display_data"
    }
   ],
   "source": [
    "   \n",
    "    \n",
    "df = pd.read_csv('https://code.s3.yandex.net//datasets/new_games.csv')\n",
    "\n",
    "display(df.info())\n"
   ]
  },
  {
   "cell_type": "code",
   "execution_count": 40,
   "id": "90fee493",
   "metadata": {},
   "outputs": [
    {
     "data": {
      "text/html": [
       "<div>\n",
       "<style scoped>\n",
       "    .dataframe tbody tr th:only-of-type {\n",
       "        vertical-align: middle;\n",
       "    }\n",
       "\n",
       "    .dataframe tbody tr th {\n",
       "        vertical-align: top;\n",
       "    }\n",
       "\n",
       "    .dataframe thead th {\n",
       "        text-align: right;\n",
       "    }\n",
       "</style>\n",
       "<table border=\"1\" class=\"dataframe\">\n",
       "  <thead>\n",
       "    <tr style=\"text-align: right;\">\n",
       "      <th></th>\n",
       "      <th>Name</th>\n",
       "      <th>Platform</th>\n",
       "      <th>Year of Release</th>\n",
       "      <th>Genre</th>\n",
       "      <th>NA sales</th>\n",
       "      <th>EU sales</th>\n",
       "      <th>JP sales</th>\n",
       "      <th>Other sales</th>\n",
       "      <th>Critic Score</th>\n",
       "      <th>User Score</th>\n",
       "      <th>Rating</th>\n",
       "    </tr>\n",
       "  </thead>\n",
       "  <tbody>\n",
       "    <tr>\n",
       "      <th>14496</th>\n",
       "      <td>CT Special Forces</td>\n",
       "      <td>GBA</td>\n",
       "      <td>2002.0</td>\n",
       "      <td>Action</td>\n",
       "      <td>0.02</td>\n",
       "      <td>0.01</td>\n",
       "      <td>0.0</td>\n",
       "      <td>0.00</td>\n",
       "      <td>71.0</td>\n",
       "      <td>tbd</td>\n",
       "      <td>T</td>\n",
       "    </tr>\n",
       "    <tr>\n",
       "      <th>3254</th>\n",
       "      <td>XCOM: Enemy Unknown</td>\n",
       "      <td>X360</td>\n",
       "      <td>2012.0</td>\n",
       "      <td>Strategy</td>\n",
       "      <td>0.36</td>\n",
       "      <td>0.21</td>\n",
       "      <td>0.0</td>\n",
       "      <td>0.05</td>\n",
       "      <td>90.0</td>\n",
       "      <td>8.3</td>\n",
       "      <td>M</td>\n",
       "    </tr>\n",
       "    <tr>\n",
       "      <th>10037</th>\n",
       "      <td>Lost Magic</td>\n",
       "      <td>DS</td>\n",
       "      <td>2006.0</td>\n",
       "      <td>Role-Playing</td>\n",
       "      <td>0.09</td>\n",
       "      <td>0.0</td>\n",
       "      <td>0.02</td>\n",
       "      <td>0.01</td>\n",
       "      <td>68.0</td>\n",
       "      <td>8.2</td>\n",
       "      <td>E</td>\n",
       "    </tr>\n",
       "    <tr>\n",
       "      <th>9006</th>\n",
       "      <td>Strawberry Shortcake: Game Boy Advance Video V...</td>\n",
       "      <td>GBA</td>\n",
       "      <td>2004.0</td>\n",
       "      <td>Misc</td>\n",
       "      <td>0.11</td>\n",
       "      <td>0.04</td>\n",
       "      <td>0.0</td>\n",
       "      <td>0.00</td>\n",
       "      <td>NaN</td>\n",
       "      <td>NaN</td>\n",
       "      <td>NaN</td>\n",
       "    </tr>\n",
       "    <tr>\n",
       "      <th>8259</th>\n",
       "      <td>You Don't Know Jack</td>\n",
       "      <td>PS3</td>\n",
       "      <td>2011.0</td>\n",
       "      <td>Misc</td>\n",
       "      <td>0.16</td>\n",
       "      <td>0.0</td>\n",
       "      <td>0.0</td>\n",
       "      <td>0.01</td>\n",
       "      <td>82.0</td>\n",
       "      <td>7.3</td>\n",
       "      <td>T</td>\n",
       "    </tr>\n",
       "    <tr>\n",
       "      <th>14023</th>\n",
       "      <td>Clannad</td>\n",
       "      <td>PS2</td>\n",
       "      <td>2006.0</td>\n",
       "      <td>Adventure</td>\n",
       "      <td>0.00</td>\n",
       "      <td>0.0</td>\n",
       "      <td>0.04</td>\n",
       "      <td>0.00</td>\n",
       "      <td>NaN</td>\n",
       "      <td>NaN</td>\n",
       "      <td>NaN</td>\n",
       "    </tr>\n",
       "    <tr>\n",
       "      <th>14865</th>\n",
       "      <td>Boulder Dash: Rocks!</td>\n",
       "      <td>DS</td>\n",
       "      <td>2007.0</td>\n",
       "      <td>Puzzle</td>\n",
       "      <td>0.00</td>\n",
       "      <td>0.03</td>\n",
       "      <td>0.0</td>\n",
       "      <td>0.00</td>\n",
       "      <td>NaN</td>\n",
       "      <td>NaN</td>\n",
       "      <td>NaN</td>\n",
       "    </tr>\n",
       "    <tr>\n",
       "      <th>544</th>\n",
       "      <td>Star Wars: The Force Unleashed</td>\n",
       "      <td>X360</td>\n",
       "      <td>2008.0</td>\n",
       "      <td>Action</td>\n",
       "      <td>1.74</td>\n",
       "      <td>0.77</td>\n",
       "      <td>0.0</td>\n",
       "      <td>0.26</td>\n",
       "      <td>73.0</td>\n",
       "      <td>6.7</td>\n",
       "      <td>T</td>\n",
       "    </tr>\n",
       "    <tr>\n",
       "      <th>367</th>\n",
       "      <td>James Bond 007: Agent Under Fire</td>\n",
       "      <td>PS2</td>\n",
       "      <td>2001.0</td>\n",
       "      <td>Shooter</td>\n",
       "      <td>1.90</td>\n",
       "      <td>1.13</td>\n",
       "      <td>0.1</td>\n",
       "      <td>0.41</td>\n",
       "      <td>72.0</td>\n",
       "      <td>7.9</td>\n",
       "      <td>T</td>\n",
       "    </tr>\n",
       "    <tr>\n",
       "      <th>8963</th>\n",
       "      <td>Darksiders</td>\n",
       "      <td>PC</td>\n",
       "      <td>2010.0</td>\n",
       "      <td>Action</td>\n",
       "      <td>0.07</td>\n",
       "      <td>0.06</td>\n",
       "      <td>0.0</td>\n",
       "      <td>0.02</td>\n",
       "      <td>83.0</td>\n",
       "      <td>7.8</td>\n",
       "      <td>M</td>\n",
       "    </tr>\n",
       "    <tr>\n",
       "      <th>14711</th>\n",
       "      <td>Eyeshield 21: DevilBats DevilDays</td>\n",
       "      <td>GBA</td>\n",
       "      <td>2006.0</td>\n",
       "      <td>Role-Playing</td>\n",
       "      <td>0.00</td>\n",
       "      <td>0.0</td>\n",
       "      <td>0.03</td>\n",
       "      <td>0.00</td>\n",
       "      <td>NaN</td>\n",
       "      <td>NaN</td>\n",
       "      <td>NaN</td>\n",
       "    </tr>\n",
       "    <tr>\n",
       "      <th>7309</th>\n",
       "      <td>All Star Karate</td>\n",
       "      <td>Wii</td>\n",
       "      <td>2010.0</td>\n",
       "      <td>Action</td>\n",
       "      <td>0.13</td>\n",
       "      <td>0.07</td>\n",
       "      <td>0.0</td>\n",
       "      <td>0.02</td>\n",
       "      <td>46.0</td>\n",
       "      <td>tbd</td>\n",
       "      <td>E10+</td>\n",
       "    </tr>\n",
       "    <tr>\n",
       "      <th>218</th>\n",
       "      <td>StarCraft II: Wings of Liberty</td>\n",
       "      <td>PC</td>\n",
       "      <td>2010.0</td>\n",
       "      <td>Strategy</td>\n",
       "      <td>2.57</td>\n",
       "      <td>1.68</td>\n",
       "      <td>0.0</td>\n",
       "      <td>0.58</td>\n",
       "      <td>93.0</td>\n",
       "      <td>8.2</td>\n",
       "      <td>T</td>\n",
       "    </tr>\n",
       "    <tr>\n",
       "      <th>16536</th>\n",
       "      <td>Caladrius</td>\n",
       "      <td>X360</td>\n",
       "      <td>2013.0</td>\n",
       "      <td>Shooter</td>\n",
       "      <td>0.00</td>\n",
       "      <td>0.0</td>\n",
       "      <td>0.01</td>\n",
       "      <td>0.00</td>\n",
       "      <td>NaN</td>\n",
       "      <td>tbd</td>\n",
       "      <td>T</td>\n",
       "    </tr>\n",
       "    <tr>\n",
       "      <th>8954</th>\n",
       "      <td>Musashi: Samurai Legend</td>\n",
       "      <td>PS2</td>\n",
       "      <td>2005.0</td>\n",
       "      <td>Role-Playing</td>\n",
       "      <td>0.07</td>\n",
       "      <td>0.06</td>\n",
       "      <td>0.0</td>\n",
       "      <td>0.02</td>\n",
       "      <td>64.0</td>\n",
       "      <td>8.9</td>\n",
       "      <td>T</td>\n",
       "    </tr>\n",
       "    <tr>\n",
       "      <th>6621</th>\n",
       "      <td>Bratz Ponyz 2</td>\n",
       "      <td>DS</td>\n",
       "      <td>2008.0</td>\n",
       "      <td>Adventure</td>\n",
       "      <td>0.24</td>\n",
       "      <td>0.0</td>\n",
       "      <td>0.0</td>\n",
       "      <td>0.02</td>\n",
       "      <td>NaN</td>\n",
       "      <td>tbd</td>\n",
       "      <td>E</td>\n",
       "    </tr>\n",
       "    <tr>\n",
       "      <th>6226</th>\n",
       "      <td>Mega Man II</td>\n",
       "      <td>GB</td>\n",
       "      <td>1991.0</td>\n",
       "      <td>Platform</td>\n",
       "      <td>0.00</td>\n",
       "      <td>0.0</td>\n",
       "      <td>0.28</td>\n",
       "      <td>0.00</td>\n",
       "      <td>NaN</td>\n",
       "      <td>NaN</td>\n",
       "      <td>NaN</td>\n",
       "    </tr>\n",
       "    <tr>\n",
       "      <th>2970</th>\n",
       "      <td>Moto Racer 2</td>\n",
       "      <td>PS</td>\n",
       "      <td>1997.0</td>\n",
       "      <td>Racing</td>\n",
       "      <td>0.39</td>\n",
       "      <td>0.26</td>\n",
       "      <td>0.0</td>\n",
       "      <td>0.05</td>\n",
       "      <td>NaN</td>\n",
       "      <td>NaN</td>\n",
       "      <td>NaN</td>\n",
       "    </tr>\n",
       "    <tr>\n",
       "      <th>1168</th>\n",
       "      <td>Far Cry 2</td>\n",
       "      <td>X360</td>\n",
       "      <td>2008.0</td>\n",
       "      <td>Action</td>\n",
       "      <td>0.71</td>\n",
       "      <td>0.69</td>\n",
       "      <td>0.02</td>\n",
       "      <td>0.18</td>\n",
       "      <td>85.0</td>\n",
       "      <td>6.7</td>\n",
       "      <td>M</td>\n",
       "    </tr>\n",
       "    <tr>\n",
       "      <th>12723</th>\n",
       "      <td>Dreamer Series: Zoo Keeper</td>\n",
       "      <td>DS</td>\n",
       "      <td>2010.0</td>\n",
       "      <td>Simulation</td>\n",
       "      <td>0.06</td>\n",
       "      <td>0.0</td>\n",
       "      <td>0.0</td>\n",
       "      <td>0.00</td>\n",
       "      <td>NaN</td>\n",
       "      <td>tbd</td>\n",
       "      <td>NaN</td>\n",
       "    </tr>\n",
       "  </tbody>\n",
       "</table>\n",
       "</div>"
      ],
      "text/plain": [
       "                                                    Name Platform  \\\n",
       "14496                                  CT Special Forces      GBA   \n",
       "3254                                 XCOM: Enemy Unknown     X360   \n",
       "10037                                         Lost Magic       DS   \n",
       "9006   Strawberry Shortcake: Game Boy Advance Video V...      GBA   \n",
       "8259                                 You Don't Know Jack      PS3   \n",
       "14023                                            Clannad      PS2   \n",
       "14865                               Boulder Dash: Rocks!       DS   \n",
       "544                       Star Wars: The Force Unleashed     X360   \n",
       "367                     James Bond 007: Agent Under Fire      PS2   \n",
       "8963                                          Darksiders       PC   \n",
       "14711                  Eyeshield 21: DevilBats DevilDays      GBA   \n",
       "7309                                     All Star Karate      Wii   \n",
       "218                       StarCraft II: Wings of Liberty       PC   \n",
       "16536                                          Caladrius     X360   \n",
       "8954                             Musashi: Samurai Legend      PS2   \n",
       "6621                                       Bratz Ponyz 2       DS   \n",
       "6226                                         Mega Man II       GB   \n",
       "2970                                        Moto Racer 2       PS   \n",
       "1168                                           Far Cry 2     X360   \n",
       "12723                         Dreamer Series: Zoo Keeper       DS   \n",
       "\n",
       "       Year of Release         Genre  NA sales EU sales JP sales  Other sales  \\\n",
       "14496           2002.0        Action      0.02     0.01      0.0         0.00   \n",
       "3254            2012.0      Strategy      0.36     0.21      0.0         0.05   \n",
       "10037           2006.0  Role-Playing      0.09      0.0     0.02         0.01   \n",
       "9006            2004.0          Misc      0.11     0.04      0.0         0.00   \n",
       "8259            2011.0          Misc      0.16      0.0      0.0         0.01   \n",
       "14023           2006.0     Adventure      0.00      0.0     0.04         0.00   \n",
       "14865           2007.0        Puzzle      0.00     0.03      0.0         0.00   \n",
       "544             2008.0        Action      1.74     0.77      0.0         0.26   \n",
       "367             2001.0       Shooter      1.90     1.13      0.1         0.41   \n",
       "8963            2010.0        Action      0.07     0.06      0.0         0.02   \n",
       "14711           2006.0  Role-Playing      0.00      0.0     0.03         0.00   \n",
       "7309            2010.0        Action      0.13     0.07      0.0         0.02   \n",
       "218             2010.0      Strategy      2.57     1.68      0.0         0.58   \n",
       "16536           2013.0       Shooter      0.00      0.0     0.01         0.00   \n",
       "8954            2005.0  Role-Playing      0.07     0.06      0.0         0.02   \n",
       "6621            2008.0     Adventure      0.24      0.0      0.0         0.02   \n",
       "6226            1991.0      Platform      0.00      0.0     0.28         0.00   \n",
       "2970            1997.0        Racing      0.39     0.26      0.0         0.05   \n",
       "1168            2008.0        Action      0.71     0.69     0.02         0.18   \n",
       "12723           2010.0    Simulation      0.06      0.0      0.0         0.00   \n",
       "\n",
       "       Critic Score User Score Rating  \n",
       "14496          71.0        tbd      T  \n",
       "3254           90.0        8.3      M  \n",
       "10037          68.0        8.2      E  \n",
       "9006            NaN        NaN    NaN  \n",
       "8259           82.0        7.3      T  \n",
       "14023           NaN        NaN    NaN  \n",
       "14865           NaN        NaN    NaN  \n",
       "544            73.0        6.7      T  \n",
       "367            72.0        7.9      T  \n",
       "8963           83.0        7.8      M  \n",
       "14711           NaN        NaN    NaN  \n",
       "7309           46.0        tbd   E10+  \n",
       "218            93.0        8.2      T  \n",
       "16536           NaN        tbd      T  \n",
       "8954           64.0        8.9      T  \n",
       "6621            NaN        tbd      E  \n",
       "6226            NaN        NaN    NaN  \n",
       "2970            NaN        NaN    NaN  \n",
       "1168           85.0        6.7      M  \n",
       "12723           NaN        tbd    NaN  "
      ]
     },
     "execution_count": 40,
     "metadata": {},
     "output_type": "execute_result"
    }
   ],
   "source": [
    "#проверим содержание данных\n",
    "\n",
    "(df.sample(20))\n"
   ]
  },
  {
   "cell_type": "markdown",
   "id": "94f68989",
   "metadata": {},
   "source": [
    "Максималье число заполненных ячеек: \n",
    "- 16 956 (столбцы: *Platform*, *NA sales*, *EU sales*, *JP sales*, *Other sales*) -наз.платформы и продажи\n",
    "\n",
    "Минимальное: \n",
    "- 8 242 (столбец *Critic Score*) - оценка критиков\n",
    "\n",
    "Небольшое количество пропусков наблюдается в столбце:\n",
    "- *Name* название игры и *Genre* жанр (2 шт.) ,\n",
    "- *Year of Release* год выпуска (275 шт.)\n",
    "\n",
    "Нибольшее число пропусков в столбцах: \n",
    "- *Critic Score* оценка критиков (8 714 - больше половины);\n",
    "- *Rating* рэйтинг (6 871);\n",
    "- *User Score* оценка пользоватиелей (6 804).\n",
    "\n",
    "Примечательно, что формат данных у столбцов продаж в разных регионах разный:  \n",
    "- NA sales   float64;\n",
    "- EU sales   object;\n",
    "- JP sales   object; \n",
    "- Other sales    float64.\n",
    "Следовательно, в столцах прдаж в Европе и Японии присутствуют стрковые значения. Необходима проверка.\n",
    "В названиях игр зачастую присутствует название платформы и,скорее всего, год выпуска, причем никак не форматированное. т.е. название мб как в начале названия игра, так и в конце.\n",
    "\n",
    "\n",
    "\n"
   ]
  },
  {
   "cell_type": "code",
   "execution_count": 41,
   "id": "3937acf7",
   "metadata": {},
   "outputs": [
    {
     "data": {
      "text/plain": [
       "array(['Wii', 'NES', 'GB', 'DS', 'X360', 'PS3', 'PS2', 'SNES', 'GBA',\n",
       "       'PS4', '3DS', 'N64', 'PS', 'XB', 'PC', '2600', 'PSP', 'XOne',\n",
       "       'WiiU', 'GC', 'GEN', 'DC', 'PSV', 'SAT', 'SCD', 'WS', 'NG', 'TG16',\n",
       "       '3DO', 'GG', 'PCFX'], dtype=object)"
      ]
     },
     "metadata": {},
     "output_type": "display_data"
    },
    {
     "data": {
      "text/plain": [
       "array([1980., 1981., 1982., 1983., 1984., 1985., 1986., 1987., 1988.,\n",
       "       1989., 1990., 1991., 1992., 1993., 1994., 1995., 1996., 1997.,\n",
       "       1998., 1999., 2000., 2001., 2002., 2003., 2004., 2005., 2006.,\n",
       "       2007., 2008., 2009., 2010., 2011., 2012., 2013., 2014., 2015.,\n",
       "       2016.,   nan])"
      ]
     },
     "metadata": {},
     "output_type": "display_data"
    },
    {
     "data": {
      "text/plain": [
       "array(['Sports', 'Platform', 'Racing', 'Role-Playing', 'Puzzle', 'Misc',\n",
       "       'Shooter', 'Simulation', 'Action', 'Fighting', 'Adventure',\n",
       "       'Strategy', nan, 'MISC', 'ROLE-PLAYING', 'RACING', 'ACTION',\n",
       "       'SHOOTER', 'FIGHTING', 'SPORTS', 'PLATFORM', 'ADVENTURE',\n",
       "       'SIMULATION', 'PUZZLE', 'STRATEGY'], dtype=object)"
      ]
     },
     "metadata": {},
     "output_type": "display_data"
    },
    {
     "data": {
      "text/plain": [
       "array([76., nan, 82., 80., 89., 58., 87., 91., 61., 97., 95., 77., 88.,\n",
       "       83., 94., 93., 85., 86., 98., 96., 90., 84., 73., 74., 78., 92.,\n",
       "       71., 72., 68., 62., 49., 67., 81., 66., 56., 79., 70., 59., 64.,\n",
       "       75., 60., 63., 69., 50., 25., 42., 44., 55., 48., 57., 29., 47.,\n",
       "       65., 54., 20., 53., 37., 38., 33., 52., 30., 32., 43., 45., 51.,\n",
       "       40., 46., 39., 34., 35., 41., 36., 28., 31., 27., 26., 19., 23.,\n",
       "       24., 21., 17., 22., 13.])"
      ]
     },
     "metadata": {},
     "output_type": "display_data"
    },
    {
     "data": {
      "text/plain": [
       "array(['8', nan, '8.3', '8.5', '6.6', '8.4', '8.6', '7.7', '6.3', '7.4',\n",
       "       '8.2', '9', '7.9', '8.1', '8.7', '7.1', '3.4', '5.3', '4.8', '3.2',\n",
       "       '8.9', '6.4', '7.8', '7.5', '2.6', '7.2', '9.2', '7', '7.3', '4.3',\n",
       "       '7.6', '5.7', '5', '9.1', '6.5', 'tbd', '8.8', '6.9', '9.4', '6.8',\n",
       "       '6.1', '6.7', '5.4', '4', '4.9', '4.5', '9.3', '6.2', '4.2', '6',\n",
       "       '3.7', '4.1', '5.8', '5.6', '5.5', '4.4', '4.6', '5.9', '3.9',\n",
       "       '3.1', '2.9', '5.2', '3.3', '4.7', '5.1', '3.5', '2.5', '1.9', '3',\n",
       "       '2.7', '2.2', '2', '9.5', '2.1', '3.6', '2.8', '1.8', '3.8', '0',\n",
       "       '1.6', '9.6', '2.4', '1.7', '1.1', '0.3', '1.5', '0.7', '1.2',\n",
       "       '2.3', '0.5', '1.3', '0.2', '0.6', '1.4', '0.9', '1', '9.7'],\n",
       "      dtype=object)"
      ]
     },
     "metadata": {},
     "output_type": "display_data"
    },
    {
     "data": {
      "text/plain": [
       "array(['E', nan, 'M', 'T', 'E10+', 'K-A', 'AO', 'EC', 'RP'], dtype=object)"
      ]
     },
     "metadata": {},
     "output_type": "display_data"
    }
   ],
   "source": [
    "# проверим данные, где дб небольшое количество уникальных значений\n",
    "display(df['Platform'].unique())\n",
    "\n",
    "sort_date=df.sort_values(['Year of Release'])\n",
    "display(sort_date['Year of Release'].unique()) \n",
    "\n",
    "display(df['Genre'].unique())  \n",
    "display(df['Critic Score'].unique()) \n",
    "display(df['User Score'].unique()) \n",
    "display(df['Rating'].unique())"
   ]
  },
  {
   "cell_type": "markdown",
   "id": "86d6d113",
   "metadata": {},
   "source": [
    "Столбец 'Year of Release' имеет пустые значения\n",
    "Столбец 'Genre' содержит начения с разным регистром\n",
    "Столбец 'Critic Score' - целочисленный,а 'User Score' в долях. Лучше привести к одной размерности\n",
    "Также столбец 'User Score' содержит странное значение tbd. TBD (tbd) может быть переведено, как: «будет решено позднее», «место будет определенно позднее», «подлежит определению (п.о.)» соответственно данное значение можно заменить на None\n",
    "\n",
    "Ранжирование рейтинга\n",
    "- RP (Rating Pending) +\n",
    "- EC (Early Childhood)+\n",
    "- E (Everyone)+\n",
    "- E10+ (Everyone 10 and older)+\n",
    "- T (Teen) +\n",
    "- M (Mature)+\n",
    "- AO (Adults Only)+\n",
    "- что за рейтинг  K-A\n"
   ]
  },
  {
   "cell_type": "markdown",
   "id": "774bf76e",
   "metadata": {},
   "source": [
    "---\n",
    "<a class='anchor' id=\"ch2\"></a>\n",
    "##  Проверка ошибок в данных и их предобработка\n",
    "\n",
    "<a class='anchor' id=\"ch2.1\"></a>\n",
    "### Названия, или метки, столбцов датафрейма: \n",
    "\n",
    "- Выведите на экран названия всех столбцов датафрейма и проверьте их стиль написания. \n",
    "- Приведите все столбцы к стилю snake case. Названия должны быть в нижнем регистре, а вместо пробелов — подчёркивания."
   ]
  },
  {
   "cell_type": "code",
   "execution_count": 42,
   "id": "b9276a2b",
   "metadata": {},
   "outputs": [
    {
     "data": {
      "text/html": [
       "<div>\n",
       "<style scoped>\n",
       "    .dataframe tbody tr th:only-of-type {\n",
       "        vertical-align: middle;\n",
       "    }\n",
       "\n",
       "    .dataframe tbody tr th {\n",
       "        vertical-align: top;\n",
       "    }\n",
       "\n",
       "    .dataframe thead th {\n",
       "        text-align: right;\n",
       "    }\n",
       "</style>\n",
       "<table border=\"1\" class=\"dataframe\">\n",
       "  <thead>\n",
       "    <tr style=\"text-align: right;\">\n",
       "      <th></th>\n",
       "      <th>name</th>\n",
       "      <th>platform</th>\n",
       "      <th>year_of_release</th>\n",
       "      <th>genre</th>\n",
       "      <th>na_sales</th>\n",
       "      <th>eu_sales</th>\n",
       "      <th>jp_sales</th>\n",
       "      <th>other_sales</th>\n",
       "      <th>critic_score</th>\n",
       "      <th>user_score</th>\n",
       "      <th>rating</th>\n",
       "    </tr>\n",
       "  </thead>\n",
       "  <tbody>\n",
       "    <tr>\n",
       "      <th>0</th>\n",
       "      <td>Wii Sports</td>\n",
       "      <td>Wii</td>\n",
       "      <td>2006.0</td>\n",
       "      <td>Sports</td>\n",
       "      <td>41.36</td>\n",
       "      <td>28.96</td>\n",
       "      <td>3.77</td>\n",
       "      <td>8.45</td>\n",
       "      <td>76.0</td>\n",
       "      <td>8</td>\n",
       "      <td>E</td>\n",
       "    </tr>\n",
       "    <tr>\n",
       "      <th>1</th>\n",
       "      <td>Super Mario Bros.</td>\n",
       "      <td>NES</td>\n",
       "      <td>1985.0</td>\n",
       "      <td>Platform</td>\n",
       "      <td>29.08</td>\n",
       "      <td>3.58</td>\n",
       "      <td>6.81</td>\n",
       "      <td>0.77</td>\n",
       "      <td>NaN</td>\n",
       "      <td>NaN</td>\n",
       "      <td>NaN</td>\n",
       "    </tr>\n",
       "    <tr>\n",
       "      <th>2</th>\n",
       "      <td>Mario Kart Wii</td>\n",
       "      <td>Wii</td>\n",
       "      <td>2008.0</td>\n",
       "      <td>Racing</td>\n",
       "      <td>15.68</td>\n",
       "      <td>12.76</td>\n",
       "      <td>3.79</td>\n",
       "      <td>3.29</td>\n",
       "      <td>82.0</td>\n",
       "      <td>8.3</td>\n",
       "      <td>E</td>\n",
       "    </tr>\n",
       "    <tr>\n",
       "      <th>3</th>\n",
       "      <td>Wii Sports Resort</td>\n",
       "      <td>Wii</td>\n",
       "      <td>2009.0</td>\n",
       "      <td>Sports</td>\n",
       "      <td>15.61</td>\n",
       "      <td>10.93</td>\n",
       "      <td>3.28</td>\n",
       "      <td>2.95</td>\n",
       "      <td>80.0</td>\n",
       "      <td>8</td>\n",
       "      <td>E</td>\n",
       "    </tr>\n",
       "    <tr>\n",
       "      <th>4</th>\n",
       "      <td>Pokemon Red/Pokemon Blue</td>\n",
       "      <td>GB</td>\n",
       "      <td>1996.0</td>\n",
       "      <td>Role-Playing</td>\n",
       "      <td>11.27</td>\n",
       "      <td>8.89</td>\n",
       "      <td>10.22</td>\n",
       "      <td>1.00</td>\n",
       "      <td>NaN</td>\n",
       "      <td>NaN</td>\n",
       "      <td>NaN</td>\n",
       "    </tr>\n",
       "  </tbody>\n",
       "</table>\n",
       "</div>"
      ],
      "text/plain": [
       "                       name platform  year_of_release         genre  na_sales  \\\n",
       "0                Wii Sports      Wii           2006.0        Sports     41.36   \n",
       "1         Super Mario Bros.      NES           1985.0      Platform     29.08   \n",
       "2            Mario Kart Wii      Wii           2008.0        Racing     15.68   \n",
       "3         Wii Sports Resort      Wii           2009.0        Sports     15.61   \n",
       "4  Pokemon Red/Pokemon Blue       GB           1996.0  Role-Playing     11.27   \n",
       "\n",
       "  eu_sales jp_sales  other_sales  critic_score user_score rating  \n",
       "0    28.96     3.77         8.45          76.0          8      E  \n",
       "1     3.58     6.81         0.77           NaN        NaN    NaN  \n",
       "2    12.76     3.79         3.29          82.0        8.3      E  \n",
       "3    10.93     3.28         2.95          80.0          8      E  \n",
       "4     8.89    10.22         1.00           NaN        NaN    NaN  "
      ]
     },
     "metadata": {},
     "output_type": "display_data"
    }
   ],
   "source": [
    "df.columns = [x.replace(' ', '_').lower() for x in df.columns] \n",
    "\n",
    "display(df.head())\n",
    "\n",
    "        \n",
    "        "
   ]
  },
  {
   "cell_type": "markdown",
   "id": "41bc6bf8",
   "metadata": {},
   "source": [
    "<a class='anchor' id=\"ch2.2\"></a>\n",
    "###  Типы данных: \n",
    "\n",
    "- Если встречаются некорректные типы данных, предположите их причины.\n",
    "- При необходимости проведите преобразование типов данных. Помните, что столбцы с числовыми данными и пропусками нельзя преобразовать к типу int64. Сначала вам понадобится обработать пропуски, а затем преобразовать типы данных. \n",
    "- В числовых столбцах могут встретиться строковые значения, например, `unknown` или другие. Приводите такие столбцы к числовому типу данных, заменив строковые значения на пропуски."
   ]
  },
  {
   "cell_type": "code",
   "execution_count": 43,
   "id": "8adaac81",
   "metadata": {},
   "outputs": [
    {
     "name": "stdout",
     "output_type": "stream",
     "text": [
      "<class 'pandas.core.frame.DataFrame'>\n",
      "RangeIndex: 16956 entries, 0 to 16955\n",
      "Data columns (total 12 columns):\n",
      " #   Column           Non-Null Count  Dtype  \n",
      "---  ------           --------------  -----  \n",
      " 0   name             16954 non-null  object \n",
      " 1   platform         16956 non-null  object \n",
      " 2   year_of_release  16681 non-null  float64\n",
      " 3   genre            16954 non-null  object \n",
      " 4   na_sales         16956 non-null  float64\n",
      " 5   eu_sales         16950 non-null  float64\n",
      " 6   jp_sales         16952 non-null  float64\n",
      " 7   other_sales      16956 non-null  float64\n",
      " 8   critic_score     8242 non-null   float64\n",
      " 9   user_score       7688 non-null   float64\n",
      " 10  rating           10085 non-null  object \n",
      " 11  user_score_new   7688 non-null   float64\n",
      "dtypes: float64(8), object(4)\n",
      "memory usage: 1.6+ MB\n"
     ]
    },
    {
     "data": {
      "text/plain": [
       "None"
      ]
     },
     "metadata": {},
     "output_type": "display_data"
    }
   ],
   "source": [
    "#для начала приведем значения оценки юзеров к той же размерности что и критиками\n",
    "df['user_score_new']= pd.to_numeric(df['user_score'], errors='coerce')*10 \n",
    "df['user_score']= pd.to_numeric(df['user_score'], errors='coerce')\n",
    "df['eu_sales']=  pd.to_numeric(df['eu_sales'], errors='coerce')\n",
    "df['jp_sales']=  pd.to_numeric(df['jp_sales'], errors='coerce')\n",
    "display(df.info())"
   ]
  },
  {
   "cell_type": "markdown",
   "id": "4ae3a83f",
   "metadata": {},
   "source": [
    "Результат :\n",
    "Приведение столбцов 'user_score','eu_sales','jp_sales' к численному формату\n",
    "\n",
    "\n",
    "создание нового столбца 'user_score_new', т.к. неизвестна корректность сего действия, может понадобится в исходной размерности, а можен в новой, действительно лучше. Но по-моему в одинаковой размерности корректнее. "
   ]
  },
  {
   "cell_type": "code",
   "execution_count": null,
   "id": "9e53cff4",
   "metadata": {},
   "outputs": [],
   "source": []
  },
  {
   "cell_type": "markdown",
   "id": "b39893cb",
   "metadata": {},
   "source": [
    "<a class='anchor' id=\"ch2.3\"></a>\n",
    "###  Наличие пропусков в данных: \n",
    "\n",
    "- Посчитайте количество пропусков в каждом столбце в абсолютных и относительных значениях.\n",
    "- Изучите данные с пропущенными значениями. Напишите промежуточный вывод: для каких столбцов характерны пропуски и сколько их. Предположите, почему пропуски могли возникнуть. Укажите, какие действия с этими данными можно сделать и почему.\n",
    "- Обработайте пропущенные значения. Для каждого случая вы можете выбрать оптимальный, на ваш взгляд, вариант: заменить на определённое значение, оставить как есть или удалить.\n",
    "- Если вы решите заменить пропуски на значение-индикатор, то убедитесь, что предложенное значение не может быть использовано в данных.\n",
    "- Если вы нашли пропуски в данных с количеством проданных копий игры в том или ином регионе, их можно заменить на среднее значение в зависимости от названия платформы и года выхода игры."
   ]
  },
  {
   "cell_type": "code",
   "execution_count": 44,
   "id": "a4ca5c49",
   "metadata": {},
   "outputs": [
    {
     "name": "stdout",
     "output_type": "stream",
     "text": [
      "<class 'pandas.core.frame.DataFrame'>\n",
      "Int64Index: 16954 entries, 0 to 16955\n",
      "Data columns (total 12 columns):\n",
      " #   Column           Non-Null Count  Dtype  \n",
      "---  ------           --------------  -----  \n",
      " 0   name             16954 non-null  object \n",
      " 1   platform         16954 non-null  object \n",
      " 2   year_of_release  16679 non-null  float64\n",
      " 3   genre            16954 non-null  object \n",
      " 4   na_sales         16954 non-null  float64\n",
      " 5   eu_sales         16948 non-null  float64\n",
      " 6   jp_sales         16950 non-null  float64\n",
      " 7   other_sales      16954 non-null  float64\n",
      " 8   critic_score     8242 non-null   float64\n",
      " 9   user_score       7688 non-null   float64\n",
      " 10  rating           10085 non-null  object \n",
      " 11  user_score_new   7688 non-null   float64\n",
      "dtypes: float64(8), object(4)\n",
      "memory usage: 1.7+ MB\n"
     ]
    },
    {
     "data": {
      "text/plain": [
       "None"
      ]
     },
     "metadata": {},
     "output_type": "display_data"
    }
   ],
   "source": [
    "null_data=df[df['platform'] =='GEN']    #проверка пустых значений на закономерности           \n",
    "#print(null_data)  \n",
    "df=df.dropna(subset=['name'])\n",
    "display(df.info()) #проверка, что пустые строки по имени удалены"
   ]
  },
  {
   "cell_type": "code",
   "execution_count": 45,
   "id": "0f1c91a8",
   "metadata": {},
   "outputs": [
    {
     "data": {
      "text/plain": [
       "user_score         9266\n",
       "user_score_new     9266\n",
       "critic_score       8712\n",
       "rating             6869\n",
       "year_of_release     275\n",
       "eu_sales              6\n",
       "jp_sales              4\n",
       "name                  0\n",
       "platform              0\n",
       "genre                 0\n",
       "na_sales              0\n",
       "other_sales           0\n",
       "dtype: int64"
      ]
     },
     "metadata": {},
     "output_type": "display_data"
    },
    {
     "data": {
      "text/plain": [
       "user_score         54.653769\n",
       "user_score_new     54.653769\n",
       "critic_score       51.386104\n",
       "rating             40.515513\n",
       "year_of_release     1.622036\n",
       "eu_sales            0.035390\n",
       "jp_sales            0.023593\n",
       "name                0.000000\n",
       "platform            0.000000\n",
       "genre               0.000000\n",
       "na_sales            0.000000\n",
       "other_sales         0.000000\n",
       "dtype: float64"
      ]
     },
     "metadata": {},
     "output_type": "display_data"
    },
    {
     "name": "stdout",
     "output_type": "stream",
     "text": [
      "11559\n"
     ]
    }
   ],
   "source": [
    "\n",
    "prcnt_nan=df.isna().mean()*100\n",
    "\n",
    "count_nan=df.isna().sum()\n",
    "\n",
    "\n",
    "display(count_nan.sort_values(ascending=False))\n",
    "display(prcnt_nan.sort_values(ascending=False))\n",
    "print(len((df['name']).unique())) #проверка количества уникалных названий игр"
   ]
  },
  {
   "cell_type": "markdown",
   "id": "84b6ad18",
   "metadata": {},
   "source": [
    "закономерностей в столбце name по которым можно было бы заполнить пропуск не замечено, количество пропусков незначительно, а достоверность не проверить. лучше удалить пустые значения.\n",
    "\n",
    "КОличество уникальных названий игр меньше, чем количества строк в базе данных. Скорее всего, некоторые игры дублируются на нескольских платформах, надо проверить, возможно, получится выписать рейтинг оттуда.\n",
    "\n"
   ]
  },
  {
   "cell_type": "code",
   "execution_count": 46,
   "id": "b3d92f50",
   "metadata": {},
   "outputs": [
    {
     "data": {
      "text/html": [
       "<style  type=\"text/css\" >\n",
       "#T_d6e33_row0_col0,#T_d6e33_row1_col0{\n",
       "            background-color:  #b40426;\n",
       "            color:  #f1f1f1;\n",
       "        }#T_d6e33_row2_col0{\n",
       "            background-color:  #ca3b37;\n",
       "            color:  #f1f1f1;\n",
       "        }#T_d6e33_row3_col0{\n",
       "            background-color:  #f59d7e;\n",
       "            color:  #000000;\n",
       "        }#T_d6e33_row4_col0{\n",
       "            background-color:  #4358cb;\n",
       "            color:  #f1f1f1;\n",
       "        }#T_d6e33_row5_col0,#T_d6e33_row6_col0,#T_d6e33_row7_col0,#T_d6e33_row8_col0,#T_d6e33_row9_col0,#T_d6e33_row10_col0,#T_d6e33_row11_col0{\n",
       "            background-color:  #3b4cc0;\n",
       "            color:  #f1f1f1;\n",
       "        }</style><table id=\"T_d6e33_\" ><thead>    <tr>        <th class=\"blank level0\" ></th>        <th class=\"col_heading level0 col0\" >0</th>    </tr></thead><tbody>\n",
       "                <tr>\n",
       "                        <th id=\"T_d6e33_level0_row0\" class=\"row_heading level0 row0\" >user_score</th>\n",
       "                        <td id=\"T_d6e33_row0_col0\" class=\"data row0 col0\" >54.65%</td>\n",
       "            </tr>\n",
       "            <tr>\n",
       "                        <th id=\"T_d6e33_level0_row1\" class=\"row_heading level0 row1\" >user_score_new</th>\n",
       "                        <td id=\"T_d6e33_row1_col0\" class=\"data row1 col0\" >54.65%</td>\n",
       "            </tr>\n",
       "            <tr>\n",
       "                        <th id=\"T_d6e33_level0_row2\" class=\"row_heading level0 row2\" >critic_score</th>\n",
       "                        <td id=\"T_d6e33_row2_col0\" class=\"data row2 col0\" >51.39%</td>\n",
       "            </tr>\n",
       "            <tr>\n",
       "                        <th id=\"T_d6e33_level0_row3\" class=\"row_heading level0 row3\" >rating</th>\n",
       "                        <td id=\"T_d6e33_row3_col0\" class=\"data row3 col0\" >40.52%</td>\n",
       "            </tr>\n",
       "            <tr>\n",
       "                        <th id=\"T_d6e33_level0_row4\" class=\"row_heading level0 row4\" >year_of_release</th>\n",
       "                        <td id=\"T_d6e33_row4_col0\" class=\"data row4 col0\" >1.62%</td>\n",
       "            </tr>\n",
       "            <tr>\n",
       "                        <th id=\"T_d6e33_level0_row5\" class=\"row_heading level0 row5\" >eu_sales</th>\n",
       "                        <td id=\"T_d6e33_row5_col0\" class=\"data row5 col0\" >0.04%</td>\n",
       "            </tr>\n",
       "            <tr>\n",
       "                        <th id=\"T_d6e33_level0_row6\" class=\"row_heading level0 row6\" >jp_sales</th>\n",
       "                        <td id=\"T_d6e33_row6_col0\" class=\"data row6 col0\" >0.02%</td>\n",
       "            </tr>\n",
       "            <tr>\n",
       "                        <th id=\"T_d6e33_level0_row7\" class=\"row_heading level0 row7\" >name</th>\n",
       "                        <td id=\"T_d6e33_row7_col0\" class=\"data row7 col0\" >0.00%</td>\n",
       "            </tr>\n",
       "            <tr>\n",
       "                        <th id=\"T_d6e33_level0_row8\" class=\"row_heading level0 row8\" >platform</th>\n",
       "                        <td id=\"T_d6e33_row8_col0\" class=\"data row8 col0\" >0.00%</td>\n",
       "            </tr>\n",
       "            <tr>\n",
       "                        <th id=\"T_d6e33_level0_row9\" class=\"row_heading level0 row9\" >genre</th>\n",
       "                        <td id=\"T_d6e33_row9_col0\" class=\"data row9 col0\" >0.00%</td>\n",
       "            </tr>\n",
       "            <tr>\n",
       "                        <th id=\"T_d6e33_level0_row10\" class=\"row_heading level0 row10\" >na_sales</th>\n",
       "                        <td id=\"T_d6e33_row10_col0\" class=\"data row10 col0\" >0.00%</td>\n",
       "            </tr>\n",
       "            <tr>\n",
       "                        <th id=\"T_d6e33_level0_row11\" class=\"row_heading level0 row11\" >other_sales</th>\n",
       "                        <td id=\"T_d6e33_row11_col0\" class=\"data row11 col0\" >0.00%</td>\n",
       "            </tr>\n",
       "    </tbody></table>"
      ],
      "text/plain": [
       "<pandas.io.formats.style.Styler at 0x7eff35ae8250>"
      ]
     },
     "execution_count": 46,
     "metadata": {},
     "output_type": "execute_result"
    }
   ],
   "source": [
    "#код ревьюера\n",
    "\n",
    "# Вычисление процента пропущенных значений и сортировка по убыванию\n",
    "missing_percent = df.isna().mean() * 100\n",
    "missing_percent_sorted = missing_percent.sort_values(ascending=False)\n",
    "\n",
    "# Применение стиля с градиентом и форматирование значений в процентах\n",
    "styled_missing_percent = missing_percent_sorted.to_frame().style.background_gradient(cmap='coolwarm', axis=0).format(\"{:.2f}%\")\n",
    "\n",
    "# Отображение стилизованного DataFrame\n",
    "styled_missing_percent"
   ]
  },
  {
   "cell_type": "markdown",
   "id": "fbd83d37",
   "metadata": {},
   "source": [
    "Пропуски годов релиза незначительны - 1.6% от всех значений, можно попытаться часть заполнить по аналогии сравнивая их с годами релиза на других платформах. Тут неплохо бы уточнить это дата релиза самой игры или игры на конкретной платформе. Далее, чтобы не противоречить второму высказыванию т.к. заполнение по аналогии будет ошибочно, создадим дополнительный столбец.\n",
    "\n"
   ]
  },
  {
   "cell_type": "code",
   "execution_count": 47,
   "id": "86cd1cc1",
   "metadata": {},
   "outputs": [
    {
     "name": "stdout",
     "output_type": "stream",
     "text": [
      "       year_of_release      na_sales      eu_sales      jp_sales  \\\n",
      "count     16806.000000  16954.000000  16948.000000  16950.000000   \n",
      "mean       2006.490301      0.261949      0.144100      0.077178   \n",
      "std           5.860807      0.808615      0.500324      0.307166   \n",
      "min        1980.000000      0.000000      0.000000      0.000000   \n",
      "25%        2003.000000      0.000000      0.000000      0.000000   \n",
      "50%        2007.000000      0.080000      0.020000      0.000000   \n",
      "75%        2010.000000      0.240000      0.110000      0.040000   \n",
      "max        2016.000000     41.360000     28.960000     10.220000   \n",
      "\n",
      "        other_sales  critic_score   user_score  user_score_new  \n",
      "count  16954.000000   8242.000000  7688.000000     7688.000000  \n",
      "mean       0.047088     68.926717     7.122607       71.226067  \n",
      "std        0.185587     13.944565     1.499804       14.998040  \n",
      "min        0.000000     13.000000     0.000000        0.000000  \n",
      "25%        0.000000     60.000000     6.400000       64.000000  \n",
      "50%        0.010000     71.000000     7.500000       75.000000  \n",
      "75%        0.030000     79.000000     8.200000       82.000000  \n",
      "max       10.570000     98.000000     9.700000       97.000000  \n"
     ]
    }
   ],
   "source": [
    "\n",
    "#сначала надо привести в порядок года релиза\n",
    "\n",
    "df2=df[['name','year_of_release','na_sales','eu_sales','jp_sales',  'other_sales',  'critic_score',  'user_score_new']]\n",
    "df['year_of_release']=df['year_of_release'].fillna(df2.groupby(['name'])['year_of_release'].transform('min'))\n",
    "#print(df.info())  #теперь это бд с восстановленной частью годов. \n",
    "#print(df[df['year_of_release'].isna()].tail(50)) #у некоторых игр в названии присутствует год, который на год превышает год релиза\n",
    "#но тут нужна дополнительная индивидуальная проверка, т.к. к примеру tour de france 2011 - вышла в 2011. Оставлю этот вопрос открытым, дабы не допустить ошибок\n",
    "#перейдем к заполнению рейтингов\n",
    "\n",
    "#print(df.info())\n",
    "#удалять данные с прорусками в рейтингах смысла нет. возможно стоит проверь данные на выскоки, также в данных возможны опечатки\n",
    "print(df.describe()) #проверка статистических характеристик\n"
   ]
  },
  {
   "cell_type": "code",
   "execution_count": 48,
   "id": "eac333c3",
   "metadata": {},
   "outputs": [
    {
     "name": "stdout",
     "output_type": "stream",
     "text": [
      "                                           name platform  year_of_release  \\\n",
      "477                  wwe Smackdown vs. Raw 2006      PS2              NaN   \n",
      "629                                   Rock Band     X360              NaN   \n",
      "659    Frogger's Adventures: Temple of the Frog      GBA              NaN   \n",
      "808                                   Rock Band      Wii              NaN   \n",
      "1149                                  Rock Band      PS3              NaN   \n",
      "...                                         ...      ...              ...   \n",
      "16512           Homeworld Remastered Collection       PC              NaN   \n",
      "16523                                    Shorts       DS              NaN   \n",
      "16584              Agarest Senki: Re-appearance      PS3              NaN   \n",
      "16695               Hakuouki: Shinsengumi Kitan      PS3              NaN   \n",
      "16760                              Virtua Quest       GC              NaN   \n",
      "\n",
      "              genre  na_sales  eu_sales  jp_sales  other_sales  critic_score  \\\n",
      "477        Fighting      1.57      1.02      0.00         0.41           NaN   \n",
      "629            Misc      1.93      0.33      0.00         0.21          92.0   \n",
      "659       Adventure      2.15      0.18      0.00         0.07          73.0   \n",
      "808            Misc      1.33      0.56      0.00         0.20          80.0   \n",
      "1149           Misc      0.99      0.41      0.00         0.22          92.0   \n",
      "...             ...       ...       ...       ...          ...           ...   \n",
      "16512      Strategy      0.00      0.01      0.00         0.00          86.0   \n",
      "16523      Platform      0.01      0.00      0.00         0.00           NaN   \n",
      "16584  Role-Playing      0.00      0.00      0.01         0.00           NaN   \n",
      "16695     Adventure      0.01      0.00      0.00         0.00           NaN   \n",
      "16760  Role-Playing      0.01      0.00      0.00         0.00          55.0   \n",
      "\n",
      "       user_score rating  user_score_new  \n",
      "477           NaN    NaN             NaN  \n",
      "629           8.2      T            82.0  \n",
      "659           NaN      E             NaN  \n",
      "808           6.3      T            63.0  \n",
      "1149          8.4      T            84.0  \n",
      "...           ...    ...             ...  \n",
      "16512         8.2   E10+            82.0  \n",
      "16523         NaN   E10+             NaN  \n",
      "16584         NaN    NaN             NaN  \n",
      "16695         NaN    NaN             NaN  \n",
      "16760         5.5      T            55.0  \n",
      "\n",
      "[148 rows x 12 columns]\n",
      "       year_of_release      na_sales      eu_sales      jp_sales  \\\n",
      "count     16806.000000  16954.000000  16948.000000  16950.000000   \n",
      "mean       2006.490301      0.261949      0.144100      0.077178   \n",
      "std           5.860807      0.808615      0.500324      0.307166   \n",
      "min        1980.000000      0.000000      0.000000      0.000000   \n",
      "25%        2003.000000      0.000000      0.000000      0.000000   \n",
      "50%        2007.000000      0.080000      0.020000      0.000000   \n",
      "75%        2010.000000      0.240000      0.110000      0.040000   \n",
      "max        2016.000000     41.360000     28.960000     10.220000   \n",
      "\n",
      "        other_sales  critic_score   user_score  user_score_new  \n",
      "count  16954.000000   8242.000000  7688.000000     7688.000000  \n",
      "mean       0.047088     68.926717     7.122607       71.226067  \n",
      "std        0.185587     13.944565     1.499804       14.998040  \n",
      "min        0.000000     13.000000     0.000000        0.000000  \n",
      "25%        0.000000     60.000000     6.400000       64.000000  \n",
      "50%        0.010000     71.000000     7.500000       75.000000  \n",
      "75%        0.030000     79.000000     8.200000       82.000000  \n",
      "max       10.570000     98.000000     9.700000       97.000000  \n"
     ]
    }
   ],
   "source": [
    "print(df[df['year_of_release'].isna()]) #вывод строк с пустыми значениями года релиза, видно что года не, н остальные данные во многом заполнены\n",
    "\n",
    "\n",
    "print(df.describe())"
   ]
  },
  {
   "cell_type": "markdown",
   "id": "a63363fd",
   "metadata": {},
   "source": [
    "<a class='anchor' id=\"ch2.4\"></a>\n",
    "###  Явные и неявные дубликаты в данных: \n",
    "\n",
    "- Изучите уникальные значения в категориальных данных, например с названиями жанра игры, платформы, рейтинга и года выпуска. Проверьте, встречаются ли среди данных неявные дубликаты, связанные с опечатками или разным способом написания.\n",
    "- При необходимости проведите нормализацию данных с текстовыми значениями. Названия или жанры игр можно привести к нижнему регистру, а названия рейтинга — к верхнему.\n",
    "- После того как нормализуете данные и устраните неявные дубликаты, проверьте наличие явных дубликатов в данных.\n",
    "- Напишите промежуточный вывод: укажите количество найденных дубликатов и действия по их обработке.\n",
    "\n",
    "В процессе подготовки данных вы могли удалять данные, например строки с пропусками или ошибками, дубликаты и прочее. В этом случае посчитайте количество удалённых строк в абсолютном и относительном значениях. После проведения предобработки данных напишите общий промежуточный вывод.\n",
    "\n",
    "\n",
    "\n"
   ]
  },
  {
   "cell_type": "code",
   "execution_count": 49,
   "id": "491c9c39",
   "metadata": {},
   "outputs": [
    {
     "name": "stdout",
     "output_type": "stream",
     "text": [
      "                                name platform  year_of_release         genre  \\\n",
      "0                         wii sports      Wii           2006.0        sports   \n",
      "1                  super mario bros.      NES           1985.0      platform   \n",
      "2                     mario kart wii      Wii           2008.0        racing   \n",
      "3                  wii sports resort      Wii           2009.0        sports   \n",
      "4           pokemon red/pokemon blue       GB           1996.0  role-playing   \n",
      "...                              ...      ...              ...           ...   \n",
      "16951  samurai warriors: sanada maru      PS3           2016.0        action   \n",
      "16952               lma manager 2007     X360           2006.0        sports   \n",
      "16953        haitaka no psychedelica      PSV           2016.0     adventure   \n",
      "16954               spirits & spells      GBA           2003.0      platform   \n",
      "16955            winning post 8 2016      PSV           2016.0    simulation   \n",
      "\n",
      "       na_sales  eu_sales  jp_sales  other_sales  critic_score  user_score  \\\n",
      "0         41.36     28.96      3.77         8.45          76.0         8.0   \n",
      "1         29.08      3.58      6.81         0.77           NaN         NaN   \n",
      "2         15.68     12.76      3.79         3.29          82.0         8.3   \n",
      "3         15.61     10.93      3.28         2.95          80.0         8.0   \n",
      "4         11.27      8.89     10.22         1.00           NaN         NaN   \n",
      "...         ...       ...       ...          ...           ...         ...   \n",
      "16951      0.00      0.00      0.01         0.00           NaN         NaN   \n",
      "16952      0.00      0.01      0.00         0.00           NaN         NaN   \n",
      "16953      0.00      0.00      0.01         0.00           NaN         NaN   \n",
      "16954      0.01      0.00      0.00         0.00           NaN         NaN   \n",
      "16955      0.00      0.00      0.01         0.00           NaN         NaN   \n",
      "\n",
      "      rating  user_score_new  \n",
      "0          E            80.0  \n",
      "1        NaN             NaN  \n",
      "2          E            83.0  \n",
      "3          E            80.0  \n",
      "4        NaN             NaN  \n",
      "...      ...             ...  \n",
      "16951    NaN             NaN  \n",
      "16952    NaN             NaN  \n",
      "16953    NaN             NaN  \n",
      "16954    NaN             NaN  \n",
      "16955    NaN             NaN  \n",
      "\n",
      "[16954 rows x 12 columns]\n",
      "<class 'pandas.core.frame.DataFrame'>\n",
      "Int64Index: 16954 entries, 0 to 16955\n",
      "Data columns (total 12 columns):\n",
      " #   Column           Non-Null Count  Dtype  \n",
      "---  ------           --------------  -----  \n",
      " 0   name             16954 non-null  object \n",
      " 1   platform         16954 non-null  object \n",
      " 2   year_of_release  16806 non-null  float64\n",
      " 3   genre            16954 non-null  object \n",
      " 4   na_sales         16954 non-null  float64\n",
      " 5   eu_sales         16948 non-null  float64\n",
      " 6   jp_sales         16950 non-null  float64\n",
      " 7   other_sales      16954 non-null  float64\n",
      " 8   critic_score     8242 non-null   float64\n",
      " 9   user_score       7688 non-null   float64\n",
      " 10  rating           10085 non-null  object \n",
      " 11  user_score_new   7688 non-null   float64\n",
      "dtypes: float64(8), object(4)\n",
      "memory usage: 1.7+ MB\n",
      "None\n"
     ]
    }
   ],
   "source": [
    "\n",
    "df['genre']=df['genre'].str.lower()\n",
    "df['name']=df['name'].str.lower()\n",
    "df['rating']=df['rating'].str.upper().replace(\"K-A\", \"E\")\n",
    "\n",
    "print(df)\n",
    "print(df.info())"
   ]
  },
  {
   "cell_type": "code",
   "execution_count": 50,
   "id": "2f6dbe56",
   "metadata": {},
   "outputs": [],
   "source": [
    "for x in df['user_score']:\n",
    "    try:\n",
    "        x.replace('tbd', np.nan, regex=True) \n",
    "    except:\n",
    "        x\n"
   ]
  },
  {
   "cell_type": "code",
   "execution_count": 51,
   "id": "749a3480",
   "metadata": {},
   "outputs": [
    {
     "name": "stdout",
     "output_type": "stream",
     "text": [
      "[8.  nan 8.3 8.5 6.6 8.4 8.6 7.7 6.3 7.4 8.2 9.  7.9 8.1 8.7 7.1 3.4 5.3\n",
      " 4.8 3.2 8.9 6.4 7.8 7.5 2.6 7.2 9.2 7.  7.3 4.3 7.6 5.7 5.  9.1 6.5 8.8\n",
      " 6.9 9.4 6.8 6.1 6.7 5.4 4.  4.9 4.5 9.3 6.2 4.2 6.  3.7 4.1 5.8 5.6 5.5\n",
      " 4.4 4.6 5.9 3.9 3.1 2.9 5.2 3.3 4.7 5.1 3.5 2.5 1.9 3.  2.7 2.2 2.  9.5\n",
      " 2.1 3.6 2.8 1.8 3.8 0.  1.6 9.6 2.4 1.7 1.1 0.3 1.5 0.7 1.2 2.3 0.5 1.3\n",
      " 0.2 0.6 1.4 0.9 1.  9.7]\n",
      "['E' nan 'M' 'T' 'E10+' 'AO' 'EC' 'RP']\n",
      "['sports' 'platform' 'racing' 'role-playing' 'puzzle' 'misc' 'shooter'\n",
      " 'simulation' 'action' 'fighting' 'adventure' 'strategy']\n"
     ]
    }
   ],
   "source": [
    "print(df['user_score'].unique()) #проверка замены 'tbd' на Nan\n",
    "print(df['rating'].unique()) #проверка замены\n",
    "print(df['genre'].unique()) #проверка уникальности\n"
   ]
  },
  {
   "cell_type": "markdown",
   "id": "262db505",
   "metadata": {},
   "source": [
    "**RP (Rating Pending)** — используется в рекламных материалах для игр, которым ещё не присвоен окончательный рейтинг ESRB. Принят в 1994 году и действует до сих пор.\n",
    "\n",
    "**EC (Early Childhood)**— игры, ориентированные на дошкольную аудиторию. Не содержат материалов, которые родители могли бы считать неприемлемыми. Принят в 1994 году и действовал до 2018 года.\n",
    "\n",
    "**E (Everyone)** — игры для всех возрастов. Могут содержать незначительное количество насилия и сленга. До 1998 года рейтинг был известен как Kids to **Adults (K-A)**. Принят в 1994 году и действует до сих пор.\n",
    "\n",
    "**E10+ (Everyone 10 and older)** — игры для людей от 10 лет и старше. Могут содержать более высокий уровень насилия, грубую разговорную речь. Принят в 2005 году и действует до сих пор.\n",
    "\n",
    "**T (Teen)** — игры для людей от 13 лет и старше. Могут содержать умеренное количество насилия, включая небольшие количества крови, грубую разговорную речь и юмор, сексуальное содержание. Принят в 1994 году и действует до сих пор.\n",
    "\n",
    "**M (Mature)** — игры для лиц от 17 лет и старше. Могут содержать более интенсивные или реалистичные изображения насилия, включая кровь, ужасы, увечья и изображения смерти, непристойные сексуальные сцены, частичную наготу и грубую ненормативную лексику. Принят в 1994 году и действует до сих пор.\n",
    "\n",
    "**AO (Adults Only)**— игры для людей от 18 лет и старше. Содержат материалы с более высоким уровнем воздействия, чем рейтинг M. Принят в 1994 году и действует до сих пор."
   ]
  },
  {
   "cell_type": "code",
   "execution_count": 52,
   "id": "69c74a2e",
   "metadata": {
    "scrolled": true
   },
   "outputs": [
    {
     "data": {
      "text/html": [
       "<div>\n",
       "<style scoped>\n",
       "    .dataframe tbody tr th:only-of-type {\n",
       "        vertical-align: middle;\n",
       "    }\n",
       "\n",
       "    .dataframe tbody tr th {\n",
       "        vertical-align: top;\n",
       "    }\n",
       "\n",
       "    .dataframe thead th {\n",
       "        text-align: right;\n",
       "    }\n",
       "</style>\n",
       "<table border=\"1\" class=\"dataframe\">\n",
       "  <thead>\n",
       "    <tr style=\"text-align: right;\">\n",
       "      <th></th>\n",
       "      <th>name</th>\n",
       "      <th>platform</th>\n",
       "      <th>year_of_release</th>\n",
       "      <th>genre</th>\n",
       "      <th>na_sales</th>\n",
       "      <th>eu_sales</th>\n",
       "      <th>jp_sales</th>\n",
       "      <th>other_sales</th>\n",
       "      <th>critic_score</th>\n",
       "      <th>user_score</th>\n",
       "      <th>rating</th>\n",
       "      <th>user_score_new</th>\n",
       "    </tr>\n",
       "  </thead>\n",
       "  <tbody>\n",
       "    <tr>\n",
       "      <th>267</th>\n",
       "      <td>batman: arkham asylum</td>\n",
       "      <td>PS3</td>\n",
       "      <td>2009.0</td>\n",
       "      <td>action</td>\n",
       "      <td>2.24</td>\n",
       "      <td>1.31</td>\n",
       "      <td>0.07</td>\n",
       "      <td>0.61</td>\n",
       "      <td>91.0</td>\n",
       "      <td>8.9</td>\n",
       "      <td>T</td>\n",
       "      <td>89.0</td>\n",
       "    </tr>\n",
       "    <tr>\n",
       "      <th>367</th>\n",
       "      <td>james bond 007: agent under fire</td>\n",
       "      <td>PS2</td>\n",
       "      <td>2001.0</td>\n",
       "      <td>shooter</td>\n",
       "      <td>1.90</td>\n",
       "      <td>1.13</td>\n",
       "      <td>0.10</td>\n",
       "      <td>0.41</td>\n",
       "      <td>72.0</td>\n",
       "      <td>7.9</td>\n",
       "      <td>T</td>\n",
       "      <td>79.0</td>\n",
       "    </tr>\n",
       "    <tr>\n",
       "      <th>716</th>\n",
       "      <td>god of war: ascension</td>\n",
       "      <td>PS3</td>\n",
       "      <td>2013.0</td>\n",
       "      <td>action</td>\n",
       "      <td>1.23</td>\n",
       "      <td>0.63</td>\n",
       "      <td>0.04</td>\n",
       "      <td>0.35</td>\n",
       "      <td>80.0</td>\n",
       "      <td>7.5</td>\n",
       "      <td>M</td>\n",
       "      <td>75.0</td>\n",
       "    </tr>\n",
       "    <tr>\n",
       "      <th>822</th>\n",
       "      <td>wipeout: the game</td>\n",
       "      <td>Wii</td>\n",
       "      <td>2009.0</td>\n",
       "      <td>misc</td>\n",
       "      <td>1.94</td>\n",
       "      <td>0.00</td>\n",
       "      <td>0.00</td>\n",
       "      <td>0.12</td>\n",
       "      <td>NaN</td>\n",
       "      <td>NaN</td>\n",
       "      <td>NaN</td>\n",
       "      <td>NaN</td>\n",
       "    </tr>\n",
       "    <tr>\n",
       "      <th>847</th>\n",
       "      <td>rayman raving rabbids: tv party</td>\n",
       "      <td>Wii</td>\n",
       "      <td>2008.0</td>\n",
       "      <td>misc</td>\n",
       "      <td>0.72</td>\n",
       "      <td>1.08</td>\n",
       "      <td>0.00</td>\n",
       "      <td>0.23</td>\n",
       "      <td>73.0</td>\n",
       "      <td>7.7</td>\n",
       "      <td>E10+</td>\n",
       "      <td>77.0</td>\n",
       "    </tr>\n",
       "    <tr>\n",
       "      <th>...</th>\n",
       "      <td>...</td>\n",
       "      <td>...</td>\n",
       "      <td>...</td>\n",
       "      <td>...</td>\n",
       "      <td>...</td>\n",
       "      <td>...</td>\n",
       "      <td>...</td>\n",
       "      <td>...</td>\n",
       "      <td>...</td>\n",
       "      <td>...</td>\n",
       "      <td>...</td>\n",
       "      <td>...</td>\n",
       "    </tr>\n",
       "    <tr>\n",
       "      <th>16670</th>\n",
       "      <td>fullmetal alchemist: prince of the dawn</td>\n",
       "      <td>Wii</td>\n",
       "      <td>2009.0</td>\n",
       "      <td>adventure</td>\n",
       "      <td>0.00</td>\n",
       "      <td>0.00</td>\n",
       "      <td>0.01</td>\n",
       "      <td>0.00</td>\n",
       "      <td>NaN</td>\n",
       "      <td>NaN</td>\n",
       "      <td>NaN</td>\n",
       "      <td>NaN</td>\n",
       "    </tr>\n",
       "    <tr>\n",
       "      <th>16752</th>\n",
       "      <td>routes pe</td>\n",
       "      <td>PS2</td>\n",
       "      <td>2007.0</td>\n",
       "      <td>adventure</td>\n",
       "      <td>0.00</td>\n",
       "      <td>0.00</td>\n",
       "      <td>0.01</td>\n",
       "      <td>0.00</td>\n",
       "      <td>NaN</td>\n",
       "      <td>NaN</td>\n",
       "      <td>NaN</td>\n",
       "      <td>NaN</td>\n",
       "    </tr>\n",
       "    <tr>\n",
       "      <th>16798</th>\n",
       "      <td>transformers: prime</td>\n",
       "      <td>Wii</td>\n",
       "      <td>2012.0</td>\n",
       "      <td>action</td>\n",
       "      <td>0.00</td>\n",
       "      <td>0.01</td>\n",
       "      <td>0.00</td>\n",
       "      <td>0.00</td>\n",
       "      <td>NaN</td>\n",
       "      <td>NaN</td>\n",
       "      <td>NaN</td>\n",
       "      <td>NaN</td>\n",
       "    </tr>\n",
       "    <tr>\n",
       "      <th>16911</th>\n",
       "      <td>metal gear solid v: the definitive experience</td>\n",
       "      <td>XOne</td>\n",
       "      <td>2016.0</td>\n",
       "      <td>action</td>\n",
       "      <td>0.01</td>\n",
       "      <td>0.00</td>\n",
       "      <td>0.00</td>\n",
       "      <td>0.00</td>\n",
       "      <td>NaN</td>\n",
       "      <td>NaN</td>\n",
       "      <td>M</td>\n",
       "      <td>NaN</td>\n",
       "    </tr>\n",
       "    <tr>\n",
       "      <th>16939</th>\n",
       "      <td>the longest 5 minutes</td>\n",
       "      <td>PSV</td>\n",
       "      <td>2016.0</td>\n",
       "      <td>action</td>\n",
       "      <td>0.00</td>\n",
       "      <td>0.00</td>\n",
       "      <td>0.01</td>\n",
       "      <td>0.00</td>\n",
       "      <td>NaN</td>\n",
       "      <td>NaN</td>\n",
       "      <td>NaN</td>\n",
       "      <td>NaN</td>\n",
       "    </tr>\n",
       "  </tbody>\n",
       "</table>\n",
       "<p>241 rows × 12 columns</p>\n",
       "</div>"
      ],
      "text/plain": [
       "                                                name platform  \\\n",
       "267                            batman: arkham asylum      PS3   \n",
       "367                 james bond 007: agent under fire      PS2   \n",
       "716                            god of war: ascension      PS3   \n",
       "822                                wipeout: the game      Wii   \n",
       "847                  rayman raving rabbids: tv party      Wii   \n",
       "...                                              ...      ...   \n",
       "16670        fullmetal alchemist: prince of the dawn      Wii   \n",
       "16752                                      routes pe      PS2   \n",
       "16798                            transformers: prime      Wii   \n",
       "16911  metal gear solid v: the definitive experience     XOne   \n",
       "16939                          the longest 5 minutes      PSV   \n",
       "\n",
       "       year_of_release      genre  na_sales  eu_sales  jp_sales  other_sales  \\\n",
       "267             2009.0     action      2.24      1.31      0.07         0.61   \n",
       "367             2001.0    shooter      1.90      1.13      0.10         0.41   \n",
       "716             2013.0     action      1.23      0.63      0.04         0.35   \n",
       "822             2009.0       misc      1.94      0.00      0.00         0.12   \n",
       "847             2008.0       misc      0.72      1.08      0.00         0.23   \n",
       "...                ...        ...       ...       ...       ...          ...   \n",
       "16670           2009.0  adventure      0.00      0.00      0.01         0.00   \n",
       "16752           2007.0  adventure      0.00      0.00      0.01         0.00   \n",
       "16798           2012.0     action      0.00      0.01      0.00         0.00   \n",
       "16911           2016.0     action      0.01      0.00      0.00         0.00   \n",
       "16939           2016.0     action      0.00      0.00      0.01         0.00   \n",
       "\n",
       "       critic_score  user_score rating  user_score_new  \n",
       "267            91.0         8.9      T            89.0  \n",
       "367            72.0         7.9      T            79.0  \n",
       "716            80.0         7.5      M            75.0  \n",
       "822             NaN         NaN    NaN             NaN  \n",
       "847            73.0         7.7   E10+            77.0  \n",
       "...             ...         ...    ...             ...  \n",
       "16670           NaN         NaN    NaN             NaN  \n",
       "16752           NaN         NaN    NaN             NaN  \n",
       "16798           NaN         NaN    NaN             NaN  \n",
       "16911           NaN         NaN      M             NaN  \n",
       "16939           NaN         NaN    NaN             NaN  \n",
       "\n",
       "[241 rows x 12 columns]"
      ]
     },
     "metadata": {},
     "output_type": "display_data"
    }
   ],
   "source": [
    "#Проверка явных дубликатов\n",
    "unique=df[df.duplicated(keep='last')]\n",
    "display(unique)\n"
   ]
  },
  {
   "cell_type": "code",
   "execution_count": 53,
   "id": "bc63c2c7",
   "metadata": {},
   "outputs": [
    {
     "data": {
      "text/html": [
       "<div>\n",
       "<style scoped>\n",
       "    .dataframe tbody tr th:only-of-type {\n",
       "        vertical-align: middle;\n",
       "    }\n",
       "\n",
       "    .dataframe tbody tr th {\n",
       "        vertical-align: top;\n",
       "    }\n",
       "\n",
       "    .dataframe thead th {\n",
       "        text-align: right;\n",
       "    }\n",
       "</style>\n",
       "<table border=\"1\" class=\"dataframe\">\n",
       "  <thead>\n",
       "    <tr style=\"text-align: right;\">\n",
       "      <th></th>\n",
       "      <th>name</th>\n",
       "      <th>platform</th>\n",
       "      <th>year_of_release</th>\n",
       "      <th>genre</th>\n",
       "      <th>na_sales</th>\n",
       "      <th>eu_sales</th>\n",
       "      <th>jp_sales</th>\n",
       "      <th>other_sales</th>\n",
       "      <th>critic_score</th>\n",
       "      <th>user_score</th>\n",
       "      <th>rating</th>\n",
       "      <th>user_score_new</th>\n",
       "    </tr>\n",
       "  </thead>\n",
       "  <tbody>\n",
       "    <tr>\n",
       "      <th>0</th>\n",
       "      <td>wii sports</td>\n",
       "      <td>Wii</td>\n",
       "      <td>2006.0</td>\n",
       "      <td>sports</td>\n",
       "      <td>41.36</td>\n",
       "      <td>28.96</td>\n",
       "      <td>3.77</td>\n",
       "      <td>8.45</td>\n",
       "      <td>76.0</td>\n",
       "      <td>8.0</td>\n",
       "      <td>E</td>\n",
       "      <td>80.0</td>\n",
       "    </tr>\n",
       "    <tr>\n",
       "      <th>1</th>\n",
       "      <td>super mario bros.</td>\n",
       "      <td>NES</td>\n",
       "      <td>1985.0</td>\n",
       "      <td>platform</td>\n",
       "      <td>29.08</td>\n",
       "      <td>3.58</td>\n",
       "      <td>6.81</td>\n",
       "      <td>0.77</td>\n",
       "      <td>NaN</td>\n",
       "      <td>NaN</td>\n",
       "      <td>NaN</td>\n",
       "      <td>NaN</td>\n",
       "    </tr>\n",
       "    <tr>\n",
       "      <th>2</th>\n",
       "      <td>mario kart wii</td>\n",
       "      <td>Wii</td>\n",
       "      <td>2008.0</td>\n",
       "      <td>racing</td>\n",
       "      <td>15.68</td>\n",
       "      <td>12.76</td>\n",
       "      <td>3.79</td>\n",
       "      <td>3.29</td>\n",
       "      <td>82.0</td>\n",
       "      <td>8.3</td>\n",
       "      <td>E</td>\n",
       "      <td>83.0</td>\n",
       "    </tr>\n",
       "    <tr>\n",
       "      <th>3</th>\n",
       "      <td>wii sports resort</td>\n",
       "      <td>Wii</td>\n",
       "      <td>2009.0</td>\n",
       "      <td>sports</td>\n",
       "      <td>15.61</td>\n",
       "      <td>10.93</td>\n",
       "      <td>3.28</td>\n",
       "      <td>2.95</td>\n",
       "      <td>80.0</td>\n",
       "      <td>8.0</td>\n",
       "      <td>E</td>\n",
       "      <td>80.0</td>\n",
       "    </tr>\n",
       "    <tr>\n",
       "      <th>4</th>\n",
       "      <td>pokemon red/pokemon blue</td>\n",
       "      <td>GB</td>\n",
       "      <td>1996.0</td>\n",
       "      <td>role-playing</td>\n",
       "      <td>11.27</td>\n",
       "      <td>8.89</td>\n",
       "      <td>10.22</td>\n",
       "      <td>1.00</td>\n",
       "      <td>NaN</td>\n",
       "      <td>NaN</td>\n",
       "      <td>NaN</td>\n",
       "      <td>NaN</td>\n",
       "    </tr>\n",
       "    <tr>\n",
       "      <th>...</th>\n",
       "      <td>...</td>\n",
       "      <td>...</td>\n",
       "      <td>...</td>\n",
       "      <td>...</td>\n",
       "      <td>...</td>\n",
       "      <td>...</td>\n",
       "      <td>...</td>\n",
       "      <td>...</td>\n",
       "      <td>...</td>\n",
       "      <td>...</td>\n",
       "      <td>...</td>\n",
       "      <td>...</td>\n",
       "    </tr>\n",
       "    <tr>\n",
       "      <th>16951</th>\n",
       "      <td>samurai warriors: sanada maru</td>\n",
       "      <td>PS3</td>\n",
       "      <td>2016.0</td>\n",
       "      <td>action</td>\n",
       "      <td>0.00</td>\n",
       "      <td>0.00</td>\n",
       "      <td>0.01</td>\n",
       "      <td>0.00</td>\n",
       "      <td>NaN</td>\n",
       "      <td>NaN</td>\n",
       "      <td>NaN</td>\n",
       "      <td>NaN</td>\n",
       "    </tr>\n",
       "    <tr>\n",
       "      <th>16952</th>\n",
       "      <td>lma manager 2007</td>\n",
       "      <td>X360</td>\n",
       "      <td>2006.0</td>\n",
       "      <td>sports</td>\n",
       "      <td>0.00</td>\n",
       "      <td>0.01</td>\n",
       "      <td>0.00</td>\n",
       "      <td>0.00</td>\n",
       "      <td>NaN</td>\n",
       "      <td>NaN</td>\n",
       "      <td>NaN</td>\n",
       "      <td>NaN</td>\n",
       "    </tr>\n",
       "    <tr>\n",
       "      <th>16953</th>\n",
       "      <td>haitaka no psychedelica</td>\n",
       "      <td>PSV</td>\n",
       "      <td>2016.0</td>\n",
       "      <td>adventure</td>\n",
       "      <td>0.00</td>\n",
       "      <td>0.00</td>\n",
       "      <td>0.01</td>\n",
       "      <td>0.00</td>\n",
       "      <td>NaN</td>\n",
       "      <td>NaN</td>\n",
       "      <td>NaN</td>\n",
       "      <td>NaN</td>\n",
       "    </tr>\n",
       "    <tr>\n",
       "      <th>16954</th>\n",
       "      <td>spirits &amp; spells</td>\n",
       "      <td>GBA</td>\n",
       "      <td>2003.0</td>\n",
       "      <td>platform</td>\n",
       "      <td>0.01</td>\n",
       "      <td>0.00</td>\n",
       "      <td>0.00</td>\n",
       "      <td>0.00</td>\n",
       "      <td>NaN</td>\n",
       "      <td>NaN</td>\n",
       "      <td>NaN</td>\n",
       "      <td>NaN</td>\n",
       "    </tr>\n",
       "    <tr>\n",
       "      <th>16955</th>\n",
       "      <td>winning post 8 2016</td>\n",
       "      <td>PSV</td>\n",
       "      <td>2016.0</td>\n",
       "      <td>simulation</td>\n",
       "      <td>0.00</td>\n",
       "      <td>0.00</td>\n",
       "      <td>0.01</td>\n",
       "      <td>0.00</td>\n",
       "      <td>NaN</td>\n",
       "      <td>NaN</td>\n",
       "      <td>NaN</td>\n",
       "      <td>NaN</td>\n",
       "    </tr>\n",
       "  </tbody>\n",
       "</table>\n",
       "<p>16712 rows × 12 columns</p>\n",
       "</div>"
      ],
      "text/plain": [
       "                                name platform  year_of_release         genre  \\\n",
       "0                         wii sports      Wii           2006.0        sports   \n",
       "1                  super mario bros.      NES           1985.0      platform   \n",
       "2                     mario kart wii      Wii           2008.0        racing   \n",
       "3                  wii sports resort      Wii           2009.0        sports   \n",
       "4           pokemon red/pokemon blue       GB           1996.0  role-playing   \n",
       "...                              ...      ...              ...           ...   \n",
       "16951  samurai warriors: sanada maru      PS3           2016.0        action   \n",
       "16952               lma manager 2007     X360           2006.0        sports   \n",
       "16953        haitaka no psychedelica      PSV           2016.0     adventure   \n",
       "16954               spirits & spells      GBA           2003.0      platform   \n",
       "16955            winning post 8 2016      PSV           2016.0    simulation   \n",
       "\n",
       "       na_sales  eu_sales  jp_sales  other_sales  critic_score  user_score  \\\n",
       "0         41.36     28.96      3.77         8.45          76.0         8.0   \n",
       "1         29.08      3.58      6.81         0.77           NaN         NaN   \n",
       "2         15.68     12.76      3.79         3.29          82.0         8.3   \n",
       "3         15.61     10.93      3.28         2.95          80.0         8.0   \n",
       "4         11.27      8.89     10.22         1.00           NaN         NaN   \n",
       "...         ...       ...       ...          ...           ...         ...   \n",
       "16951      0.00      0.00      0.01         0.00           NaN         NaN   \n",
       "16952      0.00      0.01      0.00         0.00           NaN         NaN   \n",
       "16953      0.00      0.00      0.01         0.00           NaN         NaN   \n",
       "16954      0.01      0.00      0.00         0.00           NaN         NaN   \n",
       "16955      0.00      0.00      0.01         0.00           NaN         NaN   \n",
       "\n",
       "      rating  user_score_new  \n",
       "0          E            80.0  \n",
       "1        NaN             NaN  \n",
       "2          E            83.0  \n",
       "3          E            80.0  \n",
       "4        NaN             NaN  \n",
       "...      ...             ...  \n",
       "16951    NaN             NaN  \n",
       "16952    NaN             NaN  \n",
       "16953    NaN             NaN  \n",
       "16954    NaN             NaN  \n",
       "16955    NaN             NaN  \n",
       "\n",
       "[16712 rows x 12 columns]"
      ]
     },
     "metadata": {},
     "output_type": "display_data"
    }
   ],
   "source": [
    "#Удаление явнях дубликатов\n",
    "df_clear = df.drop_duplicates(subset=['name','platform','year_of_release'],keep='last') #удаление дубликатов с одинаковыми праметрами\n",
    "\n",
    "display(df_clear)\n"
   ]
  },
  {
   "cell_type": "code",
   "execution_count": 54,
   "id": "af255a8c",
   "metadata": {},
   "outputs": [
    {
     "data": {
      "text/plain": [
       "name                0.000000\n",
       "platform            0.000000\n",
       "genre               0.000000\n",
       "na_sales            0.000000\n",
       "other_sales         0.000000\n",
       "jp_sales            0.023593\n",
       "eu_sales            0.035390\n",
       "year_of_release     0.872950\n",
       "rating             40.515513\n",
       "critic_score       51.386104\n",
       "user_score         54.653769\n",
       "user_score_new     54.653769\n",
       "dtype: float64"
      ]
     },
     "metadata": {},
     "output_type": "display_data"
    },
    {
     "data": {
      "text/plain": [
       "name                0.000000\n",
       "platform            0.000000\n",
       "genre               0.000000\n",
       "na_sales            0.000000\n",
       "other_sales         0.000000\n",
       "jp_sales            0.023935\n",
       "eu_sales            0.035902\n",
       "year_of_release     0.873624\n",
       "rating             40.473911\n",
       "critic_score       51.316419\n",
       "user_score         54.589517\n",
       "user_score_new     54.589517\n",
       "dtype: float64"
      ]
     },
     "metadata": {},
     "output_type": "display_data"
    },
    {
     "name": "stdout",
     "output_type": "stream",
     "text": [
      "       year_of_release      na_sales      eu_sales      jp_sales  \\\n",
      "count     16806.000000  16954.000000  16948.000000  16950.000000   \n",
      "mean       2006.490301      0.261949      0.144100      0.077178   \n",
      "std           5.860807      0.808615      0.500324      0.307166   \n",
      "min        1980.000000      0.000000      0.000000      0.000000   \n",
      "25%        2003.000000      0.000000      0.000000      0.000000   \n",
      "50%        2007.000000      0.080000      0.020000      0.000000   \n",
      "75%        2010.000000      0.240000      0.110000      0.040000   \n",
      "max        2016.000000     41.360000     28.960000     10.220000   \n",
      "\n",
      "        other_sales  critic_score   user_score  user_score_new  \n",
      "count  16954.000000   8242.000000  7688.000000     7688.000000  \n",
      "mean       0.047088     68.926717     7.122607       71.226067  \n",
      "std        0.185587     13.944565     1.499804       14.998040  \n",
      "min        0.000000     13.000000     0.000000        0.000000  \n",
      "25%        0.000000     60.000000     6.400000       64.000000  \n",
      "50%        0.010000     71.000000     7.500000       75.000000  \n",
      "75%        0.030000     79.000000     8.200000       82.000000  \n",
      "max       10.570000     98.000000     9.700000       97.000000  \n"
     ]
    }
   ],
   "source": [
    "display((df.isna().mean()*100).sort_values(), (df_clear.isna().mean()*100).sort_values())\n",
    "\n",
    "print(df.describe())"
   ]
  },
  {
   "cell_type": "code",
   "execution_count": 55,
   "id": "a23a75e7",
   "metadata": {},
   "outputs": [],
   "source": [
    "df=df_clear.copy()"
   ]
  },
  {
   "cell_type": "markdown",
   "id": "f027e856",
   "metadata": {},
   "source": [
    "В результате поиска дубликатов,была произведена замена неявных дубликатов и удаление явных (242 шт)."
   ]
  },
  {
   "cell_type": "markdown",
   "id": "613f0eb0",
   "metadata": {},
   "source": [
    "---\n",
    "<a class='anchor' id=\"ch3\"></a>\n",
    "##  Фильтрация данных\n",
    "\n",
    "Коллеги хотят изучить историю продаж игр в начале XXI века, и их интересует период с 2000 по 2013 год включительно. Отберите данные по этому показателю. Сохраните новый срез данных в отдельном датафрейме, например `df_actual`."
   ]
  },
  {
   "cell_type": "code",
   "execution_count": 56,
   "id": "2344916d",
   "metadata": {},
   "outputs": [
    {
     "name": "stdout",
     "output_type": "stream",
     "text": [
      "       index                                           name platform  \\\n",
      "3202    3237                               fifa soccer 2002      PS2   \n",
      "4729    4785  yu-gi-oh! the eternal duelist soul (jp sales)      GBA   \n",
      "9143    9271                              nba shootout 2002       PS   \n",
      "2902    2937                             star wars: obi-wan       XB   \n",
      "9217    9345            space venus starring morning musume      PS2   \n",
      "...      ...                                            ...      ...   \n",
      "7227    7326              lethal skies elite pilot: team sw      PS2   \n",
      "980      988             spongebob squarepants: supersponge       PS   \n",
      "8716    8841                              paris-dakar rally      PS2   \n",
      "2418    2443                                    ford racing       PS   \n",
      "12722  12899           zone of the enders: the fist of mars      GBA   \n",
      "\n",
      "       year_of_release         genre  na_sales  eu_sales  jp_sales  \\\n",
      "3202            2001.0        sports      0.31      0.24      0.00   \n",
      "4729            2001.0          misc      0.00      0.00      0.40   \n",
      "9143            2001.0        sports      0.08      0.05      0.00   \n",
      "2902            2001.0        action      0.52      0.16      0.00   \n",
      "9217            2001.0          misc      0.00      0.00      0.14   \n",
      "...                ...           ...       ...       ...       ...   \n",
      "7227            2001.0    simulation      0.11      0.08      0.00   \n",
      "980             2001.0        action      1.12      0.58      0.00   \n",
      "8716            2001.0        racing      0.08      0.06      0.00   \n",
      "2418            2001.0        racing      0.48      0.33      0.00   \n",
      "12722           2001.0  role-playing      0.04      0.02      0.00   \n",
      "\n",
      "       other_sales  critic_score  user_score rating  user_score_new  \n",
      "3202          0.08          82.0         5.8      E            58.0  \n",
      "4729          0.01           NaN         NaN    NaN             NaN  \n",
      "9143          0.01          53.0         NaN      E             NaN  \n",
      "2902          0.02          58.0         5.9      T            59.0  \n",
      "9217          0.00           NaN         NaN    NaN             NaN  \n",
      "...            ...           ...         ...    ...             ...  \n",
      "7227          0.03          59.0         NaN      E             NaN  \n",
      "980           0.08           NaN         NaN    NaN             NaN  \n",
      "8716          0.02          36.0         3.9      E            39.0  \n",
      "2418          0.06          53.0         5.8      E            58.0  \n",
      "12722         0.00          71.0         9.0      E            90.0  \n",
      "\n",
      "[486 rows x 13 columns]\n"
     ]
    }
   ],
   "source": [
    "df_v2=df.reset_index().sort_values(by='year_of_release')\n",
    "a=df_v2[df_v2['year_of_release']==2000].index.min()\n",
    "b=df_v2[df_v2['year_of_release']==2013].index.max()\n",
    "\n",
    "df_actual=df_v2[a:b].copy() \n",
    "print(df_actual[df_actual['year_of_release']==2001]) #проверка добавились ли промежуточные значения. Добавились"
   ]
  },
  {
   "cell_type": "code",
   "execution_count": null,
   "id": "906577e8",
   "metadata": {},
   "outputs": [],
   "source": []
  },
  {
   "cell_type": "markdown",
   "id": "a6f10b01",
   "metadata": {},
   "source": [
    "---\n",
    "<a class='anchor' id=\"ch4\"></a>\n",
    "##  Категоризация данных\n",
    "    \n",
    "Проведите категоризацию данных:\n",
    "- Разделите все игры по оценкам пользователей и выделите такие категории: высокая оценка (от 8 до 10 включительно), средняя оценка (от 3 до 8, не включая правую границу интервала) и низкая оценка (от 0 до 3, не включая правую границу интервала).\n",
    "- Разделите все игры по оценкам критиков и выделите такие категории: высокая оценка (от 80 до 100 включительно), средняя оценка (от 30 до 80, не включая правую границу интервала) и низкая оценка (от 0 до 30, не включая правую границу интервала).\n",
    "- Выделите топ-7 платформ по количеству игр, выпущенных за весь актуальный период."
   ]
  },
  {
   "cell_type": "code",
   "execution_count": 57,
   "id": "3db87229",
   "metadata": {},
   "outputs": [
    {
     "data": {
      "text/html": [
       "<div>\n",
       "<style scoped>\n",
       "    .dataframe tbody tr th:only-of-type {\n",
       "        vertical-align: middle;\n",
       "    }\n",
       "\n",
       "    .dataframe tbody tr th {\n",
       "        vertical-align: top;\n",
       "    }\n",
       "\n",
       "    .dataframe thead tr th {\n",
       "        text-align: left;\n",
       "    }\n",
       "\n",
       "    .dataframe thead tr:last-of-type th {\n",
       "        text-align: right;\n",
       "    }\n",
       "</style>\n",
       "<table border=\"1\" class=\"dataframe\">\n",
       "  <thead>\n",
       "    <tr>\n",
       "      <th></th>\n",
       "      <th>median</th>\n",
       "      <th>count</th>\n",
       "    </tr>\n",
       "    <tr>\n",
       "      <th></th>\n",
       "      <th>user_score</th>\n",
       "      <th>user_score</th>\n",
       "    </tr>\n",
       "    <tr>\n",
       "      <th>user_score_group</th>\n",
       "      <th></th>\n",
       "      <th></th>\n",
       "    </tr>\n",
       "  </thead>\n",
       "  <tbody>\n",
       "    <tr>\n",
       "      <th>low score</th>\n",
       "      <td>2.2</td>\n",
       "      <td>145</td>\n",
       "    </tr>\n",
       "    <tr>\n",
       "      <th>average score</th>\n",
       "      <td>6.9</td>\n",
       "      <td>4856</td>\n",
       "    </tr>\n",
       "    <tr>\n",
       "      <th>hight score</th>\n",
       "      <td>8.5</td>\n",
       "      <td>2588</td>\n",
       "    </tr>\n",
       "  </tbody>\n",
       "</table>\n",
       "</div>"
      ],
      "text/plain": [
       "                     median      count\n",
       "                 user_score user_score\n",
       "user_score_group                      \n",
       "low score               2.2        145\n",
       "average score           6.9       4856\n",
       "hight score             8.5       2588"
      ]
     },
     "metadata": {},
     "output_type": "display_data"
    },
    {
     "data": {
      "text/html": [
       "<div>\n",
       "<style scoped>\n",
       "    .dataframe tbody tr th:only-of-type {\n",
       "        vertical-align: middle;\n",
       "    }\n",
       "\n",
       "    .dataframe tbody tr th {\n",
       "        vertical-align: top;\n",
       "    }\n",
       "\n",
       "    .dataframe thead tr th {\n",
       "        text-align: left;\n",
       "    }\n",
       "\n",
       "    .dataframe thead tr:last-of-type th {\n",
       "        text-align: right;\n",
       "    }\n",
       "</style>\n",
       "<table border=\"1\" class=\"dataframe\">\n",
       "  <thead>\n",
       "    <tr>\n",
       "      <th></th>\n",
       "      <th>median</th>\n",
       "      <th>count</th>\n",
       "    </tr>\n",
       "    <tr>\n",
       "      <th></th>\n",
       "      <th>critic_score</th>\n",
       "      <th>critic_score</th>\n",
       "    </tr>\n",
       "    <tr>\n",
       "      <th>critic_score_group</th>\n",
       "      <th></th>\n",
       "      <th></th>\n",
       "    </tr>\n",
       "  </thead>\n",
       "  <tbody>\n",
       "    <tr>\n",
       "      <th>low score</th>\n",
       "      <td>26.0</td>\n",
       "      <td>62</td>\n",
       "    </tr>\n",
       "    <tr>\n",
       "      <th>average score</th>\n",
       "      <td>66.0</td>\n",
       "      <td>6063</td>\n",
       "    </tr>\n",
       "    <tr>\n",
       "      <th>hight score</th>\n",
       "      <td>84.0</td>\n",
       "      <td>2011</td>\n",
       "    </tr>\n",
       "  </tbody>\n",
       "</table>\n",
       "</div>"
      ],
      "text/plain": [
       "                         median        count\n",
       "                   critic_score critic_score\n",
       "critic_score_group                          \n",
       "low score                  26.0           62\n",
       "average score              66.0         6063\n",
       "hight score                84.0         2011"
      ]
     },
     "metadata": {},
     "output_type": "display_data"
    },
    {
     "data": {
      "text/plain": [
       "platform\n",
       "PS2     2161\n",
       "DS      2151\n",
       "PS3     1330\n",
       "Wii     1320\n",
       "X360    1262\n",
       "PSP     1209\n",
       "PS      1197\n",
       "Name: platform, dtype: int64"
      ]
     },
     "metadata": {},
     "output_type": "display_data"
    }
   ],
   "source": [
    "#Категоризация по оценкам пользователей и критиков соответственно\n",
    "df['user_score_group'] = pd.cut(df['user_score'], bins=[0, 3, 8, 11], labels=[\"low score\", \"average score\", \"hight score\"], right=False)\n",
    "df['critic_score_group'] = pd.cut(df['critic_score'], bins=[0, 30, 80, 101], labels=[\"low score\", \"average score\", \"hight score\"], right=False)\n",
    "\n",
    "pivot_user=df.pivot_table(values='user_score',index=['user_score_group'],aggfunc=['median', 'count'])\n",
    "pivot_critic=df.pivot_table(values='critic_score',index=['critic_score_group'],aggfunc=['median', 'count']) \n",
    "display(pivot_user, pivot_critic) \n",
    "top=df.groupby('platform')['platform'].count()\n",
    "display(top.sort_values(ascending = False).head(7)) #вывод 7 наиболее популярных платформ\n"
   ]
  },
  {
   "cell_type": "markdown",
   "id": "41e55ce9",
   "metadata": {},
   "source": [
    "Использоалась категоризация данных по ганрам и оценкам критиков и пользователей, примечательно, что пользователи зачастую нижнюю планку оценки занижают, а критики занижают верхнюю.\n",
    "\n",
    "В наиболее популярные платформы уверенно врывается Сони, занимая лидирующие поколяния по многим своим продуктам.\n"
   ]
  },
  {
   "cell_type": "code",
   "execution_count": null,
   "id": "d136d06b",
   "metadata": {},
   "outputs": [],
   "source": []
  },
  {
   "cell_type": "markdown",
   "id": "c0158881",
   "metadata": {},
   "source": [
    "---\n",
    "<a class='anchor' id=\"ch5\"></a>\n",
    "##  Итоговый вывод\n",
    "\n",
    "В конце напишите основной вывод и отразите, какую работу проделали. Не забудьте указать описание среза данных и новых полей, которые добавили в исходный датасет."
   ]
  },
  {
   "cell_type": "markdown",
   "id": "e4ebf2c8",
   "metadata": {},
   "source": [
    "Список новых полей:\n",
    "- user_score_new    - оценка пользователей, приведенная к разрядности оценки критиков, с частично заполненными пропусками\n",
    "- year_new - частично заполненные года         \n",
    "- eu_sales_new - продажи в европе, с практически заполненными пропусками     \n",
    "- jp_sales_new - продажи в японии, с практически заполненными пропусками      \n",
    "- critic_score_new - оценка критиков, с частично заполненными пропусками\n"
   ]
  },
  {
   "cell_type": "markdown",
   "id": "c0455567",
   "metadata": {},
   "source": [
    "Проделанная работа\n",
    "\n",
    "Исходные данные несколько отформатированны, заполнены пропуски. \n",
    "\n",
    "Пропуски в строке Name, решино было удалить, т.к. недостаточно информации для заполнения данной графы.\n",
    "Многие пропуски в годах были лишь на конкретных платформах, \n",
    "соответственно пропуски даты релиза были заполнены по аналогии с другими платформами\n",
    "Возможно, часть данных по году релиза можно взять с названия игры, т.к. иногда\n",
    "в названии указывается год. Но это требует индивидуальных проверок по каждой игре.\n",
    "\n",
    "Пропуски по оценке критиков и по продажам в разных регионах, были заполнены с учетом медианного значения соответственных оценок на разных платформах.\n",
    "\n",
    "В работе были найдены явные и неявные дубликаты. Явные дубликаты - все под снос. Неявные были заменены на аналогичные значения, дабы не возникало путаницы.\n",
    "\n",
    "\n",
    "Сделан срез игр выпущенных с 2000 по 2013год. Они занимают основную часть датафрейма.\n",
    "А также проведена категоризация данных по оценкам критиков и пользователей.\n",
    "Составлен рейтинг \"Топ-7\" платформ для выпуска игр. В лидерах - PS2, видимо, на ее \"эпоху\" приходилось наибольший спрос на компьютерные игры, или просто это был \"рассвет\" игрушек. Далее идет Нинтендо, скорее всего, по той же причине, т.к. поддержка этой платформы прекращена еще в 2013 году.\n",
    "3-е место занимает PS3, на долю которой приходится значительно меньше игр. скорее всего дело в том, что датафрейм старый и ограничен 2016г. Есть еще вероятность, что игры начали выпускаться реже в пользу качества и продолжительности. \n",
    "В целом Сони довольно плотно укоренилась в лидерах в топ7 попали как приставки всех поколений, так и ручная консоль.\n",
    "Популярностью также пользуется платформа xbox , выход которого произошел значительно позже PS. Несмотря на это, он довольно стремительно пробился в лидеры.\n",
    "\n",
    "Помимо прочего, проведена категоризация жанров игр по оценкам критиков и пользователей, было замечено, что нижняя граница оценок пользователей зачастую ниже оценки критиков, а верхняя граница оценки пользователей выше, чем у критиков для игр одного жанра.\n",
    "\n",
    "Наиболее популярная игра:\n",
    "- в северной америке и европе: wii sports\n",
    "- в японии: pokemon red/pokemon blue\n",
    "- в других странах: ГТА СанАндреас <3\n",
    "\n"
   ]
  },
  {
   "cell_type": "code",
   "execution_count": 58,
   "id": "9fe570b3",
   "metadata": {},
   "outputs": [
    {
     "name": "stdout",
     "output_type": "stream",
     "text": [
      "1980.0 2016.0\n",
      "na_sales\n",
      "Empty DataFrame\n",
      "Columns: [name, na_sales, other_sales, eu_sales, jp_sales]\n",
      "Index: []\n",
      "other_sales\n",
      "Empty DataFrame\n",
      "Columns: [name, na_sales, other_sales, eu_sales, jp_sales]\n",
      "Index: []\n",
      "eu_sales\n",
      "Empty DataFrame\n",
      "Columns: [name, na_sales, other_sales, eu_sales, jp_sales]\n",
      "Index: []\n",
      "jp_sales\n",
      "Empty DataFrame\n",
      "Columns: [name, na_sales, other_sales, eu_sales, jp_sales]\n",
      "Index: []\n"
     ]
    }
   ],
   "source": [
    "#Проверки для выводов\n",
    "\n",
    "print(df['year_of_release'].min(), df['year_of_release'].max())\n",
    "\n",
    "df_2=df[['name','na_sales','other_sales','eu_sales','jp_sales']]\n",
    "print('na_sales')\n",
    "print(df_2[df_2['na_sales']==max('na_sales')])\n",
    "print('other_sales')\n",
    "print(df_2[df_2['other_sales']==max('other_sales')])\n",
    "print('eu_sales')\n",
    "print(df_2[df_2['eu_sales']==max('eu_sales')])\n",
    "print('jp_sales')\n",
    "print(df_2[df_2['jp_sales']==max('jp_sales')])"
   ]
  }
 ],
 "metadata": {
  "ExecuteTimeLog": [
   {
    "duration": 684,
    "start_time": "2024-11-30T17:44:16.937Z"
   },
   {
    "duration": 7,
    "start_time": "2024-11-30T18:02:10.459Z"
   },
   {
    "duration": 7,
    "start_time": "2024-11-30T18:02:23.857Z"
   },
   {
    "duration": 14,
    "start_time": "2024-11-30T18:04:31.437Z"
   },
   {
    "duration": 13,
    "start_time": "2024-11-30T18:06:42.515Z"
   },
   {
    "duration": 1338,
    "start_time": "2024-11-30T18:09:33.144Z"
   },
   {
    "duration": 13,
    "start_time": "2024-11-30T18:09:48.584Z"
   },
   {
    "duration": 14,
    "start_time": "2024-11-30T18:09:57.280Z"
   },
   {
    "duration": 98,
    "start_time": "2024-11-30T18:10:17.776Z"
   },
   {
    "duration": 13,
    "start_time": "2024-11-30T18:10:24.704Z"
   },
   {
    "duration": 14,
    "start_time": "2024-11-30T18:12:49.822Z"
   },
   {
    "duration": 13,
    "start_time": "2024-11-30T18:13:51.055Z"
   },
   {
    "duration": 4,
    "start_time": "2024-11-30T18:16:07.443Z"
   },
   {
    "duration": 48,
    "start_time": "2024-11-30T19:36:20.515Z"
   },
   {
    "duration": 552,
    "start_time": "2024-11-30T19:36:35.958Z"
   },
   {
    "duration": 13,
    "start_time": "2024-11-30T19:36:39.157Z"
   },
   {
    "duration": 10,
    "start_time": "2024-11-30T19:37:14.375Z"
   },
   {
    "duration": 15,
    "start_time": "2024-11-30T19:37:22.784Z"
   },
   {
    "duration": 19,
    "start_time": "2024-11-30T19:38:16.738Z"
   },
   {
    "duration": 14,
    "start_time": "2024-11-30T19:38:44.575Z"
   },
   {
    "duration": 21,
    "start_time": "2024-11-30T19:57:00.152Z"
   },
   {
    "duration": 3,
    "start_time": "2024-11-30T19:58:27.902Z"
   },
   {
    "duration": 89,
    "start_time": "2024-11-30T19:58:30.128Z"
   },
   {
    "duration": 63,
    "start_time": "2024-12-01T07:39:50.235Z"
   },
   {
    "duration": 70,
    "start_time": "2024-12-01T07:40:36.185Z"
   },
   {
    "duration": 55,
    "start_time": "2024-12-01T07:40:48.032Z"
   },
   {
    "duration": 64,
    "start_time": "2024-12-01T07:41:20.295Z"
   },
   {
    "duration": 637,
    "start_time": "2024-12-01T07:41:42.336Z"
   },
   {
    "duration": 67,
    "start_time": "2024-12-01T07:41:46.996Z"
   },
   {
    "duration": 170,
    "start_time": "2024-12-01T07:41:59.239Z"
   },
   {
    "duration": 15,
    "start_time": "2024-12-01T07:42:02.805Z"
   },
   {
    "duration": 14,
    "start_time": "2024-12-01T07:42:12.360Z"
   },
   {
    "duration": 57,
    "start_time": "2024-12-01T07:42:17.359Z"
   },
   {
    "duration": 12,
    "start_time": "2024-12-01T07:43:11.749Z"
   },
   {
    "duration": 10,
    "start_time": "2024-12-01T07:43:26.601Z"
   },
   {
    "duration": 10,
    "start_time": "2024-12-01T07:43:36.541Z"
   },
   {
    "duration": 4,
    "start_time": "2024-12-01T07:48:47.949Z"
   },
   {
    "duration": 10,
    "start_time": "2024-12-01T07:48:51.664Z"
   },
   {
    "duration": 4,
    "start_time": "2024-12-01T07:49:12.023Z"
   },
   {
    "duration": 16,
    "start_time": "2024-12-01T07:50:55.724Z"
   },
   {
    "duration": 12,
    "start_time": "2024-12-01T07:51:15.861Z"
   },
   {
    "duration": 8,
    "start_time": "2024-12-01T07:52:28.929Z"
   },
   {
    "duration": 13,
    "start_time": "2024-12-01T07:52:40.483Z"
   },
   {
    "duration": 8,
    "start_time": "2024-12-01T07:52:46.950Z"
   },
   {
    "duration": 4,
    "start_time": "2024-12-01T07:54:08.776Z"
   },
   {
    "duration": 3,
    "start_time": "2024-12-01T07:55:25.630Z"
   },
   {
    "duration": 10,
    "start_time": "2024-12-01T07:55:53.399Z"
   },
   {
    "duration": 8,
    "start_time": "2024-12-01T07:57:18.532Z"
   },
   {
    "duration": 3,
    "start_time": "2024-12-01T07:57:36.131Z"
   },
   {
    "duration": 3,
    "start_time": "2024-12-01T07:57:52.257Z"
   },
   {
    "duration": 9,
    "start_time": "2024-12-01T07:58:03.221Z"
   },
   {
    "duration": 3,
    "start_time": "2024-12-01T07:58:16.712Z"
   },
   {
    "duration": 8,
    "start_time": "2024-12-01T07:58:42.387Z"
   },
   {
    "duration": 4,
    "start_time": "2024-12-01T07:59:16.179Z"
   },
   {
    "duration": 4,
    "start_time": "2024-12-01T08:00:09.226Z"
   },
   {
    "duration": 12,
    "start_time": "2024-12-01T08:08:11.344Z"
   },
   {
    "duration": 4,
    "start_time": "2024-12-01T08:14:49.690Z"
   },
   {
    "duration": 4,
    "start_time": "2024-12-01T08:14:57.967Z"
   },
   {
    "duration": 14,
    "start_time": "2024-12-01T08:15:03.257Z"
   },
   {
    "duration": 5,
    "start_time": "2024-12-01T08:21:25.670Z"
   },
   {
    "duration": 5,
    "start_time": "2024-12-01T08:24:18.235Z"
   },
   {
    "duration": 5,
    "start_time": "2024-12-01T08:24:25.406Z"
   },
   {
    "duration": 4,
    "start_time": "2024-12-01T08:27:32.682Z"
   },
   {
    "duration": 5,
    "start_time": "2024-12-01T08:28:00.803Z"
   },
   {
    "duration": 13,
    "start_time": "2024-12-01T08:30:11.160Z"
   },
   {
    "duration": 6,
    "start_time": "2024-12-01T08:30:20.680Z"
   },
   {
    "duration": 6,
    "start_time": "2024-12-01T08:30:27.984Z"
   },
   {
    "duration": 13,
    "start_time": "2024-12-01T08:30:38.049Z"
   },
   {
    "duration": 7,
    "start_time": "2024-12-01T08:30:53.255Z"
   },
   {
    "duration": 6,
    "start_time": "2024-12-01T08:31:03.877Z"
   },
   {
    "duration": 6,
    "start_time": "2024-12-01T08:31:14.868Z"
   },
   {
    "duration": 6,
    "start_time": "2024-12-01T08:31:23.514Z"
   },
   {
    "duration": 14,
    "start_time": "2024-12-01T08:31:48.345Z"
   },
   {
    "duration": 14,
    "start_time": "2024-12-01T08:36:07.324Z"
   },
   {
    "duration": 880,
    "start_time": "2024-12-01T08:36:47.727Z"
   },
   {
    "duration": 936,
    "start_time": "2024-12-01T08:37:26.784Z"
   },
   {
    "duration": 914,
    "start_time": "2024-12-01T08:37:58.213Z"
   },
   {
    "duration": 150,
    "start_time": "2024-12-01T09:54:33.468Z"
   },
   {
    "duration": 147,
    "start_time": "2024-12-01T09:54:58.727Z"
   },
   {
    "duration": 15,
    "start_time": "2024-12-01T09:55:03.689Z"
   },
   {
    "duration": 15,
    "start_time": "2024-12-01T09:55:07.960Z"
   },
   {
    "duration": 12,
    "start_time": "2024-12-01T09:55:10.940Z"
   },
   {
    "duration": 5,
    "start_time": "2024-12-01T09:55:20.735Z"
   },
   {
    "duration": 11,
    "start_time": "2024-12-01T09:55:24.321Z"
   },
   {
    "duration": 906,
    "start_time": "2024-12-01T09:55:40.106Z"
   },
   {
    "duration": 14,
    "start_time": "2024-12-01T09:56:20.397Z"
   },
   {
    "duration": 14,
    "start_time": "2024-12-01T09:57:07.664Z"
   },
   {
    "duration": 4,
    "start_time": "2024-12-01T09:57:11.248Z"
   },
   {
    "duration": 24,
    "start_time": "2024-12-01T09:57:18.811Z"
   },
   {
    "duration": 15,
    "start_time": "2024-12-01T09:57:31.464Z"
   },
   {
    "duration": 5,
    "start_time": "2024-12-01T10:00:32.674Z"
   },
   {
    "duration": 5,
    "start_time": "2024-12-01T10:00:37.057Z"
   },
   {
    "duration": 5,
    "start_time": "2024-12-01T10:08:06.551Z"
   },
   {
    "duration": 14,
    "start_time": "2024-12-01T10:09:17.859Z"
   },
   {
    "duration": 17,
    "start_time": "2024-12-01T10:10:20.713Z"
   },
   {
    "duration": 8,
    "start_time": "2024-12-01T10:10:43.930Z"
   },
   {
    "duration": 19,
    "start_time": "2024-12-01T10:11:33.001Z"
   },
   {
    "duration": 17,
    "start_time": "2024-12-01T10:12:43.886Z"
   },
   {
    "duration": 569,
    "start_time": "2024-12-02T07:49:00.236Z"
   },
   {
    "duration": 16,
    "start_time": "2024-12-02T07:49:03.856Z"
   },
   {
    "duration": 15,
    "start_time": "2024-12-02T07:49:09.256Z"
   },
   {
    "duration": 15,
    "start_time": "2024-12-02T07:49:12.332Z"
   },
   {
    "duration": 12,
    "start_time": "2024-12-02T07:49:27.727Z"
   },
   {
    "duration": 11,
    "start_time": "2024-12-02T07:49:34.774Z"
   },
   {
    "duration": 29,
    "start_time": "2024-12-02T07:50:25.466Z"
   },
   {
    "duration": 4,
    "start_time": "2024-12-02T07:55:36.539Z"
   },
   {
    "duration": 1495,
    "start_time": "2024-12-02T08:25:15.823Z"
   },
   {
    "duration": 112,
    "start_time": "2024-12-02T08:58:11.548Z"
   },
   {
    "duration": 158,
    "start_time": "2024-12-02T08:58:28.119Z"
   },
   {
    "duration": 14,
    "start_time": "2024-12-02T08:58:30.711Z"
   },
   {
    "duration": 16,
    "start_time": "2024-12-02T08:58:37.568Z"
   },
   {
    "duration": 14,
    "start_time": "2024-12-02T08:58:40.904Z"
   },
   {
    "duration": 10,
    "start_time": "2024-12-02T08:58:47.268Z"
   },
   {
    "duration": 18,
    "start_time": "2024-12-02T08:58:59.074Z"
   },
   {
    "duration": 27,
    "start_time": "2024-12-02T08:59:12.899Z"
   },
   {
    "duration": 21,
    "start_time": "2024-12-02T09:08:26.364Z"
   },
   {
    "duration": 14,
    "start_time": "2024-12-02T09:08:56.313Z"
   },
   {
    "duration": 20,
    "start_time": "2024-12-02T09:09:02.734Z"
   },
   {
    "duration": 15,
    "start_time": "2024-12-02T09:09:47.772Z"
   },
   {
    "duration": 147,
    "start_time": "2024-12-02T09:13:02.466Z"
   },
   {
    "duration": 149,
    "start_time": "2024-12-02T09:13:57.601Z"
   },
   {
    "duration": 154,
    "start_time": "2024-12-02T09:14:18.761Z"
   },
   {
    "duration": 150,
    "start_time": "2024-12-02T09:14:27.150Z"
   },
   {
    "duration": 11,
    "start_time": "2024-12-02T09:17:26.881Z"
   },
   {
    "duration": 143,
    "start_time": "2024-12-02T09:18:42.580Z"
   },
   {
    "duration": 158,
    "start_time": "2024-12-02T09:19:16.630Z"
   },
   {
    "duration": 11,
    "start_time": "2024-12-02T09:19:34.679Z"
   },
   {
    "duration": 16,
    "start_time": "2024-12-02T09:22:16.190Z"
   },
   {
    "duration": 25,
    "start_time": "2024-12-02T09:23:05.587Z"
   },
   {
    "duration": 14,
    "start_time": "2024-12-02T09:23:17.768Z"
   },
   {
    "duration": 12,
    "start_time": "2024-12-02T09:24:03.574Z"
   },
   {
    "duration": 12,
    "start_time": "2024-12-02T09:24:09.099Z"
   },
   {
    "duration": 15,
    "start_time": "2024-12-02T09:24:41.831Z"
   },
   {
    "duration": 11,
    "start_time": "2024-12-02T09:25:01.578Z"
   },
   {
    "duration": 19,
    "start_time": "2024-12-02T09:25:34.894Z"
   },
   {
    "duration": 5,
    "start_time": "2024-12-02T09:26:19.864Z"
   },
   {
    "duration": 22,
    "start_time": "2024-12-02T09:26:26.078Z"
   },
   {
    "duration": 15,
    "start_time": "2024-12-02T09:27:33.698Z"
   },
   {
    "duration": 14,
    "start_time": "2024-12-02T09:28:27.317Z"
   },
   {
    "duration": 172,
    "start_time": "2024-12-02T09:28:41.639Z"
   },
   {
    "duration": 166,
    "start_time": "2024-12-02T09:28:45.389Z"
   },
   {
    "duration": 164,
    "start_time": "2024-12-02T09:29:29.498Z"
   },
   {
    "duration": 170,
    "start_time": "2024-12-02T09:29:35.872Z"
   },
   {
    "duration": 7,
    "start_time": "2024-12-02T09:30:43.098Z"
   },
   {
    "duration": 9,
    "start_time": "2024-12-02T09:31:00.658Z"
   },
   {
    "duration": 21,
    "start_time": "2024-12-02T09:49:15.748Z"
   },
   {
    "duration": 10,
    "start_time": "2024-12-02T09:50:27.447Z"
   },
   {
    "duration": 11,
    "start_time": "2024-12-02T09:50:30.303Z"
   },
   {
    "duration": 16,
    "start_time": "2024-12-02T09:51:09.227Z"
   },
   {
    "duration": 17,
    "start_time": "2024-12-02T09:57:55.356Z"
   },
   {
    "duration": 690,
    "start_time": "2024-12-02T09:58:37.436Z"
   },
   {
    "duration": 19,
    "start_time": "2024-12-02T09:59:27.897Z"
   },
   {
    "duration": 19,
    "start_time": "2024-12-02T10:03:37.656Z"
   },
   {
    "duration": 30,
    "start_time": "2024-12-02T10:04:04.844Z"
   },
   {
    "duration": 4,
    "start_time": "2024-12-02T10:05:00.636Z"
   },
   {
    "duration": 21,
    "start_time": "2024-12-02T10:05:11.916Z"
   },
   {
    "duration": 12,
    "start_time": "2024-12-02T10:05:33.047Z"
   },
   {
    "duration": 13,
    "start_time": "2024-12-02T10:05:46.706Z"
   },
   {
    "duration": 21,
    "start_time": "2024-12-02T10:06:18.014Z"
   },
   {
    "duration": 21,
    "start_time": "2024-12-02T10:06:35.137Z"
   },
   {
    "duration": 123,
    "start_time": "2024-12-02T10:10:38.616Z"
   },
   {
    "duration": 1538,
    "start_time": "2024-12-02T10:11:34.529Z"
   },
   {
    "duration": 1414,
    "start_time": "2024-12-02T10:26:40.543Z"
   },
   {
    "duration": 1418,
    "start_time": "2024-12-02T10:26:45.925Z"
   },
   {
    "duration": 1448,
    "start_time": "2024-12-02T10:30:23.219Z"
   },
   {
    "duration": 1670,
    "start_time": "2024-12-02T10:30:40.836Z"
   },
   {
    "duration": 9,
    "start_time": "2024-12-02T10:31:30.985Z"
   },
   {
    "duration": 1430,
    "start_time": "2024-12-02T10:31:45.096Z"
   },
   {
    "duration": 1618,
    "start_time": "2024-12-02T10:35:22.045Z"
   },
   {
    "duration": 17,
    "start_time": "2024-12-02T10:37:33.706Z"
   },
   {
    "duration": 21,
    "start_time": "2024-12-02T10:37:45.052Z"
   },
   {
    "duration": 14,
    "start_time": "2024-12-02T10:38:00.337Z"
   },
   {
    "duration": 13,
    "start_time": "2024-12-02T10:40:10.388Z"
   },
   {
    "duration": 15,
    "start_time": "2024-12-02T10:41:22.885Z"
   },
   {
    "duration": 15,
    "start_time": "2024-12-02T10:41:27.707Z"
   },
   {
    "duration": 127,
    "start_time": "2024-12-02T11:01:52.168Z"
   },
   {
    "duration": 9,
    "start_time": "2024-12-02T11:02:47.768Z"
   },
   {
    "duration": 10,
    "start_time": "2024-12-02T11:11:52.410Z"
   },
   {
    "duration": 18,
    "start_time": "2024-12-02T11:16:16.449Z"
   },
   {
    "duration": 17,
    "start_time": "2024-12-02T11:16:57.918Z"
   },
   {
    "duration": 25,
    "start_time": "2024-12-02T11:17:17.890Z"
   },
   {
    "duration": 24,
    "start_time": "2024-12-02T11:18:00.530Z"
   },
   {
    "duration": 451,
    "start_time": "2024-12-02T11:20:14.849Z"
   },
   {
    "duration": 366,
    "start_time": "2024-12-02T11:20:59.731Z"
   },
   {
    "duration": 25,
    "start_time": "2024-12-02T11:21:30.202Z"
   },
   {
    "duration": 25,
    "start_time": "2024-12-02T11:21:45.982Z"
   },
   {
    "duration": 31,
    "start_time": "2024-12-02T11:32:38.571Z"
   },
   {
    "duration": 29,
    "start_time": "2024-12-02T11:32:47.291Z"
   },
   {
    "duration": 38,
    "start_time": "2024-12-02T11:33:49.250Z"
   },
   {
    "duration": 31,
    "start_time": "2024-12-02T11:34:58.340Z"
   },
   {
    "duration": 8,
    "start_time": "2024-12-02T11:36:32.480Z"
   },
   {
    "duration": 11,
    "start_time": "2024-12-02T11:36:55.796Z"
   },
   {
    "duration": 4,
    "start_time": "2024-12-02T11:37:10.131Z"
   },
   {
    "duration": 98,
    "start_time": "2024-12-02T11:42:25.331Z"
   },
   {
    "duration": 36,
    "start_time": "2024-12-02T11:42:32.540Z"
   },
   {
    "duration": 4,
    "start_time": "2024-12-02T11:42:37.820Z"
   },
   {
    "duration": 9,
    "start_time": "2024-12-02T11:45:34.669Z"
   },
   {
    "duration": 36,
    "start_time": "2024-12-02T11:46:18.331Z"
   },
   {
    "duration": 9,
    "start_time": "2024-12-02T11:48:06.229Z"
   },
   {
    "duration": 8,
    "start_time": "2024-12-02T11:48:26.060Z"
   },
   {
    "duration": 11,
    "start_time": "2024-12-02T11:48:32.330Z"
   },
   {
    "duration": 20,
    "start_time": "2024-12-02T11:48:41.910Z"
   },
   {
    "duration": 18,
    "start_time": "2024-12-02T11:48:55.910Z"
   },
   {
    "duration": 32,
    "start_time": "2024-12-02T11:49:49.201Z"
   },
   {
    "duration": 27,
    "start_time": "2024-12-02T11:49:59.669Z"
   },
   {
    "duration": 39,
    "start_time": "2024-12-02T11:50:59.773Z"
   },
   {
    "duration": 20,
    "start_time": "2024-12-02T11:51:25.510Z"
   },
   {
    "duration": 22,
    "start_time": "2024-12-02T11:54:59.228Z"
   },
   {
    "duration": 19,
    "start_time": "2024-12-02T11:55:33.016Z"
   },
   {
    "duration": 18,
    "start_time": "2024-12-02T11:55:51.266Z"
   },
   {
    "duration": 34,
    "start_time": "2024-12-02T11:58:03.117Z"
   },
   {
    "duration": 108,
    "start_time": "2024-12-02T11:58:31.568Z"
   },
   {
    "duration": 47,
    "start_time": "2024-12-02T11:58:36.448Z"
   },
   {
    "duration": 86,
    "start_time": "2024-12-02T11:58:51.865Z"
   },
   {
    "duration": 42,
    "start_time": "2024-12-02T11:58:57.377Z"
   },
   {
    "duration": 30,
    "start_time": "2024-12-02T12:01:06.836Z"
   },
   {
    "duration": 61,
    "start_time": "2024-12-02T12:02:23.666Z"
   },
   {
    "duration": 58,
    "start_time": "2024-12-02T12:02:51.283Z"
   },
   {
    "duration": 18,
    "start_time": "2024-12-02T12:14:42.933Z"
   },
   {
    "duration": 19,
    "start_time": "2024-12-02T12:17:49.484Z"
   },
   {
    "duration": 9,
    "start_time": "2024-12-02T12:18:00.474Z"
   },
   {
    "duration": 3,
    "start_time": "2024-12-02T12:18:13.084Z"
   },
   {
    "duration": 9,
    "start_time": "2024-12-02T12:35:03.454Z"
   },
   {
    "duration": 7,
    "start_time": "2024-12-02T12:36:52.901Z"
   },
   {
    "duration": 11,
    "start_time": "2024-12-02T12:37:00.489Z"
   },
   {
    "duration": 84,
    "start_time": "2024-12-02T12:38:03.521Z"
   },
   {
    "duration": 10,
    "start_time": "2024-12-02T12:38:07.980Z"
   },
   {
    "duration": 10,
    "start_time": "2024-12-02T12:38:21.321Z"
   },
   {
    "duration": 10,
    "start_time": "2024-12-02T12:39:16.382Z"
   },
   {
    "duration": 582,
    "start_time": "2024-12-02T18:23:03.925Z"
   },
   {
    "duration": 14,
    "start_time": "2024-12-02T18:23:07.469Z"
   },
   {
    "duration": 20,
    "start_time": "2024-12-02T18:23:12.914Z"
   },
   {
    "duration": 15,
    "start_time": "2024-12-02T18:23:21.352Z"
   },
   {
    "duration": 42,
    "start_time": "2024-12-02T18:23:27.709Z"
   },
   {
    "duration": 23,
    "start_time": "2024-12-02T18:23:39.938Z"
   },
   {
    "duration": 26,
    "start_time": "2024-12-02T18:23:45.307Z"
   },
   {
    "duration": 15,
    "start_time": "2024-12-02T18:25:20.920Z"
   },
   {
    "duration": 16,
    "start_time": "2024-12-02T18:27:09.963Z"
   },
   {
    "duration": 14,
    "start_time": "2024-12-02T18:27:21.466Z"
   },
   {
    "duration": 6,
    "start_time": "2024-12-02T18:36:36.457Z"
   },
   {
    "duration": 14,
    "start_time": "2024-12-02T18:36:53.385Z"
   },
   {
    "duration": 18,
    "start_time": "2024-12-02T18:57:30.542Z"
   },
   {
    "duration": 16,
    "start_time": "2024-12-02T18:57:45.471Z"
   },
   {
    "duration": 81,
    "start_time": "2024-12-02T18:58:00.320Z"
   },
   {
    "duration": 20,
    "start_time": "2024-12-02T18:58:14.220Z"
   },
   {
    "duration": 24,
    "start_time": "2024-12-02T18:58:38.655Z"
   },
   {
    "duration": 16,
    "start_time": "2024-12-02T18:59:34.792Z"
   },
   {
    "duration": 13,
    "start_time": "2024-12-02T19:02:36.720Z"
   },
   {
    "duration": 5,
    "start_time": "2024-12-02T19:04:06.906Z"
   },
   {
    "duration": 160,
    "start_time": "2024-12-02T19:07:15.571Z"
   },
   {
    "duration": 7,
    "start_time": "2024-12-02T19:07:22.162Z"
   },
   {
    "duration": 95,
    "start_time": "2024-12-02T19:11:49.857Z"
   },
   {
    "duration": 6,
    "start_time": "2024-12-02T19:11:55.274Z"
   },
   {
    "duration": 7,
    "start_time": "2024-12-02T19:12:22.089Z"
   },
   {
    "duration": 7,
    "start_time": "2024-12-02T19:12:32.354Z"
   },
   {
    "duration": 9,
    "start_time": "2024-12-02T19:23:03.863Z"
   },
   {
    "duration": 8,
    "start_time": "2024-12-02T19:23:15.978Z"
   },
   {
    "duration": 21,
    "start_time": "2024-12-02T19:37:47.030Z"
   },
   {
    "duration": 519,
    "start_time": "2024-12-03T08:02:34.125Z"
   },
   {
    "duration": 12,
    "start_time": "2024-12-03T08:02:42.376Z"
   },
   {
    "duration": 12,
    "start_time": "2024-12-03T08:02:56.205Z"
   },
   {
    "duration": 11,
    "start_time": "2024-12-03T08:02:59.085Z"
   },
   {
    "duration": 19,
    "start_time": "2024-12-03T08:03:01.535Z"
   },
   {
    "duration": 19,
    "start_time": "2024-12-03T08:03:08.221Z"
   },
   {
    "duration": 16,
    "start_time": "2024-12-03T08:03:13.217Z"
   },
   {
    "duration": 65,
    "start_time": "2024-12-03T08:03:16.974Z"
   },
   {
    "duration": 48,
    "start_time": "2024-12-03T08:03:25.595Z"
   },
   {
    "duration": 4,
    "start_time": "2024-12-03T08:03:32.465Z"
   },
   {
    "duration": 1697,
    "start_time": "2024-12-03T08:04:10.533Z"
   },
   {
    "duration": 119,
    "start_time": "2024-12-03T08:07:28.436Z"
   },
   {
    "duration": 12,
    "start_time": "2024-12-03T08:07:31.904Z"
   },
   {
    "duration": 13,
    "start_time": "2024-12-03T08:07:42.516Z"
   },
   {
    "duration": 10,
    "start_time": "2024-12-03T08:07:45.256Z"
   },
   {
    "duration": 18,
    "start_time": "2024-12-03T08:07:49.567Z"
   },
   {
    "duration": 22,
    "start_time": "2024-12-03T08:07:51.806Z"
   },
   {
    "duration": 13,
    "start_time": "2024-12-03T08:08:46.009Z"
   },
   {
    "duration": 13,
    "start_time": "2024-12-03T08:08:48.634Z"
   },
   {
    "duration": 68,
    "start_time": "2024-12-03T08:08:49.977Z"
   },
   {
    "duration": 47,
    "start_time": "2024-12-03T08:08:53.207Z"
   },
   {
    "duration": 22,
    "start_time": "2024-12-03T08:09:26.468Z"
   },
   {
    "duration": 8,
    "start_time": "2024-12-03T08:12:36.597Z"
   },
   {
    "duration": 18,
    "start_time": "2024-12-03T08:27:16.763Z"
   },
   {
    "duration": 27,
    "start_time": "2024-12-03T08:29:11.117Z"
   },
   {
    "duration": 38,
    "start_time": "2024-12-03T09:30:15.038Z"
   },
   {
    "duration": 28,
    "start_time": "2024-12-03T09:30:50.336Z"
   },
   {
    "duration": 40,
    "start_time": "2024-12-03T09:33:14.017Z"
   },
   {
    "duration": 40,
    "start_time": "2024-12-03T09:33:51.657Z"
   },
   {
    "duration": 43,
    "start_time": "2024-12-03T09:34:18.803Z"
   },
   {
    "duration": 42,
    "start_time": "2024-12-03T09:36:05.617Z"
   },
   {
    "duration": 43,
    "start_time": "2024-12-03T12:02:03.677Z"
   },
   {
    "duration": 12,
    "start_time": "2024-12-03T12:10:19.478Z"
   },
   {
    "duration": 40,
    "start_time": "2024-12-03T12:14:29.811Z"
   },
   {
    "duration": 46,
    "start_time": "2024-12-03T12:15:09.437Z"
   },
   {
    "duration": 68,
    "start_time": "2024-12-03T12:15:30.489Z"
   },
   {
    "duration": 60,
    "start_time": "2024-12-03T12:15:45.156Z"
   },
   {
    "duration": 22,
    "start_time": "2024-12-03T12:16:27.662Z"
   },
   {
    "duration": 72,
    "start_time": "2024-12-03T12:17:36.998Z"
   },
   {
    "duration": 72,
    "start_time": "2024-12-03T12:17:59.566Z"
   },
   {
    "duration": 91,
    "start_time": "2024-12-03T12:18:55.218Z"
   },
   {
    "duration": 95,
    "start_time": "2024-12-03T12:21:54.259Z"
   },
   {
    "duration": 93,
    "start_time": "2024-12-03T12:22:15.918Z"
   },
   {
    "duration": 22,
    "start_time": "2024-12-03T12:24:11.318Z"
   },
   {
    "duration": 23,
    "start_time": "2024-12-03T12:24:21.368Z"
   },
   {
    "duration": 84,
    "start_time": "2024-12-03T13:09:36.320Z"
   },
   {
    "duration": 11,
    "start_time": "2024-12-03T13:09:47.320Z"
   },
   {
    "duration": 84,
    "start_time": "2024-12-03T13:10:21.280Z"
   },
   {
    "duration": 23,
    "start_time": "2024-12-03T13:10:24.186Z"
   },
   {
    "duration": 33,
    "start_time": "2024-12-03T13:12:36.385Z"
   },
   {
    "duration": 66,
    "start_time": "2024-12-03T13:14:03.460Z"
   },
   {
    "duration": 83,
    "start_time": "2024-12-03T13:15:42.980Z"
   },
   {
    "duration": 89,
    "start_time": "2024-12-03T13:16:08.388Z"
   },
   {
    "duration": 7,
    "start_time": "2024-12-03T13:21:57.695Z"
   },
   {
    "duration": 6,
    "start_time": "2024-12-03T13:23:04.748Z"
   },
   {
    "duration": 23,
    "start_time": "2024-12-03T13:24:03.067Z"
   },
   {
    "duration": 86,
    "start_time": "2024-12-03T13:24:36.881Z"
   },
   {
    "duration": 25,
    "start_time": "2024-12-03T13:24:43.841Z"
   },
   {
    "duration": 84,
    "start_time": "2024-12-03T13:25:45.400Z"
   },
   {
    "duration": 1366,
    "start_time": "2024-12-03T14:01:34.668Z"
   },
   {
    "duration": 1378,
    "start_time": "2024-12-03T14:02:39.102Z"
   },
   {
    "duration": 1388,
    "start_time": "2024-12-03T14:04:53.563Z"
   },
   {
    "duration": 81,
    "start_time": "2024-12-03T14:12:13.802Z"
   },
   {
    "duration": 79,
    "start_time": "2024-12-03T14:12:31.228Z"
   },
   {
    "duration": 372,
    "start_time": "2024-12-03T14:35:24.401Z"
   },
   {
    "duration": 1409,
    "start_time": "2024-12-03T14:37:21.108Z"
   },
   {
    "duration": 82,
    "start_time": "2024-12-03T14:38:27.921Z"
   },
   {
    "duration": 537,
    "start_time": "2024-12-03T18:19:43.596Z"
   },
   {
    "duration": 15,
    "start_time": "2024-12-03T18:19:56.140Z"
   },
   {
    "duration": 27,
    "start_time": "2024-12-03T18:20:01.951Z"
   },
   {
    "duration": 24,
    "start_time": "2024-12-03T18:20:07.096Z"
   },
   {
    "duration": 27,
    "start_time": "2024-12-03T18:20:13.825Z"
   },
   {
    "duration": 18,
    "start_time": "2024-12-03T18:20:22.501Z"
   },
   {
    "duration": 66,
    "start_time": "2024-12-03T18:20:34.990Z"
   },
   {
    "duration": 104,
    "start_time": "2024-12-03T18:20:41.574Z"
   },
   {
    "duration": 101,
    "start_time": "2024-12-03T18:23:17.044Z"
   },
   {
    "duration": 98,
    "start_time": "2024-12-03T18:23:39.560Z"
   },
   {
    "duration": 99,
    "start_time": "2024-12-03T18:25:34.554Z"
   },
   {
    "duration": 98,
    "start_time": "2024-12-03T18:28:26.820Z"
   },
   {
    "duration": 100,
    "start_time": "2024-12-03T18:29:20.114Z"
   },
   {
    "duration": 123,
    "start_time": "2024-12-03T18:31:26.654Z"
   },
   {
    "duration": 118,
    "start_time": "2024-12-03T18:35:05.770Z"
   },
   {
    "duration": 105,
    "start_time": "2024-12-03T18:35:55.596Z"
   },
   {
    "duration": 109,
    "start_time": "2024-12-03T18:36:14.222Z"
   },
   {
    "duration": 123,
    "start_time": "2024-12-03T18:37:46.887Z"
   },
   {
    "duration": 1257,
    "start_time": "2024-12-03T18:40:50.075Z"
   },
   {
    "duration": 118,
    "start_time": "2024-12-03T18:41:23.163Z"
   },
   {
    "duration": 655,
    "start_time": "2024-12-03T18:42:49.927Z"
   },
   {
    "duration": 43,
    "start_time": "2024-12-03T18:44:13.881Z"
   },
   {
    "duration": 122,
    "start_time": "2024-12-03T18:45:36.665Z"
   },
   {
    "duration": 120,
    "start_time": "2024-12-03T18:45:56.681Z"
   },
   {
    "duration": 115,
    "start_time": "2024-12-03T18:47:35.046Z"
   },
   {
    "duration": 902,
    "start_time": "2024-12-03T18:56:34.830Z"
   },
   {
    "duration": 60,
    "start_time": "2024-12-03T19:07:52.438Z"
   },
   {
    "duration": 984,
    "start_time": "2024-12-03T19:08:07.994Z"
   },
   {
    "duration": 1315,
    "start_time": "2024-12-03T19:09:30.986Z"
   },
   {
    "duration": 10,
    "start_time": "2024-12-03T19:14:22.873Z"
   },
   {
    "duration": 8,
    "start_time": "2024-12-03T19:14:46.695Z"
   },
   {
    "duration": 17,
    "start_time": "2024-12-03T19:19:26.440Z"
   },
   {
    "duration": 23,
    "start_time": "2024-12-03T19:19:47.636Z"
   },
   {
    "duration": 3,
    "start_time": "2024-12-03T19:21:18.499Z"
   },
   {
    "duration": 12,
    "start_time": "2024-12-03T19:21:33.361Z"
   },
   {
    "duration": 18,
    "start_time": "2024-12-03T19:21:50.244Z"
   },
   {
    "duration": 62,
    "start_time": "2024-12-03T19:22:25.258Z"
   },
   {
    "duration": 58,
    "start_time": "2024-12-03T19:23:06.439Z"
   },
   {
    "duration": 50,
    "start_time": "2024-12-03T19:23:17.313Z"
   },
   {
    "duration": 57,
    "start_time": "2024-12-03T19:23:52.155Z"
   },
   {
    "duration": 57,
    "start_time": "2024-12-03T19:30:38.215Z"
   },
   {
    "duration": 59,
    "start_time": "2024-12-03T19:31:39.048Z"
   },
   {
    "duration": 57,
    "start_time": "2024-12-03T19:32:03.141Z"
   },
   {
    "duration": 594,
    "start_time": "2024-12-04T08:56:19.977Z"
   },
   {
    "duration": 19,
    "start_time": "2024-12-04T08:56:23.026Z"
   },
   {
    "duration": 14,
    "start_time": "2024-12-04T08:56:28.428Z"
   },
   {
    "duration": 15,
    "start_time": "2024-12-04T08:56:30.865Z"
   },
   {
    "duration": 33,
    "start_time": "2024-12-04T08:56:33.926Z"
   },
   {
    "duration": 21,
    "start_time": "2024-12-04T08:56:36.586Z"
   },
   {
    "duration": 25,
    "start_time": "2024-12-04T08:56:40.336Z"
   },
   {
    "duration": 16,
    "start_time": "2024-12-04T08:56:44.447Z"
   },
   {
    "duration": 62,
    "start_time": "2024-12-04T08:56:57.909Z"
   },
   {
    "duration": 101,
    "start_time": "2024-12-04T09:01:51.027Z"
   },
   {
    "duration": 36,
    "start_time": "2024-12-04T09:03:12.916Z"
   },
   {
    "duration": 39,
    "start_time": "2024-12-04T09:03:34.366Z"
   },
   {
    "duration": 35,
    "start_time": "2024-12-04T09:04:09.865Z"
   },
   {
    "duration": 38,
    "start_time": "2024-12-04T09:04:36.027Z"
   },
   {
    "duration": 50,
    "start_time": "2024-12-04T09:08:02.627Z"
   },
   {
    "duration": 41,
    "start_time": "2024-12-04T09:08:24.966Z"
   },
   {
    "duration": 50,
    "start_time": "2024-12-04T09:09:12.946Z"
   },
   {
    "duration": 43,
    "start_time": "2024-12-04T09:10:13.786Z"
   },
   {
    "duration": 39,
    "start_time": "2024-12-04T09:10:31.354Z"
   },
   {
    "duration": 42,
    "start_time": "2024-12-04T09:13:11.552Z"
   },
   {
    "duration": 43,
    "start_time": "2024-12-04T09:13:21.935Z"
   },
   {
    "duration": 54,
    "start_time": "2024-12-04T09:17:14.187Z"
   },
   {
    "duration": 56,
    "start_time": "2024-12-04T09:19:27.567Z"
   },
   {
    "duration": 79,
    "start_time": "2024-12-04T09:20:16.467Z"
   },
   {
    "duration": 131,
    "start_time": "2024-12-04T09:21:53.387Z"
   },
   {
    "duration": 101,
    "start_time": "2024-12-04T09:26:55.749Z"
   },
   {
    "duration": 112,
    "start_time": "2024-12-04T09:27:32.908Z"
   },
   {
    "duration": 101,
    "start_time": "2024-12-04T09:27:41.468Z"
   },
   {
    "duration": 105,
    "start_time": "2024-12-04T09:29:11.228Z"
   },
   {
    "duration": 58,
    "start_time": "2024-12-04T09:30:41.689Z"
   },
   {
    "duration": 6,
    "start_time": "2024-12-04T09:31:13.107Z"
   },
   {
    "duration": 70,
    "start_time": "2024-12-04T09:31:32.408Z"
   },
   {
    "duration": 11,
    "start_time": "2024-12-04T09:32:05.487Z"
   },
   {
    "duration": 20,
    "start_time": "2024-12-04T09:32:29.787Z"
   },
   {
    "duration": 8,
    "start_time": "2024-12-04T09:32:45.348Z"
   },
   {
    "duration": 9,
    "start_time": "2024-12-04T09:32:57.528Z"
   },
   {
    "duration": 14,
    "start_time": "2024-12-04T09:33:29.748Z"
   },
   {
    "duration": 10,
    "start_time": "2024-12-04T09:33:34.608Z"
   },
   {
    "duration": 9,
    "start_time": "2024-12-04T09:33:46.858Z"
   },
   {
    "duration": 20,
    "start_time": "2024-12-04T09:33:53.828Z"
   },
   {
    "duration": 20,
    "start_time": "2024-12-04T09:33:58.888Z"
   },
   {
    "duration": 24,
    "start_time": "2024-12-04T09:34:37.667Z"
   },
   {
    "duration": 25,
    "start_time": "2024-12-04T09:34:59.418Z"
   },
   {
    "duration": 22,
    "start_time": "2024-12-04T09:35:22.706Z"
   },
   {
    "duration": 12,
    "start_time": "2024-12-04T09:36:35.867Z"
   },
   {
    "duration": 9,
    "start_time": "2024-12-04T09:36:59.027Z"
   },
   {
    "duration": 10,
    "start_time": "2024-12-04T09:38:08.028Z"
   },
   {
    "duration": 540,
    "start_time": "2024-12-04T09:39:05.130Z"
   },
   {
    "duration": 15,
    "start_time": "2024-12-04T09:39:17.269Z"
   },
   {
    "duration": 20,
    "start_time": "2024-12-04T09:39:19.341Z"
   },
   {
    "duration": 13,
    "start_time": "2024-12-04T09:39:21.790Z"
   },
   {
    "duration": 26,
    "start_time": "2024-12-04T09:39:24.570Z"
   },
   {
    "duration": 23,
    "start_time": "2024-12-04T09:39:29.171Z"
   },
   {
    "duration": 39,
    "start_time": "2024-12-04T09:39:31.710Z"
   },
   {
    "duration": 17,
    "start_time": "2024-12-04T09:39:34.170Z"
   },
   {
    "duration": 107,
    "start_time": "2024-12-04T09:39:37.091Z"
   },
   {
    "duration": 75,
    "start_time": "2024-12-04T09:39:43.210Z"
   },
   {
    "duration": 7,
    "start_time": "2024-12-04T09:39:50.821Z"
   },
   {
    "duration": 74,
    "start_time": "2024-12-04T09:39:58.289Z"
   },
   {
    "duration": 8,
    "start_time": "2024-12-04T09:40:20.318Z"
   },
   {
    "duration": 496,
    "start_time": "2024-12-04T09:40:44.651Z"
   },
   {
    "duration": 13,
    "start_time": "2024-12-04T09:40:45.150Z"
   },
   {
    "duration": 111,
    "start_time": "2024-12-04T09:40:45.166Z"
   },
   {
    "duration": 24,
    "start_time": "2024-12-04T09:40:45.279Z"
   },
   {
    "duration": 40,
    "start_time": "2024-12-04T09:40:45.305Z"
   },
   {
    "duration": 33,
    "start_time": "2024-12-04T09:40:45.347Z"
   },
   {
    "duration": 45,
    "start_time": "2024-12-04T09:40:45.382Z"
   },
   {
    "duration": 38,
    "start_time": "2024-12-04T09:40:45.429Z"
   },
   {
    "duration": 114,
    "start_time": "2024-12-04T09:40:45.469Z"
   },
   {
    "duration": 82,
    "start_time": "2024-12-04T09:40:45.584Z"
   },
   {
    "duration": 7,
    "start_time": "2024-12-04T09:40:45.668Z"
   },
   {
    "duration": 42,
    "start_time": "2024-12-04T09:40:45.677Z"
   },
   {
    "duration": 21,
    "start_time": "2024-12-04T09:41:41.591Z"
   },
   {
    "duration": 117,
    "start_time": "2024-12-04T09:42:27.011Z"
   },
   {
    "duration": 40,
    "start_time": "2024-12-04T09:42:34.450Z"
   },
   {
    "duration": 29,
    "start_time": "2024-12-04T09:43:37.870Z"
   },
   {
    "duration": 14,
    "start_time": "2024-12-04T09:44:37.371Z"
   },
   {
    "duration": 92,
    "start_time": "2024-12-04T09:45:03.312Z"
   },
   {
    "duration": 15,
    "start_time": "2024-12-04T09:45:06.831Z"
   },
   {
    "duration": 24,
    "start_time": "2024-12-04T09:45:37.692Z"
   },
   {
    "duration": 23,
    "start_time": "2024-12-04T09:46:24.350Z"
   },
   {
    "duration": 27,
    "start_time": "2024-12-04T09:55:19.370Z"
   },
   {
    "duration": 43,
    "start_time": "2024-12-04T10:00:26.771Z"
   },
   {
    "duration": 24,
    "start_time": "2024-12-04T10:01:34.571Z"
   },
   {
    "duration": 25,
    "start_time": "2024-12-04T10:01:48.891Z"
   },
   {
    "duration": 11,
    "start_time": "2024-12-04T10:01:52.272Z"
   },
   {
    "duration": 18,
    "start_time": "2024-12-04T10:02:33.992Z"
   },
   {
    "duration": 18,
    "start_time": "2024-12-04T10:03:20.192Z"
   },
   {
    "duration": 19,
    "start_time": "2024-12-04T10:03:36.312Z"
   },
   {
    "duration": 22,
    "start_time": "2024-12-04T10:04:26.812Z"
   },
   {
    "duration": 96,
    "start_time": "2024-12-04T10:14:16.453Z"
   },
   {
    "duration": 4,
    "start_time": "2024-12-04T10:23:19.411Z"
   },
   {
    "duration": 4,
    "start_time": "2024-12-04T10:25:03.491Z"
   },
   {
    "duration": 13,
    "start_time": "2024-12-04T10:35:44.909Z"
   },
   {
    "duration": 6,
    "start_time": "2024-12-04T10:36:12.755Z"
   },
   {
    "duration": 75,
    "start_time": "2024-12-04T10:36:33.768Z"
   },
   {
    "duration": 6,
    "start_time": "2024-12-04T10:36:52.430Z"
   },
   {
    "duration": 16,
    "start_time": "2024-12-04T10:38:03.269Z"
   },
   {
    "duration": 14,
    "start_time": "2024-12-04T10:38:08.670Z"
   },
   {
    "duration": 51,
    "start_time": "2024-12-04T10:39:03.437Z"
   },
   {
    "duration": 22,
    "start_time": "2024-12-04T10:40:51.768Z"
   },
   {
    "duration": 22,
    "start_time": "2024-12-04T10:41:31.688Z"
   },
   {
    "duration": 39,
    "start_time": "2024-12-04T10:42:10.510Z"
   },
   {
    "duration": 53,
    "start_time": "2024-12-04T16:15:43.847Z"
   },
   {
    "duration": 545,
    "start_time": "2024-12-04T17:03:48.278Z"
   },
   {
    "duration": 14,
    "start_time": "2024-12-04T17:03:48.826Z"
   },
   {
    "duration": 18,
    "start_time": "2024-12-04T17:03:48.842Z"
   },
   {
    "duration": 43,
    "start_time": "2024-12-04T17:03:48.862Z"
   },
   {
    "duration": 43,
    "start_time": "2024-12-04T17:03:48.907Z"
   },
   {
    "duration": 23,
    "start_time": "2024-12-04T17:03:48.952Z"
   },
   {
    "duration": 28,
    "start_time": "2024-12-04T17:03:48.998Z"
   },
   {
    "duration": 28,
    "start_time": "2024-12-04T17:03:49.029Z"
   },
   {
    "duration": 181,
    "start_time": "2024-12-04T17:03:49.059Z"
   },
   {
    "duration": 110,
    "start_time": "2024-12-04T17:03:49.243Z"
   },
   {
    "duration": 7,
    "start_time": "2024-12-04T17:03:49.355Z"
   },
   {
    "duration": 39,
    "start_time": "2024-12-04T17:03:49.363Z"
   },
   {
    "duration": 12,
    "start_time": "2024-12-04T17:03:49.404Z"
   },
   {
    "duration": 24,
    "start_time": "2024-12-04T17:03:49.418Z"
   },
   {
    "duration": 54,
    "start_time": "2024-12-05T11:35:45.493Z"
   },
   {
    "duration": 434,
    "start_time": "2024-12-05T11:35:52.053Z"
   },
   {
    "duration": 86,
    "start_time": "2024-12-05T11:35:53.663Z"
   },
   {
    "duration": 137,
    "start_time": "2024-12-05T11:36:25.145Z"
   },
   {
    "duration": 14,
    "start_time": "2024-12-05T11:41:48.972Z"
   },
   {
    "duration": 12,
    "start_time": "2024-12-05T11:42:15.785Z"
   },
   {
    "duration": 15,
    "start_time": "2024-12-05T11:42:22.172Z"
   },
   {
    "duration": 21,
    "start_time": "2024-12-05T11:43:36.904Z"
   },
   {
    "duration": 33,
    "start_time": "2024-12-05T11:47:30.062Z"
   },
   {
    "duration": 15,
    "start_time": "2024-12-05T11:47:37.024Z"
   },
   {
    "duration": 16,
    "start_time": "2024-12-05T11:53:37.604Z"
   },
   {
    "duration": 18,
    "start_time": "2024-12-05T11:53:57.684Z"
   },
   {
    "duration": 20,
    "start_time": "2024-12-05T11:54:16.546Z"
   },
   {
    "duration": 20,
    "start_time": "2024-12-05T11:54:44.715Z"
   },
   {
    "duration": 131,
    "start_time": "2024-12-05T12:23:12.951Z"
   },
   {
    "duration": 111,
    "start_time": "2024-12-05T12:28:49.601Z"
   },
   {
    "duration": 113,
    "start_time": "2024-12-05T12:29:33.191Z"
   },
   {
    "duration": 104,
    "start_time": "2024-12-05T12:29:51.911Z"
   },
   {
    "duration": 20,
    "start_time": "2024-12-05T12:30:52.100Z"
   },
   {
    "duration": 23,
    "start_time": "2024-12-05T12:38:51.711Z"
   },
   {
    "duration": 8,
    "start_time": "2024-12-05T12:40:05.129Z"
   },
   {
    "duration": 5,
    "start_time": "2024-12-05T12:40:28.472Z"
   },
   {
    "duration": 26,
    "start_time": "2024-12-05T12:40:40.233Z"
   },
   {
    "duration": 46,
    "start_time": "2024-12-05T12:43:30.551Z"
   },
   {
    "duration": 8,
    "start_time": "2024-12-05T12:50:22.610Z"
   },
   {
    "duration": 7,
    "start_time": "2024-12-05T12:50:40.770Z"
   },
   {
    "duration": 11,
    "start_time": "2024-12-05T14:21:05.393Z"
   },
   {
    "duration": 76,
    "start_time": "2024-12-05T14:21:21.431Z"
   },
   {
    "duration": 23,
    "start_time": "2024-12-05T14:23:13.912Z"
   },
   {
    "duration": 19,
    "start_time": "2024-12-05T14:29:01.512Z"
   },
   {
    "duration": 23,
    "start_time": "2024-12-05T14:29:04.911Z"
   },
   {
    "duration": 22,
    "start_time": "2024-12-05T14:29:28.939Z"
   },
   {
    "duration": 17,
    "start_time": "2024-12-05T14:29:58.631Z"
   },
   {
    "duration": 20,
    "start_time": "2024-12-05T14:30:18.152Z"
   },
   {
    "duration": 19,
    "start_time": "2024-12-05T14:32:37.312Z"
   },
   {
    "duration": 105,
    "start_time": "2024-12-05T14:33:21.953Z"
   },
   {
    "duration": 24,
    "start_time": "2024-12-05T14:33:58.800Z"
   },
   {
    "duration": 14,
    "start_time": "2024-12-05T14:34:21.952Z"
   },
   {
    "duration": 20,
    "start_time": "2024-12-05T14:34:33.099Z"
   },
   {
    "duration": 57,
    "start_time": "2024-12-05T14:40:10.870Z"
   },
   {
    "duration": 21,
    "start_time": "2024-12-05T14:40:30.832Z"
   },
   {
    "duration": 23,
    "start_time": "2024-12-05T14:43:48.340Z"
   },
   {
    "duration": 32,
    "start_time": "2024-12-05T14:44:04.111Z"
   },
   {
    "duration": 23,
    "start_time": "2024-12-05T14:45:46.799Z"
   },
   {
    "duration": 174,
    "start_time": "2024-12-05T14:48:29.960Z"
   },
   {
    "duration": 13,
    "start_time": "2024-12-05T14:55:16.511Z"
   },
   {
    "duration": 5,
    "start_time": "2024-12-05T14:55:32.319Z"
   },
   {
    "duration": 4,
    "start_time": "2024-12-05T14:55:43.471Z"
   },
   {
    "duration": 5,
    "start_time": "2024-12-05T14:56:03.087Z"
   },
   {
    "duration": 17,
    "start_time": "2024-12-05T14:56:10.274Z"
   },
   {
    "duration": 58,
    "start_time": "2024-12-05T15:00:15.589Z"
   },
   {
    "duration": 29,
    "start_time": "2024-12-05T15:16:50.694Z"
   },
   {
    "duration": 25,
    "start_time": "2024-12-05T15:17:39.304Z"
   },
   {
    "duration": 20,
    "start_time": "2024-12-05T15:18:47.713Z"
   },
   {
    "duration": 24,
    "start_time": "2024-12-05T15:19:30.454Z"
   },
   {
    "duration": 1068,
    "start_time": "2024-12-05T15:19:59.378Z"
   },
   {
    "duration": 119,
    "start_time": "2024-12-05T15:20:17.134Z"
   },
   {
    "duration": 123,
    "start_time": "2024-12-05T15:20:25.575Z"
   },
   {
    "duration": 99,
    "start_time": "2024-12-05T15:20:36.974Z"
   },
   {
    "duration": 926,
    "start_time": "2024-12-05T15:48:32.615Z"
   },
   {
    "duration": 15,
    "start_time": "2024-12-05T15:48:48.395Z"
   },
   {
    "duration": 393,
    "start_time": "2024-12-05T15:50:29.497Z"
   },
   {
    "duration": 128,
    "start_time": "2024-12-05T15:50:32.937Z"
   },
   {
    "duration": 2,
    "start_time": "2024-12-05T15:50:41.217Z"
   },
   {
    "duration": 240,
    "start_time": "2024-12-05T15:50:42.659Z"
   },
   {
    "duration": 21,
    "start_time": "2024-12-05T15:50:46.097Z"
   },
   {
    "duration": 24,
    "start_time": "2024-12-05T15:51:04.556Z"
   },
   {
    "duration": 14,
    "start_time": "2024-12-05T15:51:13.178Z"
   },
   {
    "duration": 37,
    "start_time": "2024-12-05T15:51:16.837Z"
   },
   {
    "duration": 28,
    "start_time": "2024-12-05T15:51:21.727Z"
   },
   {
    "duration": 23,
    "start_time": "2024-12-05T15:51:23.816Z"
   },
   {
    "duration": 135,
    "start_time": "2024-12-05T15:51:28.097Z"
   },
   {
    "duration": 57,
    "start_time": "2024-12-05T15:51:36.308Z"
   },
   {
    "duration": 66,
    "start_time": "2024-12-05T15:58:06.948Z"
   },
   {
    "duration": 60,
    "start_time": "2024-12-05T15:59:07.876Z"
   },
   {
    "duration": 45,
    "start_time": "2024-12-05T15:59:36.316Z"
   },
   {
    "duration": 6,
    "start_time": "2024-12-05T16:00:10.938Z"
   },
   {
    "duration": 69,
    "start_time": "2024-12-05T16:18:31.356Z"
   },
   {
    "duration": 10,
    "start_time": "2024-12-05T16:20:20.727Z"
   },
   {
    "duration": 14,
    "start_time": "2024-12-05T16:20:56.786Z"
   },
   {
    "duration": 10,
    "start_time": "2024-12-05T16:21:05.646Z"
   },
   {
    "duration": 9,
    "start_time": "2024-12-05T16:28:55.527Z"
   },
   {
    "duration": 9,
    "start_time": "2024-12-05T16:29:14.658Z"
   },
   {
    "duration": 13,
    "start_time": "2024-12-05T16:29:46.154Z"
   },
   {
    "duration": 64,
    "start_time": "2024-12-05T16:30:29.867Z"
   },
   {
    "duration": 6,
    "start_time": "2024-12-05T16:30:34.744Z"
   },
   {
    "duration": 17,
    "start_time": "2024-12-05T16:31:24.305Z"
   },
   {
    "duration": 60,
    "start_time": "2024-12-05T16:31:38.983Z"
   },
   {
    "duration": 14,
    "start_time": "2024-12-05T16:31:41.774Z"
   },
   {
    "duration": 12,
    "start_time": "2024-12-05T16:32:51.079Z"
   },
   {
    "duration": 24,
    "start_time": "2024-12-05T16:32:58.566Z"
   },
   {
    "duration": 15,
    "start_time": "2024-12-05T16:33:32.587Z"
   },
   {
    "duration": 23,
    "start_time": "2024-12-05T16:34:54.655Z"
   },
   {
    "duration": 4,
    "start_time": "2024-12-05T16:35:55.255Z"
   },
   {
    "duration": 56,
    "start_time": "2024-12-05T16:36:04.075Z"
   },
   {
    "duration": 33,
    "start_time": "2024-12-05T16:36:29.976Z"
   },
   {
    "duration": 20,
    "start_time": "2024-12-05T16:36:47.716Z"
   },
   {
    "duration": 43,
    "start_time": "2024-12-05T16:36:58.236Z"
   },
   {
    "duration": 75,
    "start_time": "2024-12-05T16:37:06.516Z"
   },
   {
    "duration": 846,
    "start_time": "2024-12-05T16:38:11.576Z"
   },
   {
    "duration": 73,
    "start_time": "2024-12-05T16:38:17.895Z"
   },
   {
    "duration": 44,
    "start_time": "2024-12-05T16:38:52.896Z"
   },
   {
    "duration": 42,
    "start_time": "2024-12-05T16:39:30.996Z"
   },
   {
    "duration": 53,
    "start_time": "2024-12-05T16:40:41.615Z"
   },
   {
    "duration": 48,
    "start_time": "2024-12-05T16:40:46.436Z"
   },
   {
    "duration": 50,
    "start_time": "2024-12-05T16:40:56.175Z"
   },
   {
    "duration": 62,
    "start_time": "2024-12-05T16:41:13.276Z"
   },
   {
    "duration": 108,
    "start_time": "2024-12-05T16:41:27.976Z"
   },
   {
    "duration": 23,
    "start_time": "2024-12-05T16:42:29.036Z"
   },
   {
    "duration": 57,
    "start_time": "2024-12-05T16:43:14.726Z"
   },
   {
    "duration": 63,
    "start_time": "2024-12-05T16:43:37.796Z"
   },
   {
    "duration": 63,
    "start_time": "2024-12-05T16:45:02.376Z"
   },
   {
    "duration": 59,
    "start_time": "2024-12-05T16:45:23.616Z"
   },
   {
    "duration": 64,
    "start_time": "2024-12-05T16:46:07.815Z"
   },
   {
    "duration": 50,
    "start_time": "2024-12-05T16:46:46.735Z"
   },
   {
    "duration": 55,
    "start_time": "2024-12-05T16:47:18.136Z"
   },
   {
    "duration": 23,
    "start_time": "2024-12-05T16:48:13.555Z"
   },
   {
    "duration": 68,
    "start_time": "2024-12-05T16:48:42.816Z"
   },
   {
    "duration": 54,
    "start_time": "2024-12-05T16:48:53.136Z"
   },
   {
    "duration": 14,
    "start_time": "2024-12-05T16:49:15.176Z"
   },
   {
    "duration": 56,
    "start_time": "2024-12-05T16:49:22.696Z"
   },
   {
    "duration": 66,
    "start_time": "2024-12-05T16:49:46.876Z"
   },
   {
    "duration": 84,
    "start_time": "2024-12-05T16:50:04.536Z"
   },
   {
    "duration": 62,
    "start_time": "2024-12-05T16:50:48.895Z"
   },
   {
    "duration": 68,
    "start_time": "2024-12-05T16:50:58.176Z"
   },
   {
    "duration": 60,
    "start_time": "2024-12-05T16:51:02.215Z"
   },
   {
    "duration": 60,
    "start_time": "2024-12-05T16:51:14.075Z"
   },
   {
    "duration": 31,
    "start_time": "2024-12-05T16:56:21.687Z"
   },
   {
    "duration": 57,
    "start_time": "2024-12-05T17:00:23.256Z"
   },
   {
    "duration": 31,
    "start_time": "2024-12-05T17:00:27.537Z"
   },
   {
    "duration": 30,
    "start_time": "2024-12-05T17:00:33.037Z"
   },
   {
    "duration": 29,
    "start_time": "2024-12-05T17:01:00.177Z"
   },
   {
    "duration": 32,
    "start_time": "2024-12-05T17:02:38.297Z"
   },
   {
    "duration": 30,
    "start_time": "2024-12-05T17:03:13.777Z"
   },
   {
    "duration": 87,
    "start_time": "2024-12-05T17:04:37.357Z"
   },
   {
    "duration": 15,
    "start_time": "2024-12-05T17:04:44.856Z"
   },
   {
    "duration": 14,
    "start_time": "2024-12-05T17:04:55.977Z"
   },
   {
    "duration": 62,
    "start_time": "2024-12-05T17:08:28.797Z"
   },
   {
    "duration": 56,
    "start_time": "2024-12-05T17:08:34.277Z"
   },
   {
    "duration": 10,
    "start_time": "2024-12-05T17:09:05.417Z"
   },
   {
    "duration": 56,
    "start_time": "2024-12-05T17:09:14.117Z"
   },
   {
    "duration": 10,
    "start_time": "2024-12-05T17:09:27.097Z"
   },
   {
    "duration": 11,
    "start_time": "2024-12-05T17:09:35.357Z"
   },
   {
    "duration": 66,
    "start_time": "2024-12-05T17:09:48.697Z"
   },
   {
    "duration": 13,
    "start_time": "2024-12-05T17:10:15.058Z"
   },
   {
    "duration": 16,
    "start_time": "2024-12-05T17:10:34.737Z"
   },
   {
    "duration": 12,
    "start_time": "2024-12-05T17:10:43.177Z"
   },
   {
    "duration": 13,
    "start_time": "2024-12-05T17:11:30.937Z"
   },
   {
    "duration": 50,
    "start_time": "2024-12-05T17:11:48.697Z"
   },
   {
    "duration": 62,
    "start_time": "2024-12-05T17:14:01.188Z"
   },
   {
    "duration": 15,
    "start_time": "2024-12-05T17:17:36.457Z"
   },
   {
    "duration": 30,
    "start_time": "2024-12-05T17:17:51.777Z"
   },
   {
    "duration": 14,
    "start_time": "2024-12-05T17:19:00.776Z"
   },
   {
    "duration": 21,
    "start_time": "2024-12-05T17:20:05.397Z"
   },
   {
    "duration": 41,
    "start_time": "2024-12-05T17:28:13.258Z"
   },
   {
    "duration": 48,
    "start_time": "2024-12-05T17:30:02.998Z"
   },
   {
    "duration": 400,
    "start_time": "2024-12-05T20:16:37.871Z"
   },
   {
    "duration": 113,
    "start_time": "2024-12-05T20:16:38.273Z"
   },
   {
    "duration": 23,
    "start_time": "2024-12-05T20:16:38.388Z"
   },
   {
    "duration": 19,
    "start_time": "2024-12-05T20:16:38.413Z"
   },
   {
    "duration": 11,
    "start_time": "2024-12-05T20:16:38.434Z"
   },
   {
    "duration": 68,
    "start_time": "2024-12-05T20:16:38.447Z"
   },
   {
    "duration": 17,
    "start_time": "2024-12-05T20:16:38.517Z"
   },
   {
    "duration": 50,
    "start_time": "2024-12-05T20:16:38.535Z"
   },
   {
    "duration": 76,
    "start_time": "2024-12-05T20:18:33.741Z"
   },
   {
    "duration": 62,
    "start_time": "2024-12-05T20:18:59.909Z"
   },
   {
    "duration": 53,
    "start_time": "2024-12-05T20:19:11.301Z"
   },
   {
    "duration": 316,
    "start_time": "2024-12-05T20:20:21.814Z"
   },
   {
    "duration": 51,
    "start_time": "2024-12-06T07:12:57.787Z"
   },
   {
    "duration": 47,
    "start_time": "2024-12-06T07:26:40.506Z"
   },
   {
    "duration": 392,
    "start_time": "2024-12-06T07:27:38.616Z"
   },
   {
    "duration": 243,
    "start_time": "2024-12-06T07:27:39.747Z"
   },
   {
    "duration": 23,
    "start_time": "2024-12-06T07:27:44.496Z"
   },
   {
    "duration": 20,
    "start_time": "2024-12-06T07:27:48.200Z"
   },
   {
    "duration": 1077,
    "start_time": "2024-12-06T07:29:00.896Z"
   },
   {
    "duration": 0,
    "start_time": "2024-12-06T07:29:18.294Z"
   },
   {
    "duration": 933,
    "start_time": "2024-12-06T07:29:27.600Z"
   },
   {
    "duration": 14,
    "start_time": "2024-12-06T07:29:42.496Z"
   },
   {
    "duration": 43,
    "start_time": "2024-12-06T07:30:15.599Z"
   },
   {
    "duration": 32,
    "start_time": "2024-12-06T07:30:19.735Z"
   },
   {
    "duration": 21,
    "start_time": "2024-12-06T07:30:28.247Z"
   },
   {
    "duration": 22,
    "start_time": "2024-12-06T07:30:29.999Z"
   },
   {
    "duration": 561,
    "start_time": "2024-12-06T07:30:38.537Z"
   },
   {
    "duration": 53,
    "start_time": "2024-12-06T07:33:21.009Z"
   },
   {
    "duration": 1112,
    "start_time": "2024-12-06T07:33:29.679Z"
   },
   {
    "duration": 43,
    "start_time": "2024-12-06T07:33:40.479Z"
   },
   {
    "duration": 53,
    "start_time": "2024-12-06T07:35:52.169Z"
   },
   {
    "duration": 429,
    "start_time": "2024-12-06T07:37:52.760Z"
   },
   {
    "duration": 101,
    "start_time": "2024-12-06T07:37:54.467Z"
   },
   {
    "duration": 23,
    "start_time": "2024-12-06T07:37:58.176Z"
   },
   {
    "duration": 21,
    "start_time": "2024-12-06T07:38:01.880Z"
   },
   {
    "duration": 14,
    "start_time": "2024-12-06T07:38:07.600Z"
   },
   {
    "duration": 41,
    "start_time": "2024-12-06T07:38:13.736Z"
   },
   {
    "duration": 23,
    "start_time": "2024-12-06T07:38:18.216Z"
   },
   {
    "duration": 24,
    "start_time": "2024-12-06T07:38:20.320Z"
   },
   {
    "duration": 308,
    "start_time": "2024-12-06T07:38:24.120Z"
   },
   {
    "duration": 52,
    "start_time": "2024-12-06T07:38:30.208Z"
   },
   {
    "duration": 52,
    "start_time": "2024-12-06T07:38:43.039Z"
   },
   {
    "duration": 53,
    "start_time": "2024-12-06T07:38:47.959Z"
   },
   {
    "duration": 11,
    "start_time": "2024-12-06T07:38:50.718Z"
   },
   {
    "duration": 9,
    "start_time": "2024-12-06T07:38:56.496Z"
   },
   {
    "duration": 68,
    "start_time": "2024-12-06T07:38:59.759Z"
   },
   {
    "duration": 50,
    "start_time": "2024-12-06T07:39:01.977Z"
   },
   {
    "duration": 24,
    "start_time": "2024-12-06T07:39:04.480Z"
   },
   {
    "duration": 108,
    "start_time": "2024-12-06T07:39:11.457Z"
   },
   {
    "duration": 48,
    "start_time": "2024-12-06T07:39:36.137Z"
   },
   {
    "duration": 13,
    "start_time": "2024-12-06T07:39:45.279Z"
   },
   {
    "duration": 80,
    "start_time": "2024-12-06T09:30:21.963Z"
   },
   {
    "duration": 357,
    "start_time": "2024-12-06T09:33:10.140Z"
   },
   {
    "duration": 116,
    "start_time": "2024-12-06T09:33:10.499Z"
   },
   {
    "duration": 19,
    "start_time": "2024-12-06T09:33:10.617Z"
   },
   {
    "duration": 50,
    "start_time": "2024-12-06T09:33:10.638Z"
   },
   {
    "duration": 18,
    "start_time": "2024-12-06T09:33:10.690Z"
   },
   {
    "duration": 35,
    "start_time": "2024-12-06T09:33:10.710Z"
   },
   {
    "duration": 36,
    "start_time": "2024-12-06T09:33:10.746Z"
   },
   {
    "duration": 26,
    "start_time": "2024-12-06T09:33:10.784Z"
   },
   {
    "duration": 516,
    "start_time": "2024-12-06T09:33:10.811Z"
   },
   {
    "duration": 53,
    "start_time": "2024-12-06T09:33:11.330Z"
   },
   {
    "duration": 38,
    "start_time": "2024-12-06T09:33:11.385Z"
   },
   {
    "duration": 32,
    "start_time": "2024-12-06T09:33:11.425Z"
   },
   {
    "duration": 45,
    "start_time": "2024-12-06T09:33:11.459Z"
   },
   {
    "duration": 18,
    "start_time": "2024-12-06T09:33:11.505Z"
   },
   {
    "duration": 63,
    "start_time": "2024-12-06T09:33:11.524Z"
   },
   {
    "duration": 37,
    "start_time": "2024-12-06T09:33:11.596Z"
   },
   {
    "duration": 18,
    "start_time": "2024-12-06T09:33:11.634Z"
   },
   {
    "duration": 7,
    "start_time": "2024-12-06T09:35:12.825Z"
   },
   {
    "duration": 12,
    "start_time": "2024-12-06T09:35:16.066Z"
   },
   {
    "duration": 44,
    "start_time": "2024-12-06T09:37:34.898Z"
   },
   {
    "duration": 82,
    "start_time": "2024-12-06T09:38:27.106Z"
   },
   {
    "duration": 44,
    "start_time": "2024-12-06T09:38:38.570Z"
   },
   {
    "duration": 12,
    "start_time": "2024-12-06T09:38:57.970Z"
   },
   {
    "duration": 17,
    "start_time": "2024-12-06T09:39:36.282Z"
   },
   {
    "duration": 7,
    "start_time": "2024-12-06T09:39:40.684Z"
   },
   {
    "duration": 8,
    "start_time": "2024-12-06T09:39:48.170Z"
   },
   {
    "duration": 58,
    "start_time": "2024-12-06T09:43:04.738Z"
   },
   {
    "duration": 19,
    "start_time": "2024-12-06T09:43:41.850Z"
   },
   {
    "duration": 18,
    "start_time": "2024-12-06T09:43:54.783Z"
   },
   {
    "duration": 21,
    "start_time": "2024-12-06T09:44:33.137Z"
   },
   {
    "duration": 54,
    "start_time": "2024-12-06T09:46:11.811Z"
   },
   {
    "duration": 3,
    "start_time": "2024-12-06T09:47:48.737Z"
   },
   {
    "duration": 10,
    "start_time": "2024-12-06T09:48:30.313Z"
   },
   {
    "duration": 11,
    "start_time": "2024-12-06T09:49:18.249Z"
   },
   {
    "duration": 72,
    "start_time": "2024-12-06T09:54:09.320Z"
   },
   {
    "duration": 6,
    "start_time": "2024-12-06T09:54:18.676Z"
   },
   {
    "duration": 50,
    "start_time": "2024-12-06T11:02:49.320Z"
   },
   {
    "duration": 367,
    "start_time": "2024-12-06T11:03:32.479Z"
   },
   {
    "duration": 117,
    "start_time": "2024-12-06T11:03:32.848Z"
   },
   {
    "duration": 22,
    "start_time": "2024-12-06T11:03:32.968Z"
   },
   {
    "duration": 41,
    "start_time": "2024-12-06T11:03:32.992Z"
   },
   {
    "duration": 13,
    "start_time": "2024-12-06T11:03:33.036Z"
   },
   {
    "duration": 40,
    "start_time": "2024-12-06T11:03:33.051Z"
   },
   {
    "duration": 47,
    "start_time": "2024-12-06T11:03:33.093Z"
   },
   {
    "duration": 21,
    "start_time": "2024-12-06T11:03:33.142Z"
   },
   {
    "duration": 487,
    "start_time": "2024-12-06T11:03:33.165Z"
   },
   {
    "duration": 49,
    "start_time": "2024-12-06T11:03:33.654Z"
   },
   {
    "duration": 57,
    "start_time": "2024-12-06T11:03:33.705Z"
   },
   {
    "duration": 41,
    "start_time": "2024-12-06T11:03:33.764Z"
   },
   {
    "duration": 28,
    "start_time": "2024-12-06T11:03:33.808Z"
   },
   {
    "duration": 21,
    "start_time": "2024-12-06T11:03:33.839Z"
   },
   {
    "duration": 83,
    "start_time": "2024-12-06T11:03:33.862Z"
   },
   {
    "duration": 46,
    "start_time": "2024-12-06T11:03:33.947Z"
   },
   {
    "duration": 43,
    "start_time": "2024-12-06T11:03:33.995Z"
   },
   {
    "duration": 53,
    "start_time": "2024-12-06T11:03:34.040Z"
   },
   {
    "duration": 38,
    "start_time": "2024-12-06T11:03:34.095Z"
   },
   {
    "duration": 14,
    "start_time": "2024-12-06T11:03:34.135Z"
   },
   {
    "duration": 7,
    "start_time": "2024-12-06T11:03:34.151Z"
   },
   {
    "duration": 98,
    "start_time": "2024-12-06T11:03:34.160Z"
   },
   {
    "duration": 47,
    "start_time": "2024-12-06T11:06:32.750Z"
   },
   {
    "duration": 411,
    "start_time": "2024-12-06T11:10:56.434Z"
   },
   {
    "duration": 161,
    "start_time": "2024-12-06T11:10:56.847Z"
   },
   {
    "duration": 23,
    "start_time": "2024-12-06T11:10:57.010Z"
   },
   {
    "duration": 23,
    "start_time": "2024-12-06T11:10:57.035Z"
   },
   {
    "duration": 13,
    "start_time": "2024-12-06T11:10:57.060Z"
   },
   {
    "duration": 59,
    "start_time": "2024-12-06T11:10:57.074Z"
   },
   {
    "duration": 20,
    "start_time": "2024-12-06T11:10:57.135Z"
   },
   {
    "duration": 18,
    "start_time": "2024-12-06T11:10:57.157Z"
   },
   {
    "duration": 321,
    "start_time": "2024-12-06T11:10:57.176Z"
   },
   {
    "duration": 59,
    "start_time": "2024-12-06T11:10:57.500Z"
   },
   {
    "duration": 58,
    "start_time": "2024-12-06T11:10:57.561Z"
   },
   {
    "duration": 48,
    "start_time": "2024-12-06T11:10:57.621Z"
   },
   {
    "duration": 11,
    "start_time": "2024-12-06T11:10:57.671Z"
   },
   {
    "duration": 13,
    "start_time": "2024-12-06T11:10:57.684Z"
   },
   {
    "duration": 81,
    "start_time": "2024-12-06T11:10:57.699Z"
   },
   {
    "duration": 63,
    "start_time": "2024-12-06T11:10:57.781Z"
   },
   {
    "duration": 22,
    "start_time": "2024-12-06T11:10:57.846Z"
   },
   {
    "duration": 64,
    "start_time": "2024-12-06T11:10:57.870Z"
   },
   {
    "duration": 12,
    "start_time": "2024-12-06T11:10:57.935Z"
   },
   {
    "duration": 12,
    "start_time": "2024-12-06T11:10:57.948Z"
   },
   {
    "duration": 5,
    "start_time": "2024-12-06T11:10:57.962Z"
   },
   {
    "duration": 103,
    "start_time": "2024-12-06T11:10:57.969Z"
   },
   {
    "duration": 54,
    "start_time": "2024-12-06T11:17:01.521Z"
   },
   {
    "duration": 76,
    "start_time": "2024-12-06T11:17:37.565Z"
   },
   {
    "duration": 46,
    "start_time": "2024-12-06T11:17:53.873Z"
   },
   {
    "duration": 2,
    "start_time": "2024-12-06T11:18:00.294Z"
   },
   {
    "duration": 207,
    "start_time": "2024-12-06T11:18:00.298Z"
   },
   {
    "duration": 19,
    "start_time": "2024-12-06T11:18:00.507Z"
   },
   {
    "duration": 114,
    "start_time": "2024-12-06T11:18:00.528Z"
   },
   {
    "duration": 37,
    "start_time": "2024-12-06T11:18:00.644Z"
   },
   {
    "duration": 84,
    "start_time": "2024-12-06T11:18:00.682Z"
   },
   {
    "duration": 19,
    "start_time": "2024-12-06T11:18:00.768Z"
   },
   {
    "duration": 40,
    "start_time": "2024-12-06T11:18:00.789Z"
   },
   {
    "duration": 15,
    "start_time": "2024-12-06T11:18:00.831Z"
   },
   {
    "duration": 140,
    "start_time": "2024-12-06T11:18:00.848Z"
   },
   {
    "duration": 41,
    "start_time": "2024-12-06T11:18:00.989Z"
   },
   {
    "duration": 38,
    "start_time": "2024-12-06T11:18:01.032Z"
   },
   {
    "duration": 10,
    "start_time": "2024-12-06T11:18:01.072Z"
   },
   {
    "duration": 43,
    "start_time": "2024-12-06T11:18:01.085Z"
   },
   {
    "duration": 80,
    "start_time": "2024-12-06T11:18:01.130Z"
   },
   {
    "duration": 46,
    "start_time": "2024-12-06T11:18:01.211Z"
   },
   {
    "duration": 24,
    "start_time": "2024-12-06T11:18:01.258Z"
   },
   {
    "duration": 64,
    "start_time": "2024-12-06T11:18:01.284Z"
   },
   {
    "duration": 10,
    "start_time": "2024-12-06T11:18:01.350Z"
   },
   {
    "duration": 36,
    "start_time": "2024-12-06T11:18:01.362Z"
   },
   {
    "duration": 31,
    "start_time": "2024-12-06T11:18:01.399Z"
   },
   {
    "duration": 28,
    "start_time": "2024-12-06T11:18:01.431Z"
   },
   {
    "duration": 53,
    "start_time": "2024-12-06T11:18:35.994Z"
   },
   {
    "duration": 3,
    "start_time": "2024-12-06T11:19:48.006Z"
   },
   {
    "duration": 106,
    "start_time": "2024-12-06T11:19:48.011Z"
   },
   {
    "duration": 19,
    "start_time": "2024-12-06T11:19:48.120Z"
   },
   {
    "duration": 42,
    "start_time": "2024-12-06T11:19:48.141Z"
   },
   {
    "duration": 21,
    "start_time": "2024-12-06T11:19:48.186Z"
   },
   {
    "duration": 76,
    "start_time": "2024-12-06T11:19:48.209Z"
   },
   {
    "duration": 23,
    "start_time": "2024-12-06T11:19:48.286Z"
   },
   {
    "duration": 41,
    "start_time": "2024-12-06T11:19:48.311Z"
   },
   {
    "duration": 17,
    "start_time": "2024-12-06T11:19:48.354Z"
   },
   {
    "duration": 92,
    "start_time": "2024-12-06T11:19:48.373Z"
   },
   {
    "duration": 77,
    "start_time": "2024-12-06T11:19:48.467Z"
   },
   {
    "duration": 60,
    "start_time": "2024-12-06T11:19:48.546Z"
   },
   {
    "duration": 27,
    "start_time": "2024-12-06T11:19:48.609Z"
   },
   {
    "duration": 18,
    "start_time": "2024-12-06T11:19:48.638Z"
   },
   {
    "duration": 40,
    "start_time": "2024-12-06T11:19:48.657Z"
   },
   {
    "duration": 46,
    "start_time": "2024-12-06T11:19:48.699Z"
   },
   {
    "duration": 47,
    "start_time": "2024-12-06T11:19:48.746Z"
   },
   {
    "duration": 49,
    "start_time": "2024-12-06T11:19:48.795Z"
   },
   {
    "duration": 60,
    "start_time": "2024-12-06T11:19:48.846Z"
   },
   {
    "duration": 39,
    "start_time": "2024-12-06T11:19:48.908Z"
   },
   {
    "duration": 12,
    "start_time": "2024-12-06T11:19:48.949Z"
   },
   {
    "duration": 9,
    "start_time": "2024-12-06T11:19:48.962Z"
   },
   {
    "duration": 30,
    "start_time": "2024-12-06T11:19:48.972Z"
   },
   {
    "duration": 45,
    "start_time": "2024-12-06T11:20:26.433Z"
   },
   {
    "duration": 3,
    "start_time": "2024-12-06T11:20:57.762Z"
   },
   {
    "duration": 114,
    "start_time": "2024-12-06T11:20:57.767Z"
   },
   {
    "duration": 19,
    "start_time": "2024-12-06T11:20:57.883Z"
   },
   {
    "duration": 43,
    "start_time": "2024-12-06T11:20:57.904Z"
   },
   {
    "duration": 23,
    "start_time": "2024-12-06T11:20:57.949Z"
   },
   {
    "duration": 44,
    "start_time": "2024-12-06T11:20:57.974Z"
   },
   {
    "duration": 21,
    "start_time": "2024-12-06T11:20:58.033Z"
   },
   {
    "duration": 35,
    "start_time": "2024-12-06T11:20:58.056Z"
   },
   {
    "duration": 51,
    "start_time": "2024-12-06T11:20:58.095Z"
   },
   {
    "duration": 56,
    "start_time": "2024-12-06T11:20:58.148Z"
   },
   {
    "duration": 61,
    "start_time": "2024-12-06T11:20:58.206Z"
   },
   {
    "duration": 41,
    "start_time": "2024-12-06T11:20:58.269Z"
   },
   {
    "duration": 27,
    "start_time": "2024-12-06T11:20:58.312Z"
   },
   {
    "duration": 35,
    "start_time": "2024-12-06T11:20:58.341Z"
   },
   {
    "duration": 36,
    "start_time": "2024-12-06T11:20:58.377Z"
   },
   {
    "duration": 27,
    "start_time": "2024-12-06T11:20:58.414Z"
   },
   {
    "duration": 46,
    "start_time": "2024-12-06T11:20:58.443Z"
   },
   {
    "duration": 6,
    "start_time": "2024-12-06T11:20:58.491Z"
   },
   {
    "duration": 55,
    "start_time": "2024-12-06T11:20:58.498Z"
   },
   {
    "duration": 43,
    "start_time": "2024-12-06T11:20:58.554Z"
   },
   {
    "duration": 11,
    "start_time": "2024-12-06T11:20:58.599Z"
   },
   {
    "duration": 13,
    "start_time": "2024-12-06T11:20:58.632Z"
   },
   {
    "duration": 5,
    "start_time": "2024-12-06T11:20:58.647Z"
   },
   {
    "duration": 10,
    "start_time": "2024-12-06T11:20:58.655Z"
   },
   {
    "duration": 3,
    "start_time": "2024-12-06T12:46:24.014Z"
   },
   {
    "duration": 102,
    "start_time": "2024-12-06T12:46:24.019Z"
   },
   {
    "duration": 20,
    "start_time": "2024-12-06T12:46:24.123Z"
   },
   {
    "duration": 44,
    "start_time": "2024-12-06T12:46:24.145Z"
   },
   {
    "duration": 12,
    "start_time": "2024-12-06T12:46:24.191Z"
   },
   {
    "duration": 32,
    "start_time": "2024-12-06T12:46:24.205Z"
   },
   {
    "duration": 43,
    "start_time": "2024-12-06T12:46:24.239Z"
   },
   {
    "duration": 82,
    "start_time": "2024-12-06T12:46:24.283Z"
   },
   {
    "duration": 13,
    "start_time": "2024-12-06T12:46:24.366Z"
   },
   {
    "duration": 47,
    "start_time": "2024-12-06T12:46:24.381Z"
   },
   {
    "duration": 43,
    "start_time": "2024-12-06T12:46:24.430Z"
   },
   {
    "duration": 34,
    "start_time": "2024-12-06T12:46:24.475Z"
   },
   {
    "duration": 16,
    "start_time": "2024-12-06T12:46:24.510Z"
   },
   {
    "duration": 10,
    "start_time": "2024-12-06T12:46:24.528Z"
   },
   {
    "duration": 53,
    "start_time": "2024-12-06T12:46:24.540Z"
   },
   {
    "duration": 25,
    "start_time": "2024-12-06T12:46:24.595Z"
   },
   {
    "duration": 53,
    "start_time": "2024-12-06T12:46:24.622Z"
   },
   {
    "duration": 3,
    "start_time": "2024-12-06T12:46:24.677Z"
   },
   {
    "duration": 23,
    "start_time": "2024-12-06T12:46:24.681Z"
   },
   {
    "duration": 41,
    "start_time": "2024-12-06T12:46:24.705Z"
   },
   {
    "duration": 32,
    "start_time": "2024-12-06T12:46:24.747Z"
   },
   {
    "duration": 89,
    "start_time": "2024-12-06T12:46:24.780Z"
   },
   {
    "duration": 5,
    "start_time": "2024-12-06T12:46:24.870Z"
   },
   {
    "duration": 7,
    "start_time": "2024-12-06T12:46:24.876Z"
   }
  ],
  "kernelspec": {
   "display_name": "Python 3 (ipykernel)",
   "language": "python",
   "name": "python3"
  },
  "language_info": {
   "codemirror_mode": {
    "name": "ipython",
    "version": 3
   },
   "file_extension": ".py",
   "mimetype": "text/x-python",
   "name": "python",
   "nbconvert_exporter": "python",
   "pygments_lexer": "ipython3",
   "version": "3.9.5"
  },
  "toc": {
   "base_numbering": 1,
   "nav_menu": {},
   "number_sections": true,
   "sideBar": true,
   "skip_h1_title": true,
   "title_cell": "Table of Contents",
   "title_sidebar": "Contents",
   "toc_cell": false,
   "toc_position": {},
   "toc_section_display": true,
   "toc_window_display": true
  }
 },
 "nbformat": 4,
 "nbformat_minor": 5
}
