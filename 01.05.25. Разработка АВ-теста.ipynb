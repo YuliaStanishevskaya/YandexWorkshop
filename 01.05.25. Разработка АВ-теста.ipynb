{
 "cells": [
  {
   "cell_type": "markdown",
   "metadata": {
    "id": "u98L9TgH0eMk"
   },
   "source": [
    "# Разработка A/B-тестирования и анализ результатов\n",
    "\n",
    "Вы работаете продуктовым аналитиком в компании, которая разрабатывает развлекательное приложение с функцией «бесконечной» ленты, как, например, в приложениях с короткими видео. В вашем приложении существует две модели монетизации: первая — ежемесячная платная подписка, которая позволяет пользователям смотреть ленту без рекламы, вторая — демонстрация рекламы для пользователей, которые ещё не оформили подписку.\n",
    "\n",
    "Команда разработчиков рекомендательных систем создала новый алгоритм рекомендаций, который, по их мнению, будет показывать более интересный контент для каждого пользователя. Вас, как аналитика, просят помочь рассчитать параметры A/B-теста, который позволит проверить эту гипотезу, и проанализировать его результаты."
   ]
  },
  {
   "cell_type": "markdown",
   "metadata": {
    "id": "LJBRALHs0eMf"
   },
   "source": [
    "## Описание данных\n",
    "\n",
    "Вы будете работать с тремя таблицами:\n",
    "\n",
    "- `sessions_project_history.csv` — таблица с историческими данными по сессиям пользователей на период с 2025-08-15 по 2025-09-23. Путь к файлу: `/datasets/sessions_project_history.csv`.\n",
    "\n",
    "- `sessions_project_test_part.csv` — таблица с данными за первый день проведения A/B-теста, то есть за 2025-10-14. Путь к файлу: `/datasets/sessions_project_test_part.csv`.\n",
    "\n",
    "- `sessions_project_test.csv` — таблица с данными за весь период проведения A/B-теста, то есть с 2025-10-14 по 2025-11-02. Путь к файлу: `/datasets/sessions_project_test.csv`.\n",
    "\n",
    "У этих таблиц почти совпадает структура и содержание колонок, различаются лишь периоды наблюдения.\n",
    "\n",
    "Поля таблиц `sessions_project_history.csv`, `sessions_project_test.csv`, `sessions_project_test_part.csv`:\n",
    "\n",
    "- `user_id` — идентификатор пользователя;\n",
    "\n",
    "- `session_id` — идентификатор сессии в приложении;\n",
    "\n",
    "- `session_date` — дата сессии;\n",
    "\n",
    "- `session_start_ts` — дата и время начала сессии;\n",
    "\n",
    "- `install_date` — дата установки приложения;\n",
    "\n",
    "- `session_number` — порядковый номер сессии для конкретного пользователя;\n",
    "\n",
    "- `registration_flag` — является ли пользователь зарегистрированным;\n",
    "\n",
    "- `page_counter` — количество просмотренных страниц во время сессии;\n",
    "\n",
    "- `region` — регион пользователя;\n",
    "\n",
    "- `device` — тип устройства пользователя;\n",
    "\n",
    "- `test_group` — тестовая группа (в таблице с историческими данными этого столбца нет).\n",
    "\n",
    "\n",
    "## Что нужно сделать\n",
    "Ваши задачи: рассчитать параметры теста, оценить корректность его проведения и проанализировать результаты эксперимента."
   ]
  },
  {
   "cell_type": "markdown",
   "metadata": {
    "id": "UpOucjID0eMl"
   },
   "source": [
    "### 1. Работа с историческими данными (EDA)"
   ]
  },
  {
   "cell_type": "markdown",
   "metadata": {
    "id": "8iJMtL-30eMl"
   },
   "source": [
    "#### 1.1. Загрузка исторических данных\n",
    "На первом этапе поработайте с историческими данными приложения:\n",
    "\n",
    "- Импортируйте библиотеку pandas.\n",
    "\n",
    "- Считайте и сохраните в датафрейм `sessions_history` CSV-файл с историческими данными о сессиях пользователей `sessions_project_history.csv`.\n",
    "\n",
    "Выведите на экран первые пять строк полученного датафрейма."
   ]
  },
  {
   "cell_type": "code",
   "execution_count": 1,
   "metadata": {},
   "outputs": [],
   "source": [
    "import pandas as pd\n",
    "import matplotlib.pyplot as plt"
   ]
  },
  {
   "cell_type": "code",
   "execution_count": 2,
   "metadata": {
    "id": "6TPR2-1RPboT"
   },
   "outputs": [
    {
     "data": {
      "text/html": [
       "<div>\n",
       "<style scoped>\n",
       "    .dataframe tbody tr th:only-of-type {\n",
       "        vertical-align: middle;\n",
       "    }\n",
       "\n",
       "    .dataframe tbody tr th {\n",
       "        vertical-align: top;\n",
       "    }\n",
       "\n",
       "    .dataframe thead th {\n",
       "        text-align: right;\n",
       "    }\n",
       "</style>\n",
       "<table border=\"1\" class=\"dataframe\">\n",
       "  <thead>\n",
       "    <tr style=\"text-align: right;\">\n",
       "      <th></th>\n",
       "      <th>user_id</th>\n",
       "      <th>session_id</th>\n",
       "      <th>session_date</th>\n",
       "      <th>session_start_ts</th>\n",
       "      <th>install_date</th>\n",
       "      <th>session_number</th>\n",
       "      <th>registration_flag</th>\n",
       "      <th>page_counter</th>\n",
       "      <th>region</th>\n",
       "      <th>device</th>\n",
       "    </tr>\n",
       "  </thead>\n",
       "  <tbody>\n",
       "    <tr>\n",
       "      <th>0</th>\n",
       "      <td>E302123B7000BFE4</td>\n",
       "      <td>F9AF61A0C2023832</td>\n",
       "      <td>2025-08-15</td>\n",
       "      <td>2025-08-15 17:47:35</td>\n",
       "      <td>2025-08-15</td>\n",
       "      <td>1</td>\n",
       "      <td>0</td>\n",
       "      <td>3</td>\n",
       "      <td>CIS</td>\n",
       "      <td>iPhone</td>\n",
       "    </tr>\n",
       "    <tr>\n",
       "      <th>1</th>\n",
       "      <td>2530F72E221829FB</td>\n",
       "      <td>85003A206CBDAC6F</td>\n",
       "      <td>2025-08-15</td>\n",
       "      <td>2025-08-15 16:42:14</td>\n",
       "      <td>2025-08-15</td>\n",
       "      <td>1</td>\n",
       "      <td>0</td>\n",
       "      <td>4</td>\n",
       "      <td>MENA</td>\n",
       "      <td>Android</td>\n",
       "    </tr>\n",
       "    <tr>\n",
       "      <th>2</th>\n",
       "      <td>876E020A4FC512F5</td>\n",
       "      <td>3677423E49D72DEE</td>\n",
       "      <td>2025-08-15</td>\n",
       "      <td>2025-08-15 12:30:00</td>\n",
       "      <td>2025-08-15</td>\n",
       "      <td>1</td>\n",
       "      <td>0</td>\n",
       "      <td>4</td>\n",
       "      <td>EU</td>\n",
       "      <td>PC</td>\n",
       "    </tr>\n",
       "    <tr>\n",
       "      <th>3</th>\n",
       "      <td>2640B349E1D81584</td>\n",
       "      <td>956B45F5915CA225</td>\n",
       "      <td>2025-08-15</td>\n",
       "      <td>2025-08-15 15:31:31</td>\n",
       "      <td>2025-08-15</td>\n",
       "      <td>1</td>\n",
       "      <td>0</td>\n",
       "      <td>4</td>\n",
       "      <td>CIS</td>\n",
       "      <td>Android</td>\n",
       "    </tr>\n",
       "    <tr>\n",
       "      <th>4</th>\n",
       "      <td>94E1CBFAEF1F5EE9</td>\n",
       "      <td>83BF0DA35F9F1F40</td>\n",
       "      <td>2025-08-15</td>\n",
       "      <td>2025-08-15 21:33:53</td>\n",
       "      <td>2025-08-15</td>\n",
       "      <td>1</td>\n",
       "      <td>0</td>\n",
       "      <td>3</td>\n",
       "      <td>CIS</td>\n",
       "      <td>Android</td>\n",
       "    </tr>\n",
       "  </tbody>\n",
       "</table>\n",
       "</div>"
      ],
      "text/plain": [
       "            user_id        session_id session_date     session_start_ts  \\\n",
       "0  E302123B7000BFE4  F9AF61A0C2023832   2025-08-15  2025-08-15 17:47:35   \n",
       "1  2530F72E221829FB  85003A206CBDAC6F   2025-08-15  2025-08-15 16:42:14   \n",
       "2  876E020A4FC512F5  3677423E49D72DEE   2025-08-15  2025-08-15 12:30:00   \n",
       "3  2640B349E1D81584  956B45F5915CA225   2025-08-15  2025-08-15 15:31:31   \n",
       "4  94E1CBFAEF1F5EE9  83BF0DA35F9F1F40   2025-08-15  2025-08-15 21:33:53   \n",
       "\n",
       "  install_date  session_number  registration_flag  page_counter region  \\\n",
       "0   2025-08-15               1                  0             3    CIS   \n",
       "1   2025-08-15               1                  0             4   MENA   \n",
       "2   2025-08-15               1                  0             4     EU   \n",
       "3   2025-08-15               1                  0             4    CIS   \n",
       "4   2025-08-15               1                  0             3    CIS   \n",
       "\n",
       "    device  \n",
       "0   iPhone  \n",
       "1  Android  \n",
       "2       PC  \n",
       "3  Android  \n",
       "4  Android  "
      ]
     },
     "metadata": {},
     "output_type": "display_data"
    }
   ],
   "source": [
    "try:\n",
    "    sessions_history=pd.read_csv('C:/Desktop/yandex_pract/sessions_project_history.csv')\n",
    "except:\n",
    "    sessions_history=pd.read_csv('https://code.s3.yandex.net/datasets/sessions_project_history.csv')\n",
    "\n",
    "display(sessions_history.head())"
   ]
  },
  {
   "cell_type": "markdown",
   "metadata": {
    "id": "qTDoiODz0eMo"
   },
   "source": [
    "#### 1.2. Знакомство с данными\n",
    "- Для каждого уникального пользователя `user_id` рассчитайте количество уникальных сессий `session_id`.\n",
    "\n",
    "- Выведите на экран все данные из таблицы `sessions_history` для одного пользователя с наибольшим количеством сессий. Если таких пользователей несколько, выберите любого из них.\n",
    "\n",
    "- Изучите таблицу для одного пользователя, чтобы лучше понять логику формирования каждого столбца данных.\n",
    "\n"
   ]
  },
  {
   "cell_type": "code",
   "execution_count": 3,
   "metadata": {
    "id": "PWZO9vTIPbPN"
   },
   "outputs": [
    {
     "name": "stdout",
     "output_type": "stream",
     "text": [
      "<class 'pandas.core.frame.DataFrame'>\n",
      "RangeIndex: 435924 entries, 0 to 435923\n",
      "Data columns (total 10 columns):\n",
      " #   Column             Non-Null Count   Dtype \n",
      "---  ------             --------------   ----- \n",
      " 0   user_id            435924 non-null  object\n",
      " 1   session_id         435924 non-null  object\n",
      " 2   session_date       435924 non-null  object\n",
      " 3   session_start_ts   435924 non-null  object\n",
      " 4   install_date       435924 non-null  object\n",
      " 5   session_number     435924 non-null  int64 \n",
      " 6   registration_flag  435924 non-null  int64 \n",
      " 7   page_counter       435924 non-null  int64 \n",
      " 8   region             435924 non-null  object\n",
      " 9   device             435924 non-null  object\n",
      "dtypes: int64(3), object(7)\n",
      "memory usage: 33.3+ MB\n"
     ]
    },
    {
     "data": {
      "text/plain": [
       "None"
      ]
     },
     "metadata": {},
     "output_type": "display_data"
    },
    {
     "data": {
      "text/html": [
       "<div>\n",
       "<style scoped>\n",
       "    .dataframe tbody tr th:only-of-type {\n",
       "        vertical-align: middle;\n",
       "    }\n",
       "\n",
       "    .dataframe tbody tr th {\n",
       "        vertical-align: top;\n",
       "    }\n",
       "\n",
       "    .dataframe thead th {\n",
       "        text-align: right;\n",
       "    }\n",
       "</style>\n",
       "<table border=\"1\" class=\"dataframe\">\n",
       "  <thead>\n",
       "    <tr style=\"text-align: right;\">\n",
       "      <th></th>\n",
       "      <th>session_number</th>\n",
       "      <th>registration_flag</th>\n",
       "      <th>page_counter</th>\n",
       "    </tr>\n",
       "  </thead>\n",
       "  <tbody>\n",
       "    <tr>\n",
       "      <th>count</th>\n",
       "      <td>435924.000000</td>\n",
       "      <td>435924.000000</td>\n",
       "      <td>435924.000000</td>\n",
       "    </tr>\n",
       "    <tr>\n",
       "      <th>mean</th>\n",
       "      <td>2.382908</td>\n",
       "      <td>0.077325</td>\n",
       "      <td>3.005561</td>\n",
       "    </tr>\n",
       "    <tr>\n",
       "      <th>std</th>\n",
       "      <td>1.288487</td>\n",
       "      <td>0.267107</td>\n",
       "      <td>1.024625</td>\n",
       "    </tr>\n",
       "    <tr>\n",
       "      <th>min</th>\n",
       "      <td>1.000000</td>\n",
       "      <td>0.000000</td>\n",
       "      <td>1.000000</td>\n",
       "    </tr>\n",
       "    <tr>\n",
       "      <th>25%</th>\n",
       "      <td>1.000000</td>\n",
       "      <td>0.000000</td>\n",
       "      <td>2.000000</td>\n",
       "    </tr>\n",
       "    <tr>\n",
       "      <th>50%</th>\n",
       "      <td>2.000000</td>\n",
       "      <td>0.000000</td>\n",
       "      <td>3.000000</td>\n",
       "    </tr>\n",
       "    <tr>\n",
       "      <th>75%</th>\n",
       "      <td>3.000000</td>\n",
       "      <td>0.000000</td>\n",
       "      <td>4.000000</td>\n",
       "    </tr>\n",
       "    <tr>\n",
       "      <th>max</th>\n",
       "      <td>10.000000</td>\n",
       "      <td>1.000000</td>\n",
       "      <td>7.000000</td>\n",
       "    </tr>\n",
       "  </tbody>\n",
       "</table>\n",
       "</div>"
      ],
      "text/plain": [
       "       session_number  registration_flag   page_counter\n",
       "count   435924.000000      435924.000000  435924.000000\n",
       "mean         2.382908           0.077325       3.005561\n",
       "std          1.288487           0.267107       1.024625\n",
       "min          1.000000           0.000000       1.000000\n",
       "25%          1.000000           0.000000       2.000000\n",
       "50%          2.000000           0.000000       3.000000\n",
       "75%          3.000000           0.000000       4.000000\n",
       "max         10.000000           1.000000       7.000000"
      ]
     },
     "metadata": {},
     "output_type": "display_data"
    }
   ],
   "source": [
    "#data structure check\n",
    "display(sessions_history.info())\n",
    "display(sessions_history.describe())\n"
   ]
  },
  {
   "cell_type": "code",
   "execution_count": 4,
   "metadata": {},
   "outputs": [
    {
     "data": {
      "text/html": [
       "<div>\n",
       "<style scoped>\n",
       "    .dataframe tbody tr th:only-of-type {\n",
       "        vertical-align: middle;\n",
       "    }\n",
       "\n",
       "    .dataframe tbody tr th {\n",
       "        vertical-align: top;\n",
       "    }\n",
       "\n",
       "    .dataframe thead th {\n",
       "        text-align: right;\n",
       "    }\n",
       "</style>\n",
       "<table border=\"1\" class=\"dataframe\">\n",
       "  <thead>\n",
       "    <tr style=\"text-align: right;\">\n",
       "      <th></th>\n",
       "      <th>user_id</th>\n",
       "      <th>session_id</th>\n",
       "      <th>session_date</th>\n",
       "      <th>session_start_ts</th>\n",
       "      <th>install_date</th>\n",
       "      <th>session_number</th>\n",
       "      <th>registration_flag</th>\n",
       "      <th>page_counter</th>\n",
       "      <th>region</th>\n",
       "      <th>device</th>\n",
       "    </tr>\n",
       "  </thead>\n",
       "  <tbody>\n",
       "  </tbody>\n",
       "</table>\n",
       "</div>"
      ],
      "text/plain": [
       "Empty DataFrame\n",
       "Columns: [user_id, session_id, session_date, session_start_ts, install_date, session_number, registration_flag, page_counter, region, device]\n",
       "Index: []"
      ]
     },
     "metadata": {},
     "output_type": "display_data"
    }
   ],
   "source": [
    "#duplicated check (all)\n",
    "duplicates = sessions_history[sessions_history.duplicated()]\n",
    "display(duplicates.sort_values(by='user_id'))  # Вывод дублей для анализа"
   ]
  },
  {
   "cell_type": "code",
   "execution_count": 5,
   "metadata": {},
   "outputs": [
    {
     "data": {
      "text/html": [
       "<div>\n",
       "<style scoped>\n",
       "    .dataframe tbody tr th:only-of-type {\n",
       "        vertical-align: middle;\n",
       "    }\n",
       "\n",
       "    .dataframe tbody tr th {\n",
       "        vertical-align: top;\n",
       "    }\n",
       "\n",
       "    .dataframe thead th {\n",
       "        text-align: right;\n",
       "    }\n",
       "</style>\n",
       "<table border=\"1\" class=\"dataframe\">\n",
       "  <thead>\n",
       "    <tr style=\"text-align: right;\">\n",
       "      <th></th>\n",
       "      <th>user_id</th>\n",
       "      <th>session_id</th>\n",
       "      <th>session_date</th>\n",
       "      <th>session_start_ts</th>\n",
       "      <th>install_date</th>\n",
       "      <th>session_number</th>\n",
       "      <th>registration_flag</th>\n",
       "      <th>page_counter</th>\n",
       "      <th>region</th>\n",
       "      <th>device</th>\n",
       "    </tr>\n",
       "  </thead>\n",
       "  <tbody>\n",
       "  </tbody>\n",
       "</table>\n",
       "</div>"
      ],
      "text/plain": [
       "Empty DataFrame\n",
       "Columns: [user_id, session_id, session_date, session_start_ts, install_date, session_number, registration_flag, page_counter, region, device]\n",
       "Index: []"
      ]
     },
     "metadata": {},
     "output_type": "display_data"
    }
   ],
   "source": [
    "#duplicated check (local)\n",
    "duplicate_user_sessions = sessions_history[sessions_history.duplicated(['user_id', 'session_start_ts'], keep=False)]\n",
    "display(duplicate_user_sessions.sort_values(['user_id', 'session_start_ts']))"
   ]
  },
  {
   "cell_type": "markdown",
   "metadata": {},
   "source": [
    "При первичном анализе данных дубликатов и пропусков не выявлено"
   ]
  },
  {
   "cell_type": "code",
   "execution_count": 6,
   "metadata": {},
   "outputs": [
    {
     "data": {
      "text/html": [
       "<div>\n",
       "<style scoped>\n",
       "    .dataframe tbody tr th:only-of-type {\n",
       "        vertical-align: middle;\n",
       "    }\n",
       "\n",
       "    .dataframe tbody tr th {\n",
       "        vertical-align: top;\n",
       "    }\n",
       "\n",
       "    .dataframe thead th {\n",
       "        text-align: right;\n",
       "    }\n",
       "</style>\n",
       "<table border=\"1\" class=\"dataframe\">\n",
       "  <thead>\n",
       "    <tr style=\"text-align: right;\">\n",
       "      <th></th>\n",
       "      <th>user_id</th>\n",
       "      <th>session_id</th>\n",
       "      <th>session_date</th>\n",
       "      <th>session_start_ts</th>\n",
       "      <th>install_date</th>\n",
       "      <th>session_number</th>\n",
       "      <th>registration_flag</th>\n",
       "      <th>page_counter</th>\n",
       "      <th>region</th>\n",
       "      <th>device</th>\n",
       "    </tr>\n",
       "  </thead>\n",
       "  <tbody>\n",
       "    <tr>\n",
       "      <th>115558</th>\n",
       "      <td>10E0DEFC1ABDBBE0</td>\n",
       "      <td>B8F0423BBFFCF5DC</td>\n",
       "      <td>2025-08-14</td>\n",
       "      <td>2025-08-14 13:57:39</td>\n",
       "      <td>2025-08-14</td>\n",
       "      <td>1</td>\n",
       "      <td>0</td>\n",
       "      <td>4</td>\n",
       "      <td>CIS</td>\n",
       "      <td>Android</td>\n",
       "    </tr>\n",
       "    <tr>\n",
       "      <th>191751</th>\n",
       "      <td>10E0DEFC1ABDBBE0</td>\n",
       "      <td>87CA2FA549473837</td>\n",
       "      <td>2025-08-15</td>\n",
       "      <td>2025-08-15 16:42:10</td>\n",
       "      <td>2025-08-14</td>\n",
       "      <td>2</td>\n",
       "      <td>0</td>\n",
       "      <td>3</td>\n",
       "      <td>CIS</td>\n",
       "      <td>Android</td>\n",
       "    </tr>\n",
       "    <tr>\n",
       "      <th>239370</th>\n",
       "      <td>10E0DEFC1ABDBBE0</td>\n",
       "      <td>4ADD8011DCDCE318</td>\n",
       "      <td>2025-08-16</td>\n",
       "      <td>2025-08-16 19:53:21</td>\n",
       "      <td>2025-08-14</td>\n",
       "      <td>3</td>\n",
       "      <td>0</td>\n",
       "      <td>3</td>\n",
       "      <td>CIS</td>\n",
       "      <td>Android</td>\n",
       "    </tr>\n",
       "    <tr>\n",
       "      <th>274629</th>\n",
       "      <td>10E0DEFC1ABDBBE0</td>\n",
       "      <td>DF0FD0E09BF1F3D7</td>\n",
       "      <td>2025-08-17</td>\n",
       "      <td>2025-08-17 15:03:43</td>\n",
       "      <td>2025-08-14</td>\n",
       "      <td>4</td>\n",
       "      <td>0</td>\n",
       "      <td>1</td>\n",
       "      <td>CIS</td>\n",
       "      <td>Android</td>\n",
       "    </tr>\n",
       "    <tr>\n",
       "      <th>302501</th>\n",
       "      <td>10E0DEFC1ABDBBE0</td>\n",
       "      <td>3C221774B4DE6885</td>\n",
       "      <td>2025-08-18</td>\n",
       "      <td>2025-08-18 17:29:14</td>\n",
       "      <td>2025-08-14</td>\n",
       "      <td>5</td>\n",
       "      <td>0</td>\n",
       "      <td>4</td>\n",
       "      <td>CIS</td>\n",
       "      <td>Android</td>\n",
       "    </tr>\n",
       "    <tr>\n",
       "      <th>325557</th>\n",
       "      <td>10E0DEFC1ABDBBE0</td>\n",
       "      <td>031BD7A67048105B</td>\n",
       "      <td>2025-08-19</td>\n",
       "      <td>2025-08-19 13:23:55</td>\n",
       "      <td>2025-08-14</td>\n",
       "      <td>6</td>\n",
       "      <td>0</td>\n",
       "      <td>2</td>\n",
       "      <td>CIS</td>\n",
       "      <td>Android</td>\n",
       "    </tr>\n",
       "    <tr>\n",
       "      <th>345336</th>\n",
       "      <td>10E0DEFC1ABDBBE0</td>\n",
       "      <td>FF4315CF4AD4B100</td>\n",
       "      <td>2025-08-20</td>\n",
       "      <td>2025-08-20 19:31:54</td>\n",
       "      <td>2025-08-14</td>\n",
       "      <td>7</td>\n",
       "      <td>0</td>\n",
       "      <td>2</td>\n",
       "      <td>CIS</td>\n",
       "      <td>Android</td>\n",
       "    </tr>\n",
       "    <tr>\n",
       "      <th>377532</th>\n",
       "      <td>10E0DEFC1ABDBBE0</td>\n",
       "      <td>4045FEA0747203B4</td>\n",
       "      <td>2025-08-22</td>\n",
       "      <td>2025-08-22 17:54:13</td>\n",
       "      <td>2025-08-14</td>\n",
       "      <td>8</td>\n",
       "      <td>0</td>\n",
       "      <td>2</td>\n",
       "      <td>CIS</td>\n",
       "      <td>Android</td>\n",
       "    </tr>\n",
       "    <tr>\n",
       "      <th>403538</th>\n",
       "      <td>10E0DEFC1ABDBBE0</td>\n",
       "      <td>344B086C421C7F37</td>\n",
       "      <td>2025-08-24</td>\n",
       "      <td>2025-08-24 14:46:13</td>\n",
       "      <td>2025-08-14</td>\n",
       "      <td>9</td>\n",
       "      <td>0</td>\n",
       "      <td>2</td>\n",
       "      <td>CIS</td>\n",
       "      <td>Android</td>\n",
       "    </tr>\n",
       "    <tr>\n",
       "      <th>414743</th>\n",
       "      <td>10E0DEFC1ABDBBE0</td>\n",
       "      <td>054F20BA371E4C9D</td>\n",
       "      <td>2025-08-25</td>\n",
       "      <td>2025-08-25 18:36:41</td>\n",
       "      <td>2025-08-14</td>\n",
       "      <td>10</td>\n",
       "      <td>0</td>\n",
       "      <td>3</td>\n",
       "      <td>CIS</td>\n",
       "      <td>Android</td>\n",
       "    </tr>\n",
       "  </tbody>\n",
       "</table>\n",
       "</div>"
      ],
      "text/plain": [
       "                 user_id        session_id session_date     session_start_ts  \\\n",
       "115558  10E0DEFC1ABDBBE0  B8F0423BBFFCF5DC   2025-08-14  2025-08-14 13:57:39   \n",
       "191751  10E0DEFC1ABDBBE0  87CA2FA549473837   2025-08-15  2025-08-15 16:42:10   \n",
       "239370  10E0DEFC1ABDBBE0  4ADD8011DCDCE318   2025-08-16  2025-08-16 19:53:21   \n",
       "274629  10E0DEFC1ABDBBE0  DF0FD0E09BF1F3D7   2025-08-17  2025-08-17 15:03:43   \n",
       "302501  10E0DEFC1ABDBBE0  3C221774B4DE6885   2025-08-18  2025-08-18 17:29:14   \n",
       "325557  10E0DEFC1ABDBBE0  031BD7A67048105B   2025-08-19  2025-08-19 13:23:55   \n",
       "345336  10E0DEFC1ABDBBE0  FF4315CF4AD4B100   2025-08-20  2025-08-20 19:31:54   \n",
       "377532  10E0DEFC1ABDBBE0  4045FEA0747203B4   2025-08-22  2025-08-22 17:54:13   \n",
       "403538  10E0DEFC1ABDBBE0  344B086C421C7F37   2025-08-24  2025-08-24 14:46:13   \n",
       "414743  10E0DEFC1ABDBBE0  054F20BA371E4C9D   2025-08-25  2025-08-25 18:36:41   \n",
       "\n",
       "       install_date  session_number  registration_flag  page_counter region  \\\n",
       "115558   2025-08-14               1                  0             4    CIS   \n",
       "191751   2025-08-14               2                  0             3    CIS   \n",
       "239370   2025-08-14               3                  0             3    CIS   \n",
       "274629   2025-08-14               4                  0             1    CIS   \n",
       "302501   2025-08-14               5                  0             4    CIS   \n",
       "325557   2025-08-14               6                  0             2    CIS   \n",
       "345336   2025-08-14               7                  0             2    CIS   \n",
       "377532   2025-08-14               8                  0             2    CIS   \n",
       "403538   2025-08-14               9                  0             2    CIS   \n",
       "414743   2025-08-14              10                  0             3    CIS   \n",
       "\n",
       "         device  \n",
       "115558  Android  \n",
       "191751  Android  \n",
       "239370  Android  \n",
       "274629  Android  \n",
       "302501  Android  \n",
       "325557  Android  \n",
       "345336  Android  \n",
       "377532  Android  \n",
       "403538  Android  \n",
       "414743  Android  "
      ]
     },
     "metadata": {},
     "output_type": "display_data"
    }
   ],
   "source": [
    "# group by user_id and check unique session\n",
    "user_sessions = sessions_history.groupby('user_id')['session_id'].nunique().reset_index()\n",
    "user_sessions.columns = ['user_id', 'session_count']  # Переименуем столбцы\n",
    "top_user=user_sessions.sort_values('session_count', ascending=False).iloc[0]\n",
    "display(sessions_history[sessions_history['user_id'] == top_user['user_id']])"
   ]
  },
  {
   "cell_type": "markdown",
   "metadata": {
    "id": "CmcGpJTP0eMq"
   },
   "source": [
    "#### 1.3. Анализ числа регистраций\n",
    "Одна из важнейших метрик продукта — число зарегистрированных пользователей. Используя исторические данные, визуализируйте, как менялось число регистраций в приложении за время его существования.\n",
    "\n",
    "- Агрегируйте исторические данные и рассчитайте число уникальных пользователей и число зарегистрированных пользователей для каждого дня наблюдения. Для простоты считайте, что у пользователя в течение дня бывает одна сессия максимум и статус регистрации в течение одного дня не может измениться.\n",
    "\n",
    "- Постройте линейные графики общего числа пользователей и общего числа зарегистрированных пользователей по дням. Отобразите их на одном графике.\n",
    "\n",
    "- Постройте отдельный линейный график доли зарегистрированных пользователей от всех пользователей по дням.\n",
    "\n",
    "- На обоих графиках должны быть заголовок, подписанные оси X и Y, сетка и легенда."
   ]
  },
  {
   "cell_type": "code",
   "execution_count": 7,
   "metadata": {
    "id": "tN_6Ml3EPatS",
    "scrolled": true
   },
   "outputs": [
    {
     "data": {
      "text/html": [
       "<div>\n",
       "<style scoped>\n",
       "    .dataframe tbody tr th:only-of-type {\n",
       "        vertical-align: middle;\n",
       "    }\n",
       "\n",
       "    .dataframe tbody tr th {\n",
       "        vertical-align: top;\n",
       "    }\n",
       "\n",
       "    .dataframe thead th {\n",
       "        text-align: right;\n",
       "    }\n",
       "</style>\n",
       "<table border=\"1\" class=\"dataframe\">\n",
       "  <thead>\n",
       "    <tr style=\"text-align: right;\">\n",
       "      <th></th>\n",
       "      <th>session_date</th>\n",
       "      <th>total_users</th>\n",
       "      <th>registered_users</th>\n",
       "      <th>registration_rate</th>\n",
       "    </tr>\n",
       "  </thead>\n",
       "  <tbody>\n",
       "    <tr>\n",
       "      <th>0</th>\n",
       "      <td>2025-08-11</td>\n",
       "      <td>3919</td>\n",
       "      <td>169</td>\n",
       "      <td>0.043123</td>\n",
       "    </tr>\n",
       "    <tr>\n",
       "      <th>1</th>\n",
       "      <td>2025-08-12</td>\n",
       "      <td>6056</td>\n",
       "      <td>336</td>\n",
       "      <td>0.055482</td>\n",
       "    </tr>\n",
       "    <tr>\n",
       "      <th>2</th>\n",
       "      <td>2025-08-13</td>\n",
       "      <td>8489</td>\n",
       "      <td>464</td>\n",
       "      <td>0.054659</td>\n",
       "    </tr>\n",
       "    <tr>\n",
       "      <th>3</th>\n",
       "      <td>2025-08-14</td>\n",
       "      <td>10321</td>\n",
       "      <td>625</td>\n",
       "      <td>0.060556</td>\n",
       "    </tr>\n",
       "    <tr>\n",
       "      <th>4</th>\n",
       "      <td>2025-08-15</td>\n",
       "      <td>14065</td>\n",
       "      <td>840</td>\n",
       "      <td>0.059723</td>\n",
       "    </tr>\n",
       "    <tr>\n",
       "      <th>5</th>\n",
       "      <td>2025-08-16</td>\n",
       "      <td>12205</td>\n",
       "      <td>916</td>\n",
       "      <td>0.075051</td>\n",
       "    </tr>\n",
       "    <tr>\n",
       "      <th>6</th>\n",
       "      <td>2025-08-17</td>\n",
       "      <td>11200</td>\n",
       "      <td>833</td>\n",
       "      <td>0.074375</td>\n",
       "    </tr>\n",
       "    <tr>\n",
       "      <th>7</th>\n",
       "      <td>2025-08-18</td>\n",
       "      <td>10839</td>\n",
       "      <td>860</td>\n",
       "      <td>0.079343</td>\n",
       "    </tr>\n",
       "    <tr>\n",
       "      <th>8</th>\n",
       "      <td>2025-08-19</td>\n",
       "      <td>12118</td>\n",
       "      <td>831</td>\n",
       "      <td>0.068576</td>\n",
       "    </tr>\n",
       "    <tr>\n",
       "      <th>9</th>\n",
       "      <td>2025-08-20</td>\n",
       "      <td>13514</td>\n",
       "      <td>1008</td>\n",
       "      <td>0.074589</td>\n",
       "    </tr>\n",
       "    <tr>\n",
       "      <th>10</th>\n",
       "      <td>2025-08-21</td>\n",
       "      <td>15051</td>\n",
       "      <td>1063</td>\n",
       "      <td>0.070627</td>\n",
       "    </tr>\n",
       "    <tr>\n",
       "      <th>11</th>\n",
       "      <td>2025-08-22</td>\n",
       "      <td>17563</td>\n",
       "      <td>1251</td>\n",
       "      <td>0.071229</td>\n",
       "    </tr>\n",
       "    <tr>\n",
       "      <th>12</th>\n",
       "      <td>2025-08-23</td>\n",
       "      <td>16082</td>\n",
       "      <td>1253</td>\n",
       "      <td>0.077913</td>\n",
       "    </tr>\n",
       "    <tr>\n",
       "      <th>13</th>\n",
       "      <td>2025-08-24</td>\n",
       "      <td>13683</td>\n",
       "      <td>1181</td>\n",
       "      <td>0.086311</td>\n",
       "    </tr>\n",
       "    <tr>\n",
       "      <th>14</th>\n",
       "      <td>2025-08-25</td>\n",
       "      <td>13635</td>\n",
       "      <td>1060</td>\n",
       "      <td>0.077741</td>\n",
       "    </tr>\n",
       "    <tr>\n",
       "      <th>15</th>\n",
       "      <td>2025-08-26</td>\n",
       "      <td>13289</td>\n",
       "      <td>1050</td>\n",
       "      <td>0.079013</td>\n",
       "    </tr>\n",
       "    <tr>\n",
       "      <th>16</th>\n",
       "      <td>2025-08-27</td>\n",
       "      <td>14766</td>\n",
       "      <td>1076</td>\n",
       "      <td>0.072870</td>\n",
       "    </tr>\n",
       "    <tr>\n",
       "      <th>17</th>\n",
       "      <td>2025-08-28</td>\n",
       "      <td>15388</td>\n",
       "      <td>1175</td>\n",
       "      <td>0.076358</td>\n",
       "    </tr>\n",
       "    <tr>\n",
       "      <th>18</th>\n",
       "      <td>2025-08-29</td>\n",
       "      <td>16873</td>\n",
       "      <td>1174</td>\n",
       "      <td>0.069579</td>\n",
       "    </tr>\n",
       "    <tr>\n",
       "      <th>19</th>\n",
       "      <td>2025-08-30</td>\n",
       "      <td>14891</td>\n",
       "      <td>1165</td>\n",
       "      <td>0.078235</td>\n",
       "    </tr>\n",
       "    <tr>\n",
       "      <th>20</th>\n",
       "      <td>2025-08-31</td>\n",
       "      <td>13266</td>\n",
       "      <td>1105</td>\n",
       "      <td>0.083296</td>\n",
       "    </tr>\n",
       "    <tr>\n",
       "      <th>21</th>\n",
       "      <td>2025-09-01</td>\n",
       "      <td>12685</td>\n",
       "      <td>1028</td>\n",
       "      <td>0.081041</td>\n",
       "    </tr>\n",
       "    <tr>\n",
       "      <th>22</th>\n",
       "      <td>2025-09-02</td>\n",
       "      <td>12672</td>\n",
       "      <td>1039</td>\n",
       "      <td>0.081992</td>\n",
       "    </tr>\n",
       "    <tr>\n",
       "      <th>23</th>\n",
       "      <td>2025-09-03</td>\n",
       "      <td>12777</td>\n",
       "      <td>1035</td>\n",
       "      <td>0.081005</td>\n",
       "    </tr>\n",
       "    <tr>\n",
       "      <th>24</th>\n",
       "      <td>2025-09-04</td>\n",
       "      <td>13683</td>\n",
       "      <td>1007</td>\n",
       "      <td>0.073595</td>\n",
       "    </tr>\n",
       "    <tr>\n",
       "      <th>25</th>\n",
       "      <td>2025-09-05</td>\n",
       "      <td>15324</td>\n",
       "      <td>1030</td>\n",
       "      <td>0.067215</td>\n",
       "    </tr>\n",
       "    <tr>\n",
       "      <th>26</th>\n",
       "      <td>2025-09-06</td>\n",
       "      <td>13078</td>\n",
       "      <td>1023</td>\n",
       "      <td>0.078223</td>\n",
       "    </tr>\n",
       "    <tr>\n",
       "      <th>27</th>\n",
       "      <td>2025-09-07</td>\n",
       "      <td>12367</td>\n",
       "      <td>1069</td>\n",
       "      <td>0.086440</td>\n",
       "    </tr>\n",
       "    <tr>\n",
       "      <th>28</th>\n",
       "      <td>2025-09-08</td>\n",
       "      <td>11826</td>\n",
       "      <td>1009</td>\n",
       "      <td>0.085320</td>\n",
       "    </tr>\n",
       "    <tr>\n",
       "      <th>29</th>\n",
       "      <td>2025-09-09</td>\n",
       "      <td>11780</td>\n",
       "      <td>980</td>\n",
       "      <td>0.083192</td>\n",
       "    </tr>\n",
       "    <tr>\n",
       "      <th>30</th>\n",
       "      <td>2025-09-10</td>\n",
       "      <td>12526</td>\n",
       "      <td>1015</td>\n",
       "      <td>0.081031</td>\n",
       "    </tr>\n",
       "    <tr>\n",
       "      <th>31</th>\n",
       "      <td>2025-09-11</td>\n",
       "      <td>8623</td>\n",
       "      <td>824</td>\n",
       "      <td>0.095558</td>\n",
       "    </tr>\n",
       "    <tr>\n",
       "      <th>32</th>\n",
       "      <td>2025-09-12</td>\n",
       "      <td>6436</td>\n",
       "      <td>669</td>\n",
       "      <td>0.103947</td>\n",
       "    </tr>\n",
       "    <tr>\n",
       "      <th>33</th>\n",
       "      <td>2025-09-13</td>\n",
       "      <td>5183</td>\n",
       "      <td>537</td>\n",
       "      <td>0.103608</td>\n",
       "    </tr>\n",
       "    <tr>\n",
       "      <th>34</th>\n",
       "      <td>2025-09-14</td>\n",
       "      <td>4364</td>\n",
       "      <td>440</td>\n",
       "      <td>0.100825</td>\n",
       "    </tr>\n",
       "    <tr>\n",
       "      <th>35</th>\n",
       "      <td>2025-09-15</td>\n",
       "      <td>3698</td>\n",
       "      <td>383</td>\n",
       "      <td>0.103569</td>\n",
       "    </tr>\n",
       "    <tr>\n",
       "      <th>36</th>\n",
       "      <td>2025-09-16</td>\n",
       "      <td>3032</td>\n",
       "      <td>286</td>\n",
       "      <td>0.094327</td>\n",
       "    </tr>\n",
       "    <tr>\n",
       "      <th>37</th>\n",
       "      <td>2025-09-17</td>\n",
       "      <td>2548</td>\n",
       "      <td>272</td>\n",
       "      <td>0.106750</td>\n",
       "    </tr>\n",
       "    <tr>\n",
       "      <th>38</th>\n",
       "      <td>2025-09-18</td>\n",
       "      <td>1952</td>\n",
       "      <td>201</td>\n",
       "      <td>0.102971</td>\n",
       "    </tr>\n",
       "    <tr>\n",
       "      <th>39</th>\n",
       "      <td>2025-09-19</td>\n",
       "      <td>1418</td>\n",
       "      <td>132</td>\n",
       "      <td>0.093089</td>\n",
       "    </tr>\n",
       "    <tr>\n",
       "      <th>40</th>\n",
       "      <td>2025-09-20</td>\n",
       "      <td>1100</td>\n",
       "      <td>107</td>\n",
       "      <td>0.097273</td>\n",
       "    </tr>\n",
       "    <tr>\n",
       "      <th>41</th>\n",
       "      <td>2025-09-21</td>\n",
       "      <td>776</td>\n",
       "      <td>87</td>\n",
       "      <td>0.112113</td>\n",
       "    </tr>\n",
       "    <tr>\n",
       "      <th>42</th>\n",
       "      <td>2025-09-22</td>\n",
       "      <td>546</td>\n",
       "      <td>68</td>\n",
       "      <td>0.124542</td>\n",
       "    </tr>\n",
       "    <tr>\n",
       "      <th>43</th>\n",
       "      <td>2025-09-23</td>\n",
       "      <td>317</td>\n",
       "      <td>32</td>\n",
       "      <td>0.100946</td>\n",
       "    </tr>\n",
       "  </tbody>\n",
       "</table>\n",
       "</div>"
      ],
      "text/plain": [
       "   session_date  total_users  registered_users  registration_rate\n",
       "0    2025-08-11         3919               169           0.043123\n",
       "1    2025-08-12         6056               336           0.055482\n",
       "2    2025-08-13         8489               464           0.054659\n",
       "3    2025-08-14        10321               625           0.060556\n",
       "4    2025-08-15        14065               840           0.059723\n",
       "5    2025-08-16        12205               916           0.075051\n",
       "6    2025-08-17        11200               833           0.074375\n",
       "7    2025-08-18        10839               860           0.079343\n",
       "8    2025-08-19        12118               831           0.068576\n",
       "9    2025-08-20        13514              1008           0.074589\n",
       "10   2025-08-21        15051              1063           0.070627\n",
       "11   2025-08-22        17563              1251           0.071229\n",
       "12   2025-08-23        16082              1253           0.077913\n",
       "13   2025-08-24        13683              1181           0.086311\n",
       "14   2025-08-25        13635              1060           0.077741\n",
       "15   2025-08-26        13289              1050           0.079013\n",
       "16   2025-08-27        14766              1076           0.072870\n",
       "17   2025-08-28        15388              1175           0.076358\n",
       "18   2025-08-29        16873              1174           0.069579\n",
       "19   2025-08-30        14891              1165           0.078235\n",
       "20   2025-08-31        13266              1105           0.083296\n",
       "21   2025-09-01        12685              1028           0.081041\n",
       "22   2025-09-02        12672              1039           0.081992\n",
       "23   2025-09-03        12777              1035           0.081005\n",
       "24   2025-09-04        13683              1007           0.073595\n",
       "25   2025-09-05        15324              1030           0.067215\n",
       "26   2025-09-06        13078              1023           0.078223\n",
       "27   2025-09-07        12367              1069           0.086440\n",
       "28   2025-09-08        11826              1009           0.085320\n",
       "29   2025-09-09        11780               980           0.083192\n",
       "30   2025-09-10        12526              1015           0.081031\n",
       "31   2025-09-11         8623               824           0.095558\n",
       "32   2025-09-12         6436               669           0.103947\n",
       "33   2025-09-13         5183               537           0.103608\n",
       "34   2025-09-14         4364               440           0.100825\n",
       "35   2025-09-15         3698               383           0.103569\n",
       "36   2025-09-16         3032               286           0.094327\n",
       "37   2025-09-17         2548               272           0.106750\n",
       "38   2025-09-18         1952               201           0.102971\n",
       "39   2025-09-19         1418               132           0.093089\n",
       "40   2025-09-20         1100               107           0.097273\n",
       "41   2025-09-21          776                87           0.112113\n",
       "42   2025-09-22          546                68           0.124542\n",
       "43   2025-09-23          317                32           0.100946"
      ]
     },
     "metadata": {},
     "output_type": "display_data"
    }
   ],
   "source": [
    "#  session_date to datetime\n",
    "sessions_history['session_date'] = pd.to_datetime(sessions_history['session_date'])\n",
    "\n",
    "# group dy day \n",
    "daily_stats = sessions_history.groupby('session_date').agg(total_users=('user_id', 'nunique'), \n",
    "                registered_users=('registration_flag', 'sum')  # Сумма регистраций (flag=1)\n",
    "                ).reset_index()\n",
    "\n",
    "# part by registered\n",
    "daily_stats['registration_rate'] = daily_stats['registered_users'] / daily_stats['total_users']\n",
    "display(daily_stats)"
   ]
  },
  {
   "cell_type": "code",
   "execution_count": 8,
   "metadata": {},
   "outputs": [
    {
     "data": {
      "image/png": "[encoded data removed]",
      "text/plain": [
       "<Figure size 864x432 with 1 Axes>"
      ]
     },
     "metadata": {
      "needs_background": "light"
     },
     "output_type": "display_data"
    }
   ],
   "source": [
    "plt.figure(figsize=(12, 6))\n",
    "plt.plot(daily_stats['session_date'], daily_stats['total_users'], label='Все пользователи', marker='o')\n",
    "plt.plot(daily_stats['session_date'], daily_stats['registered_users'], label='Зарегистрированные', marker='s')\n",
    "\n",
    "plt.title('Динамика регистраций пользователей', fontsize=14)\n",
    "plt.xlabel('Дата', fontsize=12)\n",
    "plt.ylabel('Количество пользователей', fontsize=12)\n",
    "plt.grid(True, linestyle='--', alpha=0.7)\n",
    "plt.legend()\n",
    "plt.xticks(rotation=45)\n",
    "plt.tight_layout()\n",
    "plt.show()"
   ]
  },
  {
   "cell_type": "markdown",
   "metadata": {},
   "source": [
    "Из всех уникальных пользователей регистрацию проходит лишь малая часть."
   ]
  },
  {
   "cell_type": "code",
   "execution_count": 9,
   "metadata": {},
   "outputs": [
    {
     "data": {
      "image/png": "[encoded data removed]",
      "text/plain": [
       "<Figure size 864x432 with 1 Axes>"
      ]
     },
     "metadata": {
      "needs_background": "light"
     },
     "output_type": "display_data"
    }
   ],
   "source": [
    "plt.figure(figsize=(12, 6))\n",
    "plt.plot(daily_stats['session_date'], daily_stats['registration_rate'], label='Доля зарегистрированных', color='green', marker='o')\n",
    "\n",
    "plt.title('Доля зарегистрированных пользователей', fontsize=14)\n",
    "plt.xlabel('Дата', fontsize=12)\n",
    "plt.ylabel('Доля', fontsize=12)\n",
    "plt.grid(True, linestyle='--', alpha=0.7)\n",
    "plt.legend()\n",
    "plt.xticks(rotation=45)\n",
    "plt.tight_layout()\n",
    "plt.show()"
   ]
  },
  {
   "cell_type": "markdown",
   "metadata": {},
   "source": [
    "Но в целом тренд на регистрацию положительный."
   ]
  },
  {
   "cell_type": "markdown",
   "metadata": {
    "id": "UR7D7RhF0eMr"
   },
   "source": [
    "#### 1.4. Анализ числа просмотренных страниц\n",
    "Другая важная метрика продукта — число просмотренных страниц в приложении. Чем больше страниц просмотрено, тем сильнее пользователь увлечён контентом, а значит, выше шансы на то, что он зарегистрируется и оплатит подписку.\n",
    "\n",
    "- Найдите количество сессий для каждого значения количества просмотренных страниц. Например: одну страницу просмотрели в 29160 сессиях, две страницы в 105536 сессиях и так далее.\n",
    "\n",
    "- Постройте столбчатую диаграмму, где по оси X будет число просмотренных страниц, по оси Y — количество сессий.\n",
    "\n",
    "- На диаграмме должны быть заголовок, подписанные оси X и Y."
   ]
  },
  {
   "cell_type": "code",
   "execution_count": 10,
   "metadata": {
    "id": "cb6hPlVzPaSf"
   },
   "outputs": [
    {
     "data": {
      "text/html": [
       "<div>\n",
       "<style scoped>\n",
       "    .dataframe tbody tr th:only-of-type {\n",
       "        vertical-align: middle;\n",
       "    }\n",
       "\n",
       "    .dataframe tbody tr th {\n",
       "        vertical-align: top;\n",
       "    }\n",
       "\n",
       "    .dataframe thead th {\n",
       "        text-align: right;\n",
       "    }\n",
       "</style>\n",
       "<table border=\"1\" class=\"dataframe\">\n",
       "  <thead>\n",
       "    <tr style=\"text-align: right;\">\n",
       "      <th></th>\n",
       "      <th>page_counter</th>\n",
       "      <th>session_count</th>\n",
       "    </tr>\n",
       "  </thead>\n",
       "  <tbody>\n",
       "    <tr>\n",
       "      <th>0</th>\n",
       "      <td>1</td>\n",
       "      <td>29160</td>\n",
       "    </tr>\n",
       "    <tr>\n",
       "      <th>1</th>\n",
       "      <td>2</td>\n",
       "      <td>105536</td>\n",
       "    </tr>\n",
       "    <tr>\n",
       "      <th>2</th>\n",
       "      <td>3</td>\n",
       "      <td>166690</td>\n",
       "    </tr>\n",
       "    <tr>\n",
       "      <th>3</th>\n",
       "      <td>4</td>\n",
       "      <td>105569</td>\n",
       "    </tr>\n",
       "    <tr>\n",
       "      <th>4</th>\n",
       "      <td>5</td>\n",
       "      <td>26288</td>\n",
       "    </tr>\n",
       "    <tr>\n",
       "      <th>5</th>\n",
       "      <td>6</td>\n",
       "      <td>2589</td>\n",
       "    </tr>\n",
       "    <tr>\n",
       "      <th>6</th>\n",
       "      <td>7</td>\n",
       "      <td>92</td>\n",
       "    </tr>\n",
       "  </tbody>\n",
       "</table>\n",
       "</div>"
      ],
      "text/plain": [
       "   page_counter  session_count\n",
       "0             1          29160\n",
       "1             2         105536\n",
       "2             3         166690\n",
       "3             4         105569\n",
       "4             5          26288\n",
       "5             6           2589\n",
       "6             7             92"
      ]
     },
     "metadata": {},
     "output_type": "display_data"
    }
   ],
   "source": [
    "page_views_distribution = sessions_history['page_counter'].value_counts().sort_index().reset_index()\n",
    "page_views_distribution.columns = ['page_counter', 'session_count']  # Переименовываем столбцы\n",
    "display(page_views_distribution)"
   ]
  },
  {
   "cell_type": "code",
   "execution_count": 11,
   "metadata": {},
   "outputs": [
    {
     "data": {
      "image/png": "[encoded data removed]",
      "text/plain": [
       "<Figure size 864x432 with 1 Axes>"
      ]
     },
     "metadata": {
      "needs_background": "light"
     },
     "output_type": "display_data"
    }
   ],
   "source": [
    "plt.figure(figsize=(12, 6))\n",
    "plt.bar(page_views_distribution['page_counter'], page_views_distribution['session_count'], color='skyblue')\n",
    "\n",
    "# Настройки графика\n",
    "plt.title('Распределение сессий по количеству просмотренных страниц', fontsize=14)\n",
    "plt.xlabel('Количество просмотренных страниц (page_counter)', fontsize=12)\n",
    "plt.ylabel('Количество сессий', fontsize=12)\n",
    "plt.grid(axis='y', linestyle='--', alpha=0.7)\n",
    "\n",
    "# Опционально: ограничиваем ось X для лучшей читаемости (если есть выбросы)\n",
    "plt.xlim(0, page_views_distribution['page_counter'].max() + 1)\n",
    "\n",
    "plt.tight_layout()\n",
    "plt.show()"
   ]
  },
  {
   "cell_type": "markdown",
   "metadata": {},
   "source": [
    "Обычно пользователи просматривают около 3 страниц."
   ]
  },
  {
   "cell_type": "code",
   "execution_count": 12,
   "metadata": {},
   "outputs": [],
   "source": [
    "registered = sessions_history[sessions_history['registration_flag'] == 1]['page_counter'].value_counts().sort_index()\n",
    "non_registered = sessions_history[sessions_history['registration_flag'] == 0]['page_counter'].value_counts().sort_index()"
   ]
  },
  {
   "cell_type": "code",
   "execution_count": 13,
   "metadata": {},
   "outputs": [
    {
     "data": {
      "image/png": "[encoded data removed]",
      "text/plain": [
       "<Figure size 720x504 with 1 Axes>"
      ]
     },
     "metadata": {
      "needs_background": "light"
     },
     "output_type": "display_data"
    }
   ],
   "source": [
    "\n",
    "plt.figure(figsize=(10, 7))\n",
    "bar_width = 0.2\n",
    "positions = range(len(registered.index))\n",
    "\n",
    "plt.bar([p - bar_width/2 for p in positions], \n",
    "        registered.values, \n",
    "        width=bar_width, \n",
    "        color='#1f77b4', \n",
    "        label='Зарегистрированные')\n",
    "plt.bar([p + bar_width/2 for p in positions], \n",
    "        non_registered.values, \n",
    "        width=bar_width, \n",
    "        color='#ff7f0e', \n",
    "        label='Незарегистрированные')\n",
    "\n",
    "\n",
    "plt.title('Распределение просмотренных страниц по регистрационному статусу', fontsize=16, pad=20)\n",
    "plt.xlabel('Количество просмотренных страниц', fontsize=14)\n",
    "plt.ylabel('Количество сессий', fontsize=14)\n",
    "plt.xticks(positions, registered.index, rotation=45)\n",
    "plt.grid(axis='y', linestyle='--', alpha=0.7)\n",
    "plt.legend(fontsize=12)\n",
    "plt.yscale('log')\n",
    "plt.show()\n"
   ]
  },
  {
   "cell_type": "markdown",
   "metadata": {},
   "source": [
    "а вот тут примечательно, выходит что значительная часть юзеров незарегистрирована и пользуется приложением более активно, нежели зарегистриррованная, особенно эта разница заметна у пользователей с количеством сессий = 7."
   ]
  },
  {
   "cell_type": "markdown",
   "metadata": {
    "id": "xDltSpVP0eMr"
   },
   "source": [
    "#### 1.5. Доля пользователей, просмотревших более четырёх страниц\n",
    "Продуктовая команда продукта считает, что сессии, в рамках которых пользователь просмотрел 4 и более страниц, говорят об удовлетворённости контентом и алгоритмами рекомендаций. Этот показатель является важной прокси-метрикой для продукта.\n",
    "\n",
    "- В датафрейме `sessions_history` создайте дополнительный столбец `good_session`. В него войдёт значение `1`, если за одну сессию было просмотрено 4 и более страниц, и значение `0`, если было просмотрено меньше.\n",
    "\n",
    "- Постройте график со средним значением доли успешных сессий ко всем сессиям по дням за весь период наблюдения."
   ]
  },
  {
   "cell_type": "code",
   "execution_count": 14,
   "metadata": {
    "id": "iygaPfixPYMW"
   },
   "outputs": [
    {
     "data": {
      "image/png": "[encoded data removed]",
      "text/plain": [
       "<Figure size 1008x504 with 1 Axes>"
      ]
     },
     "metadata": {
      "needs_background": "light"
     },
     "output_type": "display_data"
    }
   ],
   "source": [
    "\n",
    "sessions_history['good_session'] = sessions_history['page_counter'].apply(lambda x: 1 if x >= 4 else 0)\n",
    "daily_quality = sessions_history.groupby('session_date')['good_session'].agg(\n",
    "    total_sessions='count',\n",
    "    good_sessions='sum'\n",
    ").reset_index()\n",
    "\n",
    "\n",
    "daily_quality['good_sessions_ratio'] = daily_quality['good_sessions'] / daily_quality['total_sessions']\n",
    "\n",
    "\n",
    "plt.figure(figsize=(14, 7))\n",
    "plt.plot(daily_quality['session_date'], \n",
    "         daily_quality['good_sessions_ratio'], \n",
    "         marker='o', \n",
    "         color='#2ca02c',\n",
    "         linewidth=2)\n",
    "\n",
    "plt.title('Доля \"успешных\" сессий (просмотр ≥4 страниц) по дням', fontsize=16, pad=20)\n",
    "plt.xlabel('Дата', fontsize=14)\n",
    "plt.ylabel('Доля успешных сессий', fontsize=14)\n",
    "plt.grid(True, linestyle='--', alpha=0.7)\n",
    "\n",
    "\n",
    "\n",
    "mean_ratio = daily_quality['good_sessions_ratio'].mean()\n",
    "plt.axhline(mean_ratio, color='red', linestyle='--', \n",
    "            label=f'Среднее: {mean_ratio:.2%}')\n",
    "plt.legend(fontsize=12)\n",
    "\n",
    "\n",
    "plt.gcf().autofmt_xdate()\n",
    "\n",
    "plt.tight_layout()\n",
    "plt.show()"
   ]
  },
  {
   "cell_type": "markdown",
   "metadata": {},
   "source": [
    "c 08/09/25 графи ведет себя более хаотично, доля успешных сессий скорее падает чем растет, возможно есть проблемы с контентом или с доступом к нему."
   ]
  },
  {
   "cell_type": "markdown",
   "metadata": {
    "id": "21JcG77Y0eMt"
   },
   "source": [
    "### 2. Подготовка к тесту\n",
    "При планировании теста необходимо проделать несколько важных шагов:\n",
    "\n",
    "- Определиться с целевой метрикой.\n",
    "\n",
    "- Рассчитать необходимый размер выборки.\n",
    "\n",
    "- Исходя из текущих значений трафика, рассчитать необходимую длительность проведения теста."
   ]
  },
  {
   "cell_type": "markdown",
   "metadata": {
    "id": "uzaeln270eMt"
   },
   "source": [
    "#### 2.1. Расчёт размера выборки\n",
    "В рамках курса вам уже приходилось рассчитывать размеры выборки, используя онлайн-калькуляторы. В этом задании предлагаем воспользоваться готовым кодом и рассчитать необходимое для вашего дизайна эксперимента количество пользователей.\n",
    "\n",
    "Для этого установите в коде ниже следующие параметры:\n",
    "\n",
    "- Уровень значимости — 0.05.\n",
    "\n",
    "- Вероятность ошибки второго рода — 0.2.\n",
    "\n",
    "- Мощность теста.\n",
    "\n",
    "- Минимальный детектируемый эффект, или MDE, — 3%. Обратите внимание, что здесь нужно указать десятичную дробь, а не процент.\n",
    "\n",
    "При расчёте размера выборки мы будем использовать метод `solve_power()` из класса `power.NormalIndPower` модуля `statsmodels.stats`.\n",
    "\n",
    "Запустите ячейку и изучите полученное значение."
   ]
  },
  {
   "cell_type": "code",
   "execution_count": 15,
   "metadata": {
    "id": "zSxJyPGPNdaI"
   },
   "outputs": [
    {
     "name": "stdout",
     "output_type": "stream",
     "text": [
      "Необходимый размер выборки для каждой группы: 17441 пользователей\n",
      "Общий размер выборки: 34882 пользователей\n"
     ]
    }
   ],
   "source": [
    "from statsmodels.stats.power import NormalIndPower\n",
    "\n",
    "# Задаём параметры\n",
    "alpha = 0.05       # Уровень значимости (5%)\n",
    "beta = 0.2         # Вероятность ошибки II рода (20%)\n",
    "power = 0.8        # Мощность теста (1 - beta)\n",
    "mde = 0.03         # Минимальный детектируемый эффект (3%)\n",
    "\n",
    "# Инициализируем класс NormalIndPower\n",
    "power_analysis = NormalIndPower()\n",
    "\n",
    "# Рассчитываем размер выборки\n",
    "sample_size = power_analysis.solve_power(\n",
    "    effect_size=mde,\n",
    "    power=power,\n",
    "    alpha=alpha,\n",
    "    ratio=1.0)\n",
    "\n",
    "print(f\"Необходимый размер выборки для каждой группы: {int(sample_size)} пользователей\")\n",
    "print(f\"Общий размер выборки: {2 * int(sample_size)} пользователей\")"
   ]
  },
  {
   "cell_type": "markdown",
   "metadata": {
    "id": "qLEv4RoV0eMu"
   },
   "source": [
    "#### 2.1. Расчёт длительности A/B-теста\n",
    "\n",
    "Используйте данные о количестве пользователей в каждой выборке и среднем количестве пользователей приложения. Рассчитайте длительность теста, разделив одно на другое.\n",
    "\n",
    "- Рассчитайте среднее количество уникальных пользователей приложения в день.\n",
    "\n",
    "- Определите длительность теста, исходя из рассчитанного значения размера выборок и среднего дневного трафика приложения. Количество дней округлите в большую сторону."
   ]
  },
  {
   "cell_type": "code",
   "execution_count": 16,
   "metadata": {
    "id": "KZDRbryDOGHa"
   },
   "outputs": [
    {
     "name": "stdout",
     "output_type": "stream",
     "text": [
      "Среднее количество уникальных пользователей в день: 9907\n",
      "Рассчитанная длительность A/B-теста при текущем уровене трафика в 9907.363636363636 пользователей в день составит 4 дней\n"
     ]
    }
   ],
   "source": [
    "from math import ceil\n",
    "\n",
    "\n",
    "# Среднее количество пользователей приложения в день по историческим данным\n",
    "avg_daily_users =sessions_history.groupby('session_date')['user_id'].nunique().mean()\n",
    "print(f\"Среднее количество уникальных пользователей в день: {avg_daily_users:.0f}\")\n",
    "total_sample_size = 2 *sample_size \n",
    "# Рассчитываем длительность теста в днях как отношение размера выборки к среднему числу пользователей\n",
    "test_duration = ceil(total_sample_size / avg_daily_users)\n",
    "\n",
    "print(f\"Рассчитанная длительность A/B-теста при текущем уровене трафика в {avg_daily_users} пользователей в день составит {test_duration} дней\")"
   ]
  },
  {
   "cell_type": "markdown",
   "metadata": {
    "id": "ZuvtAdha0eMv"
   },
   "source": [
    "### 3. Мониторинг А/В-теста"
   ]
  },
  {
   "cell_type": "markdown",
   "metadata": {
    "id": "jq5sE3Ya0eMv"
   },
   "source": [
    "#### 3.1. Проверка распределения пользователей\n",
    "\n",
    "A/B-тест успешно запущен, и уже доступны данные за первые три дня. На этом этапе нужно убедиться, что всё идёт хорошо: пользователи разделены правильным образом, а интересующие вас метрики корректно считаются.\n",
    "\n",
    "- Считайте и сохраните в датафрейм `sessions_test_part` CSV-файл с историческими данными о сессиях пользователей `sessions_project_test_part.csv`.\n",
    "\n",
    "- Рассчитайте количество уникальных пользователей в каждой из экспериментальных групп для одного дня наблюдения.\n",
    "\n",
    "- Рассчитайте и выведите на экран процентную разницу в количестве пользователей в группах A и B. Постройте любую удобную визуализацию, на которой можно было бы увидеть возможное различие двух групп.\n",
    "\n",
    "Для расчёта процентной разницы воспользуйтесь формулой:\n",
    "$$P = 100 \\cdot  \\frac{|A − B|}{A}$$"
   ]
  },
  {
   "cell_type": "code",
   "execution_count": 17,
   "metadata": {
    "id": "G1bqIzDJOUiz"
   },
   "outputs": [
    {
     "name": "stdout",
     "output_type": "stream",
     "text": [
      "Количество пользователей в группе A: 1477\n",
      "Количество пользователей в группе B: 1466\n",
      "Процентная разница: 0.74%\n"
     ]
    }
   ],
   "source": [
    "sessions_test_part = pd.read_csv('/datasets/sessions_project_test_part.csv')\n",
    "group_counts = sessions_test_part.groupby('test_group')['user_id'].nunique()\n",
    "group_a_users = group_counts.get('A', 0)\n",
    "group_b_users = group_counts.get('B', 0)\n",
    "\n",
    "percentage_diff = 100 * abs(group_a_users - group_b_users) / group_a_users\n",
    "\n",
    "print(f\"Количество пользователей в группе A: {group_a_users}\")\n",
    "print(f\"Количество пользователей в группе B: {group_b_users}\")\n",
    "print(f\"Процентная разница: {percentage_diff:.2f}%\")\n"
   ]
  },
  {
   "cell_type": "code",
   "execution_count": 18,
   "metadata": {},
   "outputs": [
    {
     "data": {
      "image/png": "[encoded data removed]",
      "text/plain": [
       "<Figure size 720x432 with 1 Axes>"
      ]
     },
     "metadata": {},
     "output_type": "display_data"
    }
   ],
   "source": [
    "plt.figure(figsize=(10, 6))\n",
    "plt.pie(group_counts, \n",
    "        labels=group_counts.index,\n",
    "        autopct='%1.1f%%',\n",
    "        startangle=90,\n",
    "        colors=['#4CAF50', '#2196F3'],  \n",
    "        shadow=True)\n",
    "\n",
    "plt.title('Распределение пользователей по группам A/B-теста', fontsize=16, pad=20)\n",
    "legend_labels = [f'{group}: {count} пользователей' \n",
    "                for group, count in zip(group_counts.index, group_counts)]\n",
    "plt.legend(legend_labels, title=\"Количество\", loc=\"best\")\n",
    "plt.axis('equal')\n",
    "\n",
    "plt.show()"
   ]
  },
  {
   "cell_type": "markdown",
   "metadata": {
    "id": "sgpNY5bv0eM0"
   },
   "source": [
    "#### 3.2. Проверка пересечений пользователей\n",
    "Помимо проверки равенства количества пользователей в группах полезно убедиться в том, что группы независимы. Для этого нужно убедиться, что никто из пользователей случайно не попал в обе группы одновременно.\n",
    "\n",
    "- Рассчитайте количество пользователей, которые встречаются одновременно в группах A и B, или убедитесь, что таких нет."
   ]
  },
  {
   "cell_type": "code",
   "execution_count": 19,
   "metadata": {
    "id": "E72ozN9FOX1u"
   },
   "outputs": [
    {
     "name": "stdout",
     "output_type": "stream",
     "text": [
      "Нет пользователей, попавших в обе группы\n"
     ]
    }
   ],
   "source": [
    "a = sessions_test_part[sessions_test_part['test_group'] == 'A']['user_id'].unique()\n",
    "b = sessions_test_part[sessions_test_part['test_group'] == 'B']['user_id'].unique()\n",
    "\n",
    "set_a = set(a)\n",
    "set_b = set(b)\n",
    "\n",
    "\n",
    "common_users = set_a & set_b\n",
    "num_common = len(common_users)\n",
    "\n",
    "if num_common == 0:\n",
    "    print(\"Нет пользователей, попавших в обе группы\")\n",
    "else:\n",
    "    print(f\"Найдено {num_common} пользователей в обеих группах\")\n",
    "\n"
   ]
  },
  {
   "cell_type": "markdown",
   "metadata": {
    "id": "6RvkNLrg0eM1"
   },
   "source": [
    "#### 3.3. Равномерность разделения пользователей по устройствам\n",
    "Полезно также убедиться в том, что пользователи равномерно распределены по всем доступным категориальным переменным — типам устройства и регионам.\n",
    "\n",
    "Постройте две диаграммы:\n",
    "\n",
    "- доля каждого типа устройства для пользователей из группы A,\n",
    "\n",
    "- доля каждого типа устройства для пользователей из группы B.\n",
    "\n",
    "Постарайтесь добавить на диаграммы все необходимые подписи, пояснения и заголовки, которые позволят сделать вывод о том, совпадает ли распределение устройств в группах A и B.\n"
   ]
  },
  {
   "cell_type": "code",
   "execution_count": 20,
   "metadata": {
    "id": "x_IP6PUNPWHC"
   },
   "outputs": [
    {
     "data": {
      "image/png": "[encoded data removed]",
      "text/plain": [
       "<Figure size 1152x432 with 2 Axes>"
      ]
     },
     "metadata": {},
     "output_type": "display_data"
    }
   ],
   "source": [
    "device_dist = sessions_test_part.groupby(['test_group', 'device'])['user_id'].nunique().unstack()\n",
    "device_dist_percent = device_dist.div(device_dist.sum(axis=1), axis=0) * 100\n",
    "\n",
    "\n",
    "fig, (ax1, ax2) = plt.subplots(1, 2, figsize=(16, 6))\n",
    "fig.suptitle('Распределение типов устройств по тестовым группам', fontsize=16, y=1.05)\n",
    "\n",
    "# График для группы A\n",
    "device_dist_percent.loc['A'].plot(\n",
    "    kind='pie',\n",
    "    ax=ax1,\n",
    "    autopct='%1.1f%%',\n",
    "    startangle=90,\n",
    "    colors=['#66b3ff','#99ff99','#ffcc99'],\n",
    "    wedgeprops=dict(width=0.4, edgecolor='w'),\n",
    "    pctdistance=0.85\n",
    ")\n",
    "ax1.set_title('Группа A', fontsize=14)\n",
    "ax1.set_ylabel('') \n",
    "\n",
    "# График для группы B\n",
    "device_dist_percent.loc['B'].plot(\n",
    "    kind='pie',\n",
    "    ax=ax2,\n",
    "    autopct='%1.1f%%',\n",
    "    startangle=90,\n",
    "    colors=['#66b3ff','#99ff99','#ffcc99'],\n",
    "    wedgeprops=dict(width=0.4, edgecolor='w'),\n",
    "    pctdistance=0.85\n",
    ")\n",
    "ax2.set_title('Группа B', fontsize=14)\n",
    "ax2.set_ylabel('')\n",
    "\n",
    "\n",
    "plt.tight_layout()\n",
    "plt.show()\n",
    "\n"
   ]
  },
  {
   "cell_type": "markdown",
   "metadata": {
    "id": "gAgmP6vo0eM1"
   },
   "source": [
    "#### 3.4. Равномерность распределения пользователей по регионам\n",
    "Теперь убедитесь, что пользователи равномерно распределены по регионам.\n",
    "\n",
    "Постройте две диаграммы:\n",
    "\n",
    "- доля каждого региона для пользователей из группы A,\n",
    "\n",
    "- доля каждого региона для пользователей из группы B.\n",
    "\n",
    "Постарайтесь добавить на диаграммы все необходимые подписи, пояснения и заголовки, которые позволят сделать вывод о том, совпадает ли распределение регионов в группах A и B. Постарайтесь использовать другой тип диаграммы, не тот, что в прошлом задании.\n"
   ]
  },
  {
   "cell_type": "code",
   "execution_count": 21,
   "metadata": {
    "id": "3hAq-FG4OdYM"
   },
   "outputs": [
    {
     "data": {
      "image/png": "[encoded data removed]",
      "text/plain": [
       "<Figure size 1008x720 with 2 Axes>"
      ]
     },
     "metadata": {
      "needs_background": "light"
     },
     "output_type": "display_data"
    }
   ],
   "source": [
    "import seaborn as sns\n",
    "region_dist = sessions_test_part.groupby(['test_group', 'region'])['user_id'].nunique().unstack()\n",
    "\n",
    "\n",
    "region_dist_percent = region_dist.div(region_dist.sum(axis=1), axis=0) * 100\n",
    "\n",
    "\n",
    "plt.figure(figsize=(14, 10))\n",
    "plt.suptitle('Распределение пользователей по регионам в группах A/B-теста', y=1.05, fontsize=16)\n",
    "\n",
    "# График для группы A\n",
    "plt.subplot(1, 2, 1)\n",
    "ax1 = sns.barplot(x=region_dist_percent.loc['A'].index, \n",
    "                 y=region_dist_percent.loc['A'].values,\n",
    "                 palette='Blues_d')\n",
    "plt.title('Группа A', fontsize=14)\n",
    "plt.xlabel('Регион')\n",
    "plt.ylabel('Доля пользователей (%)')\n",
    "plt.xticks(rotation=45)\n",
    "plt.ylim(0, 100)\n",
    "for p, count in zip(ax1.patches, region_dist.loc['A']):\n",
    "    ax1.annotate(f'{count}\\n({p.get_height():.1f}%)', \n",
    "                (p.get_x() + p.get_width() / 2., p.get_height()),\n",
    "                ha='center', va='center', \n",
    "                xytext=(0, 10), \n",
    "                textcoords='offset points')\n",
    "\n",
    "# График для группы B\n",
    "plt.subplot(1, 2, 2)\n",
    "ax2 = sns.barplot(x=region_dist_percent.loc['B'].index, \n",
    "                 y=region_dist_percent.loc['B'].values,\n",
    "                 palette='Oranges_d')\n",
    "plt.title('Группа B', fontsize=14)\n",
    "plt.xlabel('Регион')\n",
    "plt.ylabel('')\n",
    "plt.xticks(rotation=45)\n",
    "plt.ylim(0, 100)\n",
    "for p, count in zip(ax2.patches, region_dist.loc['B']):\n",
    "    ax2.annotate(f'{count}\\n({p.get_height():.1f}%)', \n",
    "                (p.get_x() + p.get_width() / 2., p.get_height()),\n",
    "                ha='center', va='center', \n",
    "                xytext=(0, 10), \n",
    "                textcoords='offset points')\n",
    "    \n",
    "plt.tight_layout()\n",
    "plt.show()\n"
   ]
  },
  {
   "cell_type": "markdown",
   "metadata": {
    "id": "X2WSZ-sDrSUi"
   },
   "source": [
    "#### 3.5. Вывод после проверки A/B-теста\n",
    "\n",
    "На основе проведённого анализа A/B-теста сформулируйте и запишите свои выводы. В выводе обязательно укажите:\n",
    "\n",
    "- Были ли обнаружено различие в количестве пользователей в двух группах.\n",
    "\n",
    "- Являются ли выборки независимыми. Было ли обнаружено пересечение пользователей из тестовой и контрольной групп.\n",
    "\n",
    "- Сохраняется ли равномерное распределение пользователей тестовой и контрольной групп по категориальным переменным: устройствам и регионам.\n",
    "\n",
    "Сделайте заключение о том, корректно ли проходит A/B-тест или наблюдаются какие-либо нарушения."
   ]
  },
  {
   "cell_type": "markdown",
   "metadata": {},
   "source": [
    "В группах наблюдается небольшая разница в количестве человек, но эта разница незначительная (менее 5%):\n",
    "\n",
    "Количество пользователей в группе A: 1477\n",
    "Количество пользователей в группе B: 1466\n",
    "Процентная разница: 0.74%\n",
    "\n",
    "Выборки являются независимыми, пересечений не обнаружено.\n",
    "\n",
    "Также сохраняется однородность выборок, люди примерно равно распределены в обоих выборках в зависимости от региона и девайса, которым они пользуются."
   ]
  },
  {
   "cell_type": "markdown",
   "metadata": {
    "id": "nudRr_BQ0eM2"
   },
   "source": [
    "### 4. Проверка результатов A/B-теста\n",
    "\n",
    "A/B-тест завершён, и у вас есть результаты за все дни проведения эксперимента. Необходимо убедиться в корректности теста и верно интерпретировать результаты."
   ]
  },
  {
   "cell_type": "markdown",
   "metadata": {
    "id": "JVve-YBB0eM2"
   },
   "source": [
    "#### 4.1. Получение результатов теста и подсчёт основной метрики\n",
    "\n",
    "- Считайте и сохраните в датафрейм `sessions_test` CSV-файл с историческими данными о сессиях пользователей `sessions_project_test.csv`.\n",
    "\n",
    "- В датафрейме `sessions_test` создайте дополнительный столбец `good_session`. В него войдёт значение `1`, если за одну сессию было просмотрено 4 и более страниц, и значение `0`, если просмотрено меньше."
   ]
  },
  {
   "cell_type": "code",
   "execution_count": 22,
   "metadata": {
    "id": "EqRlwMtKPTir"
   },
   "outputs": [
    {
     "data": {
      "text/html": [
       "<div>\n",
       "<style scoped>\n",
       "    .dataframe tbody tr th:only-of-type {\n",
       "        vertical-align: middle;\n",
       "    }\n",
       "\n",
       "    .dataframe tbody tr th {\n",
       "        vertical-align: top;\n",
       "    }\n",
       "\n",
       "    .dataframe thead th {\n",
       "        text-align: right;\n",
       "    }\n",
       "</style>\n",
       "<table border=\"1\" class=\"dataframe\">\n",
       "  <thead>\n",
       "    <tr style=\"text-align: right;\">\n",
       "      <th></th>\n",
       "      <th>user_id</th>\n",
       "      <th>session_id</th>\n",
       "      <th>session_date</th>\n",
       "      <th>session_start_ts</th>\n",
       "      <th>install_date</th>\n",
       "      <th>session_number</th>\n",
       "      <th>registration_flag</th>\n",
       "      <th>page_counter</th>\n",
       "      <th>region</th>\n",
       "      <th>device</th>\n",
       "      <th>test_group</th>\n",
       "      <th>good_session</th>\n",
       "    </tr>\n",
       "  </thead>\n",
       "  <tbody>\n",
       "    <tr>\n",
       "      <th>0</th>\n",
       "      <td>6DAE3B3654DA738E</td>\n",
       "      <td>C69249E26E58F6E2</td>\n",
       "      <td>2025-10-26</td>\n",
       "      <td>2025-10-26 18:15:05</td>\n",
       "      <td>2025-10-16</td>\n",
       "      <td>3</td>\n",
       "      <td>0</td>\n",
       "      <td>3</td>\n",
       "      <td>MENA</td>\n",
       "      <td>Android</td>\n",
       "      <td>A</td>\n",
       "      <td>0</td>\n",
       "    </tr>\n",
       "    <tr>\n",
       "      <th>1</th>\n",
       "      <td>0A3FE5D1DD59110A</td>\n",
       "      <td>66D66D7C9F5181B7</td>\n",
       "      <td>2025-10-21</td>\n",
       "      <td>2025-10-21 17:04:53</td>\n",
       "      <td>2025-10-15</td>\n",
       "      <td>2</td>\n",
       "      <td>1</td>\n",
       "      <td>2</td>\n",
       "      <td>CIS</td>\n",
       "      <td>Android</td>\n",
       "      <td>B</td>\n",
       "      <td>0</td>\n",
       "    </tr>\n",
       "    <tr>\n",
       "      <th>2</th>\n",
       "      <td>2041F1D7AA740B88</td>\n",
       "      <td>50DE51D42215E74C</td>\n",
       "      <td>2025-10-23</td>\n",
       "      <td>2025-10-23 17:39:29</td>\n",
       "      <td>2025-10-19</td>\n",
       "      <td>3</td>\n",
       "      <td>0</td>\n",
       "      <td>2</td>\n",
       "      <td>MENA</td>\n",
       "      <td>Android</td>\n",
       "      <td>A</td>\n",
       "      <td>0</td>\n",
       "    </tr>\n",
       "    <tr>\n",
       "      <th>3</th>\n",
       "      <td>43D7585009168086</td>\n",
       "      <td>5763C0C353C22263</td>\n",
       "      <td>2025-10-24</td>\n",
       "      <td>2025-10-24 15:01:57</td>\n",
       "      <td>2025-10-18</td>\n",
       "      <td>4</td>\n",
       "      <td>0</td>\n",
       "      <td>1</td>\n",
       "      <td>CIS</td>\n",
       "      <td>iPhone</td>\n",
       "      <td>B</td>\n",
       "      <td>0</td>\n",
       "    </tr>\n",
       "    <tr>\n",
       "      <th>4</th>\n",
       "      <td>15AD68B14D62D88C</td>\n",
       "      <td>B1AD09F93C1053BC</td>\n",
       "      <td>2025-10-17</td>\n",
       "      <td>2025-10-17 17:34:39</td>\n",
       "      <td>2025-10-17</td>\n",
       "      <td>1</td>\n",
       "      <td>0</td>\n",
       "      <td>2</td>\n",
       "      <td>MENA</td>\n",
       "      <td>Android</td>\n",
       "      <td>B</td>\n",
       "      <td>0</td>\n",
       "    </tr>\n",
       "  </tbody>\n",
       "</table>\n",
       "</div>"
      ],
      "text/plain": [
       "            user_id        session_id session_date     session_start_ts  \\\n",
       "0  6DAE3B3654DA738E  C69249E26E58F6E2   2025-10-26  2025-10-26 18:15:05   \n",
       "1  0A3FE5D1DD59110A  66D66D7C9F5181B7   2025-10-21  2025-10-21 17:04:53   \n",
       "2  2041F1D7AA740B88  50DE51D42215E74C   2025-10-23  2025-10-23 17:39:29   \n",
       "3  43D7585009168086  5763C0C353C22263   2025-10-24  2025-10-24 15:01:57   \n",
       "4  15AD68B14D62D88C  B1AD09F93C1053BC   2025-10-17  2025-10-17 17:34:39   \n",
       "\n",
       "  install_date  session_number  registration_flag  page_counter region  \\\n",
       "0   2025-10-16               3                  0             3   MENA   \n",
       "1   2025-10-15               2                  1             2    CIS   \n",
       "2   2025-10-19               3                  0             2   MENA   \n",
       "3   2025-10-18               4                  0             1    CIS   \n",
       "4   2025-10-17               1                  0             2   MENA   \n",
       "\n",
       "    device test_group  good_session  \n",
       "0  Android          A             0  \n",
       "1  Android          B             0  \n",
       "2  Android          A             0  \n",
       "3   iPhone          B             0  \n",
       "4  Android          B             0  "
      ]
     },
     "metadata": {},
     "output_type": "display_data"
    },
    {
     "name": "stdout",
     "output_type": "stream",
     "text": [
      "\n",
      "Распределение метрики good_session:\n",
      "0    68.7\n",
      "1    31.3\n",
      "Name: good_session, dtype: float64\n"
     ]
    }
   ],
   "source": [
    "sessions_test = pd.read_csv('/datasets/sessions_project_test.csv')\n",
    "sessions_test['good_session'] = sessions_test['page_counter'].apply(lambda x: 1 if x >= 4 else 0)\n",
    "display(sessions_test.head())\n",
    "\n",
    "\n",
    "print(\"\\nРаспределение метрики good_session:\")\n",
    "print(sessions_test['good_session'].value_counts(normalize=True).mul(100).round(1))"
   ]
  },
  {
   "cell_type": "markdown",
   "metadata": {
    "id": "aeYhrMYy0eM2"
   },
   "source": [
    "#### 4.2. Проверка корректности результатов теста\n",
    "\n",
    "Прежде чем приступать к анализу ключевых продуктовых метрик, необходимо убедиться, что тест проведён корректно и вы будете сравнивать две сопоставимые группы.\n",
    "\n",
    "- Рассчитайте количество уникальных сессий для каждого дня и обеих тестовых групп, используя группировку.\n",
    "\n",
    "- Проверьте, что количество уникальных дневных сессий в двух выборках не различается или различия не статистически значимы. Используйте статистический тест, который позволит сделать вывод о равенстве средних двух выборок.\n",
    "\n",
    "- В качестве ответа выведите на экран полученное значение p-value и интерпретируйте его."
   ]
  },
  {
   "cell_type": "code",
   "execution_count": 23,
   "metadata": {
    "id": "5NUlcltkTTSU"
   },
   "outputs": [
    {
     "data": {
      "image/png": "[encoded data removed]",
      "text/plain": [
       "<Figure size 864x432 with 1 Axes>"
      ]
     },
     "metadata": {
      "needs_background": "light"
     },
     "output_type": "display_data"
    },
    {
     "name": "stdout",
     "output_type": "stream",
     "text": [
      "Результат t-теста:\n",
      "Статистика = -0.0780\n",
      "p-value = 0.9382\n",
      "\n",
      "Нет статистически значимых различий в количестве сессий между группами (p > 0.05)\n",
      "Тест проведен корректно, группы сопоставимы по трафику\n"
     ]
    }
   ],
   "source": [
    "from scipy.stats import ttest_ind\n",
    "\n",
    "\n",
    "daily_sessions = sessions_test.groupby(['session_date', 'test_group'])['session_id'].nunique().unstack()\n",
    "\n",
    "plt.figure(figsize=(12, 6))\n",
    "sns.lineplot(data=daily_sessions, x=daily_sessions.index, y='A', label='Группа A')\n",
    "sns.lineplot(data=daily_sessions, x=daily_sessions.index, y='B', label='Группа B')\n",
    "plt.title('Динамика количества сессий по дням теста')\n",
    "plt.ylabel('Количество сессий')\n",
    "plt.xlabel('Дата')\n",
    "plt.xticks(rotation=45)\n",
    "plt.grid(True)\n",
    "plt.show()\n",
    "\n",
    "t_stat, p_value = ttest_ind(daily_sessions['A'], daily_sessions['B'], equal_var=False)\n",
    "\n",
    "print(f\"Результат t-теста:\\nСтатистика = {t_stat:.4f}\\np-value = {p_value:.4f}\")\n",
    "\n",
    "if p_value > 0.05:\n",
    "    print(\"\\nНет статистически значимых различий в количестве сессий между группами (p > 0.05)\")\n",
    "    print(\"Тест проведен корректно, группы сопоставимы по трафику\")\n",
    "else:\n",
    "    print(\"\\nЕсть статистически значимые различия (p ≤ 0.05)\")\n",
    "    print(\"Группы не сбалансированы по количеству сессий\")"
   ]
  },
  {
   "cell_type": "markdown",
   "metadata": {
    "id": "7kwRxzg70eM3"
   },
   "source": [
    "#### 4.3. Сравнение доли успешных сессий\n",
    "\n",
    "Когда вы убедились, что количество сессий в обеих выборках не различалось, можно переходить к анализу ключевой метрики — доли успешных сессий.\n",
    "\n",
    "Используйте созданный на первом шаге задания столбец `good_session` и рассчитайте долю успешных сессий для выборок A и B, а также разницу в этом показателе. Полученный вывод отобразите на экране."
   ]
  },
  {
   "cell_type": "code",
   "execution_count": 24,
   "metadata": {
    "id": "Uku-V1CpPRCz"
   },
   "outputs": [
    {
     "data": {
      "image/png": "[encoded data removed]",
      "text/plain": [
       "<Figure size 720x432 with 1 Axes>"
      ]
     },
     "metadata": {
      "needs_background": "light"
     },
     "output_type": "display_data"
    },
    {
     "name": "stdout",
     "output_type": "stream",
     "text": [
      "Результаты сравнения:\n",
      "Группа A: 30.77%\n",
      "Группа B: 31.83%\n",
      "Абсолютная разница: 0.0106\n",
      "Относительная разница: 3.43%\n",
      "\n",
      "Статистическая значимость:\n",
      "Z-статистика: -3.6027\n",
      "p-value: 0.0003\n",
      "\n",
      "Вывод: Различие статистически значимое. Группа B показала лучший результат.\n"
     ]
    }
   ],
   "source": [
    "from statsmodels.stats.proportion import proportions_ztest\n",
    "\n",
    "\n",
    "group_stats = sessions_test.groupby('test_group')['good_session'].agg(['sum', 'count', 'mean'])\n",
    "group_stats.columns = ['successes', 'total', 'conversion_rate']\n",
    "diff = group_stats.loc['B', 'conversion_rate'] - group_stats.loc['A', 'conversion_rate']\n",
    "rel_diff = diff / group_stats.loc['A', 'conversion_rate'] * 100\n",
    "successes = [group_stats.loc['A', 'successes'], group_stats.loc['B', 'successes']]\n",
    "nobs = [group_stats.loc['A', 'total'], group_stats.loc['B', 'total']]\n",
    "z_stat, p_value = proportions_ztest(successes, nobs)\n",
    "\n",
    "plt.figure(figsize=(10, 6))\n",
    "sns.barplot(x=group_stats.index, y=group_stats['conversion_rate'], \n",
    "            palette=['skyblue', 'salmon'], alpha=0.7)\n",
    "plt.title('Доля успешных сессий (4+ страниц) по группам')\n",
    "plt.ylabel('Доля good_session')\n",
    "plt.xlabel('Тестовая группа')\n",
    "plt.ylim(0, group_stats['conversion_rate'].max() * 1.1)\n",
    "\n",
    "for i, rate in enumerate(group_stats['conversion_rate']):\n",
    "    plt.text(i, rate + 0.01, f'{rate:.2%}', ha='center')\n",
    "\n",
    "plt.grid(axis='y')\n",
    "plt.show()\n",
    "\n",
    "\n",
    "print(f\"Результаты сравнения:\\n\"\n",
    "      f\"Группа A: {group_stats.loc['A', 'conversion_rate']:.2%}\\n\"\n",
    "      f\"Группа B: {group_stats.loc['B', 'conversion_rate']:.2%}\\n\"\n",
    "      f\"Абсолютная разница: {diff:.4f}\\n\"\n",
    "      f\"Относительная разница: {rel_diff:.2f}%\\n\\n\"\n",
    "      f\"Статистическая значимость:\\n\"\n",
    "      f\"Z-статистика: {z_stat:.4f}\\n\"\n",
    "      f\"p-value: {p_value:.4f}\")\n",
    "\n",
    "\n",
    "if p_value < 0.05:\n",
    "    if diff > 0:\n",
    "        print(\"\\nВывод: Различие статистически значимое. Группа B показала лучший результат.\")\n",
    "    else:\n",
    "        print(\"\\nВывод: Различие статистически значимое. Группа A показала лучший результат.\")\n",
    "else:\n",
    "    print(\"\\nВывод: Различия не являются статистически значимыми (p > 0.05).\")"
   ]
  },
  {
   "cell_type": "markdown",
   "metadata": {},
   "source": [
    "Абсолютный прирост конверсии: +1.06 п.п.\n",
    "Относительное улучшение: +3.43%\n",
    "пы.сы. в задании имеется ответ на предыдущий вопрос..\n"
   ]
  },
  {
   "cell_type": "markdown",
   "metadata": {
    "id": "9fMFuja10eM4"
   },
   "source": [
    "#### 4.4. Насколько статистически значимо изменение ключевой метрики\n",
    "\n",
    "На предыдущем шаге вы убедились, что количество успешных сессий в тестовой выборке примерно на 1.1% выше, чем в контрольной, но делать выводы только на основе этого значения будет некорректно. Для принятия решения всегда необходимо отвечать на вопрос: является ли это изменение статистически значимым.\n",
    "\n",
    "- Используя статистический тест, рассчитайте, является ли изменение в метрике доли успешных сессий статистически значимым.\n",
    "\n",
    "- Выведите на экран полученное значение p-value и свои выводы о статистической значимости. Напомним, что уровень значимости в эксперименте был выбран на уровне 0.05."
   ]
  },
  {
   "cell_type": "code",
   "execution_count": 25,
   "metadata": {
    "id": "gFvhRGwlPLS0"
   },
   "outputs": [
    {
     "name": "stdout",
     "output_type": "stream",
     "text": [
      "Обнаружено статистически значимое улучшение (p < 0.05)\n",
      "Вероятность ложноположительного результата: 0.0315%\n"
     ]
    }
   ],
   "source": [
    "if p_value < 0.05:\n",
    "    print(\"Обнаружено статистически значимое улучшение (p < 0.05)\")\n",
    "    print(f\"Вероятность ложноположительного результата: {p_value:.4%}\")\n",
    "else:\n",
    "    print(\"Статистически значимых различий не обнаружено\")"
   ]
  },
  {
   "cell_type": "markdown",
   "metadata": {},
   "source": [
    "Статистическая значимость подтверждена,и судя по предыдущему заданию есть прирост конверсии пользоавателей (1.06 процентных пункта)"
   ]
  },
  {
   "cell_type": "markdown",
   "metadata": {
    "id": "GnJrkY9Q63zS"
   },
   "source": [
    "#### 4.5. Вывод по результатам A/B-эксперимента\n",
    "\n",
    "На основе проведённого анализа результатов теста сформулируйте и запишите свои выводы для команды разработки приложения. В выводе обязательно укажите:\n",
    "\n",
    "- Характеристики проведённого эксперимента, количество задействованных пользователей и длительность эксперимента.\n",
    "\n",
    "- Повлияло ли внедрение нового алгоритма рекомендаций на рост ключевой метрики и как.\n",
    "\n",
    "- Каким получилось значение p-value для оценки статистической значимости выявленного эффекта.\n",
    "\n",
    "- Стоит ли внедрять новоовведение в приложение."
   ]
  },
  {
   "cell_type": "markdown",
   "metadata": {},
   "source": [
    "### Характеристики теста\n",
    "Тест длился 20 дней,наверно, лучше продлить тест, чтобы убедиться в стабильности полученного эффекта и независимости его от сезонных колебаний.\n",
    "\n",
    "В тесте были задействованы две группы:\n",
    "\n",
    "- Количество пользователей в контрольной группе A: 1477\n",
    "- Количество пользователей в тестовой группе B: 1466\n",
    "\n",
    "Группы однородные, нет значительных разниц в регионах и девайсах испыытуемых.\n",
    "\n",
    "Конверсия в успешные сессии:\n",
    "- Группа A: 30.77%\n",
    "- Группа B: 31.83%\n",
    "- Абсолютный прирост: +1.06 процентных пункта\n",
    "- Относительный прирост: +3.43%\n",
    "- p-value = 0.0003 (0.03%)\n",
    "- Z-статистика = -3.60\n",
    "\n",
    "### Вывод:\n",
    "\n",
    "p-value < 0.05 следовательно различие статистически значимое.\n",
    "Новый алгоритм достоверно увеличил долю успешных сессий.\n",
    "\n",
    "### Рекомендации:\n",
    "\n",
    "Внедрить новый алгоритм рекомендаций, так как:\n",
    "Подтверждена статистическая значимость \n",
    "Есть практический эффект (+1.06 п.п. конверсии)\n"
   ]
  },
  {
   "cell_type": "code",
   "execution_count": null,
   "metadata": {},
   "outputs": [],
   "source": []
  }
 ],
 "metadata": {
  "ExecuteTimeLog": [
   {
    "duration": 1577,
    "start_time": "2025-05-01T10:48:48.229Z"
   },
   {
    "duration": 1953,
    "start_time": "2025-05-01T10:52:15.339Z"
   },
   {
    "duration": 162,
    "start_time": "2025-05-01T10:55:05.791Z"
   },
   {
    "duration": 225,
    "start_time": "2025-05-01T10:55:58.761Z"
   },
   {
    "duration": 159,
    "start_time": "2025-05-01T10:56:15.051Z"
   },
   {
    "duration": 218,
    "start_time": "2025-05-01T10:56:24.396Z"
   },
   {
    "duration": 205,
    "start_time": "2025-05-01T10:56:48.501Z"
   },
   {
    "duration": 738,
    "start_time": "2025-05-01T11:00:36.572Z"
   },
   {
    "duration": 696,
    "start_time": "2025-05-01T11:00:57.622Z"
   },
   {
    "duration": 685,
    "start_time": "2025-05-01T11:01:05.891Z"
   },
   {
    "duration": 287,
    "start_time": "2025-05-01T11:02:29.791Z"
   },
   {
    "duration": 268,
    "start_time": "2025-05-01T11:02:40.998Z"
   },
   {
    "duration": 586,
    "start_time": "2025-05-01T11:04:45.234Z"
   },
   {
    "duration": 629,
    "start_time": "2025-05-01T11:07:05.571Z"
   },
   {
    "duration": 595,
    "start_time": "2025-05-01T11:08:56.332Z"
   },
   {
    "duration": 649,
    "start_time": "2025-05-01T11:10:02.372Z"
   },
   {
    "duration": 4,
    "start_time": "2025-05-01T11:11:58.043Z"
   },
   {
    "duration": 463,
    "start_time": "2025-05-01T11:12:05.558Z"
   },
   {
    "duration": 325,
    "start_time": "2025-05-01T11:13:22.165Z"
   },
   {
    "duration": 178,
    "start_time": "2025-05-01T11:13:43.500Z"
   },
   {
    "duration": 202,
    "start_time": "2025-05-01T11:14:05.568Z"
   },
   {
    "duration": 202,
    "start_time": "2025-05-01T11:15:03.737Z"
   },
   {
    "duration": 272,
    "start_time": "2025-05-01T11:16:02.234Z"
   },
   {
    "duration": 508,
    "start_time": "2025-05-01T11:16:30.165Z"
   },
   {
    "duration": 382,
    "start_time": "2025-05-01T11:17:05.568Z"
   },
   {
    "duration": 9,
    "start_time": "2025-05-01T11:20:17.462Z"
   },
   {
    "duration": 13,
    "start_time": "2025-05-01T11:20:56.853Z"
   },
   {
    "duration": 356,
    "start_time": "2025-05-01T11:21:32.962Z"
   },
   {
    "duration": 97,
    "start_time": "2025-05-01T11:23:41.689Z"
   },
   {
    "duration": 845,
    "start_time": "2025-05-01T11:25:55.389Z"
   },
   {
    "duration": 712,
    "start_time": "2025-05-01T11:26:26.284Z"
   },
   {
    "duration": 637,
    "start_time": "2025-05-01T11:26:35.363Z"
   },
   {
    "duration": 654,
    "start_time": "2025-05-01T11:26:40.901Z"
   },
   {
    "duration": 339,
    "start_time": "2025-05-01T11:27:43.603Z"
   },
   {
    "duration": 559,
    "start_time": "2025-05-01T11:27:57.913Z"
   },
   {
    "duration": 22,
    "start_time": "2025-05-01T11:28:28.173Z"
   },
   {
    "duration": 473,
    "start_time": "2025-05-01T11:28:43.347Z"
   },
   {
    "duration": 617,
    "start_time": "2025-05-01T11:30:08.344Z"
   },
   {
    "duration": 608,
    "start_time": "2025-05-01T11:36:16.832Z"
   },
   {
    "duration": 750,
    "start_time": "2025-05-01T11:37:35.656Z"
   },
   {
    "duration": 660,
    "start_time": "2025-05-01T11:40:08.920Z"
   },
   {
    "duration": 418,
    "start_time": "2025-05-01T11:40:14.143Z"
   },
   {
    "duration": 650,
    "start_time": "2025-05-01T11:40:22.826Z"
   },
   {
    "duration": 572,
    "start_time": "2025-05-01T11:45:23.283Z"
   },
   {
    "duration": 145,
    "start_time": "2025-05-01T11:48:47.142Z"
   },
   {
    "duration": 39,
    "start_time": "2025-05-01T11:51:25.952Z"
   },
   {
    "duration": 34,
    "start_time": "2025-05-01T11:52:08.368Z"
   },
   {
    "duration": 139,
    "start_time": "2025-05-01T11:52:10.420Z"
   },
   {
    "duration": 15,
    "start_time": "2025-05-01T11:53:50.119Z"
   },
   {
    "duration": 142,
    "start_time": "2025-05-01T11:54:02.993Z"
   },
   {
    "duration": 223,
    "start_time": "2025-05-01T11:55:41.621Z"
   },
   {
    "duration": 223,
    "start_time": "2025-05-01T11:55:58.452Z"
   },
   {
    "duration": 12,
    "start_time": "2025-05-01T11:57:09.175Z"
   },
   {
    "duration": 10,
    "start_time": "2025-05-01T11:58:48.912Z"
   },
   {
    "duration": 10,
    "start_time": "2025-05-01T11:59:14.506Z"
   },
   {
    "duration": 10,
    "start_time": "2025-05-01T12:00:51.146Z"
   },
   {
    "duration": 9,
    "start_time": "2025-05-01T12:01:21.376Z"
   },
   {
    "duration": 10,
    "start_time": "2025-05-01T12:01:31.642Z"
   },
   {
    "duration": 15,
    "start_time": "2025-05-01T12:04:03.550Z"
   },
   {
    "duration": 270,
    "start_time": "2025-05-01T12:04:51.188Z"
   },
   {
    "duration": 249,
    "start_time": "2025-05-01T12:05:15.345Z"
   },
   {
    "duration": 434,
    "start_time": "2025-05-01T12:06:55.835Z"
   },
   {
    "duration": 493,
    "start_time": "2025-05-01T12:09:57.565Z"
   },
   {
    "duration": 169,
    "start_time": "2025-05-01T12:13:08.243Z"
   },
   {
    "duration": 473,
    "start_time": "2025-05-01T12:13:54.897Z"
   },
   {
    "duration": 406,
    "start_time": "2025-05-01T12:14:21.156Z"
   },
   {
    "duration": 450,
    "start_time": "2025-05-01T12:15:59.328Z"
   },
   {
    "duration": 833,
    "start_time": "2025-05-01T19:20:40.274Z"
   },
   {
    "duration": 1952,
    "start_time": "2025-05-01T19:20:41.109Z"
   },
   {
    "duration": 233,
    "start_time": "2025-05-01T19:20:43.062Z"
   },
   {
    "duration": 703,
    "start_time": "2025-05-01T19:20:43.297Z"
   },
   {
    "duration": 306,
    "start_time": "2025-05-01T19:20:44.003Z"
   },
   {
    "duration": 615,
    "start_time": "2025-05-01T19:20:44.311Z"
   },
   {
    "duration": 298,
    "start_time": "2025-05-01T19:20:44.928Z"
   },
   {
    "duration": 517,
    "start_time": "2025-05-01T19:20:45.228Z"
   },
   {
    "duration": 356,
    "start_time": "2025-05-01T19:20:45.747Z"
   },
   {
    "duration": 69,
    "start_time": "2025-05-01T19:20:46.105Z"
   },
   {
    "duration": 0,
    "start_time": "2025-05-01T19:20:46.176Z"
   },
   {
    "duration": 0,
    "start_time": "2025-05-01T19:20:46.177Z"
   },
   {
    "duration": 0,
    "start_time": "2025-05-01T19:20:46.178Z"
   },
   {
    "duration": 0,
    "start_time": "2025-05-01T19:20:46.180Z"
   },
   {
    "duration": 0,
    "start_time": "2025-05-01T19:20:46.181Z"
   },
   {
    "duration": 0,
    "start_time": "2025-05-01T19:20:46.182Z"
   },
   {
    "duration": 0,
    "start_time": "2025-05-01T19:20:46.183Z"
   },
   {
    "duration": 0,
    "start_time": "2025-05-01T19:20:46.184Z"
   },
   {
    "duration": 0,
    "start_time": "2025-05-01T19:20:46.185Z"
   },
   {
    "duration": 13,
    "start_time": "2025-05-01T19:21:10.865Z"
   },
   {
    "duration": 304,
    "start_time": "2025-05-01T19:21:11.655Z"
   },
   {
    "duration": 78,
    "start_time": "2025-05-01T19:21:13.209Z"
   },
   {
    "duration": 567,
    "start_time": "2025-05-01T19:21:13.677Z"
   },
   {
    "duration": 597,
    "start_time": "2025-05-01T19:21:14.936Z"
   },
   {
    "duration": 503,
    "start_time": "2025-05-01T19:21:16.424Z"
   },
   {
    "duration": 153,
    "start_time": "2025-05-01T19:21:17.523Z"
   },
   {
    "duration": 28,
    "start_time": "2025-05-01T19:21:19.694Z"
   },
   {
    "duration": 201,
    "start_time": "2025-05-01T19:21:20.077Z"
   },
   {
    "duration": 8,
    "start_time": "2025-05-01T19:21:22.057Z"
   },
   {
    "duration": 399,
    "start_time": "2025-05-01T19:21:46.686Z"
   },
   {
    "duration": 473,
    "start_time": "2025-05-01T19:21:48.658Z"
   },
   {
    "duration": 280,
    "start_time": "2025-05-01T19:23:54.185Z"
   },
   {
    "duration": 295,
    "start_time": "2025-05-01T19:26:13.204Z"
   },
   {
    "duration": 331,
    "start_time": "2025-05-01T19:28:30.191Z"
   },
   {
    "duration": 325,
    "start_time": "2025-05-01T19:29:24.808Z"
   },
   {
    "duration": 66,
    "start_time": "2025-05-01T19:31:09.313Z"
   },
   {
    "duration": 153,
    "start_time": "2025-05-01T19:32:05.589Z"
   },
   {
    "duration": 4,
    "start_time": "2025-05-01T19:39:08.168Z"
   },
   {
    "duration": 151,
    "start_time": "2025-05-01T19:53:49.126Z"
   },
   {
    "duration": 149,
    "start_time": "2025-05-01T19:53:50.804Z"
   },
   {
    "duration": 258,
    "start_time": "2025-05-01T19:53:51.474Z"
   },
   {
    "duration": 154,
    "start_time": "2025-05-01T19:53:52.290Z"
   },
   {
    "duration": 4,
    "start_time": "2025-05-01T19:53:55.539Z"
   },
   {
    "duration": 651,
    "start_time": "2025-05-02T10:14:41.400Z"
   },
   {
    "duration": 2127,
    "start_time": "2025-05-02T10:14:42.053Z"
   },
   {
    "duration": 241,
    "start_time": "2025-05-02T10:14:44.182Z"
   },
   {
    "duration": 745,
    "start_time": "2025-05-02T10:14:44.425Z"
   },
   {
    "duration": 328,
    "start_time": "2025-05-02T10:14:45.171Z"
   },
   {
    "duration": 698,
    "start_time": "2025-05-02T10:14:45.501Z"
   },
   {
    "duration": 298,
    "start_time": "2025-05-02T10:14:46.201Z"
   },
   {
    "duration": 508,
    "start_time": "2025-05-02T10:14:46.501Z"
   },
   {
    "duration": 367,
    "start_time": "2025-05-02T10:14:47.011Z"
   },
   {
    "duration": 78,
    "start_time": "2025-05-02T10:14:47.381Z"
   },
   {
    "duration": 0,
    "start_time": "2025-05-02T10:14:47.462Z"
   },
   {
    "duration": 0,
    "start_time": "2025-05-02T10:14:47.464Z"
   },
   {
    "duration": 0,
    "start_time": "2025-05-02T10:14:47.466Z"
   },
   {
    "duration": 0,
    "start_time": "2025-05-02T10:14:47.467Z"
   },
   {
    "duration": 0,
    "start_time": "2025-05-02T10:14:47.470Z"
   },
   {
    "duration": 0,
    "start_time": "2025-05-02T10:14:47.472Z"
   },
   {
    "duration": 0,
    "start_time": "2025-05-02T10:14:47.474Z"
   },
   {
    "duration": 0,
    "start_time": "2025-05-02T10:14:47.475Z"
   },
   {
    "duration": 0,
    "start_time": "2025-05-02T10:14:47.476Z"
   },
   {
    "duration": 1,
    "start_time": "2025-05-02T10:14:47.478Z"
   },
   {
    "duration": 0,
    "start_time": "2025-05-02T10:14:47.480Z"
   },
   {
    "duration": 0,
    "start_time": "2025-05-02T10:14:47.481Z"
   },
   {
    "duration": 0,
    "start_time": "2025-05-02T10:14:47.483Z"
   },
   {
    "duration": 0,
    "start_time": "2025-05-02T10:14:47.485Z"
   },
   {
    "duration": 0,
    "start_time": "2025-05-02T10:14:47.487Z"
   },
   {
    "duration": 0,
    "start_time": "2025-05-02T10:14:47.489Z"
   },
   {
    "duration": 792,
    "start_time": "2025-05-02T13:30:02.374Z"
   },
   {
    "duration": 1924,
    "start_time": "2025-05-02T13:30:03.168Z"
   },
   {
    "duration": 208,
    "start_time": "2025-05-02T13:30:05.093Z"
   },
   {
    "duration": 641,
    "start_time": "2025-05-02T13:30:05.303Z"
   },
   {
    "duration": 279,
    "start_time": "2025-05-02T13:30:05.946Z"
   },
   {
    "duration": 549,
    "start_time": "2025-05-02T13:30:06.226Z"
   },
   {
    "duration": 265,
    "start_time": "2025-05-02T13:30:06.777Z"
   },
   {
    "duration": 455,
    "start_time": "2025-05-02T13:30:07.044Z"
   },
   {
    "duration": 345,
    "start_time": "2025-05-02T13:30:07.501Z"
   },
   {
    "duration": 19,
    "start_time": "2025-05-02T13:30:07.848Z"
   },
   {
    "duration": 286,
    "start_time": "2025-05-02T13:30:07.869Z"
   },
   {
    "duration": 71,
    "start_time": "2025-05-02T13:30:08.161Z"
   },
   {
    "duration": 550,
    "start_time": "2025-05-02T13:30:08.234Z"
   },
   {
    "duration": 525,
    "start_time": "2025-05-02T13:30:08.786Z"
   },
   {
    "duration": 480,
    "start_time": "2025-05-02T13:30:09.313Z"
   },
   {
    "duration": 135,
    "start_time": "2025-05-02T13:30:09.795Z"
   },
   {
    "duration": 41,
    "start_time": "2025-05-02T13:30:09.932Z"
   },
   {
    "duration": 207,
    "start_time": "2025-05-02T13:30:09.974Z"
   },
   {
    "duration": 8,
    "start_time": "2025-05-02T13:30:10.182Z"
   },
   {
    "duration": 397,
    "start_time": "2025-05-02T13:30:10.192Z"
   },
   {
    "duration": 431,
    "start_time": "2025-05-02T13:30:10.591Z"
   },
   {
    "duration": 257,
    "start_time": "2025-05-02T13:30:11.024Z"
   },
   {
    "duration": 308,
    "start_time": "2025-05-02T13:30:11.283Z"
   },
   {
    "duration": 172,
    "start_time": "2025-05-02T13:30:11.593Z"
   },
   {
    "duration": 3,
    "start_time": "2025-05-02T13:30:11.767Z"
   }
  ],
  "colab": {
   "provenance": []
  },
  "kernelspec": {
   "display_name": "Python 3 (ipykernel)",
   "language": "python",
   "name": "python3"
  },
  "language_info": {
   "codemirror_mode": {
    "name": "ipython",
    "version": 3
   },
   "file_extension": ".py",
   "mimetype": "text/x-python",
   "name": "python",
   "nbconvert_exporter": "python",
   "pygments_lexer": "ipython3",
   "version": "3.9.5"
  },
  "toc": {
   "base_numbering": 1,
   "nav_menu": {},
   "number_sections": true,
   "sideBar": true,
   "skip_h1_title": true,
   "title_cell": "Table of Contents",
   "title_sidebar": "Contents",
   "toc_cell": false,
   "toc_position": {},
   "toc_section_display": true,
   "toc_window_display": true
  }
 },
 "nbformat": 4,
 "nbformat_minor": 1
}
